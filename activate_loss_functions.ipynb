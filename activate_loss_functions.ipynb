{
 "cells": [
  {
   "cell_type": "code",
   "execution_count": 215,
   "id": "763713ad-e246-4d6d-a950-853bdcc60d73",
   "metadata": {},
   "outputs": [],
   "source": [
    "import torch\n",
    "import numpy as np\n",
    "from torch import nn\n",
    "import torch.nn.functional as F"
   ]
  },
  {
   "cell_type": "code",
   "execution_count": 33,
   "id": "184da451-829d-411f-bd2e-fccdb120451b",
   "metadata": {},
   "outputs": [],
   "source": [
    "epsilon = 1e-6"
   ]
  },
  {
   "cell_type": "markdown",
   "id": "44eac7b5-9428-4ffd-bcb9-309451cdd51b",
   "metadata": {},
   "source": [
    "# 1. Activation Functions"
   ]
  },
  {
   "cell_type": "markdown",
   "id": "f7ea9142-bd5f-4699-bfe8-762469da336b",
   "metadata": {},
   "source": [
    "## Tanh"
   ]
  },
  {
   "cell_type": "code",
   "execution_count": 42,
   "id": "7eacc43d-0b10-4bd6-9e32-b8e46ad4bca3",
   "metadata": {},
   "outputs": [],
   "source": [
    "def tanh(x):\n",
    "    return (np.exp(x)-np.exp(-x))/(np.exp(x)+np.exp(-x))"
   ]
  },
  {
   "cell_type": "code",
   "execution_count": 51,
   "id": "d1f59f03-5161-430d-9c21-67ede62d4a74",
   "metadata": {},
   "outputs": [
    {
     "name": "stdout",
     "output_type": "stream",
     "text": [
      "[ 0.0000000e+00  0.0000000e+00  5.9604645e-08  0.0000000e+00\n",
      " -2.9802322e-08]\n"
     ]
    }
   ],
   "source": [
    "x = torch.randn(5, requires_grad=False)\n",
    "y = nn.Tanh()(x).numpy()\n",
    "y_ = tanh(x.numpy())\n",
    "print(y-y_)"
   ]
  },
  {
   "cell_type": "markdown",
   "id": "8fffa8fb-d520-4072-90bf-52f8b6c6d27b",
   "metadata": {},
   "source": [
    "## Sigmoid"
   ]
  },
  {
   "cell_type": "code",
   "execution_count": 41,
   "id": "aac9d6be-84f2-4305-b286-959654229989",
   "metadata": {},
   "outputs": [],
   "source": [
    "def sigmoid(x):\n",
    "    return 1. / (1. + np.exp(-x))"
   ]
  },
  {
   "cell_type": "code",
   "execution_count": 52,
   "id": "73e1240e-188b-4646-b3a0-6de2ece01030",
   "metadata": {},
   "outputs": [
    {
     "name": "stdout",
     "output_type": "stream",
     "text": [
      "[0. 0. 0. 0. 0.]\n"
     ]
    }
   ],
   "source": [
    "x = torch.randn(5, requires_grad=False)\n",
    "y = nn.Sigmoid()(x).numpy()\n",
    "y_ = sigmoid(x.numpy())\n",
    "print(y-y_)"
   ]
  },
  {
   "cell_type": "markdown",
   "id": "1e39e1d4-0feb-4ff8-a143-b5407348e0e7",
   "metadata": {},
   "source": [
    "## Cross Entropy"
   ]
  },
  {
   "cell_type": "code",
   "execution_count": 206,
   "id": "5e8e8a5c-1d8a-4329-b85d-75ecc0eb8224",
   "metadata": {},
   "outputs": [],
   "source": [
    "def softmax(x, axis=None):\n",
    "    return np.exp(x)/np.exp(x).sum(axis=axis, keepdims=True)"
   ]
  },
  {
   "cell_type": "code",
   "execution_count": 207,
   "id": "ac99d49b-4f21-46a6-a386-59413bf78352",
   "metadata": {},
   "outputs": [
    {
     "name": "stdout",
     "output_type": "stream",
     "text": [
      "[[-7.4505806e-09  0.0000000e+00 -5.9604645e-08]\n",
      " [ 0.0000000e+00  5.9604645e-08  2.9802322e-08]\n",
      " [ 2.9802322e-08  7.4505806e-09  5.9604645e-08]\n",
      " [ 5.9604645e-08  0.0000000e+00  2.9802322e-08]\n",
      " [ 1.4901161e-08  5.9604645e-08  2.9802322e-08]]\n"
     ]
    },
    {
     "name": "stderr",
     "output_type": "stream",
     "text": [
      "/var/folders/1z/7h76hh556qq4wx1pg8szjwm80000gn/T/ipykernel_30888/4050377162.py:2: UserWarning: Implicit dimension choice for softmax has been deprecated. Change the call to include dim=X as an argument.\n",
      "  y = nn.Softmax()(x).numpy()\n"
     ]
    }
   ],
   "source": [
    "x = torch.randn(5, 3, requires_grad=False)\n",
    "y = nn.Softmax()(x).numpy()\n",
    "y_ = softmax(x.numpy(), axis=1)\n",
    "print(y-y_)"
   ]
  },
  {
   "cell_type": "markdown",
   "id": "6f6404dc-c5de-4b12-9c63-c464734c95ee",
   "metadata": {},
   "source": [
    "## ReLU"
   ]
  },
  {
   "cell_type": "code",
   "execution_count": 70,
   "id": "1e9a2f19-fca3-4502-bd66-1b354222b5e8",
   "metadata": {},
   "outputs": [],
   "source": [
    "def relu(x):\n",
    "    return np.maximum(x, np.zeros_like(x))"
   ]
  },
  {
   "cell_type": "code",
   "execution_count": 71,
   "id": "640cd480-602b-4ba0-839a-ecf7d9e0a488",
   "metadata": {},
   "outputs": [
    {
     "name": "stdout",
     "output_type": "stream",
     "text": [
      "[0. 0. 0. 0. 0.]\n"
     ]
    }
   ],
   "source": [
    "x = torch.randn(5, requires_grad=False)\n",
    "y = nn.ReLU()(x).numpy()\n",
    "y_ = relu(x.numpy())\n",
    "print(y-y_)"
   ]
  },
  {
   "cell_type": "markdown",
   "id": "d6c56fc0-53be-4062-b1ba-fed483c5f5d5",
   "metadata": {},
   "source": [
    "# 2. Loss"
   ]
  },
  {
   "cell_type": "markdown",
   "id": "c79529ed-1567-413e-8fbf-175bc8907775",
   "metadata": {},
   "source": [
    "## MSE Loss"
   ]
  },
  {
   "cell_type": "code",
   "execution_count": 182,
   "id": "d622d7b5-a593-4d10-a0c1-46201b0e57e8",
   "metadata": {},
   "outputs": [],
   "source": [
    "def mse_loss(y_pred, y_true):\n",
    "    # y_pred: n x c\n",
    "    # y_true: n x c\n",
    "    return ((y_true-y_pred)**2).mean()"
   ]
  },
  {
   "cell_type": "code",
   "execution_count": 183,
   "id": "8d089529-521e-4a05-9ef7-63865a87020d",
   "metadata": {},
   "outputs": [],
   "source": [
    "# veryfication:\n",
    "loss = nn.MSELoss()\n",
    "input = torch.randn(3, 5, requires_grad=False)\n",
    "target = torch.randn(3, 5, requires_grad=False)\n",
    "output = loss(input, target)"
   ]
  },
  {
   "cell_type": "code",
   "execution_count": 184,
   "id": "c6596e7e-a056-439b-b434-cfb9dd04b2f9",
   "metadata": {},
   "outputs": [],
   "source": [
    "input_np = input.numpy()\n",
    "target_np = target.numpy()\n",
    "output_np = mse_loss(input_np, target_np)"
   ]
  },
  {
   "cell_type": "code",
   "execution_count": 185,
   "id": "704a5d95-26b6-4d0c-a883-f431417353ce",
   "metadata": {},
   "outputs": [],
   "source": [
    "assert np.abs(output.item() - output_np) < epsilon, \"wrong implementation\""
   ]
  },
  {
   "cell_type": "markdown",
   "id": "7285a2ad-81b0-4c64-90fa-99df2dd01fee",
   "metadata": {},
   "source": [
    "## BCE Loss"
   ]
  },
  {
   "cell_type": "code",
   "execution_count": 186,
   "id": "d162b844-1861-4269-9d5d-717cc55c52f1",
   "metadata": {},
   "outputs": [],
   "source": [
    "def bce_loss(y_pred, y_true):\n",
    "    # y_pred = n x 2 (float range (0~1))\n",
    "    # y_true = n x 2 (one hot integer)\n",
    "    y_pred = np.clip(y_pred, epsilon, 1-epsilon)\n",
    "    return -(y_true * np.log(y_pred) + (1-y_true)*np.log(1-y_pred)).mean()"
   ]
  },
  {
   "cell_type": "code",
   "execution_count": 187,
   "id": "7dd36430-e8c9-464c-ae1a-551d4cff3cc6",
   "metadata": {},
   "outputs": [],
   "source": [
    "m = nn.Sigmoid()\n",
    "loss = nn.BCELoss()\n",
    "input = torch.randn(3, 2, requires_grad=False)\n",
    "target = torch.rand(3, 2, requires_grad=False)\n",
    "output = loss(m(input), target)"
   ]
  },
  {
   "cell_type": "code",
   "execution_count": 188,
   "id": "714055fa-1317-4e00-899a-b481a1c86e3b",
   "metadata": {},
   "outputs": [],
   "source": [
    "input_np = input.numpy()\n",
    "target_np = target.numpy()\n",
    "output_np = bce_loss(sigmoid(input_np), target_np)"
   ]
  },
  {
   "cell_type": "code",
   "execution_count": 189,
   "id": "66f64e0b-aa3e-4719-b2a4-a037c6a0116b",
   "metadata": {},
   "outputs": [],
   "source": [
    "assert np.abs(output.item() - output_np) < epsilon, \"wrong implementation\""
   ]
  },
  {
   "cell_type": "markdown",
   "id": "833c1e51-28e0-485e-8025-20f40336cce9",
   "metadata": {},
   "source": [
    "## NLL Loss"
   ]
  },
  {
   "cell_type": "code",
   "execution_count": 190,
   "id": "dcfedca5-5355-4605-b5fc-4c9f2345ea78",
   "metadata": {},
   "outputs": [],
   "source": [
    "def nllloss(y_pred, y_true):\n",
    "    # y_pred: n x c float array after log softmax\n",
    "    # y_true: n integer array\n",
    "    indices = np.arange(len(y_true)).astype(int)\n",
    "    return -y_pred[indices, y_true.astype(int), ...].mean()"
   ]
  },
  {
   "cell_type": "code",
   "execution_count": 191,
   "id": "cf34a8fb-70c0-45c7-8b96-20ccc62e13f4",
   "metadata": {},
   "outputs": [],
   "source": [
    "m = nn.LogSoftmax(dim=1)\n",
    "loss = nn.NLLLoss()\n",
    "input = m(torch.randn(3, 5, requires_grad=False))\n",
    "target = torch.empty(3, dtype=torch.long).random_(5)\n",
    "output = loss(input, target)"
   ]
  },
  {
   "cell_type": "code",
   "execution_count": 192,
   "id": "545317eb-ccd6-40d5-892d-fc43b0bfd642",
   "metadata": {},
   "outputs": [],
   "source": [
    "input_np = input.numpy()\n",
    "target_np = target.numpy()\n",
    "output_np = nllloss(input_np, target_np)"
   ]
  },
  {
   "cell_type": "code",
   "execution_count": 193,
   "id": "48d2a1e7-703c-4955-8e53-dc991ac10aff",
   "metadata": {},
   "outputs": [],
   "source": [
    "assert np.abs(output.item() - output_np) < epsilon, \"wrong implementation\""
   ]
  },
  {
   "cell_type": "markdown",
   "id": "3267b297-25a0-4c68-a481-0aca3ffb2153",
   "metadata": {},
   "source": [
    "## CrossEntropy Loss"
   ]
  },
  {
   "cell_type": "code",
   "execution_count": 257,
   "id": "8dad7f1a-1f13-41cb-bdd3-d8622db1935a",
   "metadata": {},
   "outputs": [],
   "source": [
    "def cross_entropy(y_pred, y_true):\n",
    "    # y_pred: n x c float array\n",
    "    # y_true: n integer array\n",
    "    y_pred = np.log(softmax(y_pred, axis=1))\n",
    "    indices = np.arange(len(y_true)).astype(int)\n",
    "    return -y_pred[indices, y_true.astype(int), ...].mean()"
   ]
  },
  {
   "cell_type": "code",
   "execution_count": 258,
   "id": "57676b93-1e35-4535-a695-6c8a16f4037e",
   "metadata": {},
   "outputs": [],
   "source": [
    "loss = nn.CrossEntropyLoss()\n",
    "input = torch.randn(3, 5, requires_grad=False)\n",
    "target = torch.empty(3, dtype=torch.long, requires_grad=False).random_(5)\n",
    "output = loss(input, target)"
   ]
  },
  {
   "cell_type": "code",
   "execution_count": 259,
   "id": "35ce5f44-74e9-4b52-8d9a-d5078299b525",
   "metadata": {},
   "outputs": [],
   "source": [
    "input_np = input.numpy()\n",
    "target_np = target.numpy()\n",
    "output_np = cross_entropy(input_np, target_np)"
   ]
  },
  {
   "cell_type": "code",
   "execution_count": 260,
   "id": "1ddfcf95-ac78-4e7e-8c38-f6a80c74ad7c",
   "metadata": {},
   "outputs": [],
   "source": [
    "assert np.abs(output.item() - output_np) < epsilon, \"wrong implementation\""
   ]
  },
  {
   "cell_type": "markdown",
   "id": "ff55cc24-0556-4f67-a6f0-dde2684ea4e7",
   "metadata": {},
   "source": [
    "## KLDiv Loss"
   ]
  },
  {
   "cell_type": "code",
   "execution_count": 261,
   "id": "cd9d6920-a295-42a1-9fa3-0d67bdf73d0d",
   "metadata": {},
   "outputs": [],
   "source": [
    "def kldivloss(y_pred, y_true):\n",
    "    # y_pred: n x c after log softmax\n",
    "    # y_true: n x c after softmax\n",
    "    return (y_true * (np.log(y_true) - y_pred)).mean()"
   ]
  },
  {
   "cell_type": "code",
   "execution_count": 262,
   "id": "87d96a3c-5884-446b-afb5-80b53079ddd4",
   "metadata": {},
   "outputs": [],
   "source": [
    "kl_loss = nn.KLDivLoss(reduction=\"mean\")\n",
    "input = F.log_softmax(torch.randn(3, 5, requires_grad=False), dim=1)\n",
    "target = F.softmax(torch.rand(3, 5), dim=1)\n",
    "output = kl_loss(input, target)"
   ]
  },
  {
   "cell_type": "code",
   "execution_count": 263,
   "id": "138ccbba-3596-4084-b8cf-c5f6e7199ab4",
   "metadata": {},
   "outputs": [],
   "source": [
    "input_np = input.numpy()\n",
    "target_np = target.numpy()\n",
    "output_np = kldivloss(input_np, target_np)"
   ]
  },
  {
   "cell_type": "code",
   "execution_count": 264,
   "id": "baf0ffc0-84d1-46e3-ab4c-c1ab4cee5a50",
   "metadata": {},
   "outputs": [],
   "source": [
    "assert np.abs(output.item() - output_np) < epsilon, \"wrong implementation\""
   ]
  },
  {
   "cell_type": "code",
   "execution_count": null,
   "id": "0f050da2-1ac5-4e33-91a9-fb3453b13d71",
   "metadata": {},
   "outputs": [],
   "source": []
  }
 ],
 "metadata": {
  "kernelspec": {
   "display_name": "Python 3 (ipykernel)",
   "language": "python",
   "name": "python3"
  },
  "language_info": {
   "codemirror_mode": {
    "name": "ipython",
    "version": 3
   },
   "file_extension": ".py",
   "mimetype": "text/x-python",
   "name": "python",
   "nbconvert_exporter": "python",
   "pygments_lexer": "ipython3",
   "version": "3.10.14"
  }
 },
 "nbformat": 4,
 "nbformat_minor": 5
}
