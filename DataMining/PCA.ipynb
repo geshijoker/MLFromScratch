{
 "cells": [
  {
   "cell_type": "code",
   "execution_count": 1,
   "id": "be84e544-e865-4730-85b6-0f29d11344c7",
   "metadata": {},
   "outputs": [],
   "source": [
    "import numpy as np\n",
    "from sklearn.decomposition import PCA"
   ]
  },
  {
   "cell_type": "code",
   "execution_count": 29,
   "id": "45761e58-92d5-41a7-b1de-dada244e4a1e",
   "metadata": {},
   "outputs": [],
   "source": [
    "X = np.array([[-1, -1], [-2, -1], [-3, -2], [1, 1], [2, 1], [3, 2]])\n",
    "X = np.random.rand(6,5)"
   ]
  },
  {
   "cell_type": "code",
   "execution_count": 41,
   "id": "3a848cd6-1ad4-4afd-b5cb-d9db84797d28",
   "metadata": {},
   "outputs": [
    {
     "data": {
      "text/plain": [
       "array([[-0.39042694, -0.06408856],\n",
       "       [-0.01381029,  0.690777  ],\n",
       "       [ 0.74816362,  0.10691187],\n",
       "       [-0.54295767,  0.10152551],\n",
       "       [ 0.37205316, -0.33911042],\n",
       "       [-0.17302188, -0.49601539]])"
      ]
     },
     "execution_count": 41,
     "metadata": {},
     "output_type": "execute_result"
    }
   ],
   "source": [
    "pca = PCA(n_components=2)\n",
    "pca.fit_transform(X)"
   ]
  },
  {
   "cell_type": "code",
   "execution_count": 50,
   "id": "85a0fc1d-c7fc-4a46-bba7-924d5b7c04bd",
   "metadata": {},
   "outputs": [
    {
     "name": "stdout",
     "output_type": "stream",
     "text": [
      "[0.23510718 0.17280899]\n"
     ]
    }
   ],
   "source": [
    "print(pca.explained_variance_)"
   ]
  },
  {
   "cell_type": "code",
   "execution_count": 51,
   "id": "5172965c-7045-4b72-99c3-05f7e862134c",
   "metadata": {},
   "outputs": [
    {
     "name": "stdout",
     "output_type": "stream",
     "text": [
      "[[-0.67892781  0.38451219  0.5343114   0.2647425  -0.18875947]\n",
      " [ 0.54773185  0.71342944  0.05073172 -0.04197721 -0.43205609]]\n"
     ]
    }
   ],
   "source": [
    "print(pca.components_)"
   ]
  },
  {
   "cell_type": "markdown",
   "id": "bb7de73f-cdd5-44d6-bec5-2fddcaad24d6",
   "metadata": {},
   "source": [
    "# PCA from scratch"
   ]
  },
  {
   "cell_type": "code",
   "execution_count": 71,
   "id": "9f1c9c99-98fa-4e65-ab82-ca21d886a134",
   "metadata": {},
   "outputs": [],
   "source": [
    "class HPCA:\n",
    "    def __init__(self, n_components):\n",
    "        self.n_components = n_components\n",
    "    def fit_transform(self, X):\n",
    "        # normalization\n",
    "        x_mean = np.mean(X, axis=0)\n",
    "        # x_std = np.std(X, axis=0)\n",
    "        X = (X-x_mean)#/x_std\n",
    "        # covariance\n",
    "        cov_matrix = np.cov(X, rowvar=False)\n",
    "        # eigen value decomposition\n",
    "        eigenvalues, eigenvectors = np.linalg.eig(cov_matrix)\n",
    "        # sort eigenvalues\n",
    "        order = np.argsort(eigenvalues)[::-1]\n",
    "        eigenvalues = eigenvalues[order]\n",
    "        eigenvectors = eigenvectors[:, order]\n",
    "        # topk dimensions\n",
    "        self.principal_components = eigenvectors[:,0:self.n_components]\n",
    "        self.explained_variance = eigenvalues[:self.n_components]\n",
    "        # transform X\n",
    "        X_new = X @ self.principal_components\n",
    "        return X_new"
   ]
  },
  {
   "cell_type": "code",
   "execution_count": 72,
   "id": "c614481d-706a-4241-815b-a51c1a9199ce",
   "metadata": {},
   "outputs": [
    {
     "data": {
      "text/plain": [
       "array([[-0.39042694,  0.06408856],\n",
       "       [-0.01381029, -0.690777  ],\n",
       "       [ 0.74816362, -0.10691187],\n",
       "       [-0.54295767, -0.10152551],\n",
       "       [ 0.37205316,  0.33911042],\n",
       "       [-0.17302188,  0.49601539]])"
      ]
     },
     "execution_count": 72,
     "metadata": {},
     "output_type": "execute_result"
    }
   ],
   "source": [
    "hpca = HPCA(n_components=2)\n",
    "hpca.fit_transform(X)"
   ]
  },
  {
   "cell_type": "code",
   "execution_count": 73,
   "id": "f5206996-3947-4a02-a5dd-e74512746215",
   "metadata": {},
   "outputs": [
    {
     "data": {
      "text/plain": [
       "array([0.23510718, 0.17280899])"
      ]
     },
     "execution_count": 73,
     "metadata": {},
     "output_type": "execute_result"
    }
   ],
   "source": [
    "hpca.explained_variance"
   ]
  },
  {
   "cell_type": "code",
   "execution_count": 75,
   "id": "73fbb203-6617-4815-976f-2281abea445d",
   "metadata": {},
   "outputs": [
    {
     "data": {
      "text/plain": [
       "array([[-0.67892781,  0.38451219,  0.5343114 ,  0.2647425 , -0.18875947],\n",
       "       [-0.54773185, -0.71342944, -0.05073172,  0.04197721,  0.43205609]])"
      ]
     },
     "execution_count": 75,
     "metadata": {},
     "output_type": "execute_result"
    }
   ],
   "source": [
    "hpca.principal_components.T"
   ]
  },
  {
   "cell_type": "code",
   "execution_count": null,
   "id": "934fe30f-21d4-4c46-bbe1-9b5d911f9409",
   "metadata": {},
   "outputs": [],
   "source": []
  }
 ],
 "metadata": {
  "kernelspec": {
   "display_name": "Python 3 (ipykernel)",
   "language": "python",
   "name": "python3"
  },
  "language_info": {
   "codemirror_mode": {
    "name": "ipython",
    "version": 3
   },
   "file_extension": ".py",
   "mimetype": "text/x-python",
   "name": "python",
   "nbconvert_exporter": "python",
   "pygments_lexer": "ipython3",
   "version": "3.10.14"
  }
 },
 "nbformat": 4,
 "nbformat_minor": 5
}
