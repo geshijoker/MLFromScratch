{
 "cells": [
  {
   "cell_type": "code",
   "execution_count": 3,
   "id": "a8a3033e-649c-4311-9f18-611748a13db9",
   "metadata": {},
   "outputs": [],
   "source": [
    "import numpy as np\n",
    "from scipy.spatial.distance import cdist"
   ]
  },
  {
   "cell_type": "code",
   "execution_count": 21,
   "id": "35d48569-fc3c-41dc-8e1e-054da36c28dc",
   "metadata": {},
   "outputs": [],
   "source": [
    "def initialize_centroids(X, k):\n",
    "    rand_indices = np.random.choice(X.shape[0], k, replace=False)\n",
    "    centroids = X[rand_indices[:]]\n",
    "    return centroids"
   ]
  },
  {
   "cell_type": "code",
   "execution_count": 22,
   "id": "c342d31c-d398-4b96-85a6-b186e1b7230c",
   "metadata": {},
   "outputs": [],
   "source": [
    "def assign_clusters(X, centroids):\n",
    "    distances = cdist(X, centroids)\n",
    "    return np.argmin(distances, axis=1)"
   ]
  },
  {
   "cell_type": "code",
   "execution_count": 23,
   "id": "39a896b5-7ab6-40f1-9ef8-e7ef76bb7345",
   "metadata": {},
   "outputs": [],
   "source": [
    "def update_clusters(X, labels, k):\n",
    "    new_centroids = []\n",
    "    for i in range(k):\n",
    "        new_centroid = np.mean(X[labels == i], axis=0)\n",
    "        new_centroids.append(new_centroid)\n",
    "    return np.array(new_centroids)"
   ]
  },
  {
   "cell_type": "code",
   "execution_count": 32,
   "id": "e2cfcdde-94fd-4daa-a707-33820206f02c",
   "metadata": {},
   "outputs": [],
   "source": [
    "def kmeans(X, k, max_iterations=1000, tol=1e-7):\n",
    "    centroids = initialize_centroids(X, k)\n",
    "    for _ in range(max_iterations):\n",
    "        labels = assign_clusters(X, centroids)\n",
    "        new_centroids = update_clusters(X, labels, k)\n",
    "        if np.sum(new_centroids - centroids) < tol:\n",
    "            centroids = new_centroids\n",
    "            break\n",
    "        centroids = new_centroids\n",
    "    return centroids, labels"
   ]
  },
  {
   "cell_type": "code",
   "execution_count": 33,
   "id": "63a6f1f9-8344-40e5-9302-d09ca82839b7",
   "metadata": {},
   "outputs": [
    {
     "name": "stdout",
     "output_type": "stream",
     "text": [
      "Centroids:\n",
      " [[ 1.  2.]\n",
      " [10.  3.]\n",
      " [10.  0.]]\n",
      "Labels: [0 0 0 1 1 2]\n"
     ]
    }
   ],
   "source": [
    "X = np.array([[1, 2], [1, 4], [1, 0], [10, 2], [10, 4], [10, 0]])\n",
    "k = 3\n",
    "centroids, labels = kmeans(X, k)\n",
    "print(\"Centroids:\\n\", centroids)\n",
    "print(\"Labels:\", labels)"
   ]
  },
  {
   "cell_type": "code",
   "execution_count": null,
   "id": "fada6c0d-05d9-441a-af4a-10ccdb296ed3",
   "metadata": {},
   "outputs": [],
   "source": []
  },
  {
   "cell_type": "code",
   "execution_count": null,
   "id": "e11ecc89-b4ec-4a78-8d8a-7d27e2256d77",
   "metadata": {},
   "outputs": [],
   "source": []
  }
 ],
 "metadata": {
  "kernelspec": {
   "display_name": "Python 3 (ipykernel)",
   "language": "python",
   "name": "python3"
  },
  "language_info": {
   "codemirror_mode": {
    "name": "ipython",
    "version": 3
   },
   "file_extension": ".py",
   "mimetype": "text/x-python",
   "name": "python",
   "nbconvert_exporter": "python",
   "pygments_lexer": "ipython3",
   "version": "3.10.14"
  }
 },
 "nbformat": 4,
 "nbformat_minor": 5
}
