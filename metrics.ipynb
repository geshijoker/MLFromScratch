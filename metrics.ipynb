{
 "cells": [
  {
   "cell_type": "code",
   "execution_count": 11,
   "id": "4d8840d4-d393-4004-acea-079a3ec67c5c",
   "metadata": {},
   "outputs": [],
   "source": [
    "import numpy as np\n",
    "from torch import tensor\n",
    "import torchmetrics"
   ]
  },
  {
   "cell_type": "code",
   "execution_count": 34,
   "id": "206a12ea-438a-4cbd-b6ad-e9fd5160c93c",
   "metadata": {},
   "outputs": [],
   "source": [
    "n = 50\n",
    "epsilon = 1e-6\n",
    "y_pred = np.random.randint(2, size=n)\n",
    "y_true = np.random.randint(2, size=n)"
   ]
  },
  {
   "cell_type": "code",
   "execution_count": 41,
   "id": "9bd3db1d-9665-4f52-98fc-d3a7563ff7b6",
   "metadata": {},
   "outputs": [],
   "source": [
    "confusion_matrix = np.array([[np.sum(y_pred*y_true)/n, np.sum((1-y_pred)*y_true)/n],\n",
    "                             [np.sum(y_pred*(1-y_true))/n, np.sum((1-y_pred)*(1-y_true))/n]])"
   ]
  },
  {
   "cell_type": "markdown",
   "id": "833f7c7a-6b60-413a-a703-c93ce2cd4b84",
   "metadata": {},
   "source": [
    "## ACC"
   ]
  },
  {
   "cell_type": "code",
   "execution_count": 42,
   "id": "b97937df-34e4-40a1-9c37-5cdf322be7f6",
   "metadata": {},
   "outputs": [],
   "source": [
    "acc = confusion_matrix[0][0] + confusion_matrix[1][1]"
   ]
  },
  {
   "cell_type": "code",
   "execution_count": 43,
   "id": "0f4310a1-fe40-4666-af01-bbc748452955",
   "metadata": {},
   "outputs": [],
   "source": [
    "accuracy = torchmetrics.classification.BinaryAccuracy()\n",
    "torch_acc = accuracy(tensor(y_pred), tensor(y_true))"
   ]
  },
  {
   "cell_type": "code",
   "execution_count": 44,
   "id": "4d917b6d-5faf-46be-8921-763764c69ac1",
   "metadata": {},
   "outputs": [],
   "source": [
    "assert np.abs(accuracy-torch_acc)<epsilon, \"wrong caculation\""
   ]
  },
  {
   "cell_type": "markdown",
   "id": "9d2e6309-37a1-46a0-af25-8522ea97b875",
   "metadata": {},
   "source": [
    "## Precision"
   ]
  },
  {
   "cell_type": "code",
   "execution_count": 49,
   "id": "2af72556-fe32-43ab-a6fd-ace8b3474e7b",
   "metadata": {},
   "outputs": [],
   "source": [
    "pre = confusion_matrix[0][0] / (confusion_matrix[0][0] + confusion_matrix[1][0])"
   ]
  },
  {
   "cell_type": "code",
   "execution_count": 50,
   "id": "99cdea07-0de0-4a85-b61c-e60e1574a071",
   "metadata": {},
   "outputs": [],
   "source": [
    "precision = torchmetrics.classification.BinaryPrecision()\n",
    "torch_pre = precision(tensor(y_pred), tensor(y_true))"
   ]
  },
  {
   "cell_type": "code",
   "execution_count": 51,
   "id": "beeed4f9-be49-4173-bbfe-acc8d9eefcdf",
   "metadata": {},
   "outputs": [],
   "source": [
    "assert np.abs(pre-torch_pre)<epsilon, \"wrong caculation\""
   ]
  },
  {
   "cell_type": "markdown",
   "id": "ed3007c6-8b6f-41b9-8155-40ba407fec1c",
   "metadata": {},
   "source": [
    "## Recall"
   ]
  },
  {
   "cell_type": "code",
   "execution_count": 53,
   "id": "8f1af9f5-eaed-479b-875f-c302d40f8d53",
   "metadata": {},
   "outputs": [],
   "source": [
    "rec = confusion_matrix[0][0] / (confusion_matrix[0][0] + confusion_matrix[0][1])"
   ]
  },
  {
   "cell_type": "code",
   "execution_count": 54,
   "id": "d283798f-f107-4053-b660-dbd8d90a195d",
   "metadata": {},
   "outputs": [],
   "source": [
    "recall = torchmetrics.classification.BinaryRecall()\n",
    "torch_rec = recall(tensor(y_pred), tensor(y_true))"
   ]
  },
  {
   "cell_type": "code",
   "execution_count": 55,
   "id": "4485bf57-9bd0-4cc6-8bbd-a0e8588ff70f",
   "metadata": {},
   "outputs": [],
   "source": [
    "assert np.abs(rec-torch_rec)<epsilon, \"wrong caculation\""
   ]
  },
  {
   "cell_type": "markdown",
   "id": "3cba0b30-f15a-4449-805a-9437f14d7883",
   "metadata": {},
   "source": [
    "## F1"
   ]
  },
  {
   "cell_type": "code",
   "execution_count": 57,
   "id": "b4ca249e-c692-45e4-a3b6-f912ae19feee",
   "metadata": {},
   "outputs": [],
   "source": [
    "f1 = 2*pre*rec/(pre + rec)"
   ]
  },
  {
   "cell_type": "code",
   "execution_count": 59,
   "id": "243e8c84-bc8b-439b-8091-e3e02e095d63",
   "metadata": {},
   "outputs": [],
   "source": [
    "f1_ = torchmetrics.classification.BinaryF1Score()\n",
    "torch_f1 = f1_(tensor(y_pred), tensor(y_true))"
   ]
  },
  {
   "cell_type": "code",
   "execution_count": 60,
   "id": "a24f410c-6817-45e9-91f3-028874683548",
   "metadata": {},
   "outputs": [],
   "source": [
    "assert np.abs(f1-torch_f1)<epsilon, \"wrong caculation\""
   ]
  },
  {
   "cell_type": "markdown",
   "id": "8eb3855d-7b94-4130-8239-4d372f4340bc",
   "metadata": {},
   "source": [
    "## "
   ]
  }
 ],
 "metadata": {
  "kernelspec": {
   "display_name": "Python 3 (ipykernel)",
   "language": "python",
   "name": "python3"
  },
  "language_info": {
   "codemirror_mode": {
    "name": "ipython",
    "version": 3
   },
   "file_extension": ".py",
   "mimetype": "text/x-python",
   "name": "python",
   "nbconvert_exporter": "python",
   "pygments_lexer": "ipython3",
   "version": "3.10.14"
  }
 },
 "nbformat": 4,
 "nbformat_minor": 5
}
