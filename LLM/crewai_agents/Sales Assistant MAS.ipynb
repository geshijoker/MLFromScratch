{
 "cells": [
  {
   "cell_type": "markdown",
   "id": "229ac2d4-0c90-43d6-a524-05a1a105b5b0",
   "metadata": {},
   "source": [
    "# Tooluse\n",
    "- Versatile\n",
    "- Fault-tolerant\n",
    "- Caching"
   ]
  },
  {
   "cell_type": "code",
   "execution_count": 1,
   "id": "9388618b-697d-48ca-bcbf-d90a1d58bfed",
   "metadata": {},
   "outputs": [],
   "source": [
    "import warnings\n",
    "warnings.filterwarnings('ignore')"
   ]
  },
  {
   "cell_type": "code",
   "execution_count": 2,
   "id": "507bfdd6-dc9a-451f-a25d-86cdd8bf8735",
   "metadata": {},
   "outputs": [],
   "source": [
    "from crewai import Agent, Task, Crew"
   ]
  },
  {
   "cell_type": "code",
   "execution_count": 3,
   "id": "6f23a89e-81eb-4dc0-93ce-037255d0baf0",
   "metadata": {},
   "outputs": [],
   "source": [
    "import os\n",
    "os.environ[\"OPENAI_MODEL_NAME\"] = 'gpt-3.5-turbo'"
   ]
  },
  {
   "cell_type": "code",
   "execution_count": 22,
   "id": "dacf46fc-b091-41d2-8515-48d8eb5cb69f",
   "metadata": {},
   "outputs": [
    {
     "data": {
      "text/plain": [
       "False"
      ]
     },
     "execution_count": 22,
     "metadata": {},
     "output_type": "execute_result"
    }
   ],
   "source": [
    "from dotenv import load_dotenv\n",
    "load_dotenv(\"../.env\", override=False)"
   ]
  },
  {
   "cell_type": "code",
   "execution_count": 5,
   "id": "f3faf9ac-5473-4807-8935-af8a4b8d0acd",
   "metadata": {},
   "outputs": [],
   "source": [
    "sales_rep_agent = Agent(\n",
    "    role=\"Sales Representative\",\n",
    "    goal=\"Identify high-value leads that match \"\n",
    "        \"our ideal customer profile\",\n",
    "    backstory=(\n",
    "        \"As a part of the dynamic sales team at CrewAI, \"\n",
    "        \"your mission is to scour \"\n",
    "        \"the digital landscape for potential leads. \"\n",
    "        \"Armed with cutting-edge tools \"\n",
    "        \"and a strategic mindset, you analyze data, \"\n",
    "        \"trends, and interactions to \"\n",
    "        \"unearth opportunities that others might overlook. \"\n",
    "        \"Your work is crucial in paving the way \"\n",
    "        \"for meaningful engagements and driving the company's growth.\"\n",
    "    ),\n",
    "    allow_delegation=False,\n",
    "    verbose=True\n",
    ")"
   ]
  },
  {
   "cell_type": "code",
   "execution_count": 6,
   "id": "610c3912-d2dc-4e5b-939f-16609cd26194",
   "metadata": {},
   "outputs": [],
   "source": [
    "lead_sales_rep_agent = Agent(\n",
    "    role=\"Lead Sales Representative\",\n",
    "    goal=\"Nurture leads with personalized, compelling communications\",\n",
    "    backstory=(\n",
    "        \"Within the vibrant ecosystem of CrewAI's sales department, \"\n",
    "        \"you stand out as the bridge between potential clidents \"\n",
    "        \"and the solutions they need.\"\n",
    "        \"By creating engaging, personalized messages, \"\n",
    "        \"you not only inform leads about our offerings \"\n",
    "        \"but also make them feel seen and heard.\"\n",
    "        \"Your role is pivotal in converting interest \"\n",
    "        \"into action, guiding leads through the journey \"\n",
    "        \"from curiosity to commitment.\"\n",
    "    ),\n",
    "    allow_delegation=False,\n",
    "    verbose=True\n",
    ")"
   ]
  },
  {
   "cell_type": "code",
   "execution_count": 7,
   "id": "77ac323f-a06a-459b-b175-07a138a06974",
   "metadata": {},
   "outputs": [],
   "source": [
    "from crewai_tools import DirectoryReadTool, FileReadTool, SerperDevTool"
   ]
  },
  {
   "cell_type": "code",
   "execution_count": 8,
   "id": "6e78cdde-5098-4372-8349-a83f78e24b3f",
   "metadata": {},
   "outputs": [],
   "source": [
    "directory_read_tool = DirectoryReadTool(directory=\"./instructions\")\n",
    "file_read_tool = FileReadTool()\n",
    "search_tool = SerperDevTool()"
   ]
  },
  {
   "cell_type": "markdown",
   "id": "439b2597-83b9-4412-853b-b081174dfa2c",
   "metadata": {},
   "source": [
    "# Create a custom tool"
   ]
  },
  {
   "cell_type": "code",
   "execution_count": 10,
   "id": "1169d809-af2a-4998-b636-32d458a96265",
   "metadata": {},
   "outputs": [],
   "source": [
    "from crewai.tools import BaseTool"
   ]
  },
  {
   "cell_type": "code",
   "execution_count": 11,
   "id": "2c3bffaa-801a-48f6-a43a-eeda563fbeed",
   "metadata": {},
   "outputs": [],
   "source": [
    "class SentimentAnalysisTool(BaseTool):\n",
    "    name: str=\"Sentiment Analysis Tool\"\n",
    "    description: str=(\"Analyzes the sentiment of text \"\n",
    "                     \"to ensure positive and engaging communication.\")\n",
    "    def _run(self, text: str) -> str:\n",
    "        # Your custom code tool goes here\n",
    "        return \"positive\""
   ]
  },
  {
   "cell_type": "code",
   "execution_count": 12,
   "id": "87843c91-15f0-41db-a8a1-dc4629015c29",
   "metadata": {},
   "outputs": [],
   "source": [
    "sentiment_analysis_tool = SentimentAnalysisTool()"
   ]
  },
  {
   "cell_type": "code",
   "execution_count": 13,
   "id": "3e1dec01-952c-4a8f-9405-21b9f19b1a7b",
   "metadata": {},
   "outputs": [],
   "source": [
    "lead_profiling_task = Task(\n",
    "    description=(\n",
    "        \"Conduct an in-depth analysis of {lead_name}, \"\n",
    "        \"a company in the {industry} sector \"\n",
    "        \"that recently showed interest in our solutions. \"\n",
    "        \"Utilize all available data sources \"\n",
    "        \"to compile a detailed profile, \"\n",
    "        \"focusing on key decision-makers, recent business \"\n",
    "        \"developments, and potential needs \"\n",
    "        \"that align with our offerings. \"\n",
    "        \"This task is crucial for tailoring \"\n",
    "        \"our engagement strategy effectively.\\n\"\n",
    "        \"Don't make assumptions and \"\n",
    "        \"only use information you absolutely sure about.\"\n",
    "    ),\n",
    "    expected_output=(\n",
    "        \"A comprehensive report on {lead_name}, \"\n",
    "        \"including company background, \"\n",
    "        \"key personnel, recent milestones, and identified needs. \"\n",
    "        \"Highlight potential areas where \"\n",
    "        \"our solutions can provide value, \"\n",
    "        \"and suggest personalized engagement strategies.\"\n",
    "    ),\n",
    "    tools=[directory_read_tool, file_read_tool, search_tool],\n",
    "    agent=sales_rep_agent,\n",
    ")"
   ]
  },
  {
   "cell_type": "code",
   "execution_count": 14,
   "id": "5c6e92c7-0de2-4aeb-a059-1bb152593317",
   "metadata": {},
   "outputs": [],
   "source": [
    "personalized_outreach_task = Task(\n",
    "    description=(\n",
    "        \"Using the insights gathered from \"\n",
    "        \"the lead profiling report on {lead_name}, \"\n",
    "        \"craft a personalized outreach campaign \"\n",
    "        \"aimed at {key_decision_maker}, \"\n",
    "        \"the {position} of {lead_name}. \"\n",
    "        \"The campaign should address their recent {milestone} \"\n",
    "        \"and how our solutions can support their goals \"\n",
    "        \"Your communication must resonate \"\n",
    "        \"with {lead_name}'s company culture and values, \"\n",
    "        \"demonstrating a deep understading of \"\n",
    "        \"their business and needs. \"\n",
    "        \"Don't make assumptions and only \"\n",
    "        \"use information you absolutely sure about.\"\n",
    "    ),\n",
    "    expected_output=(\n",
    "        \"A series of personalized email drafts \"\n",
    "        \"tailored to {lead_name}, \"\n",
    "        \"specifically targeting {key_decision_maker}. \"\n",
    "        \"Each draft should include \"\n",
    "        \"a compelling narrative that connects our solutions \"\n",
    "        \"with their recent achievements and future goals. \"\n",
    "        \"Ensure the tone is engaging, professional, \"\n",
    "        \"and aligned with {lead_name}'s corporate identity.\"\n",
    "    ),\n",
    "    tools=[sentiment_analysis_tool, search_tool],\n",
    "    agent=lead_sales_rep_agent,\n",
    ")"
   ]
  },
  {
   "cell_type": "code",
   "execution_count": 15,
   "id": "d8bbaa35-a82e-437d-8227-97cd868e4141",
   "metadata": {},
   "outputs": [],
   "source": [
    "crew = Crew(\n",
    "    agents=[sales_rep_agent, lead_sales_rep_agent],\n",
    "    tasks=[lead_profiling_task, personalized_outreach_task],\n",
    "    verbose=1,\n",
    "    memory=True\n",
    ")"
   ]
  },
  {
   "cell_type": "code",
   "execution_count": 19,
   "id": "93e96e46-d8d5-44d0-bceb-ec89c94047e6",
   "metadata": {},
   "outputs": [],
   "source": [
    "inputs = {\n",
    "    \"lead_name\": \"DeepLearningAI\",\n",
    "    \"industry\": \"Online Learning Platform\",\n",
    "    \"key_decision_maker\": \"Andrew Ng\",\n",
    "    \"position\": \"CEO\",\n",
    "    \"milestone\": \"product launch\"\n",
    "}"
   ]
  },
  {
   "cell_type": "code",
   "execution_count": 20,
   "id": "0b632cf7-d447-41df-8435-90b144b0f232",
   "metadata": {},
   "outputs": [
    {
     "name": "stderr",
     "output_type": "stream",
     "text": [
      "2025-01-17 22:49:10,489 - 13138599936 - _common.py-_common:105 - INFO: Backing off send_request(...) for 0.4s (posthog.request.APIError: [PostHog] upstream connect error or disconnect/reset before headers. reset reason: overflow (503))\n"
     ]
    },
    {
     "name": "stdout",
     "output_type": "stream",
     "text": [
      "\u001b[1m\u001b[95m# Agent:\u001b[00m \u001b[1m\u001b[92mSales Representative\u001b[00m\n",
      "\u001b[95m## Task:\u001b[00m \u001b[92mConduct an in-depth analysis of DeepLearningAI, a company in the Online Learning Platform sector that recently showed interest in our solutions. Utilize all available data sources to compile a detailed profile, focusing on key decision-makers, recent business developments, and potential needs that align with our offerings. This task is crucial for tailoring our engagement strategy effectively.\n",
      "Don't make assumptions and only use information you absolutely sure about.\u001b[00m\n",
      "\n",
      "\n",
      "\u001b[1m\u001b[95m# Agent:\u001b[00m \u001b[1m\u001b[92mSales Representative\u001b[00m\n",
      "\u001b[95m## Thought:\u001b[00m \u001b[92mI need to gather information about DeepLearningAI's company background, key personnel, recent milestones, and identified needs to create a comprehensive report. I should search the internet for the requested details and compile all relevant data to tailor our engagement strategy effectively.\u001b[00m\n",
      "\u001b[95m## Using tool:\u001b[00m \u001b[92mSearch the internet\u001b[00m\n",
      "\u001b[95m## Tool Input:\u001b[00m \u001b[92m\n",
      "\"{\\\"search_query\\\": \\\"DeepLearningAI company overview\\\"}\"\u001b[00m\n",
      "\u001b[95m## Tool Output:\u001b[00m \u001b[92m\n",
      "{'searchParameters': {'q': 'DeepLearningAI company overview', 'type': 'search', 'num': 10, 'engine': 'google'}, 'organic': [{'title': 'Deeplearning.ai - Crunchbase Company Profile & Funding', 'link': 'https://www.crunchbase.com/organization/deeplearning-ai', 'snippet': 'Deeplearning.ai is company that explores the frontier of AI. The company is founded by Andrew Ng, the former Chief Scientist of Baidu and the current ...', 'position': 1}, {'title': 'Deeplearning.ai company information, funding & investors', 'link': 'https://app.dealroom.co/companies/deeplearning_ai', 'snippet': \"Deeplearning.ai, deeplearningai is company that explores the frontier of ai. Here you'll find information about their funding, investors and team.\", 'position': 2}, {'title': 'DeepLearning.AI - LinkedIn', 'link': 'https://www.linkedin.com/company/deeplearningai', 'snippet': 'DeepLearning.AI is making a world-class AI education accessible to people around the globe. DeepLearning.AI was founded by Andrew Ng, a global leader in AI.', 'position': 3}, {'title': 'DeepLearning.AI: Start or Advance Your Career in AI', 'link': 'https://www.deeplearning.ai/', 'snippet': 'Join over 7 million people learning how to use and build AI. AI Courses and Specializations. Build a foundation of machine learning and AI skills.', 'position': 4, 'sitelinks': [{'title': 'About', 'link': 'https://www.deeplearning.ai/about/'}, {'title': 'Careers', 'link': 'https://www.deeplearning.ai/careers/'}, {'title': 'Courses', 'link': 'https://www.deeplearning.ai/courses/'}, {'title': 'Generative AI for Everyone', 'link': 'https://www.deeplearning.ai/courses/generative-ai-for-everyone/'}]}, {'title': 'DEEPLEARNING.AI LLC Company Profile | Palo Alto, CA', 'link': 'https://www.dnb.com/business-directory/company-profiles.deeplearningai_llc.60c8a9eeade896ced9837d0fef6f19ec.html', 'snippet': 'Find company research, competitor information, contact details & financial data for DEEPLEARNING.AI LLC of Palo Alto, CA. Get the latest business insights ...', 'position': 5}, {'title': 'DeepLearning.AI Company Overview, Contact Details & Competitors', 'link': 'https://leadiq.com/c/deeplearningai/5aadd7b7550000d200cae52d', 'snippet': 'DeepLearning.AI is making a world-class AI education accessible to people around the globe. DeepLearning.AI was founded by Andrew Ng, a global leader in AI.', 'position': 6}, {'title': 'Deep Learning.Ai - Company Info, Employees & Competitors', 'link': 'https://www.cience.com/company/deeplearningai/1011794145213615540', 'snippet': 'DeepLearning.AI is making a world-class AI education accessible to people around the globe. DeepLearning.AI was founded by Andrew Ng, a global leader in AI.', 'position': 7}, {'title': 'DeepLearning.AI - Products, Competitors, Financials, Employees ...', 'link': 'https://www.cbinsights.com/company/deeplearningai', 'snippet': 'DeepLearning.AI focuses on providing education and resources in the field of artificial intelligence (AI) and machine learning.', 'position': 8}, {'title': 'deeplearning.ai Information - RocketReach', 'link': 'https://rocketreach.co/deeplearningai-profile_b4556bbefc954d11', 'snippet': 'deeplearning.ai is an Artificial Intelligence, Data and Analytics, and Deep Learning company located in Palo Alto, California with 224 employees.', 'position': 9}], 'peopleAlsoAsk': [{'question': 'Which company is leading in machine learning?', 'snippet': '1. IBM. IBM is a leader in ML, offering services to companies through its Watson Machine Learning, which allows users to build, train and deploy models.', 'title': '10 Top Machine Learning Companies - VKTR.com', 'link': 'https://www.vktr.com/ai-market/10-top-machine-learning-companies/'}, {'question': 'Who is the owner of Landing AI?', 'snippet': 'Andrew Ng, CEO and Founder, Landing AI | CXOTalk.', 'title': 'Andrew Ng, CEO and Founder, Landing AI | CXOTalk', 'link': 'https://www.cxotalk.com/bio/andrew-ng-ceo-founder-landing-ai'}, {'question': 'Who is the CEO of deep learning?', 'snippet': 'Andrew Ng is Founder & CEO of Landing AI, Founder of deeplearning.ai, Co-Chairman and Co-Founder of Coursera, and is currently an Adjunct Professor at Stanford University. He was also Chief Scientist at Baidu Inc., and Founder & Lead for the Google Brain Project.', 'title': 'Andrew Ng | Stanford HAI', 'link': 'https://hai.stanford.edu/people/andrew-ng'}, {'question': 'Is DeepLearning.AI course worth it?', 'snippet': 'The deeplearning.ai course Pair Programming with a Large Language Model is a good introduction to using LLM APIs to help you generate and work with code. I definitely recommend this course for individuals who write code and are exploring how to use APIs as part of their workflows.', 'title': 'My Experience Completing the deeplearning.ai Short Course “Pair ...', 'link': 'https://medium.com/@bukowski.daniel/my-experience-completing-the-deeplearning-ai-860c5e2462d5'}], 'relatedSearches': [{'query': 'Neural network'}, {'query': 'Deeplearning AI Founder'}, {'query': 'deeplearning.ai courses'}, {'query': 'deeplearning.ai login'}, {'query': 'Deep learning'}, {'query': 'deeplearning.ai coursera'}, {'query': 'Deeplearning AI logo'}, {'query': 'deeplearning.ai certificate'}, {'query': 'deeplearning.ai courses free'}], 'credits': 1}\u001b[00m\n",
      "\n",
      "\n",
      "\u001b[1m\u001b[95m# Agent:\u001b[00m \u001b[1m\u001b[92mSales Representative\u001b[00m\n",
      "\u001b[95m## Using tool:\u001b[00m \u001b[92mSearch the internet\u001b[00m\n",
      "\u001b[95m## Tool Input:\u001b[00m \u001b[92m\n",
      "\"{\\\"search_query\\\": \\\"DeepLearningAI key personnel\\\"}\"\u001b[00m\n",
      "\u001b[95m## Tool Output:\u001b[00m \u001b[92m\n",
      "{'searchParameters': {'q': 'DeepLearningAI key personnel', 'type': 'search', 'num': 10, 'engine': 'google'}, 'organic': [{'title': 'DeepLearning.AI: Employee Directory | ZoomInfo.com', 'link': 'https://www.zoominfo.com/pic/deeplearningai-inc/462132321', 'snippet': 'DeepLearning.AI has 37 employees Who are DeepLearning.AI key employees? Some of DeepLearning.AI key employees are Shubh Bariya Where is DeepLearning.AI located?', 'position': 1}, {'title': 'DeepLearning.AI: Start or Advance Your Career in AI', 'link': 'https://www.deeplearning.ai/', 'snippet': 'Join over 7 million people learning how to use and build AI. AI Courses and Specializations. Build a foundation of machine learning and AI skills.', 'position': 2, 'sitelinks': [{'title': 'Careers', 'link': 'https://www.deeplearning.ai/careers/'}, {'title': 'Courses', 'link': 'https://www.deeplearning.ai/courses/'}, {'title': 'DeepLearning.AI', 'link': 'https://community.deeplearning.ai/'}, {'title': 'Generative AI for Everyone', 'link': 'https://www.deeplearning.ai/courses/generative-ai-for-everyone/'}]}, {'title': 'DeepLearning.AI - LinkedIn', 'link': 'https://www.linkedin.com/company/deeplearningai', 'snippet': 'Employees at DeepLearning.AI ; Ted Greenwald ; Joe Chen. engineering ; Bradley Reynolds. Chief Strategy Officer (CSO) / SVP of AI ; Manfred Vogel. Professor for ...', 'position': 3}, {'title': 'Andrew Ng - Founder - DeepLearning.AI - LinkedIn', 'link': 'https://www.linkedin.com/in/andrewyng', 'snippet': 'Andrew Ng is an influencer. Founder of DeepLearning.AI; Managing General Partner of AI Fund; Exec Chairman of Landing AI.', 'position': 4}, {'title': 'Machine Learning Specialization - DeepLearning.AI', 'link': 'https://www.deeplearning.ai/courses/machine-learning-specialization/', 'snippet': 'Newly rebuilt and expanded into 3 courses, the updated Specialization teaches foundational AI concepts through an intuitive visual approach.', 'position': 5}, {'title': 'LangChain for LLM Application Development - DeepLearning.AI', 'link': 'https://www.deeplearning.ai/short-courses/langchain-for-llm-application-development/', 'snippet': 'Learn to use LangChain to call LLMs into new environments, and use memories, chains, and agents to take on new and complex tasks.', 'position': 6}, {'title': 'Deep Learning Specialization - DeepLearning.AI', 'link': 'https://www.deeplearning.ai/courses/deep-learning-specialization/', 'snippet': 'Join 1 million+ learners and #BeADeepLearner with the Deep Learning Specialization, a foundational online program by machine learning pioneer Andrew Ng.', 'position': 7}, {'title': 'DeepLearning.AI Online Courses - Coursera', 'link': 'https://www.coursera.org/partners/deeplearning-ai', 'snippet': 'Principal Solutions Architect, Generative AI, Amazon Web Services (AWS). Sophia Yang. Head of Developer Relations. Mistral AI. Sung Kim. CEO.', 'position': 8, 'sitelinks': [{'title': 'AI for Good Specialization', 'link': 'https://www.coursera.org/specializations/ai-for-good'}, {'title': 'AI for Medicine Specialization', 'link': 'https://www.coursera.org/specializations/ai-for-medicine'}, {'title': 'Generative Adversarial...', 'link': 'https://www.coursera.org/specializations/generative-adversarial-networks-gans'}]}, {'title': 'Andrew Ng | Stanford HAI', 'link': 'https://hai.stanford.edu/people/andrew-ng', 'snippet': 'Andrew Ng is Founder & CEO of Landing AI, Founder of deeplearning.ai, Co-Chairman and Co-Founder of Coursera, and is currently an Adjunct Professor at Stanford ...', 'position': 9}, {'title': 'Breaking into AI: Advocating for Machine Learning in the Real World', 'link': 'https://www.deeplearning.ai/blog/breaking-into-ai-advocating-for-machine-learning-in-the-real-world/', 'snippet': 'I follow key people like Yann LeCun, Geoff Hinton, Yoshua Bengio, Andrew Ng, and Sebastian Thrun on social media to see what they are talking about and sharing.', 'position': 10}], 'peopleAlsoAsk': [{'question': 'Who made DeepLearning AI?', 'snippet': 'DeepLearning.AI was founded in 2017 by machine learning and education pioneer Andrew Ng to fill a need for world-class AI education. DeepLearning.AI has created high-quality AI programs on Coursera that have gained an extensive global following.', 'title': 'About - DeepLearning.AI', 'link': 'https://www.deeplearning.ai/about/'}, {'question': 'Who is the CEO of Deep Learning AI?', 'snippet': 'Andrew Ng - Founder - DeepLearning.AI | LinkedIn.', 'title': 'Andrew Ng - Founder - DeepLearning.AI - LinkedIn', 'link': 'https://www.linkedin.com/in/andrewyng'}, {'question': 'Is deep learning AI free?', 'snippet': \"Andrew Ng's “Deep Learning Specialization” course is available on Coursera, and while you can audit the course for free, accessing all the course materials, including video lectures, quizzes, and assignments, typically requires payment.\", 'title': 'Where can I get Deep Learning by Andrew NG videos for free? - Quora', 'link': 'https://www.quora.com/Where-can-I-get-Deep-Learning-by-Andrew-NG-videos-for-free'}, {'question': 'What is the deep learning speci?', 'snippet': 'What is the Deep Learning Specialization about? The Deep Learning Specialization is a foundational program that will help you understand the capabilities, challenges, and consequences of deep learning and prepare you to participate in the development of leading-edge AI technology.', 'title': 'Deep Learning Specialization - Coursera', 'link': 'https://www.coursera.org/specializations/deep-learning'}], 'relatedSearches': [{'query': 'Neural network'}, {'query': 'deeplearning.ai login'}, {'query': 'deeplearning.ai courses'}, {'query': 'deeplearning.ai prompt engineering'}, {'query': 'deeplearning.ai courses free'}, {'query': 'Deep Learning Specialization'}, {'query': 'Deep learning vs machine learning'}, {'query': 'deeplearning.ai coursera'}, {'query': 'Machine Learning Specialization free'}], 'credits': 1}\u001b[00m\n",
      "\n",
      "\n",
      "\u001b[1m\u001b[95m# Agent:\u001b[00m \u001b[1m\u001b[92mSales Representative\u001b[00m\n",
      "\u001b[95m## Using tool:\u001b[00m \u001b[92mSearch the internet\u001b[00m\n",
      "\u001b[95m## Tool Input:\u001b[00m \u001b[92m\n",
      "\"{\\\"search_query\\\": \\\"DeepLearningAI recent milestones\\\"}\"\u001b[00m\n",
      "\u001b[95m## Tool Output:\u001b[00m \u001b[92m\n",
      "{'searchParameters': {'q': 'DeepLearningAI recent milestones', 'type': 'search', 'num': 10, 'engine': 'google'}, 'organic': [{'title': 'The Batch | DeepLearning.AI | AI News & Insights', 'link': 'https://www.deeplearning.ai/the-batch/', 'snippet': 'The Batch AI News and Insights: Using AI-assisted coding to build software prototypes is an important way to quickly explore many ideas and invent new things.', 'position': 1, 'sitelinks': [{'title': 'Letters from Andrew Ng', 'link': 'https://www.deeplearning.ai/the-batch/tag/letters/'}, {'title': 'DeepSeek Takes On OpenAI...', 'link': 'https://www.deeplearning.ai/the-batch/issue-277/'}, {'title': 'Llama On the Battlefield...', 'link': 'https://www.deeplearning.ai/the-batch/issue-275/'}]}, {'title': 'DeepLearning.AI News | The Batch', 'link': 'https://www.deeplearning.ai/the-batch/tag/deeplearning-ai-news/', 'snippet': 'Last week, we released a new course, ChatGPT Prompt Engineering for Developers, created in collaboration with OpenAI.', 'position': 2}, {'title': 'DeepLearning.AI Dropped a New Course - KDnuggets', 'link': 'https://www.kdnuggets.com/deeplearning-ai-dropped-a-new-course', 'snippet': 'In this 3 course series, you can earn a career credential that will demonstrate your learnings through a beginner-level course.', 'position': 3}, {'title': 'Advancements in Artificial Intelligence and Machine Learning', 'link': 'https://online-engineering.case.edu/blog/advancements-in-artificial-intelligence-and-machine-learning', 'snippet': 'This article will explore the latest advancements in artificial intelligence and machine learning, including recent development of advanced algorithms.', 'position': 4}, {'title': '“The Evolution of Deep Learning: From Concept to Cutting-Edge ...', 'link': 'https://medium.com/@gowthamiarva28/the-evolution-of-deep-learning-from-concept-to-cutting-edge-technology-544b31e2800a', 'snippet': 'This detailed blog traces the history of deep learning, highlighting key milestones, influential figures, and transformative applications.', 'position': 5}, {'title': 'New deep learning model uses video to measure embryonic ...', 'link': 'https://phys.org/news/2024-05-deep-video-embryonic.html', 'snippet': 'Research led by the University of Plymouth has shown that a new deep learning AI model can identify what happens and when during embryonic development, from ...', 'position': 6}, {'title': \"Andrew Ng's DeepLearning.AI Unveils New Course on Building AI ...\", 'link': 'https://analyticsindiamag.com/ai-news-updates/andrew-ngs-deeplearning-ai-unveils-new-course-on-building-ai-applications-with-haystack/', 'snippet': \"Andrew Ng's DeepLearningAI recently introduced a new course, 'Building AI Applications with Haystack' built in partnership with Deepset, ...\", 'position': 7}, {'title': \"New deep learning model is 'game changer' for measuring embryo ...\", 'link': 'https://www.sciencedaily.com/releases/2024/05/240528192051.htm', 'snippet': 'Research led by the University of Plymouth has shown that a new deep learning AI model can identify what happens and when during embryonic development, from ...', 'position': 8}, {'title': 'Andrew Ng on X: \"As we reach the milestone of the 256th issue of ...', 'link': 'https://x.com/AndrewYNg/status/1810338684270768464?lang=en', 'snippet': \"As we reach the milestone of the 256th issue of The Batch, I'm reflecting on how AI has changed over the years and how society continues to ...\", 'position': 9}, {'title': 'News on Artificial Intelligence and Machine Learning - Tech Xplore', 'link': 'https://techxplore.com/machine-learning-ai-news/', 'snippet': \"No longer banking on shipping forecast: AI for ship target detection · New guide offers framework to measure AI's energy consumption · Innovative 6D pose ...\", 'position': 10}], 'peopleAlsoAsk': [{'question': 'What are the recent trends in deep learning architecture?', 'snippet': '5 DEEP LEARNING RECENT TRENDS\\nHybrid Model Integration. An application provides a mechanism for integrating hybrid models from data sources such as census, weather, and social media into decision support tools. ...\\nThe Vision Transformer. ...\\nSelf-Supervised Learning. ...\\nNeuroscience Based Deep Learning. ...\\nHigh-Performance NLP Models.', 'title': '5 Deep Learning Recent Trends - Plego Technologies', 'link': 'https://plego.com/dive-into-recent-trends-in-deep-learning-and-stay-informed-about-advancements-in-ai-and-machine-learning-discover-how-these-trends-are-shaping-the-future-of-technology/'}, {'question': 'What are some of the different milestones in deep learning history IBM?', 'snippet': '1995: Suppressed by statistical learning. 2000s: GPU, CPU clusters are widely used. 2010-now: A deep learning paper was published in Science [HS06]. Geoffrey Hinton et al won ImageNet 2012 challenge using a CNN model with accuracy 10% higher than the runner-up.', 'title': 'What are some important milestones and histories of deep learning?', 'link': 'https://www.quora.com/What-are-some-important-milestones-and-histories-of-deep-learning'}, {'question': 'Is deep learning still relevant in 2024?', 'snippet': \"Deep learning's rise in the early 21st century was largely due to the increase in computational power and the availability of large datasets. In 2024, this trend continues with even more advanced hardware like quantum processors and specialized AI chips, making DL models more efficient and powerful.\", 'title': 'Machine Learning vs Deep Learning in 2024 - LinkedIn', 'link': 'https://www.linkedin.com/pulse/machine-learning-vs-deep-2024-keystridedigital-xjo6c'}, {'question': 'What are the latest advancements in AI?', 'snippet': 'New Technologies in AI: Chatbots and Virtual Assistants\\\\n\\\\n These new technologies in AI personalize user experiences by analyzing user data and behavior. They recommend products, content, and services, increasing engagement and sales.', 'title': '11 New Technologies in AI: All Trends of 2023-2024 - devabit', 'link': 'https://devabit.com/blog/top-11-new-technologies-in-ai-exploring-the-latest-trends/'}], 'relatedSearches': [{'query': 'Natural language p...'}, {'query': 'The Batch AI'}, {'query': 'The Batch AI newsletter'}, {'query': 'Last Week in AI'}, {'query': 'Deeplearning AI course free download'}, {'query': 'Import AI by Jack Clark'}, {'query': 'Deep Learning Weekly'}, {'query': 'Deep Learning free course'}, {'query': 'Best deep learning courses'}], 'credits': 1}\n",
      "\n",
      "\n",
      "You ONLY have access to the following tools, and should NEVER make up tools that are not listed here:\n",
      "\n",
      "Tool Name: List files in directory\n",
      "Tool Arguments: {}\n",
      "Tool Description: A tool that can be used to list ./instructions's content.\n",
      "A tool that can be used to read None's content.\n",
      "Tool Name: Search the internet\n",
      "Tool Arguments: {'search_query': {'description': 'Mandatory search query you want to use to search the internet', 'type': 'str'}}\n",
      "Tool Description: A tool that can be used to search the internet with a search_query. Supports different search types: 'search' (default), 'news'\n",
      "\n",
      "Use the following format:\n",
      "\n",
      "Thought: you should always think about what to do\n",
      "Action: the action to take, only one name of [List files in directory, Read a file's content, Search the internet], just the name, exactly as it's written.\n",
      "Action Input: the input to the action, just a simple python dictionary, enclosed in curly braces, using \" to wrap keys and values.\n",
      "Observation: the result of the action\n",
      "\n",
      "Once all necessary information is gathered:\n",
      "\n",
      "Thought: I now know the final answer\n",
      "Final Answer: the final answer to the original input question\n",
      "\u001b[00m\n",
      "\n",
      "\n",
      "\u001b[1m\u001b[95m# Agent:\u001b[00m \u001b[1m\u001b[92mSales Representative\u001b[00m\n",
      "\u001b[95m## Thought:\u001b[00m \u001b[92mThought: I need to gather information about DeepLearningAI's identified needs to complete the comprehensive report.\u001b[00m\n",
      "\u001b[95m## Using tool:\u001b[00m \u001b[92mSearch the internet\u001b[00m\n",
      "\u001b[95m## Tool Input:\u001b[00m \u001b[92m\n",
      "\"{\\\"search_query\\\": \\\"DeepLearningAI identified needs\\\"}\"\u001b[00m\n",
      "\u001b[95m## Tool Output:\u001b[00m \u001b[92m\n",
      "{'searchParameters': {'q': 'DeepLearningAI identified needs', 'type': 'search', 'num': 10, 'engine': 'google'}, 'organic': [{'title': 'Deep Learning Specialization - DeepLearning.AI', 'link': 'https://www.deeplearning.ai/courses/deep-learning-specialization/', 'snippet': 'The Deep Learning Specialization is a foundational program that will help you understand the capabilities, challenges, and consequences of deep learning and ...', 'position': 1}, {'title': 'Resources - DeepLearning.AI', 'link': 'https://www.deeplearning.ai/resources/', 'snippet': 'Our resource center to help you get started and level up your skills as an AI practitioner | eBooks, Guides, Course Slides, AI Notes, and more.', 'position': 2}, {'title': 'Roadmap to get started as a beginner - DeepLearning.AI', 'link': 'https://community.deeplearning.ai/t/roadmap-to-get-started-as-a-beginner/689522', 'snippet': 'Basic experience with programming will be sufficient for the Machine Learning Specialization; it is in Python but the requirements for the ...', 'position': 3}, {'title': 'Courses - DeepLearning.AI', 'link': 'https://www.deeplearning.ai/courses/', 'snippet': 'All Courses. Grow your AI career with foundational specializations and skill-specific short courses taught by leaders in the field.', 'position': 4, 'sitelinks': [{'title': 'Deep Learning Specialization', 'link': 'https://www.deeplearning.ai/courses/deep-learning-specialization/'}, {'title': 'AI for Everyone', 'link': 'https://www.deeplearning.ai/courses/ai-for-everyone/'}, {'title': 'AI Python for Beginners', 'link': 'https://www.deeplearning.ai/short-courses/ai-python-for-beginners/'}, {'title': 'The Batch', 'link': 'https://www.deeplearning.ai/the-batch/'}]}, {'title': 'I have just completed the Deep Learning Specialization, what Next?', 'link': 'https://community.deeplearning.ai/t/i-have-just-completed-the-deep-learning-specialization-what-next/578963', 'snippet': 'The next best thing would be to do Machine learning AI, which brush up some of the concepts you learned in DLS as this also covers statistical approach.', 'position': 5}, {'title': \"How time-intensive is Coursera's Machine Learning by Andrew Ng ...\", 'link': 'https://www.reddit.com/r/learnmachinelearning/comments/18wp0kq/how_timeintensive_is_courseras_machine_learning/', 'snippet': \"It was almost a unanimous opinion that Coursera's Machine Learning by Andrew Ng / Deeplearning.ai, was the best intro course to get started in the space.\", 'position': 6}, {'title': 'Generative AI for Everyone - DeepLearning.AI', 'link': 'https://www.deeplearning.ai/courses/generative-ai-for-everyone/', 'snippet': 'Instructed by AI pioneer Andrew Ng, Generative AI for Everyone offers his unique perspective on empowering you and your work with generative AI.', 'position': 7}, {'title': 'Looking For advice to choose subfield in AI - DeepLearning.AI', 'link': 'https://community.deeplearning.ai/t/looking-for-advice-to-choose-subfield-in-ai/586565', 'snippet': 'Here are a few suggestions on how to choose a field: A Data Scientist works with people who are tasked with making strategic decisions.', 'position': 8}, {'title': 'How long did you take to complete DeepLearning.ai? - Reddit', 'link': 'https://www.reddit.com/r/learnmachinelearning/comments/8fta6f/how_long_did_you_take_to_complete_deeplearningai/', 'snippet': 'Each course week has only about 2 hours of lecture material, but you need to look up extra material (e.g. relevant papers) on your own to get ...', 'position': 9}, {'title': 'Machine Learning Specialization - DeepLearning.AI', 'link': 'https://www.deeplearning.ai/courses/machine-learning-specialization/', 'snippet': 'Newly rebuilt and expanded into 3 courses, the updated Specialization teaches foundational AI concepts through an intuitive visual approach.', 'position': 10}], 'peopleAlsoAsk': [{'question': 'What is a major problem of developing deep learning AI?', 'snippet': 'The main challenges in deep learning include: Data Quality and Quantity: Ensuring large, diverse, and high-quality datasets. Computational Resources: High demands for powerful hardware like GPUs. Model Interpretability: Difficulty in understanding and explaining model decisions.', 'title': 'Challenges in Deep Learning - GeeksforGeeks', 'link': 'https://www.geeksforgeeks.org/challenges-in-deep-learning/'}, {'question': 'Is DeepLearning AI course worth it?', 'snippet': 'The deeplearning.ai course Pair Programming with a Large Language Model is a good introduction to using LLM APIs to help you generate and work with code. I definitely recommend this course for individuals who write code and are exploring how to use APIs as part of their workflows.', 'title': 'My Experience Completing the deeplearning.ai Short Course “Pair ...', 'link': 'https://medium.com/@bukowski.daniel/my-experience-completing-the-deeplearning-ai-860c5e2462d5'}, {'question': 'What does DeepLearning AI do?', 'snippet': 'DeepLearning.AI is an education technology company that is empowering the global workforce to build an AI-powered future through world-class education, hands-on training, and a collaborative community.', 'title': 'About - DeepLearning.AI', 'link': 'https://www.deeplearning.ai/about/'}, {'question': 'What do you need to learn deep learning?', 'snippet': 'A beginner with a basic understanding of maths and programming language can start in the field of deep learning. However, intermediate and advanced level requires a deep understanding of ML literature, algorithms, and different frameworks like TensorFlow and PyTorch.', 'title': 'The Ultimate Deep Learning Tutorial - Simplilearn.com', 'link': 'https://www.simplilearn.com/tutorials/deep-learning-tutorial'}], 'relatedSearches': [{'query': 'Neural network'}, {'query': 'Deeplearning ai identified needs reddit'}, {'query': 'Deeplearning ai identified needs pdf'}, {'query': 'deeplearning.ai prompt engineering'}, {'query': 'Deeplearning ai identified needs free'}, {'query': 'deeplearning.ai courses'}, {'query': 'deeplearning.ai coursera'}, {'query': 'deeplearning.ai courses free'}, {'query': 'deeplearning.ai login'}], 'credits': 1}\u001b[00m\n",
      "\n",
      "\n",
      "\u001b[1m\u001b[95m# Agent:\u001b[00m \u001b[1m\u001b[92mSales Representative\u001b[00m\n",
      "\u001b[95m## Final Answer:\u001b[00m \u001b[92m\n",
      "DeepLearningAI Background:\n",
      "DeepLearningAI is an education technology company founded by Andrew Ng in 2017. The company focuses on making AI education accessible to a global audience through online courses and specializations.\n",
      "\n",
      "Key Personnel:\n",
      "Some key personnel at DeepLearningAI include Andrew Ng, the founder, and Shubh Bariya, among others. Andrew Ng serves as the driving force behind the company's mission and vision.\n",
      "\n",
      "Recent Milestones:\n",
      "Recent milestones at DeepLearningAI include the introduction of new courses such as \"ChatGPT Prompt Engineering for Developers\" and \"Building AI Applications with Haystack.\" These courses aim to provide cutting-edge knowledge and skills in the AI field.\n",
      "\n",
      "Identified Needs:\n",
      "DeepLearningAI aims to address the need for world-class AI education and hands-on training for individuals looking to advance their skills in artificial intelligence and machine learning. The company focuses on empowering the global workforce to build an AI-powered future through education and community collaboration.\n",
      "\n",
      "Our Offerings:\n",
      "Our solutions align well with DeepLearningAI's mission and goals, offering advanced tools and expertise that can complement their educational platform. By providing additional resources, support, and personalized training, we can enhance the value proposition for DeepLearningAI's audience and further accelerate their learning journey.\n",
      "\n",
      "Engagement Strategy:\n",
      "To engage effectively with DeepLearningAI, we should highlight the synergies between our solutions and their educational objectives. By demonstrating how our offerings can enhance their platform and provide added value to their users, we can establish a mutually beneficial partnership that drives growth and innovation in the AI education sector.\u001b[00m\n",
      "\n",
      "\n"
     ]
    },
    {
     "name": "stderr",
     "output_type": "stream",
     "text": [
      "/Users/jokersmith/anaconda3/lib/python3.10/site-packages/fireworks/client/image_api.py:131: PydanticDeprecatedSince20: Pydantic V1 style `@validator` validators are deprecated. You should migrate to Pydantic V2 style `@field_validator` validators, see the migration guide for more details. Deprecated in Pydantic V2.0 to be removed in V3.0. See Pydantic V2 Migration Guide at https://errors.pydantic.dev/2.10/migration/\n",
      "  @validator(\"image_strength\", pre=True, always=True)\n",
      "/Users/jokersmith/anaconda3/lib/python3.10/site-packages/fireworks/client/image_api.py:139: PydanticDeprecatedSince20: Pydantic V1 style `@validator` validators are deprecated. You should migrate to Pydantic V2 style `@field_validator` validators, see the migration guide for more details. Deprecated in Pydantic V2.0 to be removed in V3.0. See Pydantic V2 Migration Guide at https://errors.pydantic.dev/2.10/migration/\n",
      "  @validator(\"step_schedule_start\", \"step_schedule_end\", pre=True, always=True)\n",
      "2025-01-17 22:49:20,924 - 13138599936 - _common.py-_common:105 - INFO: Backing off send_request(...) for 0.7s (posthog.request.APIError: [PostHog] upstream connect error or disconnect/reset before headers. reset reason: overflow (503))\n"
     ]
    },
    {
     "name": "stdout",
     "output_type": "stream",
     "text": [
      "\u001b[1m\u001b[95m# Agent:\u001b[00m \u001b[1m\u001b[92mLead Sales Representative\u001b[00m\n",
      "\u001b[95m## Task:\u001b[00m \u001b[92mUsing the insights gathered from the lead profiling report on DeepLearningAI, craft a personalized outreach campaign aimed at Andrew Ng, the CEO of DeepLearningAI. The campaign should address their recent product launch and how our solutions can support their goals Your communication must resonate with DeepLearningAI's company culture and values, demonstrating a deep understading of their business and needs. Don't make assumptions and only use information you absolutely sure about.\u001b[00m\n",
      "\n",
      "\n",
      "\u001b[1m\u001b[95m# Agent:\u001b[00m \u001b[1m\u001b[92mLead Sales Representative\u001b[00m\n",
      "\u001b[95m## Thought:\u001b[00m \u001b[92mI need to craft a series of personalized email drafts tailored to DeepLearningAI, specifically targeting Andrew Ng. The emails should connect our solutions with their recent achievements and future goals in a compelling narrative that resonates with DeepLearningAI's company culture and values. I must ensure the tone is engaging, professional, and aligned with DeepLearningAI's corporate identity. I should use the information provided and avoid making assumptions. To create the most impactful and personalized outreach campaign, I may need to analyze the sentiment of the content to ensure it's positive and engaging.\u001b[00m\n",
      "\u001b[95m## Using tool:\u001b[00m \u001b[92mSentiment Analysis Tool\u001b[00m\n",
      "\u001b[95m## Tool Input:\u001b[00m \u001b[92m\n",
      "\"{\\\"text\\\": \\\"I am thrilled to reach out to you, Andrew Ng, to discuss how our solutions can support DeepLearningAI's recent achievements and future goals. Here at CrewAI, we admire the innovative courses like 'ChatGPT Prompt Engineering for Developers' and 'Building AI Applications with Haystack' recently introduced by DeepLearningAI. It's inspiring to see your dedication to providing cutting-edge AI education to a global audience. We believe that our advanced tools and expertise can complement your educational platform, enhancing the value you offer to your audience. Looking forward to the potential partnership and mutual growth ahead.\\\"}\"\u001b[00m\n",
      "\u001b[95m## Tool Output:\u001b[00m \u001b[92m\n",
      "positive\u001b[00m\n",
      "\n",
      "\n",
      "\u001b[1m\u001b[95m# Agent:\u001b[00m \u001b[1m\u001b[92mLead Sales Representative\u001b[00m\n",
      "\u001b[95m## Final Answer:\u001b[00m \u001b[92m\n",
      "Subject: Enhancing DeepLearningAI's Impact with Innovative Solutions\n",
      "\n",
      "Dear Andrew Ng,\n",
      "\n",
      "I hope this email finds you well. I am reaching out to you from CrewAI with great admiration for the groundbreaking work that DeepLearningAI is doing in the field of AI education. Your recent milestones, particularly the introduction of courses like \"ChatGPT Prompt Engineering for Developers\" and \"Building AI Applications with Haystack,\" are truly inspiring.\n",
      "\n",
      "At CrewAI, we share your passion for making AI education accessible to a global audience. Our advanced tools and expertise are designed to complement educational platforms like DeepLearningAI by providing additional resources, support, and personalized training. We believe that our synergies can enhance the learning journey for your audience, empowering them to build a brighter AI-powered future.\n",
      "\n",
      "I am excited about the possibility of collaborating with DeepLearningAI to further accelerate innovation in the AI education sector. By combining our strengths, we can create a more impactful and enriching experience for learners worldwide.\n",
      "\n",
      "I would love to discuss how our solutions can support DeepLearningAI's mission and goals in more detail. Please let me know a convenient time for a meeting or call.\n",
      "\n",
      "Thank you for your time and consideration. I look forward to the potential opportunity to work together.\n",
      "\n",
      "Warm regards,\n",
      "\n",
      "[Your Name]\n",
      "Lead Sales Representative\n",
      "CrewAI\n",
      "\n",
      "This email draft is crafted to engage Andrew Ng in a personalized and professional manner, highlighting the alignment between our solutions and DeepLearningAI's objectives while respecting their company culture and values.\u001b[00m\n",
      "\n",
      "\n"
     ]
    }
   ],
   "source": [
    "result = crew.kickoff(inputs=inputs)"
   ]
  },
  {
   "cell_type": "code",
   "execution_count": 21,
   "id": "acd22d23-0ad7-42fc-bbfe-9a92667d9730",
   "metadata": {},
   "outputs": [
    {
     "data": {
      "text/markdown": [
       "Subject: Enhancing DeepLearningAI's Impact with Innovative Solutions\n",
       "\n",
       "Dear Andrew Ng,\n",
       "\n",
       "I hope this email finds you well. I am reaching out to you from CrewAI with great admiration for the groundbreaking work that DeepLearningAI is doing in the field of AI education. Your recent milestones, particularly the introduction of courses like \"ChatGPT Prompt Engineering for Developers\" and \"Building AI Applications with Haystack,\" are truly inspiring.\n",
       "\n",
       "At CrewAI, we share your passion for making AI education accessible to a global audience. Our advanced tools and expertise are designed to complement educational platforms like DeepLearningAI by providing additional resources, support, and personalized training. We believe that our synergies can enhance the learning journey for your audience, empowering them to build a brighter AI-powered future.\n",
       "\n",
       "I am excited about the possibility of collaborating with DeepLearningAI to further accelerate innovation in the AI education sector. By combining our strengths, we can create a more impactful and enriching experience for learners worldwide.\n",
       "\n",
       "I would love to discuss how our solutions can support DeepLearningAI's mission and goals in more detail. Please let me know a convenient time for a meeting or call.\n",
       "\n",
       "Thank you for your time and consideration. I look forward to the potential opportunity to work together.\n",
       "\n",
       "Warm regards,\n",
       "\n",
       "[Your Name]\n",
       "Lead Sales Representative\n",
       "CrewAI\n",
       "\n",
       "This email draft is crafted to engage Andrew Ng in a personalized and professional manner, highlighting the alignment between our solutions and DeepLearningAI's objectives while respecting their company culture and values."
      ],
      "text/plain": [
       "<IPython.core.display.Markdown object>"
      ]
     },
     "execution_count": 21,
     "metadata": {},
     "output_type": "execute_result"
    }
   ],
   "source": [
    "from IPython.display import Markdown\n",
    "Markdown(result.raw)"
   ]
  },
  {
   "cell_type": "code",
   "execution_count": null,
   "id": "a22def0d-b3e0-464e-82a3-d38b33735088",
   "metadata": {},
   "outputs": [],
   "source": []
  }
 ],
 "metadata": {
  "kernelspec": {
   "display_name": "Python 3 (ipykernel)",
   "language": "python",
   "name": "python3"
  },
  "language_info": {
   "codemirror_mode": {
    "name": "ipython",
    "version": 3
   },
   "file_extension": ".py",
   "mimetype": "text/x-python",
   "name": "python",
   "nbconvert_exporter": "python",
   "pygments_lexer": "ipython3",
   "version": "3.10.14"
  }
 },
 "nbformat": 4,
 "nbformat_minor": 5
}
