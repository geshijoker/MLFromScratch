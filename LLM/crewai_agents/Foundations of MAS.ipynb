{
 "cells": [
  {
   "cell_type": "code",
   "execution_count": 1,
   "id": "a1502376-046d-4969-903f-c71d955fd8e5",
   "metadata": {},
   "outputs": [],
   "source": [
    "import warnings\n",
    "warnings.filterwarnings('ignore')"
   ]
  },
  {
   "cell_type": "code",
   "execution_count": 2,
   "id": "cc438ea6-c1f0-4b46-b2b2-b8144bf0e3c0",
   "metadata": {},
   "outputs": [],
   "source": [
    "from crewai import Agent, Task, Crew"
   ]
  },
  {
   "cell_type": "code",
   "execution_count": 3,
   "id": "aac1bfa4-af08-47df-a781-0aad4e887fe1",
   "metadata": {},
   "outputs": [],
   "source": [
    "import os\n",
    "os.environ[\"OPENAI_MODEL_NAME\"] = 'gpt-3.5-turbo'"
   ]
  },
  {
   "cell_type": "code",
   "execution_count": 4,
   "id": "0ba53a92-4127-4ff1-a42f-71a10d13ea6b",
   "metadata": {},
   "outputs": [
    {
     "data": {
      "text/plain": [
       "True"
      ]
     },
     "execution_count": 4,
     "metadata": {},
     "output_type": "execute_result"
    }
   ],
   "source": [
    "from dotenv import load_dotenv\n",
    "load_dotenv(\"../.env\", override=True)"
   ]
  },
  {
   "cell_type": "code",
   "execution_count": 5,
   "id": "767b9f42-2079-42a3-897f-438333a90a8d",
   "metadata": {},
   "outputs": [],
   "source": [
    "planner = Agent(role=\"Content Planner\", \n",
    "                goal=\"Plan engaging and factually accurate content on {topic}\",\n",
    "                backstory=\"You are working on planning a blog article \"\n",
    "                    \"about the topic: {topic}\"\n",
    "                    \"You collect the information that \"\n",
    "                    \"helps the audience learn something \"\n",
    "                    \"and make informed decisions.\"\n",
    "                    \"Your work is the basis for \"\n",
    "                    \"the Content Writer to write an article on this topic.\",\n",
    "                allow_delegation=False,\n",
    "                verbose=True\n",
    "               )"
   ]
  },
  {
   "cell_type": "code",
   "execution_count": 6,
   "id": "f11744b0-21f4-408a-a237-9a8a9521f4c2",
   "metadata": {},
   "outputs": [],
   "source": [
    "writer = Agent(role=\"Content Writer\", \n",
    "               goal=\"Write insightful and factually accurate \"\n",
    "                    \"opinion piece about the topic: {topic}\",\n",
    "               backstory=\"You are working on a writing \"\n",
    "                    \"a new opinion piece about the topic: {topic}.\"\n",
    "                    \"the Content Planner, who provides an outline \"\n",
    "                    \"and relevant context about the topic. \"\n",
    "                    \"You follow the main objectives and \"\n",
    "                    \"direction of the outline, \"\n",
    "                    \"as provide by the Content Planner. \"\n",
    "                    \"You also provide objective and impartial insights \"\n",
    "                    \"and back them up with information \"\n",
    "                    \"provide by the Content Planner. \"\n",
    "                    \"You acknowledge in your opinion piece \"\n",
    "                    \"when your statements are opinions \"\n",
    "                    \"as opposed to objective statements.\",\n",
    "               allow_delegation=False,\n",
    "               verbose=True\n",
    "               )"
   ]
  },
  {
   "cell_type": "code",
   "execution_count": 7,
   "id": "c7d27bde-c10a-4822-837d-012551262d27",
   "metadata": {},
   "outputs": [],
   "source": [
    "editor = Agent(role=\"Editor\", \n",
    "               goal=\"Edit a given blog post to align with \"\n",
    "                    \"the writing style of the organization. \",\n",
    "               backstory=\"You are an editor who receives a blog post \"\n",
    "                    \"from the Content Writer. \"\n",
    "                    \"Yout goal is to review the blog post \"\n",
    "                    \"to ensure that it follows journalistic best practices, \"\n",
    "                    \"provides balanced viewpoints \"\n",
    "                    \"when providing opinions or assertions, \"\n",
    "                    \"and also avoids major controversial topics \"\n",
    "                    \"or opinions when possible.\",\n",
    "                allow_delegation=False,\n",
    "                verbose=True\n",
    "               )"
   ]
  },
  {
   "cell_type": "code",
   "execution_count": 8,
   "id": "25e503fc-ec5e-4a3a-a753-a9e403367606",
   "metadata": {},
   "outputs": [],
   "source": [
    "plan = Task(\n",
    "    description=(\n",
    "        \"1. Prioritize the latest trends, key players, \"\n",
    "            \"and noteworthy news on {topic}. \\n\"\n",
    "        \"2. Identify the target audience, considering \"\n",
    "            \"their interests and pain points. \\n\"\n",
    "        \"3. Develop a detailed content outline including \"\n",
    "            \"an introduction, key points, and a call to action.\\n\"\n",
    "        \"4. Include SEO keywords and relevant data or sources.\"\n",
    "    ),\n",
    "    expected_output=\"A comprehensive content plan document \"\n",
    "                   \"with an outline, audience analysis, \"\n",
    "                   \"SEO keywordsm and resources.\",\n",
    "    agent=planner,\n",
    ")"
   ]
  },
  {
   "cell_type": "code",
   "execution_count": 9,
   "id": "9208da15-361e-4ad0-b7b4-fe1c5da93310",
   "metadata": {},
   "outputs": [],
   "source": [
    "write = Task(\n",
    "    description=(\n",
    "        \"1. Use the content plan to craft a compelling \"\n",
    "            \"blog post on {topic}. \\n\"\n",
    "        \"2. Incorporate SEO keywords naturally.\\n\"\n",
    "        \"3. Sections/Subtitles are properly named \"\n",
    "            \"in an engaging manner.\\n\"\n",
    "        \"4. Ensure the post is structured with an \"\n",
    "            \"engaging introduction, insightful body, \"\n",
    "            \"and a summarizing conclusion.\\n\"\n",
    "        \"5. Proofread for grammatical errors and \"\n",
    "            \"alignment with the brand's voice.\\n\"\n",
    "    ),\n",
    "    expected_output=\"A well-written blog post \"\n",
    "                   \"in markdown format, ready for publication, \"\n",
    "                   \"each section should have 2 or 3 paragraphs.\",\n",
    "    agent=writer,\n",
    ")"
   ]
  },
  {
   "cell_type": "code",
   "execution_count": 10,
   "id": "29276726-c20e-4d69-b89c-761424aa9508",
   "metadata": {},
   "outputs": [],
   "source": [
    "edit = Task(\n",
    "    description=(\n",
    "        \"Proofread the given blog post for \"\n",
    "        \"grammatical errors and \"\n",
    "        \"alighment with the brand's voice.\"\n",
    "    ),\n",
    "    expected_output=\"A well-writen blog post in markdown format, \"\n",
    "        \"ready for publications, \"\n",
    "        \"each section should have 2 or 3 paragraphs.\",\n",
    "    agent=editor\n",
    ")"
   ]
  },
  {
   "cell_type": "code",
   "execution_count": 11,
   "id": "0280ec5c-7d25-48eb-b03b-b38de243bc78",
   "metadata": {},
   "outputs": [],
   "source": [
    "crew = Crew(\n",
    "    agents=[planner, writer, editor],\n",
    "    tasks=[plan, write, edit],\n",
    "    verbose=1\n",
    ")"
   ]
  },
  {
   "cell_type": "code",
   "execution_count": 12,
   "id": "96e5c38c-a52b-4d62-ac79-454f24802ecf",
   "metadata": {},
   "outputs": [
    {
     "name": "stdout",
     "output_type": "stream",
     "text": [
      "\u001b[1m\u001b[95m# Agent:\u001b[00m \u001b[1m\u001b[92mContent Planner\u001b[00m\n",
      "\u001b[95m## Task:\u001b[00m \u001b[92m1. Prioritize the latest trends, key players, and noteworthy news on Artificial Intelligence. \n",
      "2. Identify the target audience, considering their interests and pain points. \n",
      "3. Develop a detailed content outline including an introduction, key points, and a call to action.\n",
      "4. Include SEO keywords and relevant data or sources.\u001b[00m\n",
      "\n",
      "\n",
      "\u001b[1m\u001b[95m# Agent:\u001b[00m \u001b[1m\u001b[92mContent Planner\u001b[00m\n",
      "\u001b[95m## Final Answer:\u001b[00m \u001b[92m\n",
      "Title: Unveiling the Power of Artificial Intelligence: Latest Trends, Key Players, and Insights\n",
      "\n",
      "Introduction:\n",
      "In recent years, Artificial Intelligence (AI) has revolutionized various industries, offering unparalleled opportunities and challenges. This blog article delves into the cutting-edge trends, prominent players, and latest news in the realm of AI, equipping readers with the knowledge to navigate the AI landscape effectively.\n",
      "\n",
      "I. Latest Trends in Artificial Intelligence\n",
      "1. Natural Language Processing (NLP) advancements transforming communication.\n",
      "2. AI in healthcare enhancing diagnostics and personalized treatments.\n",
      "3. Increased adoption of AI-powered automation and robotics in industries.\n",
      "4. AI ethics and governance gaining significance in the digital era.\n",
      "\n",
      "II. Key Players Shaping the AI Landscape\n",
      "1. Google AI: Pioneering research and applications across various AI domains.\n",
      "2. IBM Watson: Driving innovation in enterprise AI solutions and cognitive computing.\n",
      "3. Tesla AI: Integrating AI into autonomous vehicles and sustainable energy solutions.\n",
      "4. OpenAI: Fostering AI research and development for the betterment of society.\n",
      "\n",
      "III. Noteworthy News and Developments in AI\n",
      "1. GPT-3: Unleashing the power of language models for diverse applications.\n",
      "2. AI in combating climate change: Innovations in environmental sustainability.\n",
      "3. AI bias mitigation strategies to enhance fairness and inclusivity.\n",
      "4. Collaborations between tech giants and startups for AI innovation.\n",
      "\n",
      "Audience Analysis:\n",
      "Target Audience: \n",
      "- Business professionals seeking insights on AI applications for strategic decision-making.\n",
      "- Tech enthusiasts interested in AI trends and breakthroughs.\n",
      "- Students and researchers exploring AI for academic or career pursuits.\n",
      "\n",
      "Interests & Pain Points:\n",
      "- Interest in staying updated on the latest AI advancements and applications.\n",
      "- Pain points related to understanding complex AI concepts and navigating the evolving AI landscape.\n",
      "- Desire for actionable insights on leveraging AI for personal or professional growth.\n",
      "\n",
      "SEO Keywords:\n",
      "1. Artificial Intelligence trends 2022\n",
      "2. Key players in AI industry\n",
      "3. Latest news in AI technology\n",
      "4. AI innovations and applications\n",
      "\n",
      "Call to Action:\n",
      "Explore our upcoming series of articles on AI applications in different industries for in-depth insights and expert recommendations. Stay tuned for exclusive interviews with AI thought leaders and practical AI implementation guides for businesses.\n",
      "\n",
      "Resources:\n",
      "1. \"State of AI Report 2022\" by AI Index.\n",
      "2. \"AI Superpowers: China, Silicon Valley, and the New World Order\" by Kai-Fu Lee.\n",
      "3. Forbes: Artificial Intelligence section for the latest AI news and analyses.\n",
      "4. McKinsey & Company's publications on AI adoption trends and best practices.\n",
      "\n",
      "By aligning with the latest AI trends, understanding key industry players, and staying informed about noteworthy developments, readers can unlock the potential of AI for innovation and growth.\u001b[00m\n",
      "\n",
      "\n",
      "\u001b[1m\u001b[95m# Agent:\u001b[00m \u001b[1m\u001b[92mContent Writer\u001b[00m\n",
      "\u001b[95m## Task:\u001b[00m \u001b[92m1. Use the content plan to craft a compelling blog post on Artificial Intelligence. \n",
      "2. Incorporate SEO keywords naturally.\n",
      "3. Sections/Subtitles are properly named in an engaging manner.\n",
      "4. Ensure the post is structured with an engaging introduction, insightful body, and a summarizing conclusion.\n",
      "5. Proofread for grammatical errors and alignment with the brand's voice.\n",
      "\u001b[00m\n",
      "\n",
      "\n",
      "\u001b[1m\u001b[95m# Agent:\u001b[00m \u001b[1m\u001b[92mContent Writer\u001b[00m\n",
      "\u001b[95m## Final Answer:\u001b[00m \u001b[92m\n",
      "# Unveiling the Power of Artificial Intelligence: Latest Trends, Key Players, and Insights\n",
      "\n",
      "Artificial Intelligence (AI) has become a transformative force across industries, presenting a mix of opportunities and challenges. **The Latest Trends in Artificial Intelligence** showcase the dynamic evolution of this field. Natural Language Processing (NLP) has notably revolutionized how humans interact with machines, enabling seamless communication and comprehension. In healthcare, AI is reshaping diagnostics and treatment strategies, offering personalized and more efficient healthcare solutions. Industries are increasingly embracing AI-driven automation and robotics to enhance productivity and streamline operations. The discussion on AI ethics and governance is gaining momentum, emphasizing the importance of responsible AI development and deployment to address societal concerns.\n",
      "\n",
      "When it comes to **Key Players Shaping the AI Landscape**, several tech giants are at the forefront of innovation. Google AI stands out for its pioneering research and diverse applications that span across various AI domains. IBM Watson is driving progress in enterprise AI solutions and cognitive computing, empowering businesses with cutting-edge AI capabilities. Tesla AI has been instrumental in integrating AI into autonomous vehicles and sustainable energy initiatives, underscoring AI's role in shaping the future of transportation and environmental sustainability. OpenAI is dedicated to advancing AI research and development for the betterment of society, advocating for ethical AI practices and accessibility.\n",
      "\n",
      "**Noteworthy News and Developments in AI** shed light on recent breakthroughs and initiatives that are shaping the AI landscape. The emergence of GPT-3 has showcased the potential of language models for a wide range of applications, driving innovation in AI-powered tools and services. AI is increasingly being harnessed to combat climate change, with novel solutions being developed to address environmental challenges through AI technologies. Strategies for mitigating AI bias are being refined to ensure fairness and inclusivity in AI systems, emphasizing the importance of ethical AI design. Collaborations between tech giants and startups are fostering a culture of innovation and knowledge-sharing to drive AI advancements for societal benefit.\n",
      "\n",
      "For **Business Professionals**, **Tech Enthusiasts**, **Students**, and **Researchers** seeking insights and updates on AI trends and breakthroughs, this blog post aims to provide valuable information and actionable insights to navigate the AI landscape effectively. By staying informed about the latest AI trends, understanding the key players in the industry, and exploring noteworthy developments, readers can harness the full potential of AI for personal and professional growth.\n",
      "\n",
      "With our upcoming series of articles on AI applications in various industries, exclusive interviews with AI thought leaders, and practical implementation guides, readers can delve deeper into the realm of Artificial Intelligence and leverage its capabilities for innovation and progress.\n",
      "\n",
      "Remember, the power of AI lies not just in its technological advancements but in how we harness it responsibly for the benefit of all. Stay informed, stay innovative, and unleash the potential of Artificial Intelligence for a brighter tomorrow.\u001b[00m\n",
      "\n",
      "\n",
      "\u001b[1m\u001b[95m# Agent:\u001b[00m \u001b[1m\u001b[92mEditor\u001b[00m\n",
      "\u001b[95m## Task:\u001b[00m \u001b[92mProofread the given blog post for grammatical errors and alighment with the brand's voice.\u001b[00m\n",
      "\n",
      "\n",
      "\u001b[1m\u001b[95m# Agent:\u001b[00m \u001b[1m\u001b[92mEditor\u001b[00m\n",
      "\u001b[95m## Final Answer:\u001b[00m \u001b[92m\n",
      "# Unveiling the Power of Artificial Intelligence: Latest Trends, Key Players, and Insights\n",
      "\n",
      "Artificial Intelligence (AI) has emerged as a groundbreaking force impacting various industries, presenting a blend of opportunities and challenges. The evolving landscape of AI is depicted through **The Latest Trends in Artificial Intelligence**, highlighting significant advancements. Natural Language Processing (NLP) has revolutionized human-machine interactions, facilitating seamless communication and understanding. In the healthcare sector, AI is transforming diagnostics and treatment methodologies, providing tailored and efficient healthcare solutions. Industries are increasingly adopting AI-driven automation and robotics to boost productivity and streamline processes. The discourse surrounding AI ethics and governance is gaining traction, underscoring the necessity of responsible AI development and deployment to address societal implications effectively.\n",
      "\n",
      "**Key Players Shaping the AI Landscape** encompass several tech giants spearheading innovation. Google AI is renowned for its groundbreaking research and diverse applications spanning various AI realms. IBM Watson is propelling advancements in enterprise AI solutions and cognitive computing, equipping businesses with cutting-edge AI capabilities. Tesla AI has played a pivotal role in embedding AI into autonomous vehicles and sustainable energy initiatives, highlighting AI's contributions to the future of transportation and environmental sustainability. OpenAI is committed to propelling AI research and development for societal progress, advocating for ethical AI standards and accessibility.\n",
      "\n",
      "**Noteworthy News and Developments in AI** illuminate recent breakthroughs and endeavors molding the AI sphere. The emergence of GPT-3 has underscored the potential of language models for diverse applications, stimulating innovation in AI-driven tools and services. AI is increasingly leveraged to combat climate change, with innovative solutions being devised using AI technologies to combat environmental challenges. Refinements in strategies to mitigate AI bias are underway to ensure fairness and inclusivity in AI systems, emphasizing the significance of ethical AI implementation. Collaborations between tech giants and startups are cultivating an ethos of innovation and knowledge exchange to propel AI advancements for societal welfare.\n",
      "\n",
      "For **Business Professionals**, **Tech Enthusiasts**, **Students**, and **Researchers** seeking insights into AI trends and breakthroughs, this blog post aims to offer valuable information and practical insights to navigate the AI domain proficiently. By keeping abreast of the latest AI trends, understanding key industry players, and exploring notable developments, readers can harness the complete potential of AI for personal and professional advancement.\n",
      "\n",
      "Await our forthcoming series outlining AI applications across diverse sectors, exclusive interviews with AI visionaries, and implementation guides. Engage deeply in the realm of Artificial Intelligence to leverage its capabilities for innovation and advancement.\n",
      "\n",
      "Remember, the impact of AI transcends technology advancements; its responsible utilization is pivotal for the collective benefit. Stay well-informed, innovative, and unlock the potential of Artificial Intelligence for a brighter future.\u001b[00m\n",
      "\n",
      "\n"
     ]
    }
   ],
   "source": [
    "result = crew.kickoff(inputs={\"topic\": \"Artificial Intelligence\"})"
   ]
  },
  {
   "cell_type": "code",
   "execution_count": 13,
   "id": "c7437da2-1a99-42c0-afb1-adb5850c34bb",
   "metadata": {},
   "outputs": [
    {
     "data": {
      "text/markdown": [
       "# Unveiling the Power of Artificial Intelligence: Latest Trends, Key Players, and Insights\n",
       "\n",
       "Artificial Intelligence (AI) has emerged as a groundbreaking force impacting various industries, presenting a blend of opportunities and challenges. The evolving landscape of AI is depicted through **The Latest Trends in Artificial Intelligence**, highlighting significant advancements. Natural Language Processing (NLP) has revolutionized human-machine interactions, facilitating seamless communication and understanding. In the healthcare sector, AI is transforming diagnostics and treatment methodologies, providing tailored and efficient healthcare solutions. Industries are increasingly adopting AI-driven automation and robotics to boost productivity and streamline processes. The discourse surrounding AI ethics and governance is gaining traction, underscoring the necessity of responsible AI development and deployment to address societal implications effectively.\n",
       "\n",
       "**Key Players Shaping the AI Landscape** encompass several tech giants spearheading innovation. Google AI is renowned for its groundbreaking research and diverse applications spanning various AI realms. IBM Watson is propelling advancements in enterprise AI solutions and cognitive computing, equipping businesses with cutting-edge AI capabilities. Tesla AI has played a pivotal role in embedding AI into autonomous vehicles and sustainable energy initiatives, highlighting AI's contributions to the future of transportation and environmental sustainability. OpenAI is committed to propelling AI research and development for societal progress, advocating for ethical AI standards and accessibility.\n",
       "\n",
       "**Noteworthy News and Developments in AI** illuminate recent breakthroughs and endeavors molding the AI sphere. The emergence of GPT-3 has underscored the potential of language models for diverse applications, stimulating innovation in AI-driven tools and services. AI is increasingly leveraged to combat climate change, with innovative solutions being devised using AI technologies to combat environmental challenges. Refinements in strategies to mitigate AI bias are underway to ensure fairness and inclusivity in AI systems, emphasizing the significance of ethical AI implementation. Collaborations between tech giants and startups are cultivating an ethos of innovation and knowledge exchange to propel AI advancements for societal welfare.\n",
       "\n",
       "For **Business Professionals**, **Tech Enthusiasts**, **Students**, and **Researchers** seeking insights into AI trends and breakthroughs, this blog post aims to offer valuable information and practical insights to navigate the AI domain proficiently. By keeping abreast of the latest AI trends, understanding key industry players, and exploring notable developments, readers can harness the complete potential of AI for personal and professional advancement.\n",
       "\n",
       "Await our forthcoming series outlining AI applications across diverse sectors, exclusive interviews with AI visionaries, and implementation guides. Engage deeply in the realm of Artificial Intelligence to leverage its capabilities for innovation and advancement.\n",
       "\n",
       "Remember, the impact of AI transcends technology advancements; its responsible utilization is pivotal for the collective benefit. Stay well-informed, innovative, and unlock the potential of Artificial Intelligence for a brighter future."
      ],
      "text/plain": [
       "<IPython.core.display.Markdown object>"
      ]
     },
     "execution_count": 13,
     "metadata": {},
     "output_type": "execute_result"
    }
   ],
   "source": [
    "from IPython.display import Markdown\n",
    "Markdown(result.raw)"
   ]
  },
  {
   "cell_type": "code",
   "execution_count": null,
   "id": "31cb0e54-53b7-43e7-9df8-3a781f55022f",
   "metadata": {},
   "outputs": [],
   "source": []
  }
 ],
 "metadata": {
  "kernelspec": {
   "display_name": "Python 3 (ipykernel)",
   "language": "python",
   "name": "python3"
  },
  "language_info": {
   "codemirror_mode": {
    "name": "ipython",
    "version": 3
   },
   "file_extension": ".py",
   "mimetype": "text/x-python",
   "name": "python",
   "nbconvert_exporter": "python",
   "pygments_lexer": "ipython3",
   "version": "3.10.14"
  }
 },
 "nbformat": 4,
 "nbformat_minor": 5
}
