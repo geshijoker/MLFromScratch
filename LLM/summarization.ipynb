{
 "cells": [
  {
   "cell_type": "code",
   "execution_count": 1,
   "id": "6bb4be6a-5631-4951-a949-b509e1d3f5a3",
   "metadata": {},
   "outputs": [],
   "source": [
    "from huggingface_hub import notebook_login, login"
   ]
  },
  {
   "cell_type": "code",
   "execution_count": 2,
   "id": "3c7f46cf-670c-4a00-af5c-79a7d91f2187",
   "metadata": {},
   "outputs": [
    {
     "name": "stdout",
     "output_type": "stream",
     "text": [
      "The token has not been saved to the git credentials helper. Pass `add_to_git_credential=True` in this function directly or `--add-to-git-credential` if using via `huggingface-cli` if you want to set the git credential as well.\n",
      "Token is valid (permission: fineGrained).\n",
      "Your token has been saved to /home/geshi/.cache/huggingface/token\n",
      "Login successful\n"
     ]
    }
   ],
   "source": [
    "notebook_login()"
   ]
  },
  {
   "cell_type": "code",
   "execution_count": 3,
   "id": "f33709a0-2433-4592-803d-30cea1dbb764",
   "metadata": {},
   "outputs": [],
   "source": [
    "from datasets import load_dataset\n",
    "\n",
    "billsum = load_dataset(\"billsum\", split=\"ca_test\")"
   ]
  },
  {
   "cell_type": "code",
   "execution_count": 4,
   "id": "3c9d1fb8-0dee-4d1a-bf67-c73453df1107",
   "metadata": {},
   "outputs": [],
   "source": [
    "billsum = billsum.train_test_split(test_size=0.2)"
   ]
  },
  {
   "cell_type": "code",
   "execution_count": 5,
   "id": "2569131c-25d2-4ba7-8841-99f3c12875a5",
   "metadata": {},
   "outputs": [
    {
     "data": {
      "text/plain": [
       "{'text': 'The people of the State of California do enact as follows:\\n\\n\\nSECTION 1.\\nSection 7522.02 of the Government Code is amended to read:\\n7522.02.\\n(a) (1) Notwithstanding any other law, except as provided in this article, on and after January 1, 2013, this article shall apply to all state and local public retirement systems and to their participating employers, including the Public Employees’ Retirement System, the State Teachers’ Retirement System, the Legislators’ Retirement System, the Judges’ Retirement System, the Judges’ Retirement System II, county and district retirement systems created pursuant to the County Employees Retirement Law of 1937 (Chapter 3 (commencing with Section 31450) of Part 3 of Division 4 of Title 3), independent public retirement systems, and to individual retirement plans offered by public employers. However, this article shall be subject to the Internal Revenue Code and Section 17 of Article XVI of the California Constitution. The administration of the requirements of this article shall comply with applicable provisions of the Internal Revenue Code and the Revenue and Taxation Code.\\n(2) Notwithstanding paragraph (1), this article shall not apply to the entities described in Section 9 of Article IX of, and Sections 4 and 5 of Article XI of, the California Constitution, except to the extent that these entities continue to be participating employers in any retirement system governed by state statute. Accordingly, any retirement plan approved before January 1, 2013, by the voters of any entity excluded from coverage by this section shall not be affected by this article.\\n(3)\\n(A)\\nNotwithstanding paragraph (1), this article shall not apply to a public employee whose interests are protected under Section 5333(b) of Title 49 of the United States Code and who became a member of a state or local public retirement system prior to December 30, 2014.\\n(B) If a federal district court upholds the determination of the United States Secretary of Labor, or his or her designee, that application of this article precludes him or her from providing a certification under Section 5333(b) of Title 49 of the United States Code, this article shall not apply to a public employee whose interests are protected under that section.\\n(4) Notwithstanding paragraph (1), this article shall not apply to a multiemployer plan authorized by Section 302(c)(5) of the federal Taft-Hartley Act (29 U.S.C. Sec. 186(c)(5)) if the public employer began participation in that plan prior to January 1, 2013, and the plan is regulated by the federal Employee Retirement Income Security Act of 1974 (29 U.S.C. Sec. 1001 et seq.).\\n(b) The benefit plan required by this article shall apply to public employees who are new members as defined in Section 7522.04.\\n(c) (1) Individuals who were employed by any public employer before January 1, 2013, and who became employed by a subsequent public employer for the first time on or after January 1, 2013, shall be subject to the retirement plan that would have been available to employees of the subsequent employer who were first employed by the subsequent employer on or before December 31, 2012, if the individual was subject to concurrent membership for which creditable service was performed in the previous six months or reciprocity established under any of the following provisions:\\n(A) Article 5 (commencing with Section 20350) of Chapter 3 of Part 3 of Division 5 of Title 2.\\n(B) Chapter 3 (commencing with Section 31450) of Part 3 of Division 4 of Title 3.\\n(C) Any agreement between public retirement systems to provide reciprocity to members of the systems.\\n(D) Section 22115.2 of the Education Code.\\n(2) An individual who was employed before January 1, 2013, and who, without a separation from employment, changed employment positions and became subject to a different defined benefit plan in a different public retirement system offered by his or her employer shall be subject to that defined benefit plan as it would have been available to employees who were first employed on or before December 31, 2012.\\n(d) If a public employer, before January 1, 2013, offers a defined benefit pension plan that provides a defined benefit formula with a lower benefit factor at normal retirement age and results in a lower normal cost than the defined benefit formula required by this article, that employer may continue to offer that defined benefit formula instead of the defined benefit formula required by this article, and shall not be subject to the requirements of Section 7522.10 for pensionable compensation subject to that formula. However, if the employer adopts a new defined benefit formula on or after January 1, 2013, that formula must conform to the requirements of this article or must be determined and certified by the retirement system’s chief actuary and the retirement board to have no greater risk and no greater cost to the employer than the defined benefit formula required by this article and must be approved by the Legislature. New members of the defined benefit plan may only participate in the lower cost defined benefit formula that was in place before January 1, 2013, or a defined benefit formula that conforms to the requirements of this article or is approved by the Legislature as provided in this subdivision.\\n(e) If a public employer, before January 1, 2013, offers a retirement benefit plan that consists solely of a defined contribution plan, that employer may continue to offer that plan instead of the defined benefit pension plan required by this article. However, if the employer adopts a new defined benefit pension plan or defined benefit formula on or after January 1, 2013, that plan or formula must conform to the requirements of this article or must be determined and certified by the retirement system’s chief actuary and the system’s board to have no greater risk and no greater cost to the employer than the defined benefit formula required by this article and must be approved by the Legislature. New members of the employer’s plan may only participate in the defined contribution plan that was in place before January 1, 2013, or a defined contribution plan or defined benefit formula that conforms to the requirements of this article. This subdivision shall not be construed to prohibit an employer from offering a defined contribution plan on or after January 1, 2013, either with or without a defined benefit plan, whether or not the employer offered a defined contribution plan prior to that date.\\n(f) (1) If, on or after January 1, 2013, the Cities of Brea and Fullerton form a joint powers authority pursuant to the provisions of the Joint Exercise of Powers Act (Article 1 (commencing with Section 6500) of Chapter 5), that joint powers authority may provide employees the defined benefit plan or formula that those employees received from their respective employers prior to the exercise of a common power, to which the employee is associated, by the joint powers authority to any employee of the City of Brea, the City of Fullerton, or a city described in paragraph (2) who is not a new member and subsequently is employed by the joint powers authority within 180 days of the city providing for the exercise of a common power, to which the employee was associated, by the joint powers authority.\\n(2) On or before January 1, 2017, a city in Orange County that is contiguous to the City of Brea or the City of Fullerton may join the joint powers authority described in paragraph (1) but not more than three cities shall be permitted to join.\\n(3) The formation of a joint powers authority on or after January 1, 2013, shall not act in a manner as to exempt a new employee or a new member, as defined by Section 7522.04, from the requirements of this article. New members may only participate in a defined benefit plan or formula that conforms to the requirements of this article.\\n(g) The Judges’ Retirement System and the Judges’ Retirement System II shall not be required to adopt the defined benefit formula required by Section 7522.20 or 7522.25 or the compensation limitations defined in Section 7522.10.\\n(h) This article shall not be construed to provide membership in any public retirement system for an individual who would not otherwise be eligible for membership under that system’s applicable rules or laws.\\n(i) On and after January 1, 2013, each public retirement system shall modify its plan or plans to comply with the requirements of this article and may adopt regulations or resolutions for this purpose.',\n",
       " 'summary': 'The California Public Employees’ Pension Reform Act of 2013 (PEPRA) requires a public retirement system, as defined, to modify its plan or plans to comply with the act and, among other provisions, establishes new retirement formulas that may not be exceeded by a public employer offering a defined benefit pension plan for employees first hired on or after January 1, 2013. PEPRA exempts from its provisions certain public employees whose collective bargaining rights are subject to specified provisions of federal law until a specified federal district court decision on a certification by the United States Secretary of Labor, or until January 1, 2016, whichever is sooner.\\nThis bill would extend indefinitely that exemption for those public employees, whose collective bargaining rights are subject to specified provisions of federal law and who became a member of a state or local public retirement system prior to December 30, 2014.\\nThe bill would exempt these employees from PEPRA without regard to date of hire upon issuance of a specified federal district court decision.',\n",
       " 'title': 'An act to amend Section 7522.02 of the Government Code, relating to retirement.'}"
      ]
     },
     "execution_count": 5,
     "metadata": {},
     "output_type": "execute_result"
    }
   ],
   "source": [
    "billsum[\"train\"][0]"
   ]
  },
  {
   "cell_type": "code",
   "execution_count": 6,
   "id": "57897232-d18a-41e0-a952-b75e73dcd5a3",
   "metadata": {},
   "outputs": [],
   "source": [
    "from transformers import AutoTokenizer"
   ]
  },
  {
   "cell_type": "code",
   "execution_count": 7,
   "id": "4f794fdb-946c-4469-a108-a745a9f92c51",
   "metadata": {},
   "outputs": [],
   "source": [
    "checkpoint = \"google-t5/t5-small\""
   ]
  },
  {
   "cell_type": "code",
   "execution_count": 8,
   "id": "5350035f-42d9-4af3-96cc-a186647a1b56",
   "metadata": {},
   "outputs": [],
   "source": [
    "tokenizer = AutoTokenizer.from_pretrained(checkpoint)"
   ]
  },
  {
   "cell_type": "code",
   "execution_count": 9,
   "id": "b06dfc8d-d476-41b5-ac1a-1b38a38ea0c5",
   "metadata": {},
   "outputs": [],
   "source": [
    "prefix = \"summarize: \"\n",
    "\n",
    "def preprocess_function(examples):\n",
    "    inputs = [prefix + doc for doc in examples[\"text\"]]\n",
    "    model_inputs = tokenizer(inputs, max_length=1024, truncation=True)\n",
    "\n",
    "    labels = tokenizer(text_target=examples[\"summary\"], max_length=128, truncation=True)\n",
    "\n",
    "    model_inputs[\"labels\"] = labels[\"input_ids\"]\n",
    "    return model_inputs"
   ]
  },
  {
   "cell_type": "code",
   "execution_count": 10,
   "id": "58e6d428-a461-40a1-a57e-a94a82ec478e",
   "metadata": {},
   "outputs": [
    {
     "data": {
      "application/vnd.jupyter.widget-view+json": {
       "model_id": "45e8bead145b448eaa19578f7c4ca069",
       "version_major": 2,
       "version_minor": 0
      },
      "text/plain": [
       "Map:   0%|          | 0/989 [00:00<?, ? examples/s]"
      ]
     },
     "metadata": {},
     "output_type": "display_data"
    },
    {
     "data": {
      "application/vnd.jupyter.widget-view+json": {
       "model_id": "1f81675bb07849218829948eca39c9a2",
       "version_major": 2,
       "version_minor": 0
      },
      "text/plain": [
       "Map:   0%|          | 0/248 [00:00<?, ? examples/s]"
      ]
     },
     "metadata": {},
     "output_type": "display_data"
    }
   ],
   "source": [
    "tokenized_billsum = billsum.map(preprocess_function, batched=True)"
   ]
  },
  {
   "cell_type": "code",
   "execution_count": 11,
   "id": "e2b27f48-dc8c-42c3-b4d2-388c8ae0e029",
   "metadata": {},
   "outputs": [],
   "source": [
    "from transformers import DataCollatorForSeq2Seq"
   ]
  },
  {
   "cell_type": "code",
   "execution_count": 12,
   "id": "ecf81dd2-c44e-44a9-b177-05b80bed9bb7",
   "metadata": {},
   "outputs": [],
   "source": [
    "data_collator = DataCollatorForSeq2Seq(tokenizer=tokenizer, model=checkpoint)"
   ]
  },
  {
   "cell_type": "code",
   "execution_count": 13,
   "id": "93b0308c-5bd2-4add-90fe-08b4674f6cf7",
   "metadata": {},
   "outputs": [],
   "source": [
    "import evaluate\n",
    "import numpy as np"
   ]
  },
  {
   "cell_type": "code",
   "execution_count": 14,
   "id": "ad4ec5a1-9ebc-410d-849e-eb0978575bb7",
   "metadata": {},
   "outputs": [],
   "source": [
    "rouge = evaluate.load(\"rouge\")"
   ]
  },
  {
   "cell_type": "code",
   "execution_count": 15,
   "id": "aa369865-bdea-4e61-9c76-ae71210a6a32",
   "metadata": {},
   "outputs": [],
   "source": [
    "def compute_metrics(eval_pred):\n",
    "    predictions, labels = eval_pred\n",
    "    decoded_preds = tokenizer.batch_decode(predictions, skip_special_tokens=True)\n",
    "    labels = np.where(labels != -100, labels, tokenizer.pad_token_id)\n",
    "    decoded_labels = tokenizer.batch_decode(labels, skip_special_tokens=True)\n",
    "\n",
    "    result = rouge.compute(predictions=decoded_preds, references=decoded_labels, use_stemmer=True)\n",
    "\n",
    "    prediction_lens = [np.count_nonzero(pred != tokenizer.pad_token_id) for pred in predictions]\n",
    "    result[\"gen_len\"] = np.mean(prediction_lens)\n",
    "\n",
    "    return {k: round(v, 4) for k, v in result.items()}"
   ]
  },
  {
   "cell_type": "markdown",
   "id": "8cc6979f-580c-4ddc-b4ce-14ba6cb47bd6",
   "metadata": {},
   "source": [
    "# Train"
   ]
  },
  {
   "cell_type": "code",
   "execution_count": 16,
   "id": "54bb01fa-1184-465c-8d6f-3afd6be77429",
   "metadata": {},
   "outputs": [],
   "source": [
    "from transformers import AutoModelForSeq2SeqLM, Seq2SeqTrainingArguments, Seq2SeqTrainer"
   ]
  },
  {
   "cell_type": "code",
   "execution_count": 17,
   "id": "0abeb644-fae8-4092-9bf4-34baf1bfb887",
   "metadata": {},
   "outputs": [],
   "source": [
    "model = AutoModelForSeq2SeqLM.from_pretrained(checkpoint)"
   ]
  },
  {
   "cell_type": "code",
   "execution_count": 18,
   "id": "2afed89c-2323-4c24-a528-3cdf2cdc9619",
   "metadata": {},
   "outputs": [],
   "source": [
    "training_args = Seq2SeqTrainingArguments(\n",
    "    output_dir=\"t5_billsum_model\",\n",
    "    eval_strategy=\"epoch\",\n",
    "    learning_rate=2e-5,\n",
    "    per_device_train_batch_size=16,\n",
    "    per_device_eval_batch_size=16,\n",
    "    weight_decay=0.01,\n",
    "    save_total_limit=3,\n",
    "    num_train_epochs=4,\n",
    "    predict_with_generate=True,\n",
    "    fp16=True,\n",
    "    push_to_hub=True,\n",
    ")"
   ]
  },
  {
   "cell_type": "code",
   "execution_count": 19,
   "id": "3e299c74-4084-4c4e-a7d2-d89abb535dd6",
   "metadata": {},
   "outputs": [],
   "source": [
    "trainer = Seq2SeqTrainer(\n",
    "    model=model,\n",
    "    args=training_args,\n",
    "    train_dataset=tokenized_billsum[\"train\"],\n",
    "    eval_dataset=tokenized_billsum[\"test\"],\n",
    "    tokenizer=tokenizer,\n",
    "    data_collator=data_collator,\n",
    "    compute_metrics=compute_metrics,\n",
    ")"
   ]
  },
  {
   "cell_type": "code",
   "execution_count": 20,
   "id": "97baef46-d271-4adc-ab92-febb5e72021c",
   "metadata": {},
   "outputs": [
    {
     "name": "stdout",
     "output_type": "stream",
     "text": [
      "[2024-08-30 18:33:12,829] [INFO] [real_accelerator.py:203:get_accelerator] Setting ds_accelerator to cuda (auto detect)\n",
      "\u001b[93m [WARNING] \u001b[0m async_io requires the dev libaio .so object and headers but these were not found.\n",
      "\u001b[93m [WARNING] \u001b[0m async_io: please install the libaio-dev package with apt\n",
      "\u001b[93m [WARNING] \u001b[0m If libaio is already installed (perhaps from source), try setting the CFLAGS and LDFLAGS environment variables to where it can be found.\n",
      "\u001b[93m [WARNING] \u001b[0m Please specify the CUTLASS repo directory as environment variable $CUTLASS_PATH\n",
      "\u001b[93m [WARNING] \u001b[0m sparse_attn requires a torch version >= 1.5 and < 2.0 but detected 2.2\n",
      "\u001b[93m [WARNING] \u001b[0m using untested triton version (2.2.0), only 1.0.0 is known to be compatible\n"
     ]
    },
    {
     "name": "stderr",
     "output_type": "stream",
     "text": [
      "/usr/bin/ld: cannot find -laio: No such file or directory\n",
      "collect2: error: ld returned 1 exit status\n",
      "\u001b[34m\u001b[1mwandb\u001b[0m: \u001b[33mWARNING\u001b[0m The `run_name` is currently set to the same value as `TrainingArguments.output_dir`. If this was not intended, please specify a different run name by setting the `TrainingArguments.run_name` parameter.\n",
      "\u001b[34m\u001b[1mwandb\u001b[0m: Logging into wandb.ai. (Learn how to deploy a W&B server locally: https://wandb.me/wandb-server)\n",
      "\u001b[34m\u001b[1mwandb\u001b[0m: You can find your API key in your browser here: https://wandb.ai/authorize\n",
      "\u001b[34m\u001b[1mwandb\u001b[0m: Paste an API key from your profile and hit enter, or press ctrl+c to quit:"
     ]
    },
    {
     "name": "stdin",
     "output_type": "stream",
     "text": [
      "  ········\n"
     ]
    },
    {
     "name": "stderr",
     "output_type": "stream",
     "text": [
      "\u001b[34m\u001b[1mwandb\u001b[0m: Appending key for api.wandb.ai to your netrc file: /home/geshi/.netrc\n"
     ]
    },
    {
     "data": {
      "text/html": [
       "wandb version 0.17.8 is available!  To upgrade, please run:\n",
       " $ pip install wandb --upgrade"
      ],
      "text/plain": [
       "<IPython.core.display.HTML object>"
      ]
     },
     "metadata": {},
     "output_type": "display_data"
    },
    {
     "data": {
      "text/html": [
       "Tracking run with wandb version 0.17.7"
      ],
      "text/plain": [
       "<IPython.core.display.HTML object>"
      ]
     },
     "metadata": {},
     "output_type": "display_data"
    },
    {
     "data": {
      "text/html": [
       "Run data is saved locally in <code>/home/geshi/MLFromScratch/LLM/wandb/run-20240830_185058-v79bsg19</code>"
      ],
      "text/plain": [
       "<IPython.core.display.HTML object>"
      ]
     },
     "metadata": {},
     "output_type": "display_data"
    },
    {
     "data": {
      "text/html": [
       "Syncing run <strong><a href='https://wandb.ai/geshijoker-uc-davis/huggingface/runs/v79bsg19' target=\"_blank\">t5_billsum_model</a></strong> to <a href='https://wandb.ai/geshijoker-uc-davis/huggingface' target=\"_blank\">Weights & Biases</a> (<a href='https://wandb.me/run' target=\"_blank\">docs</a>)<br/>"
      ],
      "text/plain": [
       "<IPython.core.display.HTML object>"
      ]
     },
     "metadata": {},
     "output_type": "display_data"
    },
    {
     "data": {
      "text/html": [
       " View project at <a href='https://wandb.ai/geshijoker-uc-davis/huggingface' target=\"_blank\">https://wandb.ai/geshijoker-uc-davis/huggingface</a>"
      ],
      "text/plain": [
       "<IPython.core.display.HTML object>"
      ]
     },
     "metadata": {},
     "output_type": "display_data"
    },
    {
     "data": {
      "text/html": [
       " View run at <a href='https://wandb.ai/geshijoker-uc-davis/huggingface/runs/v79bsg19' target=\"_blank\">https://wandb.ai/geshijoker-uc-davis/huggingface/runs/v79bsg19</a>"
      ],
      "text/plain": [
       "<IPython.core.display.HTML object>"
      ]
     },
     "metadata": {},
     "output_type": "display_data"
    },
    {
     "name": "stderr",
     "output_type": "stream",
     "text": [
      "/home/geshi/.local/lib/python3.10/site-packages/torch/nn/parallel/_functions.py:68: UserWarning: Was asked to gather along dimension 0, but all input tensors were scalars; will instead unsqueeze and return a vector.\n",
      "  warnings.warn('Was asked to gather along dimension 0, but all '\n"
     ]
    },
    {
     "data": {
      "text/html": [
       "\n",
       "    <div>\n",
       "      \n",
       "      <progress value='124' max='124' style='width:300px; height:20px; vertical-align: middle;'></progress>\n",
       "      [124/124 01:27, Epoch 4/4]\n",
       "    </div>\n",
       "    <table border=\"1\" class=\"dataframe\">\n",
       "  <thead>\n",
       " <tr style=\"text-align: left;\">\n",
       "      <th>Epoch</th>\n",
       "      <th>Training Loss</th>\n",
       "      <th>Validation Loss</th>\n",
       "      <th>Rouge1</th>\n",
       "      <th>Rouge2</th>\n",
       "      <th>Rougel</th>\n",
       "      <th>Rougelsum</th>\n",
       "      <th>Gen Len</th>\n",
       "    </tr>\n",
       "  </thead>\n",
       "  <tbody>\n",
       "    <tr>\n",
       "      <td>1</td>\n",
       "      <td>No log</td>\n",
       "      <td>3.158419</td>\n",
       "      <td>0.135900</td>\n",
       "      <td>0.044200</td>\n",
       "      <td>0.115600</td>\n",
       "      <td>0.115500</td>\n",
       "      <td>19.000000</td>\n",
       "    </tr>\n",
       "    <tr>\n",
       "      <td>2</td>\n",
       "      <td>No log</td>\n",
       "      <td>2.830211</td>\n",
       "      <td>0.131500</td>\n",
       "      <td>0.040700</td>\n",
       "      <td>0.111000</td>\n",
       "      <td>0.111200</td>\n",
       "      <td>19.000000</td>\n",
       "    </tr>\n",
       "    <tr>\n",
       "      <td>3</td>\n",
       "      <td>No log</td>\n",
       "      <td>2.716018</td>\n",
       "      <td>0.133000</td>\n",
       "      <td>0.042600</td>\n",
       "      <td>0.112900</td>\n",
       "      <td>0.112700</td>\n",
       "      <td>19.000000</td>\n",
       "    </tr>\n",
       "    <tr>\n",
       "      <td>4</td>\n",
       "      <td>No log</td>\n",
       "      <td>2.687833</td>\n",
       "      <td>0.134700</td>\n",
       "      <td>0.044500</td>\n",
       "      <td>0.113800</td>\n",
       "      <td>0.113800</td>\n",
       "      <td>19.000000</td>\n",
       "    </tr>\n",
       "  </tbody>\n",
       "</table><p>"
      ],
      "text/plain": [
       "<IPython.core.display.HTML object>"
      ]
     },
     "metadata": {},
     "output_type": "display_data"
    },
    {
     "name": "stderr",
     "output_type": "stream",
     "text": [
      "/home/geshi/.local/lib/python3.10/site-packages/transformers/generation/utils.py:1254: UserWarning: Using the model-agnostic default `max_length` (=20) to control the generation length. We recommend setting `max_new_tokens` to control the maximum length of the generation.\n",
      "  warnings.warn(\n",
      "/home/geshi/.local/lib/python3.10/site-packages/transformers/generation/utils.py:1254: UserWarning: Using the model-agnostic default `max_length` (=20) to control the generation length. We recommend setting `max_new_tokens` to control the maximum length of the generation.\n",
      "  warnings.warn(\n",
      "/home/geshi/.local/lib/python3.10/site-packages/torch/nn/parallel/_functions.py:68: UserWarning: Was asked to gather along dimension 0, but all input tensors were scalars; will instead unsqueeze and return a vector.\n",
      "  warnings.warn('Was asked to gather along dimension 0, but all '\n"
     ]
    },
    {
     "data": {
      "text/plain": [
       "TrainOutput(global_step=124, training_loss=3.29980714859501, metrics={'train_runtime': 1154.5231, 'train_samples_per_second': 3.427, 'train_steps_per_second': 0.107, 'total_flos': 1070824333246464.0, 'train_loss': 3.29980714859501, 'epoch': 4.0})"
      ]
     },
     "execution_count": 20,
     "metadata": {},
     "output_type": "execute_result"
    }
   ],
   "source": [
    "trainer.train()"
   ]
  },
  {
   "cell_type": "code",
   "execution_count": 21,
   "id": "df295051-ed46-4d90-b454-beb3dfe3873a",
   "metadata": {},
   "outputs": [
    {
     "data": {
      "application/vnd.jupyter.widget-view+json": {
       "model_id": "f6add48609834e73953e91f403a02e86",
       "version_major": 2,
       "version_minor": 0
      },
      "text/plain": [
       "events.out.tfevents.1725067993.cajal.1852258.0:   0%|          | 0.00/8.31k [00:00<?, ?B/s]"
      ]
     },
     "metadata": {},
     "output_type": "display_data"
    },
    {
     "data": {
      "text/plain": [
       "CommitInfo(commit_url='https://huggingface.co/geshijoker/t5_billsum_model/commit/43776de2538ea8854db02981b8c26cb58539876b', commit_message='End of training', commit_description='', oid='43776de2538ea8854db02981b8c26cb58539876b', pr_url=None, pr_revision=None, pr_num=None)"
      ]
     },
     "execution_count": 21,
     "metadata": {},
     "output_type": "execute_result"
    }
   ],
   "source": [
    "trainer.push_to_hub()"
   ]
  },
  {
   "cell_type": "markdown",
   "id": "3bd00f55-6a06-4fa2-a6e1-b8c906567a95",
   "metadata": {},
   "source": [
    "# Inference"
   ]
  },
  {
   "cell_type": "code",
   "execution_count": 22,
   "id": "f686d6bf-8de9-467b-87a9-9c0a31ad6080",
   "metadata": {},
   "outputs": [],
   "source": [
    "text = \"summarize: The Inflation Reduction Act lowers prescription drug costs, health care costs, and energy costs. It's the most aggressive action on tackling the climate crisis in American history, which will lift up American workers and create good-paying, union jobs across the country. It'll lower the deficit and ask the ultra-wealthy and corporations to pay their fair share. And no one making under $400,000 per year will pay a penny more in taxes.\""
   ]
  },
  {
   "cell_type": "code",
   "execution_count": 23,
   "id": "0dbaf5db-d1af-4ee8-9abc-35cef049403e",
   "metadata": {},
   "outputs": [],
   "source": [
    "from transformers import pipeline"
   ]
  },
  {
   "cell_type": "code",
   "execution_count": 24,
   "id": "5e2abeec-e739-41c0-8766-4c9b5265c8b6",
   "metadata": {},
   "outputs": [
    {
     "data": {
      "application/vnd.jupyter.widget-view+json": {
       "model_id": "8ee366ac4fe24d56a27546a1c99adaea",
       "version_major": 2,
       "version_minor": 0
      },
      "text/plain": [
       "config.json:   0%|          | 0.00/1.52k [00:00<?, ?B/s]"
      ]
     },
     "metadata": {},
     "output_type": "display_data"
    },
    {
     "data": {
      "application/vnd.jupyter.widget-view+json": {
       "model_id": "0c70922800134770bcf0b993007548a4",
       "version_major": 2,
       "version_minor": 0
      },
      "text/plain": [
       "model.safetensors:   0%|          | 0.00/242M [00:00<?, ?B/s]"
      ]
     },
     "metadata": {},
     "output_type": "display_data"
    },
    {
     "data": {
      "application/vnd.jupyter.widget-view+json": {
       "model_id": "aa847c5876214f7c917b632948de76a3",
       "version_major": 2,
       "version_minor": 0
      },
      "text/plain": [
       "generation_config.json:   0%|          | 0.00/117 [00:00<?, ?B/s]"
      ]
     },
     "metadata": {},
     "output_type": "display_data"
    },
    {
     "data": {
      "application/vnd.jupyter.widget-view+json": {
       "model_id": "6db8ca309f3c45beb0a87c378cb3b3df",
       "version_major": 2,
       "version_minor": 0
      },
      "text/plain": [
       "tokenizer_config.json:   0%|          | 0.00/20.7k [00:00<?, ?B/s]"
      ]
     },
     "metadata": {},
     "output_type": "display_data"
    },
    {
     "data": {
      "application/vnd.jupyter.widget-view+json": {
       "model_id": "0e31bc7b4a5d4a11905030c38418e59c",
       "version_major": 2,
       "version_minor": 0
      },
      "text/plain": [
       "spiece.model:   0%|          | 0.00/792k [00:00<?, ?B/s]"
      ]
     },
     "metadata": {},
     "output_type": "display_data"
    },
    {
     "data": {
      "application/vnd.jupyter.widget-view+json": {
       "model_id": "b46aa2e449e1493088b0bd1e3bdc9b57",
       "version_major": 2,
       "version_minor": 0
      },
      "text/plain": [
       "tokenizer.json:   0%|          | 0.00/2.42M [00:00<?, ?B/s]"
      ]
     },
     "metadata": {},
     "output_type": "display_data"
    },
    {
     "data": {
      "application/vnd.jupyter.widget-view+json": {
       "model_id": "c30c35958bb24688a736ca7d9767c662",
       "version_major": 2,
       "version_minor": 0
      },
      "text/plain": [
       "special_tokens_map.json:   0%|          | 0.00/2.54k [00:00<?, ?B/s]"
      ]
     },
     "metadata": {},
     "output_type": "display_data"
    },
    {
     "name": "stderr",
     "output_type": "stream",
     "text": [
      "Hardware accelerator e.g. GPU is available in the environment, but no `device` argument is passed to the `Pipeline` object. Model will be on CPU.\n"
     ]
    }
   ],
   "source": [
    "summarizer = pipeline(\"summarization\", model=\"geshijoker/t5_billsum_model\")"
   ]
  },
  {
   "cell_type": "code",
   "execution_count": 25,
   "id": "b54f9849-0624-4952-909a-382d13e3cfc5",
   "metadata": {},
   "outputs": [
    {
     "name": "stderr",
     "output_type": "stream",
     "text": [
      "Your max_length is set to 200, but your input_length is only 103. Since this is a summarization task, where outputs shorter than the input are typically wanted, you might consider decreasing max_length manually, e.g. summarizer('...', max_length=51)\n"
     ]
    },
    {
     "data": {
      "text/plain": [
       "[{'summary_text': \"the Inflation Reduction Act lowers prescription drug costs, health care costs, and energy costs . it's the most aggressive action on tackling the climate crisis in history . no one making under $400,000 per year will pay a penny more in taxes .\"}]"
      ]
     },
     "execution_count": 25,
     "metadata": {},
     "output_type": "execute_result"
    }
   ],
   "source": [
    "summarizer(text)"
   ]
  },
  {
   "cell_type": "code",
   "execution_count": 26,
   "id": "b7eca1f4-d2fd-411a-bd54-713c70107fcf",
   "metadata": {},
   "outputs": [],
   "source": [
    "from transformers import AutoTokenizer, AutoModelForSeq2SeqLM"
   ]
  },
  {
   "cell_type": "code",
   "execution_count": 27,
   "id": "279168de-de2b-49e2-9b24-eed9e19ab5af",
   "metadata": {},
   "outputs": [],
   "source": [
    "tokenizer = AutoTokenizer.from_pretrained(\"geshijoker/t5_billsum_model\")"
   ]
  },
  {
   "cell_type": "code",
   "execution_count": 28,
   "id": "f952e39c-1d5a-4eda-bab5-479777ca3f81",
   "metadata": {},
   "outputs": [],
   "source": [
    "inputs = tokenizer(text, return_tensors=\"pt\").input_ids"
   ]
  },
  {
   "cell_type": "code",
   "execution_count": 29,
   "id": "6dddc1ff-73ae-4256-b04f-577ec1cd8361",
   "metadata": {},
   "outputs": [],
   "source": [
    "model = AutoModelForSeq2SeqLM.from_pretrained(\"geshijoker/t5_billsum_model\")"
   ]
  },
  {
   "cell_type": "code",
   "execution_count": 30,
   "id": "57efeb5d-9770-42be-b272-7d657c19e5bc",
   "metadata": {},
   "outputs": [],
   "source": [
    "outputs = model.generate(inputs, max_new_tokens=100, do_sample=False)"
   ]
  },
  {
   "cell_type": "code",
   "execution_count": 31,
   "id": "d4fda36c-9af8-46aa-800c-6b2872c93e95",
   "metadata": {},
   "outputs": [
    {
     "data": {
      "text/plain": [
       "\"the Inflation Reduction Act lowers prescription drug costs, health care costs, and energy costs. it's the most aggressive action on tackling the climate crisis in American history. it'll ask the ultra-wealthy and corporations to pay their fair share.\""
      ]
     },
     "execution_count": 31,
     "metadata": {},
     "output_type": "execute_result"
    }
   ],
   "source": [
    "tokenizer.decode(outputs[0], skip_special_tokens=True)"
   ]
  }
 ],
 "metadata": {
  "kernelspec": {
   "display_name": "Python 3 (ipykernel)",
   "language": "python",
   "name": "python3"
  },
  "language_info": {
   "codemirror_mode": {
    "name": "ipython",
    "version": 3
   },
   "file_extension": ".py",
   "mimetype": "text/x-python",
   "name": "python",
   "nbconvert_exporter": "python",
   "pygments_lexer": "ipython3",
   "version": "3.10.12"
  }
 },
 "nbformat": 4,
 "nbformat_minor": 5
}
