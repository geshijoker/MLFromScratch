{
 "cells": [
  {
   "cell_type": "code",
   "execution_count": 1,
   "id": "73c6cb4a-404a-4f0e-913d-d22afc704d26",
   "metadata": {},
   "outputs": [],
   "source": [
    "from transformers import pipeline\n",
    "from transformers import AutoTokenizer, AutoModelForCausalLM"
   ]
  },
  {
   "cell_type": "code",
   "execution_count": 2,
   "id": "21788e10-faa4-4144-8073-6b21e89acc95",
   "metadata": {},
   "outputs": [],
   "source": [
    "cache_dir = \"/data/home/geshi/data\""
   ]
  },
  {
   "cell_type": "code",
   "execution_count": 3,
   "id": "655e8526-c549-4422-829a-149a3dd19b76",
   "metadata": {},
   "outputs": [
    {
     "name": "stdout",
     "output_type": "stream",
     "text": [
      "cifar-10-batches-py  models--meta-llama--Meta-Llama-3-8B\n",
      "datasets\t     rfcx-species-audio-detection\n",
      "flowers-102\t     SpeechCommands\n"
     ]
    }
   ],
   "source": [
    "!ls /data/home/geshi/data"
   ]
  },
  {
   "cell_type": "code",
   "execution_count": 4,
   "id": "5cd0c11a-89f4-4f1d-a57d-c66760041f36",
   "metadata": {},
   "outputs": [
    {
     "data": {
      "application/vnd.jupyter.widget-view+json": {
       "model_id": "4c4e37bd7bab4251baf562c8b78e2792",
       "version_major": 2,
       "version_minor": 0
      },
      "text/plain": [
       "Loading checkpoint shards:   0%|          | 0/4 [00:00<?, ?it/s]"
      ]
     },
     "metadata": {},
     "output_type": "display_data"
    }
   ],
   "source": [
    "tokenizer = AutoTokenizer.from_pretrained(\"meta-llama/Meta-Llama-3-8B\", cache_dir=cache_dir)\n",
    "model = AutoModelForCausalLM.from_pretrained(\"meta-llama/Meta-Llama-3-8B\", cache_dir=cache_dir)"
   ]
  },
  {
   "cell_type": "code",
   "execution_count": 5,
   "id": "678c2297-6f55-4a92-8bf4-90213336c85d",
   "metadata": {},
   "outputs": [],
   "source": [
    "prompt = \"Hey, are you conscious? Can you talk to me?\""
   ]
  },
  {
   "cell_type": "code",
   "execution_count": 6,
   "id": "a45ba403-c158-41ea-87ed-7f86e7203ec8",
   "metadata": {},
   "outputs": [],
   "source": [
    "inputs = tokenizer(prompt, return_tensors=\"pt\")"
   ]
  },
  {
   "cell_type": "code",
   "execution_count": 7,
   "id": "f4abb834-30ae-4358-95ab-05455000cbba",
   "metadata": {},
   "outputs": [
    {
     "name": "stderr",
     "output_type": "stream",
     "text": [
      "The attention mask and the pad token id were not set. As a consequence, you may observe unexpected behavior. Please pass your input's `attention_mask` to obtain reliable results.\n",
      "Setting `pad_token_id` to `eos_token_id`:128001 for open-end generation.\n",
      "The attention mask is not set and cannot be inferred from input because pad token is same as eos token.As a consequence, you may observe unexpected behavior. Please pass your input's `attention_mask` to obtain reliable results.\n"
     ]
    }
   ],
   "source": [
    "generate_ids = model.generate(inputs.input_ids, max_length=30)"
   ]
  },
  {
   "cell_type": "code",
   "execution_count": 8,
   "id": "c24bb6f5-284b-4986-b3fc-976c2002b5f7",
   "metadata": {},
   "outputs": [
    {
     "data": {
      "text/plain": [
       "'Hey, are you conscious? Can you talk to me? I can’t hear you. You’re not breathing. Oh, you’re dead!'"
      ]
     },
     "execution_count": 8,
     "metadata": {},
     "output_type": "execute_result"
    }
   ],
   "source": [
    "tokenizer.batch_decode(generate_ids, skip_special_tokens=True, clean_up_tokenization_spaces=False)[0]"
   ]
  },
  {
   "cell_type": "markdown",
   "id": "60e508af-9fec-4a57-9ff3-237684cde498",
   "metadata": {},
   "source": [
    "# Inference with finetuned adapter"
   ]
  },
  {
   "cell_type": "code",
   "execution_count": 9,
   "id": "9b674244-d4a3-4af9-8ff8-a75f65083bdd",
   "metadata": {},
   "outputs": [],
   "source": [
    "import torch"
   ]
  },
  {
   "cell_type": "code",
   "execution_count": 10,
   "id": "fd445bfc-2dfe-40a2-aa91-ce8f4f70d89c",
   "metadata": {},
   "outputs": [],
   "source": [
    "device = torch.device(\"cuda\" if torch.cuda.is_available() else \"cpu\")"
   ]
  },
  {
   "cell_type": "code",
   "execution_count": 11,
   "id": "aa9f20ce-9817-4be3-8cdd-38a6072f4c10",
   "metadata": {},
   "outputs": [],
   "source": [
    "peft_model_id = \"geshijoker/Llama-3-8B-lora\""
   ]
  },
  {
   "cell_type": "code",
   "execution_count": 12,
   "id": "09a9f6bf-a6dd-449d-ad02-088111d01b6a",
   "metadata": {},
   "outputs": [],
   "source": [
    "from peft import LoraConfig, get_peft_model"
   ]
  },
  {
   "cell_type": "code",
   "execution_count": 13,
   "id": "ff89519e-2627-4e8c-ae4c-4666b6fb9ad3",
   "metadata": {},
   "outputs": [],
   "source": [
    "model.load_adapter(peft_model_id)"
   ]
  },
  {
   "cell_type": "code",
   "execution_count": 14,
   "id": "f5618ad8-f50f-4d71-b921-297576e35a5e",
   "metadata": {},
   "outputs": [
    {
     "name": "stderr",
     "output_type": "stream",
     "text": [
      "The attention mask and the pad token id were not set. As a consequence, you may observe unexpected behavior. Please pass your input's `attention_mask` to obtain reliable results.\n",
      "Setting `pad_token_id` to `eos_token_id`:128001 for open-end generation.\n"
     ]
    }
   ],
   "source": [
    "generate_ids = model.generate(inputs.input_ids, max_length=30)"
   ]
  },
  {
   "cell_type": "code",
   "execution_count": 15,
   "id": "116fd6bc-4470-40e9-8ad7-c96894fc795f",
   "metadata": {},
   "outputs": [
    {
     "data": {
      "text/plain": [
       "'Hey, are you conscious? Can you talk to me? Can you hear me? Can you see me? Can you feel me?'"
      ]
     },
     "execution_count": 15,
     "metadata": {},
     "output_type": "execute_result"
    }
   ],
   "source": [
    "tokenizer.batch_decode(generate_ids, skip_special_tokens=True, clean_up_tokenization_spaces=False)[0]"
   ]
  },
  {
   "cell_type": "code",
   "execution_count": null,
   "id": "1574a4a4-c0fe-4140-8c1a-88462c4c0215",
   "metadata": {},
   "outputs": [],
   "source": []
  }
 ],
 "metadata": {
  "kernelspec": {
   "display_name": "Python 3 (ipykernel)",
   "language": "python",
   "name": "python3"
  },
  "language_info": {
   "codemirror_mode": {
    "name": "ipython",
    "version": 3
   },
   "file_extension": ".py",
   "mimetype": "text/x-python",
   "name": "python",
   "nbconvert_exporter": "python",
   "pygments_lexer": "ipython3",
   "version": "3.10.12"
  }
 },
 "nbformat": 4,
 "nbformat_minor": 5
}
