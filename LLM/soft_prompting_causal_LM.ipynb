{
 "cells": [
  {
   "cell_type": "code",
   "execution_count": 1,
   "id": "56f67a5b-0b23-4000-8948-c0ecc2959ff0",
   "metadata": {},
   "outputs": [],
   "source": [
    "%load_ext autoreload\n",
    "%autoreload 2"
   ]
  },
  {
   "cell_type": "code",
   "execution_count": 2,
   "id": "2484f5b6-cfe5-49b4-b733-b5134818c85a",
   "metadata": {},
   "outputs": [],
   "source": [
    "base_model_name = \"bigscience/bloomz-560m\""
   ]
  },
  {
   "cell_type": "code",
   "execution_count": 3,
   "id": "7ab97c5d-dda3-4b98-ac22-3d79b2468d20",
   "metadata": {},
   "outputs": [],
   "source": [
    "from datasets import load_dataset"
   ]
  },
  {
   "cell_type": "code",
   "execution_count": 4,
   "id": "55ef91f9-835c-4f51-ade3-89bc52e2fafa",
   "metadata": {},
   "outputs": [],
   "source": [
    "ds = load_dataset(\"ought/raft\", \"twitter_complaints\")"
   ]
  },
  {
   "cell_type": "code",
   "execution_count": 5,
   "id": "a217b692-71c3-42e2-be09-a2712dc97b4d",
   "metadata": {},
   "outputs": [],
   "source": [
    "classes = [k.replace(\"_\", \" \") for k in ds[\"train\"].features[\"Label\"].names]\n",
    "ds = ds.map(\n",
    "    lambda x: {\"text_label\": [classes[label] for label in x[\"Label\"]]},\n",
    "    batched=True,\n",
    "    num_proc=1,\n",
    ")"
   ]
  },
  {
   "cell_type": "code",
   "execution_count": 6,
   "id": "4b9a44d2-a349-4b49-80a5-c967303a2f5a",
   "metadata": {},
   "outputs": [
    {
     "data": {
      "text/plain": [
       "{'Tweet text': '@HMRCcustomers No this is my first job',\n",
       " 'ID': 0,\n",
       " 'Label': 2,\n",
       " 'text_label': 'no complaint'}"
      ]
     },
     "execution_count": 6,
     "metadata": {},
     "output_type": "execute_result"
    }
   ],
   "source": [
    "ds[\"train\"][0]"
   ]
  },
  {
   "cell_type": "code",
   "execution_count": 7,
   "id": "1b876e23-9e9b-4ff2-8faf-38d8aa885edd",
   "metadata": {},
   "outputs": [],
   "source": [
    "from transformers import AutoTokenizer"
   ]
  },
  {
   "cell_type": "code",
   "execution_count": 8,
   "id": "7736fde6-d671-4096-b4ab-6b4490e73e8f",
   "metadata": {},
   "outputs": [
    {
     "name": "stdout",
     "output_type": "stream",
     "text": [
      "3\n"
     ]
    }
   ],
   "source": [
    "tokenizer = AutoTokenizer.from_pretrained(\"bigscience/bloomz-560m\")\n",
    "if tokenizer.pad_token_id is None:\n",
    "    tokenizer.pad_token_id = tokenizer.eos_token_id\n",
    "target_max_length = max([len(tokenizer(class_label)[\"input_ids\"]) for class_label in classes])\n",
    "print(target_max_length)"
   ]
  },
  {
   "cell_type": "code",
   "execution_count": 9,
   "id": "13801078-9829-4d7b-8a8f-05c3f3114d99",
   "metadata": {},
   "outputs": [],
   "source": [
    "import torch"
   ]
  },
  {
   "cell_type": "code",
   "execution_count": 10,
   "id": "99cd9cac-cc7a-4c83-99cb-eaac980c57f4",
   "metadata": {},
   "outputs": [],
   "source": [
    "max_length = 64"
   ]
  },
  {
   "cell_type": "code",
   "execution_count": 11,
   "id": "b3d7c86e-f0f6-4385-8ccf-dd859628f4e5",
   "metadata": {},
   "outputs": [],
   "source": [
    "def preprocess_function(examples, text_column=\"Tweet text\", label_column=\"text_label\"):\n",
    "    batch_size = len(examples[text_column])\n",
    "    inputs = [f\"{text_column} : {x} Label : \" for x in examples[text_column]]\n",
    "    targets = [str(x) for x in examples[label_column]]\n",
    "    model_inputs = tokenizer(inputs)\n",
    "    labels = tokenizer(targets)\n",
    "    classes = [k.replace(\"_\", \" \") for k in ds[\"train\"].features[\"Label\"].names]\n",
    "    for i in range(batch_size):\n",
    "        sample_input_ids = model_inputs[\"input_ids\"][i]\n",
    "        label_input_ids = labels[\"input_ids\"][i]\n",
    "        model_inputs[\"input_ids\"][i] = [tokenizer.pad_token_id] * (\n",
    "            max_length - len(sample_input_ids)\n",
    "        ) + sample_input_ids\n",
    "        model_inputs[\"attention_mask\"][i] = [0] * (max_length - len(sample_input_ids)) + model_inputs[\n",
    "            \"attention_mask\"\n",
    "        ][i]\n",
    "        labels[\"input_ids\"][i] = [-100] * (max_length - len(label_input_ids)) + label_input_ids\n",
    "        model_inputs[\"input_ids\"][i] = torch.tensor(model_inputs[\"input_ids\"][i][:max_length])\n",
    "        model_inputs[\"attention_mask\"][i] = torch.tensor(model_inputs[\"attention_mask\"][i][:max_length])\n",
    "        labels[\"input_ids\"][i] = torch.tensor(labels[\"input_ids\"][i][:max_length])\n",
    "    model_inputs[\"labels\"] = labels[\"input_ids\"]\n",
    "    return model_inputs"
   ]
  },
  {
   "cell_type": "code",
   "execution_count": 12,
   "id": "1cee443f-6073-4b7c-9e41-bcfcc45b1ad5",
   "metadata": {},
   "outputs": [
    {
     "data": {
      "application/vnd.jupyter.widget-view+json": {
       "model_id": "0231b51a3efb410d8d91a5e74326b9dd",
       "version_major": 2,
       "version_minor": 0
      },
      "text/plain": [
       "Running tokenizer on dataset:   0%|          | 0/50 [00:00<?, ? examples/s]"
      ]
     },
     "metadata": {},
     "output_type": "display_data"
    },
    {
     "data": {
      "application/vnd.jupyter.widget-view+json": {
       "model_id": "b48c1240f0c143348580b5db18cf6912",
       "version_major": 2,
       "version_minor": 0
      },
      "text/plain": [
       "Running tokenizer on dataset:   0%|          | 0/3399 [00:00<?, ? examples/s]"
      ]
     },
     "metadata": {},
     "output_type": "display_data"
    }
   ],
   "source": [
    "processed_ds = ds.map(\n",
    "    preprocess_function,\n",
    "    batched=True,\n",
    "    num_proc=1,\n",
    "    remove_columns=ds[\"train\"].column_names,\n",
    "    load_from_cache_file=False,\n",
    "    desc=\"Running tokenizer on dataset\",\n",
    ")"
   ]
  },
  {
   "cell_type": "code",
   "execution_count": 13,
   "id": "c08e05d8-ad4e-4d21-b93d-c979b66fc2d7",
   "metadata": {
    "scrolled": true
   },
   "outputs": [
    {
     "data": {
      "text/plain": [
       "{'input_ids': [3,\n",
       "  3,\n",
       "  3,\n",
       "  3,\n",
       "  3,\n",
       "  3,\n",
       "  3,\n",
       "  3,\n",
       "  3,\n",
       "  3,\n",
       "  3,\n",
       "  3,\n",
       "  3,\n",
       "  3,\n",
       "  3,\n",
       "  3,\n",
       "  3,\n",
       "  3,\n",
       "  3,\n",
       "  3,\n",
       "  3,\n",
       "  3,\n",
       "  3,\n",
       "  3,\n",
       "  3,\n",
       "  3,\n",
       "  3,\n",
       "  3,\n",
       "  3,\n",
       "  3,\n",
       "  3,\n",
       "  3,\n",
       "  3,\n",
       "  3,\n",
       "  3,\n",
       "  3,\n",
       "  3,\n",
       "  3,\n",
       "  3,\n",
       "  3,\n",
       "  3,\n",
       "  3,\n",
       "  3,\n",
       "  3,\n",
       "  3,\n",
       "  3,\n",
       "  3,\n",
       "  227985,\n",
       "  5484,\n",
       "  915,\n",
       "  2566,\n",
       "  169403,\n",
       "  15296,\n",
       "  36272,\n",
       "  525,\n",
       "  3928,\n",
       "  1119,\n",
       "  632,\n",
       "  2670,\n",
       "  3968,\n",
       "  15270,\n",
       "  77658,\n",
       "  915,\n",
       "  210],\n",
       " 'attention_mask': [0,\n",
       "  0,\n",
       "  0,\n",
       "  0,\n",
       "  0,\n",
       "  0,\n",
       "  0,\n",
       "  0,\n",
       "  0,\n",
       "  0,\n",
       "  0,\n",
       "  0,\n",
       "  0,\n",
       "  0,\n",
       "  0,\n",
       "  0,\n",
       "  0,\n",
       "  0,\n",
       "  0,\n",
       "  0,\n",
       "  0,\n",
       "  0,\n",
       "  0,\n",
       "  0,\n",
       "  0,\n",
       "  0,\n",
       "  0,\n",
       "  0,\n",
       "  0,\n",
       "  0,\n",
       "  0,\n",
       "  0,\n",
       "  0,\n",
       "  0,\n",
       "  0,\n",
       "  0,\n",
       "  0,\n",
       "  0,\n",
       "  0,\n",
       "  0,\n",
       "  0,\n",
       "  0,\n",
       "  0,\n",
       "  0,\n",
       "  0,\n",
       "  0,\n",
       "  0,\n",
       "  1,\n",
       "  1,\n",
       "  1,\n",
       "  1,\n",
       "  1,\n",
       "  1,\n",
       "  1,\n",
       "  1,\n",
       "  1,\n",
       "  1,\n",
       "  1,\n",
       "  1,\n",
       "  1,\n",
       "  1,\n",
       "  1,\n",
       "  1,\n",
       "  1],\n",
       " 'labels': [-100,\n",
       "  -100,\n",
       "  -100,\n",
       "  -100,\n",
       "  -100,\n",
       "  -100,\n",
       "  -100,\n",
       "  -100,\n",
       "  -100,\n",
       "  -100,\n",
       "  -100,\n",
       "  -100,\n",
       "  -100,\n",
       "  -100,\n",
       "  -100,\n",
       "  -100,\n",
       "  -100,\n",
       "  -100,\n",
       "  -100,\n",
       "  -100,\n",
       "  -100,\n",
       "  -100,\n",
       "  -100,\n",
       "  -100,\n",
       "  -100,\n",
       "  -100,\n",
       "  -100,\n",
       "  -100,\n",
       "  -100,\n",
       "  -100,\n",
       "  -100,\n",
       "  -100,\n",
       "  -100,\n",
       "  -100,\n",
       "  -100,\n",
       "  -100,\n",
       "  -100,\n",
       "  -100,\n",
       "  -100,\n",
       "  -100,\n",
       "  -100,\n",
       "  -100,\n",
       "  -100,\n",
       "  -100,\n",
       "  -100,\n",
       "  -100,\n",
       "  -100,\n",
       "  -100,\n",
       "  -100,\n",
       "  -100,\n",
       "  -100,\n",
       "  -100,\n",
       "  -100,\n",
       "  -100,\n",
       "  -100,\n",
       "  -100,\n",
       "  -100,\n",
       "  -100,\n",
       "  -100,\n",
       "  -100,\n",
       "  -100,\n",
       "  -100,\n",
       "  1936,\n",
       "  106863]}"
      ]
     },
     "execution_count": 13,
     "metadata": {},
     "output_type": "execute_result"
    }
   ],
   "source": [
    "processed_ds['train'][0]"
   ]
  },
  {
   "cell_type": "code",
   "execution_count": 14,
   "id": "4390a1c0-6c8e-4c59-9152-8f40b2a3b7b8",
   "metadata": {},
   "outputs": [],
   "source": [
    "from torch.utils.data import DataLoader\n",
    "from transformers import default_data_collator"
   ]
  },
  {
   "cell_type": "code",
   "execution_count": 15,
   "id": "01b3162b-f720-424b-aac9-b8991c275818",
   "metadata": {},
   "outputs": [],
   "source": [
    "train_ds = processed_ds[\"train\"]\n",
    "eval_ds = processed_ds[\"test\"]\n",
    "\n",
    "batch_size = 16"
   ]
  },
  {
   "cell_type": "code",
   "execution_count": 16,
   "id": "e4f5e64f-face-416f-b566-e554c5a749cd",
   "metadata": {},
   "outputs": [],
   "source": [
    "train_dataloader = DataLoader(train_ds, shuffle=True, collate_fn=default_data_collator, batch_size=batch_size, pin_memory=True)\n",
    "eval_dataloader = DataLoader(eval_ds, collate_fn=default_data_collator, batch_size=batch_size, pin_memory=True)"
   ]
  },
  {
   "cell_type": "code",
   "execution_count": 17,
   "id": "d7370fc4-d1a1-4fa8-a2f5-fa9451fd132a",
   "metadata": {},
   "outputs": [],
   "source": [
    "from transformers import AutoModelForCausalLM"
   ]
  },
  {
   "cell_type": "code",
   "execution_count": 49,
   "id": "2a95da07-0dc6-4e22-9bf9-f6cda5d17b10",
   "metadata": {},
   "outputs": [],
   "source": [
    "model = AutoModelForCausalLM.from_pretrained(\"bigscience/bloomz-560m\")"
   ]
  },
  {
   "cell_type": "markdown",
   "id": "bcf80bd2-ea51-48e5-8195-4be177a1e666",
   "metadata": {},
   "source": [
    "# Soft Prompting"
   ]
  },
  {
   "cell_type": "code",
   "execution_count": 45,
   "id": "57a906e6-13fc-4c4a-a357-11430865958a",
   "metadata": {},
   "outputs": [],
   "source": [
    "from peft import PromptEncoderConfig, PrefixTuningConfig, PromptTuningConfig, get_peft_model"
   ]
  },
  {
   "cell_type": "markdown",
   "id": "a118ab1f-63df-4a1c-8a1e-f44a83c6f777",
   "metadata": {},
   "source": [
    "## p-tuning"
   ]
  },
  {
   "cell_type": "code",
   "execution_count": 48,
   "id": "40c54b04-ac77-4f0e-a79f-f40fd50bb886",
   "metadata": {},
   "outputs": [
    {
     "name": "stdout",
     "output_type": "stream",
     "text": [
      "trainable params: 300,288 || all params: 559,514,880 || trainable%: 0.0537\n"
     ]
    }
   ],
   "source": [
    "# peft_config = PromptEncoderConfig(task_type=\"CAUSAL_LM\", num_virtual_tokens=20, encoder_hidden_size=128)\n",
    "# model = get_peft_model(model, peft_config)\n",
    "# model.print_trainable_parameters()"
   ]
  },
  {
   "cell_type": "markdown",
   "id": "75040eaa-27c1-4164-85ff-f7fc0d21f393",
   "metadata": {},
   "source": [
    "## Prefix Tuning"
   ]
  },
  {
   "cell_type": "code",
   "execution_count": 21,
   "id": "1c3c1139-47ea-47a0-9425-96325b2aecab",
   "metadata": {},
   "outputs": [
    {
     "name": "stdout",
     "output_type": "stream",
     "text": [
      "trainable params: 983,040 || all params: 560,197,632 || trainable%: 0.1755\n"
     ]
    }
   ],
   "source": [
    "# peft_config = PrefixTuningConfig(task_type=\"CAUSAL_LM\", num_virtual_tokens=20)\n",
    "# model = get_peft_model(model, peft_config)\n",
    "# model.print_trainable_parameters()"
   ]
  },
  {
   "cell_type": "markdown",
   "id": "156ada85-8a1a-457b-b7f8-13d07cb58463",
   "metadata": {},
   "source": [
    "## Prompt Tuning"
   ]
  },
  {
   "cell_type": "code",
   "execution_count": 50,
   "id": "bbeb7ce6-a97a-41d0-917d-4eaf02776b9f",
   "metadata": {},
   "outputs": [
    {
     "name": "stdout",
     "output_type": "stream",
     "text": [
      "trainable params: 12,288 || all params: 559,226,880 || trainable%: 0.0022\n"
     ]
    }
   ],
   "source": [
    "prompt_tuning_init_text = \"Classify if the tweet is a complaint or no complaint.\\n\"\n",
    "peft_config = PromptTuningConfig(\n",
    "    task_type=\"CAUSAL_LM\",\n",
    "    prompt_tuning_init=PromptTuningInit.TEXT,\n",
    "    num_virtual_tokens=len(tokenizer(prompt_tuning_init_text)[\"input_ids\"]),\n",
    "    prompt_tuning_init_text=prompt_tuning_init_text,\n",
    "    tokenizer_name_or_path=\"bigscience/bloomz-560m\",\n",
    ")\n",
    "model = get_peft_model(model, peft_config)\n",
    "model.print_trainable_parameters()"
   ]
  },
  {
   "cell_type": "markdown",
   "id": "65a85188-eaf6-455a-88b8-5386cddcb94e",
   "metadata": {},
   "source": [
    "# Training"
   ]
  },
  {
   "cell_type": "code",
   "execution_count": 51,
   "id": "0e572ccb-9573-4a44-b94d-3744366b058b",
   "metadata": {},
   "outputs": [],
   "source": [
    "from transformers import get_linear_schedule_with_warmup"
   ]
  },
  {
   "cell_type": "code",
   "execution_count": 52,
   "id": "61786a1e-4bb5-4830-8c78-f6054e6fb432",
   "metadata": {},
   "outputs": [],
   "source": [
    "lr = 3e-2\n",
    "num_epochs = 50\n",
    "\n",
    "optimizer = torch.optim.AdamW(model.parameters(), lr=lr)\n",
    "lr_scheduler = get_linear_schedule_with_warmup(\n",
    "    optimizer=optimizer,\n",
    "    num_warmup_steps=0,\n",
    "    num_training_steps=(len(train_dataloader) * num_epochs),\n",
    ")"
   ]
  },
  {
   "cell_type": "code",
   "execution_count": 53,
   "id": "c488c651-43b2-45ba-b751-d4a2a7ec7a23",
   "metadata": {},
   "outputs": [],
   "source": [
    "from tqdm import tqdm\n",
    "\n",
    "device = \"cuda\"\n",
    "model = model.to(device)"
   ]
  },
  {
   "cell_type": "code",
   "execution_count": 54,
   "id": "ba846452-204c-46b7-aa6c-deac4a64e03b",
   "metadata": {
    "scrolled": true
   },
   "outputs": [
    {
     "name": "stderr",
     "output_type": "stream",
     "text": [
      "100%|████████████████████████████████████████████| 4/4 [00:00<00:00,  5.91it/s]\n",
      "100%|████████████████████████████████████████| 213/213 [00:22<00:00,  9.63it/s]\n"
     ]
    },
    {
     "name": "stdout",
     "output_type": "stream",
     "text": [
      "epoch=0: train_ppl=tensor(2258.2756, device='cuda:0') train_epoch_loss=tensor(7.7224, device='cuda:0') eval_ppl=tensor(6.1244e+08, device='cuda:0') eval_epoch_loss=tensor(20.2330, device='cuda:0')\n"
     ]
    },
    {
     "name": "stderr",
     "output_type": "stream",
     "text": [
      "100%|████████████████████████████████████████████| 4/4 [00:00<00:00,  5.80it/s]\n",
      "100%|████████████████████████████████████████| 213/213 [00:22<00:00,  9.55it/s]\n"
     ]
    },
    {
     "name": "stdout",
     "output_type": "stream",
     "text": [
      "epoch=1: train_ppl=tensor(5.2422, device='cuda:0') train_epoch_loss=tensor(1.6567, device='cuda:0') eval_ppl=tensor(1.2180e+09, device='cuda:0') eval_epoch_loss=tensor(20.9205, device='cuda:0')\n"
     ]
    },
    {
     "name": "stderr",
     "output_type": "stream",
     "text": [
      "100%|████████████████████████████████████████████| 4/4 [00:00<00:00,  5.85it/s]\n",
      "100%|████████████████████████████████████████| 213/213 [00:22<00:00,  9.50it/s]\n"
     ]
    },
    {
     "name": "stdout",
     "output_type": "stream",
     "text": [
      "epoch=2: train_ppl=tensor(2.6506, device='cuda:0') train_epoch_loss=tensor(0.9748, device='cuda:0') eval_ppl=tensor(5.8181e+10, device='cuda:0') eval_epoch_loss=tensor(24.7868, device='cuda:0')\n"
     ]
    },
    {
     "name": "stderr",
     "output_type": "stream",
     "text": [
      "100%|████████████████████████████████████████████| 4/4 [00:00<00:00,  5.84it/s]\n",
      "100%|████████████████████████████████████████| 213/213 [00:22<00:00,  9.48it/s]\n"
     ]
    },
    {
     "name": "stdout",
     "output_type": "stream",
     "text": [
      "epoch=3: train_ppl=tensor(2.2086, device='cuda:0') train_epoch_loss=tensor(0.7924, device='cuda:0') eval_ppl=tensor(2.2058e+10, device='cuda:0') eval_epoch_loss=tensor(23.8169, device='cuda:0')\n"
     ]
    },
    {
     "name": "stderr",
     "output_type": "stream",
     "text": [
      "100%|████████████████████████████████████████████| 4/4 [00:00<00:00,  5.82it/s]\n",
      "100%|████████████████████████████████████████| 213/213 [00:22<00:00,  9.47it/s]\n"
     ]
    },
    {
     "name": "stdout",
     "output_type": "stream",
     "text": [
      "epoch=4: train_ppl=tensor(2.1057, device='cuda:0') train_epoch_loss=tensor(0.7447, device='cuda:0') eval_ppl=tensor(1.4730e+10, device='cuda:0') eval_epoch_loss=tensor(23.4131, device='cuda:0')\n"
     ]
    },
    {
     "name": "stderr",
     "output_type": "stream",
     "text": [
      "100%|████████████████████████████████████████████| 4/4 [00:00<00:00,  5.74it/s]\n",
      "100%|████████████████████████████████████████| 213/213 [00:22<00:00,  9.45it/s]\n"
     ]
    },
    {
     "name": "stdout",
     "output_type": "stream",
     "text": [
      "epoch=5: train_ppl=tensor(1.7518, device='cuda:0') train_epoch_loss=tensor(0.5607, device='cuda:0') eval_ppl=tensor(6.3704e+09, device='cuda:0') eval_epoch_loss=tensor(22.5749, device='cuda:0')\n"
     ]
    },
    {
     "name": "stderr",
     "output_type": "stream",
     "text": [
      "100%|████████████████████████████████████████████| 4/4 [00:00<00:00,  5.71it/s]\n",
      "100%|████████████████████████████████████████| 213/213 [00:22<00:00,  9.43it/s]\n"
     ]
    },
    {
     "name": "stdout",
     "output_type": "stream",
     "text": [
      "epoch=6: train_ppl=tensor(1.8746, device='cuda:0') train_epoch_loss=tensor(0.6284, device='cuda:0') eval_ppl=tensor(7.4378e+09, device='cuda:0') eval_epoch_loss=tensor(22.7298, device='cuda:0')\n"
     ]
    },
    {
     "name": "stderr",
     "output_type": "stream",
     "text": [
      "100%|████████████████████████████████████████████| 4/4 [00:00<00:00,  5.79it/s]\n",
      "100%|████████████████████████████████████████| 213/213 [00:22<00:00,  9.42it/s]\n"
     ]
    },
    {
     "name": "stdout",
     "output_type": "stream",
     "text": [
      "epoch=7: train_ppl=tensor(1.6963, device='cuda:0') train_epoch_loss=tensor(0.5284, device='cuda:0') eval_ppl=tensor(8.8652e+09, device='cuda:0') eval_epoch_loss=tensor(22.9054, device='cuda:0')\n"
     ]
    },
    {
     "name": "stderr",
     "output_type": "stream",
     "text": [
      "100%|████████████████████████████████████████████| 4/4 [00:00<00:00,  5.72it/s]\n",
      "100%|████████████████████████████████████████| 213/213 [00:22<00:00,  9.41it/s]\n"
     ]
    },
    {
     "name": "stdout",
     "output_type": "stream",
     "text": [
      "epoch=8: train_ppl=tensor(1.6199, device='cuda:0') train_epoch_loss=tensor(0.4824, device='cuda:0') eval_ppl=tensor(1.1588e+10, device='cuda:0') eval_epoch_loss=tensor(23.1732, device='cuda:0')\n"
     ]
    },
    {
     "name": "stderr",
     "output_type": "stream",
     "text": [
      "100%|████████████████████████████████████████████| 4/4 [00:00<00:00,  5.71it/s]\n",
      "100%|████████████████████████████████████████| 213/213 [00:22<00:00,  9.40it/s]\n"
     ]
    },
    {
     "name": "stdout",
     "output_type": "stream",
     "text": [
      "epoch=9: train_ppl=tensor(1.5450, device='cuda:0') train_epoch_loss=tensor(0.4350, device='cuda:0') eval_ppl=tensor(2.3044e+10, device='cuda:0') eval_epoch_loss=tensor(23.8607, device='cuda:0')\n"
     ]
    },
    {
     "name": "stderr",
     "output_type": "stream",
     "text": [
      "100%|████████████████████████████████████████████| 4/4 [00:00<00:00,  5.79it/s]\n",
      "100%|████████████████████████████████████████| 213/213 [00:22<00:00,  9.40it/s]\n"
     ]
    },
    {
     "name": "stdout",
     "output_type": "stream",
     "text": [
      "epoch=10: train_ppl=tensor(1.8510, device='cuda:0') train_epoch_loss=tensor(0.6157, device='cuda:0') eval_ppl=tensor(3.1737e+10, device='cuda:0') eval_epoch_loss=tensor(24.1808, device='cuda:0')\n"
     ]
    },
    {
     "name": "stderr",
     "output_type": "stream",
     "text": [
      "100%|████████████████████████████████████████████| 4/4 [00:00<00:00,  5.79it/s]\n",
      "100%|████████████████████████████████████████| 213/213 [00:22<00:00,  9.40it/s]\n"
     ]
    },
    {
     "name": "stdout",
     "output_type": "stream",
     "text": [
      "epoch=11: train_ppl=tensor(2.1754, device='cuda:0') train_epoch_loss=tensor(0.7772, device='cuda:0') eval_ppl=tensor(2.1059e+10, device='cuda:0') eval_epoch_loss=tensor(23.7706, device='cuda:0')\n"
     ]
    },
    {
     "name": "stderr",
     "output_type": "stream",
     "text": [
      "100%|████████████████████████████████████████████| 4/4 [00:00<00:00,  5.74it/s]\n",
      "100%|████████████████████████████████████████| 213/213 [00:22<00:00,  9.40it/s]\n"
     ]
    },
    {
     "name": "stdout",
     "output_type": "stream",
     "text": [
      "epoch=12: train_ppl=tensor(1.8106, device='cuda:0') train_epoch_loss=tensor(0.5937, device='cuda:0') eval_ppl=tensor(1.3418e+10, device='cuda:0') eval_epoch_loss=tensor(23.3199, device='cuda:0')\n"
     ]
    },
    {
     "name": "stderr",
     "output_type": "stream",
     "text": [
      "100%|████████████████████████████████████████████| 4/4 [00:00<00:00,  5.79it/s]\n",
      "100%|████████████████████████████████████████| 213/213 [00:22<00:00,  9.40it/s]\n"
     ]
    },
    {
     "name": "stdout",
     "output_type": "stream",
     "text": [
      "epoch=13: train_ppl=tensor(1.8017, device='cuda:0') train_epoch_loss=tensor(0.5887, device='cuda:0') eval_ppl=tensor(5.5718e+09, device='cuda:0') eval_epoch_loss=tensor(22.4410, device='cuda:0')\n"
     ]
    },
    {
     "name": "stderr",
     "output_type": "stream",
     "text": [
      "100%|████████████████████████████████████████████| 4/4 [00:00<00:00,  5.72it/s]\n",
      "100%|████████████████████████████████████████| 213/213 [00:22<00:00,  9.40it/s]\n"
     ]
    },
    {
     "name": "stdout",
     "output_type": "stream",
     "text": [
      "epoch=14: train_ppl=tensor(1.9467, device='cuda:0') train_epoch_loss=tensor(0.6662, device='cuda:0') eval_ppl=tensor(4.1138e+09, device='cuda:0') eval_epoch_loss=tensor(22.1376, device='cuda:0')\n"
     ]
    },
    {
     "name": "stderr",
     "output_type": "stream",
     "text": [
      "100%|████████████████████████████████████████████| 4/4 [00:00<00:00,  5.79it/s]\n",
      "100%|████████████████████████████████████████| 213/213 [00:22<00:00,  9.40it/s]\n"
     ]
    },
    {
     "name": "stdout",
     "output_type": "stream",
     "text": [
      "epoch=15: train_ppl=tensor(1.5041, device='cuda:0') train_epoch_loss=tensor(0.4082, device='cuda:0') eval_ppl=tensor(3.7587e+09, device='cuda:0') eval_epoch_loss=tensor(22.0473, device='cuda:0')\n"
     ]
    },
    {
     "name": "stderr",
     "output_type": "stream",
     "text": [
      "100%|████████████████████████████████████████████| 4/4 [00:00<00:00,  5.78it/s]\n",
      "100%|████████████████████████████████████████| 213/213 [00:22<00:00,  9.40it/s]\n"
     ]
    },
    {
     "name": "stdout",
     "output_type": "stream",
     "text": [
      "epoch=16: train_ppl=tensor(1.6142, device='cuda:0') train_epoch_loss=tensor(0.4789, device='cuda:0') eval_ppl=tensor(4.3783e+09, device='cuda:0') eval_epoch_loss=tensor(22.1999, device='cuda:0')\n"
     ]
    },
    {
     "name": "stderr",
     "output_type": "stream",
     "text": [
      "100%|████████████████████████████████████████████| 4/4 [00:00<00:00,  5.74it/s]\n",
      "100%|████████████████████████████████████████| 213/213 [00:22<00:00,  9.40it/s]\n"
     ]
    },
    {
     "name": "stdout",
     "output_type": "stream",
     "text": [
      "epoch=17: train_ppl=tensor(1.6632, device='cuda:0') train_epoch_loss=tensor(0.5087, device='cuda:0') eval_ppl=tensor(7.8742e+09, device='cuda:0') eval_epoch_loss=tensor(22.7869, device='cuda:0')\n"
     ]
    },
    {
     "name": "stderr",
     "output_type": "stream",
     "text": [
      "100%|████████████████████████████████████████████| 4/4 [00:00<00:00,  5.70it/s]\n",
      "100%|████████████████████████████████████████| 213/213 [00:22<00:00,  9.41it/s]\n"
     ]
    },
    {
     "name": "stdout",
     "output_type": "stream",
     "text": [
      "epoch=18: train_ppl=tensor(1.4509, device='cuda:0') train_epoch_loss=tensor(0.3722, device='cuda:0') eval_ppl=tensor(1.7003e+10, device='cuda:0') eval_epoch_loss=tensor(23.5566, device='cuda:0')\n"
     ]
    },
    {
     "name": "stderr",
     "output_type": "stream",
     "text": [
      "100%|████████████████████████████████████████████| 4/4 [00:00<00:00,  5.69it/s]\n",
      "100%|████████████████████████████████████████| 213/213 [00:22<00:00,  9.41it/s]\n"
     ]
    },
    {
     "name": "stdout",
     "output_type": "stream",
     "text": [
      "epoch=19: train_ppl=tensor(1.4699, device='cuda:0') train_epoch_loss=tensor(0.3852, device='cuda:0') eval_ppl=tensor(4.2158e+10, device='cuda:0') eval_epoch_loss=tensor(24.4647, device='cuda:0')\n"
     ]
    },
    {
     "name": "stderr",
     "output_type": "stream",
     "text": [
      "100%|████████████████████████████████████████████| 4/4 [00:00<00:00,  5.78it/s]\n",
      "100%|████████████████████████████████████████| 213/213 [00:22<00:00,  9.40it/s]\n"
     ]
    },
    {
     "name": "stdout",
     "output_type": "stream",
     "text": [
      "epoch=20: train_ppl=tensor(1.4001, device='cuda:0') train_epoch_loss=tensor(0.3366, device='cuda:0') eval_ppl=tensor(1.1550e+11, device='cuda:0') eval_epoch_loss=tensor(25.4725, device='cuda:0')\n"
     ]
    },
    {
     "name": "stderr",
     "output_type": "stream",
     "text": [
      "100%|████████████████████████████████████████████| 4/4 [00:00<00:00,  5.72it/s]\n",
      "100%|████████████████████████████████████████| 213/213 [00:22<00:00,  9.41it/s]\n"
     ]
    },
    {
     "name": "stdout",
     "output_type": "stream",
     "text": [
      "epoch=21: train_ppl=tensor(1.3892, device='cuda:0') train_epoch_loss=tensor(0.3287, device='cuda:0') eval_ppl=tensor(2.2257e+11, device='cuda:0') eval_epoch_loss=tensor(26.1285, device='cuda:0')\n"
     ]
    },
    {
     "name": "stderr",
     "output_type": "stream",
     "text": [
      "100%|████████████████████████████████████████████| 4/4 [00:00<00:00,  5.79it/s]\n",
      "100%|████████████████████████████████████████| 213/213 [00:22<00:00,  9.40it/s]\n"
     ]
    },
    {
     "name": "stdout",
     "output_type": "stream",
     "text": [
      "epoch=22: train_ppl=tensor(1.4695, device='cuda:0') train_epoch_loss=tensor(0.3849, device='cuda:0') eval_ppl=tensor(4.9050e+11, device='cuda:0') eval_epoch_loss=tensor(26.9187, device='cuda:0')\n"
     ]
    },
    {
     "name": "stderr",
     "output_type": "stream",
     "text": [
      "100%|████████████████████████████████████████████| 4/4 [00:00<00:00,  5.79it/s]\n",
      "100%|████████████████████████████████████████| 213/213 [00:22<00:00,  9.40it/s]\n"
     ]
    },
    {
     "name": "stdout",
     "output_type": "stream",
     "text": [
      "epoch=23: train_ppl=tensor(1.5789, device='cuda:0') train_epoch_loss=tensor(0.4567, device='cuda:0') eval_ppl=tensor(6.9954e+11, device='cuda:0') eval_epoch_loss=tensor(27.2737, device='cuda:0')\n"
     ]
    },
    {
     "name": "stderr",
     "output_type": "stream",
     "text": [
      "100%|████████████████████████████████████████████| 4/4 [00:00<00:00,  5.74it/s]\n",
      "100%|████████████████████████████████████████| 213/213 [00:22<00:00,  9.41it/s]\n"
     ]
    },
    {
     "name": "stdout",
     "output_type": "stream",
     "text": [
      "epoch=24: train_ppl=tensor(1.3431, device='cuda:0') train_epoch_loss=tensor(0.2950, device='cuda:0') eval_ppl=tensor(6.2186e+11, device='cuda:0') eval_epoch_loss=tensor(27.1560, device='cuda:0')\n"
     ]
    },
    {
     "name": "stderr",
     "output_type": "stream",
     "text": [
      "100%|████████████████████████████████████████████| 4/4 [00:00<00:00,  5.72it/s]\n",
      "100%|████████████████████████████████████████| 213/213 [00:22<00:00,  9.41it/s]\n"
     ]
    },
    {
     "name": "stdout",
     "output_type": "stream",
     "text": [
      "epoch=25: train_ppl=tensor(1.3393, device='cuda:0') train_epoch_loss=tensor(0.2922, device='cuda:0') eval_ppl=tensor(5.8208e+11, device='cuda:0') eval_epoch_loss=tensor(27.0899, device='cuda:0')\n"
     ]
    },
    {
     "name": "stderr",
     "output_type": "stream",
     "text": [
      "100%|████████████████████████████████████████████| 4/4 [00:00<00:00,  5.79it/s]\n",
      "100%|████████████████████████████████████████| 213/213 [00:22<00:00,  9.41it/s]\n"
     ]
    },
    {
     "name": "stdout",
     "output_type": "stream",
     "text": [
      "epoch=26: train_ppl=tensor(1.5143, device='cuda:0') train_epoch_loss=tensor(0.4150, device='cuda:0') eval_ppl=tensor(4.8195e+11, device='cuda:0') eval_epoch_loss=tensor(26.9011, device='cuda:0')\n"
     ]
    },
    {
     "name": "stderr",
     "output_type": "stream",
     "text": [
      "100%|████████████████████████████████████████████| 4/4 [00:00<00:00,  5.79it/s]\n",
      "100%|████████████████████████████████████████| 213/213 [00:22<00:00,  9.41it/s]\n"
     ]
    },
    {
     "name": "stdout",
     "output_type": "stream",
     "text": [
      "epoch=27: train_ppl=tensor(1.2963, device='cuda:0') train_epoch_loss=tensor(0.2595, device='cuda:0') eval_ppl=tensor(8.0423e+11, device='cuda:0') eval_epoch_loss=tensor(27.4132, device='cuda:0')\n"
     ]
    },
    {
     "name": "stderr",
     "output_type": "stream",
     "text": [
      "100%|████████████████████████████████████████████| 4/4 [00:00<00:00,  5.79it/s]\n",
      "100%|████████████████████████████████████████| 213/213 [00:22<00:00,  9.41it/s]\n"
     ]
    },
    {
     "name": "stdout",
     "output_type": "stream",
     "text": [
      "epoch=28: train_ppl=tensor(1.6248, device='cuda:0') train_epoch_loss=tensor(0.4854, device='cuda:0') eval_ppl=tensor(6.5401e+11, device='cuda:0') eval_epoch_loss=tensor(27.2064, device='cuda:0')\n"
     ]
    },
    {
     "name": "stderr",
     "output_type": "stream",
     "text": [
      "100%|████████████████████████████████████████████| 4/4 [00:00<00:00,  5.72it/s]\n",
      "100%|████████████████████████████████████████| 213/213 [00:22<00:00,  9.40it/s]\n"
     ]
    },
    {
     "name": "stdout",
     "output_type": "stream",
     "text": [
      "epoch=29: train_ppl=tensor(1.9506, device='cuda:0') train_epoch_loss=tensor(0.6681, device='cuda:0') eval_ppl=tensor(3.8149e+11, device='cuda:0') eval_epoch_loss=tensor(26.6674, device='cuda:0')\n"
     ]
    },
    {
     "name": "stderr",
     "output_type": "stream",
     "text": [
      "100%|████████████████████████████████████████████| 4/4 [00:00<00:00,  5.71it/s]\n",
      "100%|████████████████████████████████████████| 213/213 [00:22<00:00,  9.41it/s]\n"
     ]
    },
    {
     "name": "stdout",
     "output_type": "stream",
     "text": [
      "epoch=30: train_ppl=tensor(1.4178, device='cuda:0') train_epoch_loss=tensor(0.3491, device='cuda:0') eval_ppl=tensor(1.0591e+11, device='cuda:0') eval_epoch_loss=tensor(25.3859, device='cuda:0')\n"
     ]
    },
    {
     "name": "stderr",
     "output_type": "stream",
     "text": [
      "100%|████████████████████████████████████████████| 4/4 [00:00<00:00,  5.73it/s]\n",
      "100%|████████████████████████████████████████| 213/213 [00:22<00:00,  9.41it/s]\n"
     ]
    },
    {
     "name": "stdout",
     "output_type": "stream",
     "text": [
      "epoch=31: train_ppl=tensor(1.3707, device='cuda:0') train_epoch_loss=tensor(0.3153, device='cuda:0') eval_ppl=tensor(8.9013e+10, device='cuda:0') eval_epoch_loss=tensor(25.2120, device='cuda:0')\n"
     ]
    },
    {
     "name": "stderr",
     "output_type": "stream",
     "text": [
      "100%|████████████████████████████████████████████| 4/4 [00:00<00:00,  5.71it/s]\n",
      "100%|████████████████████████████████████████| 213/213 [00:22<00:00,  9.41it/s]\n"
     ]
    },
    {
     "name": "stdout",
     "output_type": "stream",
     "text": [
      "epoch=32: train_ppl=tensor(1.3692, device='cuda:0') train_epoch_loss=tensor(0.3142, device='cuda:0') eval_ppl=tensor(1.5292e+11, device='cuda:0') eval_epoch_loss=tensor(25.7532, device='cuda:0')\n"
     ]
    },
    {
     "name": "stderr",
     "output_type": "stream",
     "text": [
      "100%|████████████████████████████████████████████| 4/4 [00:00<00:00,  5.80it/s]\n",
      "100%|████████████████████████████████████████| 213/213 [00:22<00:00,  9.41it/s]\n"
     ]
    },
    {
     "name": "stdout",
     "output_type": "stream",
     "text": [
      "epoch=33: train_ppl=tensor(1.2407, device='cuda:0') train_epoch_loss=tensor(0.2157, device='cuda:0') eval_ppl=tensor(3.7266e+11, device='cuda:0') eval_epoch_loss=tensor(26.6439, device='cuda:0')\n"
     ]
    },
    {
     "name": "stderr",
     "output_type": "stream",
     "text": [
      "100%|████████████████████████████████████████████| 4/4 [00:00<00:00,  5.80it/s]\n",
      "100%|████████████████████████████████████████| 213/213 [00:22<00:00,  9.41it/s]\n"
     ]
    },
    {
     "name": "stdout",
     "output_type": "stream",
     "text": [
      "epoch=34: train_ppl=tensor(1.2339, device='cuda:0') train_epoch_loss=tensor(0.2102, device='cuda:0') eval_ppl=tensor(8.0930e+11, device='cuda:0') eval_epoch_loss=tensor(27.4194, device='cuda:0')\n"
     ]
    },
    {
     "name": "stderr",
     "output_type": "stream",
     "text": [
      "100%|████████████████████████████████████████████| 4/4 [00:00<00:00,  5.76it/s]\n",
      "100%|████████████████████████████████████████| 213/213 [00:22<00:00,  9.42it/s]\n"
     ]
    },
    {
     "name": "stdout",
     "output_type": "stream",
     "text": [
      "epoch=35: train_ppl=tensor(1.2472, device='cuda:0') train_epoch_loss=tensor(0.2209, device='cuda:0') eval_ppl=tensor(1.4935e+12, device='cuda:0') eval_epoch_loss=tensor(28.0321, device='cuda:0')\n"
     ]
    },
    {
     "name": "stderr",
     "output_type": "stream",
     "text": [
      "100%|████████████████████████████████████████████| 4/4 [00:00<00:00,  5.71it/s]\n",
      "100%|████████████████████████████████████████| 213/213 [00:22<00:00,  9.41it/s]\n"
     ]
    },
    {
     "name": "stdout",
     "output_type": "stream",
     "text": [
      "epoch=36: train_ppl=tensor(1.1735, device='cuda:0') train_epoch_loss=tensor(0.1600, device='cuda:0') eval_ppl=tensor(1.7949e+12, device='cuda:0') eval_epoch_loss=tensor(28.2160, device='cuda:0')\n"
     ]
    },
    {
     "name": "stderr",
     "output_type": "stream",
     "text": [
      "100%|████████████████████████████████████████████| 4/4 [00:00<00:00,  5.79it/s]\n",
      "100%|████████████████████████████████████████| 213/213 [00:22<00:00,  9.41it/s]\n"
     ]
    },
    {
     "name": "stdout",
     "output_type": "stream",
     "text": [
      "epoch=37: train_ppl=tensor(1.3057, device='cuda:0') train_epoch_loss=tensor(0.2667, device='cuda:0') eval_ppl=tensor(2.3464e+12, device='cuda:0') eval_epoch_loss=tensor(28.4839, device='cuda:0')\n"
     ]
    },
    {
     "name": "stderr",
     "output_type": "stream",
     "text": [
      "100%|████████████████████████████████████████████| 4/4 [00:00<00:00,  5.80it/s]\n",
      "100%|████████████████████████████████████████| 213/213 [00:22<00:00,  9.41it/s]\n"
     ]
    },
    {
     "name": "stdout",
     "output_type": "stream",
     "text": [
      "epoch=38: train_ppl=tensor(1.1558, device='cuda:0') train_epoch_loss=tensor(0.1448, device='cuda:0') eval_ppl=tensor(3.5403e+12, device='cuda:0') eval_epoch_loss=tensor(28.8952, device='cuda:0')\n"
     ]
    },
    {
     "name": "stderr",
     "output_type": "stream",
     "text": [
      "100%|████████████████████████████████████████████| 4/4 [00:00<00:00,  5.79it/s]\n",
      "100%|████████████████████████████████████████| 213/213 [00:22<00:00,  9.41it/s]\n"
     ]
    },
    {
     "name": "stdout",
     "output_type": "stream",
     "text": [
      "epoch=39: train_ppl=tensor(1.2332, device='cuda:0') train_epoch_loss=tensor(0.2096, device='cuda:0') eval_ppl=tensor(3.5275e+12, device='cuda:0') eval_epoch_loss=tensor(28.8916, device='cuda:0')\n"
     ]
    },
    {
     "name": "stderr",
     "output_type": "stream",
     "text": [
      "100%|████████████████████████████████████████████| 4/4 [00:00<00:00,  5.78it/s]\n",
      "100%|████████████████████████████████████████| 213/213 [00:22<00:00,  9.41it/s]\n"
     ]
    },
    {
     "name": "stdout",
     "output_type": "stream",
     "text": [
      "epoch=40: train_ppl=tensor(1.3283, device='cuda:0') train_epoch_loss=tensor(0.2839, device='cuda:0') eval_ppl=tensor(4.0186e+12, device='cuda:0') eval_epoch_loss=tensor(29.0220, device='cuda:0')\n"
     ]
    },
    {
     "name": "stderr",
     "output_type": "stream",
     "text": [
      "100%|████████████████████████████████████████████| 4/4 [00:00<00:00,  5.72it/s]\n",
      "100%|████████████████████████████████████████| 213/213 [00:22<00:00,  9.41it/s]\n"
     ]
    },
    {
     "name": "stdout",
     "output_type": "stream",
     "text": [
      "epoch=41: train_ppl=tensor(1.1747, device='cuda:0') train_epoch_loss=tensor(0.1610, device='cuda:0') eval_ppl=tensor(4.9004e+12, device='cuda:0') eval_epoch_loss=tensor(29.2203, device='cuda:0')\n"
     ]
    },
    {
     "name": "stderr",
     "output_type": "stream",
     "text": [
      "100%|████████████████████████████████████████████| 4/4 [00:00<00:00,  5.72it/s]\n",
      "100%|████████████████████████████████████████| 213/213 [00:22<00:00,  9.41it/s]\n"
     ]
    },
    {
     "name": "stdout",
     "output_type": "stream",
     "text": [
      "epoch=42: train_ppl=tensor(1.1536, device='cuda:0') train_epoch_loss=tensor(0.1429, device='cuda:0') eval_ppl=tensor(6.4065e+12, device='cuda:0') eval_epoch_loss=tensor(29.4883, device='cuda:0')\n"
     ]
    },
    {
     "name": "stderr",
     "output_type": "stream",
     "text": [
      "100%|████████████████████████████████████████████| 4/4 [00:00<00:00,  5.79it/s]\n",
      "100%|████████████████████████████████████████| 213/213 [00:22<00:00,  9.41it/s]\n"
     ]
    },
    {
     "name": "stdout",
     "output_type": "stream",
     "text": [
      "epoch=43: train_ppl=tensor(1.1515, device='cuda:0') train_epoch_loss=tensor(0.1411, device='cuda:0') eval_ppl=tensor(9.1461e+12, device='cuda:0') eval_epoch_loss=tensor(29.8444, device='cuda:0')\n"
     ]
    },
    {
     "name": "stderr",
     "output_type": "stream",
     "text": [
      "100%|████████████████████████████████████████████| 4/4 [00:00<00:00,  5.79it/s]\n",
      "100%|████████████████████████████████████████| 213/213 [00:22<00:00,  9.39it/s]\n"
     ]
    },
    {
     "name": "stdout",
     "output_type": "stream",
     "text": [
      "epoch=44: train_ppl=tensor(1.2077, device='cuda:0') train_epoch_loss=tensor(0.1887, device='cuda:0') eval_ppl=tensor(1.2982e+13, device='cuda:0') eval_epoch_loss=tensor(30.1946, device='cuda:0')\n"
     ]
    },
    {
     "name": "stderr",
     "output_type": "stream",
     "text": [
      "100%|████████████████████████████████████████████| 4/4 [00:00<00:00,  5.72it/s]\n",
      "100%|████████████████████████████████████████| 213/213 [00:22<00:00,  9.40it/s]\n"
     ]
    },
    {
     "name": "stdout",
     "output_type": "stream",
     "text": [
      "epoch=45: train_ppl=tensor(1.1382, device='cuda:0') train_epoch_loss=tensor(0.1295, device='cuda:0') eval_ppl=tensor(1.6123e+13, device='cuda:0') eval_epoch_loss=tensor(30.4113, device='cuda:0')\n"
     ]
    },
    {
     "name": "stderr",
     "output_type": "stream",
     "text": [
      "100%|████████████████████████████████████████████| 4/4 [00:00<00:00,  5.70it/s]\n",
      "100%|████████████████████████████████████████| 213/213 [00:22<00:00,  9.39it/s]\n"
     ]
    },
    {
     "name": "stdout",
     "output_type": "stream",
     "text": [
      "epoch=46: train_ppl=tensor(1.1157, device='cuda:0') train_epoch_loss=tensor(0.1095, device='cuda:0') eval_ppl=tensor(1.9799e+13, device='cuda:0') eval_epoch_loss=tensor(30.6166, device='cuda:0')\n"
     ]
    },
    {
     "name": "stderr",
     "output_type": "stream",
     "text": [
      "100%|████████████████████████████████████████████| 4/4 [00:00<00:00,  5.79it/s]\n",
      "100%|████████████████████████████████████████| 213/213 [00:22<00:00,  9.39it/s]\n"
     ]
    },
    {
     "name": "stdout",
     "output_type": "stream",
     "text": [
      "epoch=47: train_ppl=tensor(1.1308, device='cuda:0') train_epoch_loss=tensor(0.1229, device='cuda:0') eval_ppl=tensor(2.2984e+13, device='cuda:0') eval_epoch_loss=tensor(30.7658, device='cuda:0')\n"
     ]
    },
    {
     "name": "stderr",
     "output_type": "stream",
     "text": [
      "100%|████████████████████████████████████████████| 4/4 [00:00<00:00,  5.73it/s]\n",
      "100%|████████████████████████████████████████| 213/213 [00:22<00:00,  9.39it/s]\n"
     ]
    },
    {
     "name": "stdout",
     "output_type": "stream",
     "text": [
      "epoch=48: train_ppl=tensor(1.1594, device='cuda:0') train_epoch_loss=tensor(0.1479, device='cuda:0') eval_ppl=tensor(2.5057e+13, device='cuda:0') eval_epoch_loss=tensor(30.8522, device='cuda:0')\n"
     ]
    },
    {
     "name": "stderr",
     "output_type": "stream",
     "text": [
      "100%|████████████████████████████████████████████| 4/4 [00:00<00:00,  5.70it/s]\n",
      "100%|████████████████████████████████████████| 213/213 [00:22<00:00,  9.40it/s]"
     ]
    },
    {
     "name": "stdout",
     "output_type": "stream",
     "text": [
      "epoch=49: train_ppl=tensor(1.1323, device='cuda:0') train_epoch_loss=tensor(0.1243, device='cuda:0') eval_ppl=tensor(2.6196e+13, device='cuda:0') eval_epoch_loss=tensor(30.8966, device='cuda:0')\n"
     ]
    },
    {
     "name": "stderr",
     "output_type": "stream",
     "text": [
      "\n"
     ]
    }
   ],
   "source": [
    "for epoch in range(num_epochs):\n",
    "    model.train()\n",
    "    total_loss = 0\n",
    "    for step, batch in enumerate(tqdm(train_dataloader)):\n",
    "        batch = {k: v.to(device) for k, v in batch.items()}\n",
    "        outputs = model(**batch)\n",
    "        loss = outputs.loss\n",
    "        total_loss += loss.detach().float()\n",
    "        loss.backward()\n",
    "        optimizer.step()\n",
    "        lr_scheduler.step()\n",
    "        optimizer.zero_grad()\n",
    "\n",
    "    model.eval()\n",
    "    eval_loss = 0\n",
    "    eval_preds = []\n",
    "    for step, batch in enumerate(tqdm(eval_dataloader)):\n",
    "        batch = {k: v.to(device) for k, v in batch.items()}\n",
    "        with torch.no_grad():\n",
    "            outputs = model(**batch)\n",
    "        loss = outputs.loss\n",
    "        eval_loss += loss.detach().float()\n",
    "        eval_preds.extend(\n",
    "            tokenizer.batch_decode(torch.argmax(outputs.logits, -1).detach().cpu().numpy(), skip_special_tokens=True)\n",
    "        )\n",
    "\n",
    "    eval_epoch_loss = eval_loss / len(eval_dataloader)\n",
    "    eval_ppl = torch.exp(eval_epoch_loss)\n",
    "    train_epoch_loss = total_loss / len(train_dataloader)\n",
    "    train_ppl = torch.exp(train_epoch_loss)\n",
    "    print(f\"{epoch=}: {train_ppl=} {train_epoch_loss=} {eval_ppl=} {eval_epoch_loss=}\")"
   ]
  },
  {
   "cell_type": "code",
   "execution_count": 1,
   "id": "9b6f7b2a-5735-4475-879a-984242d42fd3",
   "metadata": {},
   "outputs": [],
   "source": [
    "from huggingface_hub import notebook_login, login"
   ]
  },
  {
   "cell_type": "code",
   "execution_count": 2,
   "id": "bb6b7576-57fa-4bdb-965f-a6f3f05f49ee",
   "metadata": {},
   "outputs": [
    {
     "data": {
      "application/vnd.jupyter.widget-view+json": {
       "model_id": "dc40b346ade04ea8b047e7ea26fac38f",
       "version_major": 2,
       "version_minor": 0
      },
      "text/plain": [
       "VBox(children=(HTML(value='<center> <img\\nsrc=https://huggingface.co/front/assets/huggingface_logo-noborder.sv…"
      ]
     },
     "metadata": {},
     "output_type": "display_data"
    }
   ],
   "source": [
    "notebook_login()"
   ]
  },
  {
   "cell_type": "code",
   "execution_count": 57,
   "id": "36889c55-7fe5-44db-9f93-c968a9ffc86a",
   "metadata": {},
   "outputs": [
    {
     "data": {
      "application/vnd.jupyter.widget-view+json": {
       "model_id": "f8add96d57484dd393543c07e372a698",
       "version_major": 2,
       "version_minor": 0
      },
      "text/plain": [
       "adapter_model.safetensors:   0%|          | 0.00/49.3k [00:00<?, ?B/s]"
      ]
     },
     "metadata": {},
     "output_type": "display_data"
    },
    {
     "data": {
      "text/plain": [
       "CommitInfo(commit_url='https://huggingface.co/geshijoker/bloomz-560-prompt-tuning/commit/e8d5538e4fa6bdd7f86545fe5654e58dc659ab2d', commit_message='Upload model', commit_description='', oid='e8d5538e4fa6bdd7f86545fe5654e58dc659ab2d', pr_url=None, pr_revision=None, pr_num=None)"
      ]
     },
     "execution_count": 57,
     "metadata": {},
     "output_type": "execute_result"
    }
   ],
   "source": [
    "peft_model_id = \"geshijoker/bloomz-560-prompt-tuning\"\n",
    "model.push_to_hub(peft_model_id)"
   ]
  },
  {
   "cell_type": "markdown",
   "id": "9c393c24-60ed-4466-99b1-191fc7da69ca",
   "metadata": {},
   "source": [
    "# Inference"
   ]
  },
  {
   "cell_type": "code",
   "execution_count": 58,
   "id": "ecdc6cfa-4df6-4ec4-a272-244cde8b5ff1",
   "metadata": {},
   "outputs": [],
   "source": [
    "from peft import AutoPeftModelForCausalLM, AutoPeftModel, PeftConfig\n",
    "from transformers import AutoModel, AutoModelForCausalLM\n",
    "import peft"
   ]
  },
  {
   "cell_type": "code",
   "execution_count": 59,
   "id": "83b8c354-f43a-4796-965d-1d3d13a93e78",
   "metadata": {},
   "outputs": [
    {
     "data": {
      "application/vnd.jupyter.widget-view+json": {
       "model_id": "ac64849e23e7444aa2089d359c788a61",
       "version_major": 2,
       "version_minor": 0
      },
      "text/plain": [
       "adapter_config.json:   0%|          | 0.00/522 [00:00<?, ?B/s]"
      ]
     },
     "metadata": {},
     "output_type": "display_data"
    }
   ],
   "source": [
    "peft_config = PeftConfig.from_pretrained(peft_model_id)"
   ]
  },
  {
   "cell_type": "code",
   "execution_count": 60,
   "id": "88fa86c3-6166-4414-8a85-f16f31b946b3",
   "metadata": {},
   "outputs": [],
   "source": [
    "peft_config.base_model_name_or_path = base_model_name"
   ]
  },
  {
   "cell_type": "code",
   "execution_count": 61,
   "id": "ac75e375-f7a4-4f89-b2d5-00e1ed65bb54",
   "metadata": {},
   "outputs": [
    {
     "data": {
      "application/vnd.jupyter.widget-view+json": {
       "model_id": "aa8f15fe13ae4fbab579b2ceda62d18f",
       "version_major": 2,
       "version_minor": 0
      },
      "text/plain": [
       "adapter_model.safetensors:   0%|          | 0.00/49.3k [00:00<?, ?B/s]"
      ]
     },
     "metadata": {},
     "output_type": "display_data"
    }
   ],
   "source": [
    "model = AutoPeftModelForCausalLM.from_pretrained(peft_model_id, base_model_name, config=peft_config).to(device)"
   ]
  },
  {
   "cell_type": "code",
   "execution_count": 62,
   "id": "2685e946-d44e-45c8-8f2c-b507d8477f66",
   "metadata": {},
   "outputs": [
    {
     "data": {
      "text/plain": [
       "PeftModelForCausalLM(\n",
       "  (base_model): BloomForCausalLM(\n",
       "    (transformer): BloomModel(\n",
       "      (word_embeddings): Embedding(250880, 1024)\n",
       "      (word_embeddings_layernorm): LayerNorm((1024,), eps=1e-05, elementwise_affine=True)\n",
       "      (h): ModuleList(\n",
       "        (0-23): 24 x BloomBlock(\n",
       "          (input_layernorm): LayerNorm((1024,), eps=1e-05, elementwise_affine=True)\n",
       "          (self_attention): BloomAttention(\n",
       "            (query_key_value): Linear(in_features=1024, out_features=3072, bias=True)\n",
       "            (dense): Linear(in_features=1024, out_features=1024, bias=True)\n",
       "            (attention_dropout): Dropout(p=0.0, inplace=False)\n",
       "          )\n",
       "          (post_attention_layernorm): LayerNorm((1024,), eps=1e-05, elementwise_affine=True)\n",
       "          (mlp): BloomMLP(\n",
       "            (dense_h_to_4h): Linear(in_features=1024, out_features=4096, bias=True)\n",
       "            (gelu_impl): BloomGelu()\n",
       "            (dense_4h_to_h): Linear(in_features=4096, out_features=1024, bias=True)\n",
       "          )\n",
       "        )\n",
       "      )\n",
       "      (ln_f): LayerNorm((1024,), eps=1e-05, elementwise_affine=True)\n",
       "    )\n",
       "    (lm_head): Linear(in_features=1024, out_features=250880, bias=False)\n",
       "  )\n",
       "  (prompt_encoder): ModuleDict(\n",
       "    (default): PromptEmbedding(\n",
       "      (embedding): Embedding(12, 1024)\n",
       "    )\n",
       "  )\n",
       "  (word_embeddings): Embedding(250880, 1024)\n",
       ")"
      ]
     },
     "execution_count": 62,
     "metadata": {},
     "output_type": "execute_result"
    }
   ],
   "source": [
    "model"
   ]
  },
  {
   "cell_type": "code",
   "execution_count": 63,
   "id": "f2f2ee2c-b5fb-4182-b587-95afc1181d6a",
   "metadata": {},
   "outputs": [],
   "source": [
    "tokenizer = AutoTokenizer.from_pretrained(\"bigscience/bloomz-560m\")"
   ]
  },
  {
   "cell_type": "code",
   "execution_count": 64,
   "id": "6b49789c-d29b-4829-a909-19506d835e08",
   "metadata": {},
   "outputs": [
    {
     "name": "stdout",
     "output_type": "stream",
     "text": [
      "@NYTsupport i have complained a dozen times &amp; yet my papers are still thrown FAR from my door. Why is this so hard to resolve?\n"
     ]
    }
   ],
   "source": [
    "i = 15\n",
    "text_column = \"Tweet text\"\n",
    "inputs = tokenizer(f'{text_column} : {ds[\"test\"][i][\"Tweet text\"]} Label : ', return_tensors=\"pt\")\n",
    "print(ds[\"test\"][i][\"Tweet text\"])"
   ]
  },
  {
   "cell_type": "code",
   "execution_count": 65,
   "id": "aad372a6-28c0-4f9f-96b5-37468254e763",
   "metadata": {},
   "outputs": [
    {
     "name": "stdout",
     "output_type": "stream",
     "text": [
      "['Tweet text : @NYTsupport i have complained a dozen times &amp; yet my papers are still thrown FAR from my door. Why is this so hard to resolve? Label :  complaintnocomplaintcomplaintcomplaintcomplaint']\n"
     ]
    }
   ],
   "source": [
    "with torch.no_grad():\n",
    "    inputs = {k: v.to(device) for k, v in inputs.items()}\n",
    "    outputs = model.generate(input_ids=inputs[\"input_ids\"], max_new_tokens=10)\n",
    "    print(tokenizer.batch_decode(outputs.detach().cpu().numpy(), skip_special_tokens=True))"
   ]
  },
  {
   "cell_type": "code",
   "execution_count": null,
   "id": "f074adce-946c-4a45-9ed3-0d1b993aa81d",
   "metadata": {},
   "outputs": [],
   "source": []
  }
 ],
 "metadata": {
  "kernelspec": {
   "display_name": "Python 3 (ipykernel)",
   "language": "python",
   "name": "python3"
  },
  "language_info": {
   "codemirror_mode": {
    "name": "ipython",
    "version": 3
   },
   "file_extension": ".py",
   "mimetype": "text/x-python",
   "name": "python",
   "nbconvert_exporter": "python",
   "pygments_lexer": "ipython3",
   "version": "3.10.12"
  }
 },
 "nbformat": 4,
 "nbformat_minor": 5
}
