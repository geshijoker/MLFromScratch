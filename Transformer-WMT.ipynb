{
 "cells": [
  {
   "cell_type": "code",
   "execution_count": 1,
   "id": "c2d7f2a9-3be5-41d6-982b-0b759089a71d",
   "metadata": {},
   "outputs": [],
   "source": [
    "import torch\n",
    "from torch import nn\n",
    "import torch.nn.functional as F"
   ]
  },
  {
   "cell_type": "code",
   "execution_count": 2,
   "id": "af58df63-5a15-4ff9-ab76-ccd41e0fb0d9",
   "metadata": {},
   "outputs": [],
   "source": [
    "import sacrebleu"
   ]
  },
  {
   "cell_type": "code",
   "execution_count": 3,
   "id": "15d8ea31-a0bb-4a87-b422-62ed4299b560",
   "metadata": {},
   "outputs": [],
   "source": [
    "from transformers import AutoModel, AutoTokenizer, AutoModelForSeq2SeqLM"
   ]
  },
  {
   "cell_type": "code",
   "execution_count": 4,
   "id": "f98ebb5b-68e8-4c01-beb6-8fc660738998",
   "metadata": {},
   "outputs": [],
   "source": [
    "from datasets import load_dataset"
   ]
  },
  {
   "cell_type": "code",
   "execution_count": 5,
   "id": "828687a4-c80c-4aa7-b118-ed262fa68d5f",
   "metadata": {},
   "outputs": [],
   "source": [
    "from tqdm.notebook import tqdm, trange"
   ]
  },
  {
   "cell_type": "code",
   "execution_count": 6,
   "id": "76c70b57-bb4e-46d3-9d80-d1bbe8859887",
   "metadata": {},
   "outputs": [],
   "source": [
    "# Check if CUDA is available\n",
    "assert torch.cuda.device_count() > 1, \"This script requires at least 2 GPUs\""
   ]
  },
  {
   "cell_type": "code",
   "execution_count": 7,
   "id": "54b4e151-13b6-4319-b956-af47bc4033cc",
   "metadata": {},
   "outputs": [],
   "source": [
    "device_ids = [i for i in range(torch.cuda.device_count())]"
   ]
  },
  {
   "cell_type": "markdown",
   "id": "3ccbb25b-33a4-4605-856c-10030f136e59",
   "metadata": {},
   "source": [
    "# Examine pretrained BERT model"
   ]
  },
  {
   "cell_type": "code",
   "execution_count": 8,
   "id": "b256eadf-56ee-430e-8be6-2f71cdd4c371",
   "metadata": {},
   "outputs": [
    {
     "name": "stderr",
     "output_type": "stream",
     "text": [
      "/home/geshi/.local/lib/python3.10/site-packages/huggingface_hub/file_download.py:1132: FutureWarning: `resume_download` is deprecated and will be removed in version 1.0.0. Downloads always resume when possible. If you want to force a new download, use `force_download=True`.\n",
      "  warnings.warn(\n"
     ]
    }
   ],
   "source": [
    "tokenizer = AutoTokenizer.from_pretrained(\"google/bert2bert_L-24_wmt_de_en\", pad_token=\"<pad>\", eos_token=\"</s>\", bos_token=\"<s>\")\n",
    "model = AutoModelForSeq2SeqLM.from_pretrained(\"google/bert2bert_L-24_wmt_de_en\")"
   ]
  },
  {
   "cell_type": "code",
   "execution_count": 9,
   "id": "8a2073c3-f536-4ca7-a2bc-fda52f3a303c",
   "metadata": {},
   "outputs": [],
   "source": [
    "de_en_ds_train = load_dataset(\"stas/wmt14-en-de-pre-processed\", split=\"train\")"
   ]
  },
  {
   "cell_type": "code",
   "execution_count": 10,
   "id": "5458ca80-2a5b-46b0-b963-71fd17a7ba36",
   "metadata": {},
   "outputs": [],
   "source": [
    "model = nn.DataParallel(model, device_ids=device_ids)\n",
    "model = model.to('cuda')"
   ]
  },
  {
   "cell_type": "code",
   "execution_count": 11,
   "id": "d2a1ec27-3626-48b5-b5c2-e6c391030bdb",
   "metadata": {},
   "outputs": [],
   "source": [
    "de_en_ds_valid = load_dataset(\"stas/wmt14-en-de-pre-processed\", split=\"validation\")"
   ]
  },
  {
   "cell_type": "code",
   "execution_count": 12,
   "id": "fb1e9a57-c570-41e9-a6ab-5fdb8d1ee8f8",
   "metadata": {},
   "outputs": [],
   "source": [
    "de_en_ds_test = load_dataset(\"stas/wmt14-en-de-pre-processed\", split=\"test\")"
   ]
  },
  {
   "cell_type": "code",
   "execution_count": 13,
   "id": "4daee8f6-378e-48b6-8859-18ebbb609a8d",
   "metadata": {},
   "outputs": [],
   "source": [
    "de_en_ds = {'train':de_en_ds_train, 'validation':de_en_ds_valid, 'test':de_en_ds_test}"
   ]
  },
  {
   "cell_type": "code",
   "execution_count": 14,
   "id": "09062722-5c7c-4027-9a1b-dfbebfcfa375",
   "metadata": {},
   "outputs": [
    {
     "data": {
      "text/plain": [
       "{'translation': {'de': 'Wiederaufnahme der Sitzungsperiode',\n",
       "  'en': 'Resumption of the session'}}"
      ]
     },
     "execution_count": 14,
     "metadata": {},
     "output_type": "execute_result"
    }
   ],
   "source": [
    "de_en_ds_train[0]"
   ]
  },
  {
   "cell_type": "code",
   "execution_count": 15,
   "id": "bcc54fd2-03ac-48c3-a6ef-43a2a2fd810d",
   "metadata": {},
   "outputs": [],
   "source": [
    "source_lang = \"de\"\n",
    "target_lang = \"en\""
   ]
  },
  {
   "cell_type": "code",
   "execution_count": 16,
   "id": "d11abb6f-a766-455d-8879-3d14dc124fcf",
   "metadata": {},
   "outputs": [],
   "source": [
    "de_sentence = de_en_ds['validation'][0]['translation']['de']\n",
    "en_sentence = de_en_ds['validation'][0]['translation']['en']"
   ]
  },
  {
   "cell_type": "markdown",
   "id": "19c56b5d-b715-44b4-a71f-338ea4eb4f49",
   "metadata": {},
   "source": [
    "## Forward Translation"
   ]
  },
  {
   "cell_type": "code",
   "execution_count": 17,
   "id": "a33b479d-f940-4635-84bb-7a243ad6f128",
   "metadata": {},
   "outputs": [],
   "source": [
    "input_ids = tokenizer(de_sentence, return_tensors=\"pt\", add_special_tokens=False).input_ids"
   ]
  },
  {
   "cell_type": "code",
   "execution_count": 18,
   "id": "1156c6c4-629f-4648-8b39-e13cba71965b",
   "metadata": {},
   "outputs": [
    {
     "name": "stdout",
     "output_type": "stream",
     "text": [
      "tensor([[ 1094, 21755, 10396,  1091, 19586,  1099,  1097,  2041, 19660,  1099,\n",
      "         25818,  1133,  1091,  1096,  4103,  1241,   119]])\n"
     ]
    }
   ],
   "source": [
    "print(input_ids)"
   ]
  },
  {
   "cell_type": "code",
   "execution_count": 19,
   "id": "5a8625ef-471d-471f-98d9-2ce36b737d87",
   "metadata": {},
   "outputs": [],
   "source": [
    "output_ids = model.module.generate(input_ids.to('cuda'))[0]"
   ]
  },
  {
   "cell_type": "code",
   "execution_count": 20,
   "id": "14bd09b9-156e-41ea-891a-a8cd317792a7",
   "metadata": {},
   "outputs": [],
   "source": [
    "translate_sentence = tokenizer.decode(output_ids, skip_special_tokens=True)"
   ]
  },
  {
   "cell_type": "code",
   "execution_count": 21,
   "id": "cc764d93-9b3f-426e-bb6c-a53d82decc49",
   "metadata": {},
   "outputs": [
    {
     "name": "stdout",
     "output_type": "stream",
     "text": [
      "target sentence: India and Japan prime ministers meet in Tokyo translated sentence: The prime ministers of India and Japan met in tokio.\n"
     ]
    }
   ],
   "source": [
    "print(\"target sentence:\", en_sentence, \"translated sentence:\", translate_sentence)"
   ]
  },
  {
   "cell_type": "markdown",
   "id": "2c497a43-e445-44b5-888f-a2e271a17484",
   "metadata": {},
   "source": [
    "## Evaluate the Pretrained Model Translation Quality"
   ]
  },
  {
   "cell_type": "code",
   "execution_count": 22,
   "id": "12dab975-3f41-4685-9f1c-3c7eb513d0bd",
   "metadata": {},
   "outputs": [],
   "source": [
    "def translate(texts, tokenizer, model):\n",
    "    tokens = tokenizer(texts, return_tensors='pt', padding=True, truncation=True, max_length=24, add_special_tokens=False).input_ids\n",
    "    translated_tokens = model.module.generate(tokens.to('cuda'))\n",
    "    translated_texts = tokenizer.batch_decode(translated_tokens, skip_special_tokens=True)\n",
    "    return translated_texts"
   ]
  },
  {
   "cell_type": "code",
   "execution_count": 74,
   "id": "25425329-4347-4551-b4e5-e70afc61af56",
   "metadata": {},
   "outputs": [],
   "source": [
    "# Sample data\n",
    "src_texts = [\n",
    "    \"Das ist ein Test.\",\n",
    "    \"Wie geht es dir?\",\n",
    "    \"Ich liebe das Lernen neuer Sprachen.\"\n",
    "]\n",
    "ref_texts = [\n",
    "    \"This is a test.\",\n",
    "    \"How are you?\",\n",
    "    \"I love learning new languages.\"\n",
    "]"
   ]
  },
  {
   "cell_type": "code",
   "execution_count": 75,
   "id": "fc85f4f1-1e67-47d3-ad54-42cd00b5923b",
   "metadata": {},
   "outputs": [],
   "source": [
    "pred_texts = translate(src_texts, tokenizer, model)"
   ]
  },
  {
   "cell_type": "code",
   "execution_count": 76,
   "id": "da884fc9-8613-4925-9bd2-c54af1a85e25",
   "metadata": {},
   "outputs": [
    {
     "name": "stdout",
     "output_type": "stream",
     "text": [
      "BLEU score: 26.604926507725\n"
     ]
    }
   ],
   "source": [
    "bleu = sacrebleu.corpus_bleu(pred_texts, [ref_texts])\n",
    "print(f\"BLEU score: {bleu.score}\")"
   ]
  },
  {
   "cell_type": "code",
   "execution_count": 77,
   "id": "01ff06ab-8d15-48d5-a59d-b3c9684c1cbf",
   "metadata": {},
   "outputs": [
    {
     "data": {
      "text/plain": [
       "['that is a test.',\n",
       " 'How does it work for you?',\n",
       " 'I love learning to speak more.']"
      ]
     },
     "execution_count": 77,
     "metadata": {},
     "output_type": "execute_result"
    }
   ],
   "source": [
    "pred_texts"
   ]
  },
  {
   "cell_type": "code",
   "execution_count": 23,
   "id": "d5d0e047-0a05-4ad4-a860-d5e77e69da75",
   "metadata": {},
   "outputs": [],
   "source": [
    "def evaluate_bleu(validation_dataset, tokenizer, model, batch_size=32):\n",
    "    src_texts = [entry['translation']['de'] for entry in validation_dataset]\n",
    "    ref_texts = [entry['translation']['en'] for entry in validation_dataset]\n",
    "\n",
    "    num_batches = len(src_texts) // batch_size + int(len(src_texts) % batch_size > 0)\n",
    "    all_pred_texts = []\n",
    "    all_ref_texts = []\n",
    "\n",
    "    for i in trange(num_batches, desc=\"Processing Batches\"):\n",
    "        batch_src_texts = src_texts[i * batch_size:(i + 1) * batch_size]\n",
    "        batch_ref_texts = ref_texts[i * batch_size:(i + 1) * batch_size]\n",
    "        \n",
    "        # Translate the current minibatch\n",
    "        batch_pred_texts = translate(batch_src_texts, tokenizer, model)\n",
    "        \n",
    "        # Store predictions and references\n",
    "        all_pred_texts.extend(batch_pred_texts)\n",
    "        all_ref_texts.extend(batch_ref_texts)\n",
    "        \n",
    "    bleu = sacrebleu.corpus_bleu(all_pred_texts, [all_ref_texts])\n",
    "    return bleu"
   ]
  },
  {
   "cell_type": "code",
   "execution_count": 88,
   "id": "11d4cab2-0b26-4327-8a58-b4d9e82b8b56",
   "metadata": {},
   "outputs": [
    {
     "data": {
      "application/vnd.jupyter.widget-view+json": {
       "model_id": "c78988667c044e3094fa24a18fcb9c84",
       "version_major": 2,
       "version_minor": 0
      },
      "text/plain": [
       "Processing Batches:   0%|          | 0/68 [00:00<?, ?it/s]"
      ]
     },
     "metadata": {},
     "output_type": "display_data"
    },
    {
     "name": "stdout",
     "output_type": "stream",
     "text": [
      "BLEU score: 12.70440937875939\n"
     ]
    }
   ],
   "source": [
    "with torch.no_grad():\n",
    "    bleu = evaluate_bleu(de_en_ds_valid, tokenizer, model)\n",
    "print(f\"BLEU score: {bleu.score}\")"
   ]
  },
  {
   "cell_type": "code",
   "execution_count": 24,
   "id": "eed6ed50-c06e-4449-bf5d-db2b317144c4",
   "metadata": {},
   "outputs": [],
   "source": [
    "torch.cuda.empty_cache()"
   ]
  },
  {
   "cell_type": "code",
   "execution_count": 25,
   "id": "2837e1a1-8f2b-42e0-9f83-19abc910644e",
   "metadata": {},
   "outputs": [],
   "source": [
    "model = model.to('cpu')"
   ]
  },
  {
   "cell_type": "code",
   "execution_count": 26,
   "id": "d97f354f-833c-429a-8189-102956542530",
   "metadata": {},
   "outputs": [],
   "source": [
    "del model"
   ]
  },
  {
   "cell_type": "markdown",
   "id": "ee2a07da-36d4-492d-a010-364210981e38",
   "metadata": {},
   "source": [
    "# Create Customized Transformer Model"
   ]
  },
  {
   "cell_type": "code",
   "execution_count": 27,
   "id": "3d4f90ae-d134-4c4a-a9c8-62d2623d845d",
   "metadata": {},
   "outputs": [],
   "source": [
    "import math"
   ]
  },
  {
   "cell_type": "code",
   "execution_count": 451,
   "id": "52046b0b-227b-4fa3-b8ca-bbb1f676ec1d",
   "metadata": {},
   "outputs": [
    {
     "name": "stderr",
     "output_type": "stream",
     "text": [
      "/home/geshi/.local/lib/python3.10/site-packages/huggingface_hub/file_download.py:1132: FutureWarning: `resume_download` is deprecated and will be removed in version 1.0.0. Downloads always resume when possible. If you want to force a new download, use `force_download=True`.\n",
      "  warnings.warn(\n"
     ]
    }
   ],
   "source": [
    "en_tokenizer = AutoTokenizer.from_pretrained(\"google/bert2bert_L-24_wmt_de_en\", pad_token=\"<pad>\", eos_token=\"</s>\", bos_token=\"<s>\", unk_token=\"<unk>\")\n",
    "de_tokenizer = AutoTokenizer.from_pretrained(\"google/bert2bert_L-24_wmt_en_de\", pad_token=\"<pad>\", eos_token=\"</s>\", bos_token=\"<s>\", unk_token=\"<unk>\")"
   ]
  },
  {
   "cell_type": "code",
   "execution_count": 452,
   "id": "90f57eaa-08bc-42b5-8022-fe63b7f0b20b",
   "metadata": {},
   "outputs": [],
   "source": [
    "vocab_size = len(tokenizer.get_vocab())"
   ]
  },
  {
   "cell_type": "code",
   "execution_count": 464,
   "id": "8b7b9745-a4bb-47c5-a213-64909b327564",
   "metadata": {},
   "outputs": [],
   "source": [
    "en_vocab_size = len(en_tokenizer.get_vocab())\n",
    "de_vocab_size = len(de_tokenizer.get_vocab())\n",
    "batch_size = 128\n",
    "d_model = 512\n",
    "n_head = 4\n",
    "max_len = 32\n",
    "dropout = 0.1\n",
    "n_enc_layer = 2\n",
    "n_dec_layer = 2"
   ]
  },
  {
   "cell_type": "code",
   "execution_count": 465,
   "id": "35dacf3d-8782-4afc-bf0c-67163f9d656f",
   "metadata": {},
   "outputs": [],
   "source": [
    "embedding = torch.rand(batch_size, max_len, d_model)"
   ]
  },
  {
   "cell_type": "code",
   "execution_count": 466,
   "id": "1b171e83-acc9-439e-82ef-081c4eaa747d",
   "metadata": {},
   "outputs": [],
   "source": [
    "class PositionalEmbedding(nn.Module):\n",
    "    def __init__(self, d_model, max_len):\n",
    "        super(PositionalEmbedding, self).__init__()\n",
    "        # b, t, d\n",
    "        self.encoding = torch.zeros(max_len, d_model)\n",
    "        pos = torch.arange(0, max_len).unsqueeze(1).float()\n",
    "        div = torch.exp(-torch.arange(0, d_model, 2).float() * (math.log(10000.0) / d_model))\n",
    "\n",
    "        self.encoding[:, 0::2] = torch.sin(pos * div)\n",
    "        self.encoding[:, 1::2] = torch.cos(pos * div)\n",
    "        self.encoding = self.encoding.unsqueeze(0)\n",
    "    \n",
    "    def forward(self, x):\n",
    "        return x + self.encoding[:, :x.size(1)].to(x.device)"
   ]
  },
  {
   "cell_type": "code",
   "execution_count": 467,
   "id": "62861d94-075b-4e5a-bba8-0136fea79fe2",
   "metadata": {},
   "outputs": [],
   "source": [
    "pe = PositionalEmbedding(d_model, max_len)"
   ]
  },
  {
   "cell_type": "code",
   "execution_count": 468,
   "id": "1b210f7c-ecc9-4daf-9156-b342af7d006c",
   "metadata": {},
   "outputs": [
    {
     "data": {
      "text/plain": [
       "torch.Size([128, 32, 512])"
      ]
     },
     "execution_count": 468,
     "metadata": {},
     "output_type": "execute_result"
    }
   ],
   "source": [
    "pe(embedding).size()"
   ]
  },
  {
   "cell_type": "code",
   "execution_count": 469,
   "id": "509710c1-9b4b-4348-bf07-b8062ffadd99",
   "metadata": {},
   "outputs": [],
   "source": [
    "class MultiHeadAttention(nn.Module):\n",
    "    def __init__(self, d_model, n_head):\n",
    "        super(MultiHeadAttention, self).__init__()\n",
    "        assert d_model % n_head == 0, \"The dimension of model must be divisible by the number of heads\"\n",
    "        \n",
    "        self.n_head = n_head\n",
    "        self.d_model = d_model\n",
    "        self.d_head = d_model // n_head\n",
    "        \n",
    "        self.Wq = nn.Linear(d_model, d_model)\n",
    "        self.Wk = nn.Linear(d_model, d_model)\n",
    "        self.Wv = nn.Linear(d_model, d_model)\n",
    "        self.proj = nn.Linear(d_model, d_model)\n",
    "\n",
    "    def split_into_heads(self, x, batch_size):\n",
    "        x = x.contiguous().view(batch_size, -1, self.n_head, self.d_head)\n",
    "        return x.permute(0, 2, 1, 3)\n",
    "        \n",
    "    def forward(self, v, k, q, mask=None):\n",
    "        q = self.Wq(q)\n",
    "        k = self.Wk(k)\n",
    "        v = self.Wk(v)\n",
    "        batch_size = q.size(0)\n",
    "\n",
    "        q = self.split_into_heads(q, batch_size)\n",
    "        k = self.split_into_heads(k, batch_size)\n",
    "        v = self.split_into_heads(v, batch_size)\n",
    "\n",
    "        attention = torch.matmul(q, k.transpose(-2, -1)) / math.sqrt(self.d_head)\n",
    "        \n",
    "        if mask is not None:\n",
    "            attention = attention.masked_fill(mask, float('-inf'))\n",
    "        attention = F.softmax(attention, dim=-1)\n",
    "\n",
    "        output = torch.matmul(attention, v)\n",
    "        output = output.transpose(1, 2)\n",
    "        output = output.contiguous().view(batch_size, -1, self.d_model)\n",
    "            \n",
    "        output = self.proj(output)\n",
    "        return output"
   ]
  },
  {
   "cell_type": "code",
   "execution_count": 470,
   "id": "234b1bfa-bde3-462e-ba8f-c0281453359c",
   "metadata": {},
   "outputs": [],
   "source": [
    "mla = MultiHeadAttention(d_model, n_head)"
   ]
  },
  {
   "cell_type": "code",
   "execution_count": 471,
   "id": "f018a294-5b37-4eff-8337-06ebb23669b9",
   "metadata": {},
   "outputs": [
    {
     "data": {
      "text/plain": [
       "torch.Size([128, 32, 512])"
      ]
     },
     "execution_count": 471,
     "metadata": {},
     "output_type": "execute_result"
    }
   ],
   "source": [
    "mla(embedding, embedding, embedding).size()"
   ]
  },
  {
   "cell_type": "code",
   "execution_count": 472,
   "id": "429e9c38-bc8a-4aaa-b4fc-b25567b0906c",
   "metadata": {},
   "outputs": [],
   "source": [
    "class FeedForward(nn.Module):\n",
    "    def __init__(self, d_model, dropout=0.1):\n",
    "        super(FeedForward, self).__init__()\n",
    "        self.linear1 = nn.Linear(d_model, d_model * 2)\n",
    "        self.linear2 = nn.Linear(d_model * 2, d_model)\n",
    "        self.relu = nn.ReLU()\n",
    "        self.dropout = nn.Dropout(dropout)\n",
    "        \n",
    "    def forward(self, x):\n",
    "        x = self.relu(self.linear1(x))\n",
    "        x = self.dropout(x)\n",
    "        x = self.linear2(x)\n",
    "        return x"
   ]
  },
  {
   "cell_type": "code",
   "execution_count": 473,
   "id": "86657389-ea96-4d7f-8a2b-e321c2b0b96d",
   "metadata": {},
   "outputs": [],
   "source": [
    "ff = FeedForward(d_model, dropout)"
   ]
  },
  {
   "cell_type": "code",
   "execution_count": 474,
   "id": "ac347ce4-54e2-4b10-acf4-6e4a3f362393",
   "metadata": {},
   "outputs": [
    {
     "data": {
      "text/plain": [
       "torch.Size([128, 32, 512])"
      ]
     },
     "execution_count": 474,
     "metadata": {},
     "output_type": "execute_result"
    }
   ],
   "source": [
    "ff(embedding).size()"
   ]
  },
  {
   "cell_type": "code",
   "execution_count": 475,
   "id": "eba65554-601f-497e-bb76-7fa7cd0045d8",
   "metadata": {},
   "outputs": [],
   "source": [
    "class EncoderBlock(nn.Module):\n",
    "    def __init__(self, d_model, n_head, dropout=0.1):\n",
    "        super(EncoderBlock, self).__init__()\n",
    "        self.mla = MultiHeadAttention(d_model, n_head)\n",
    "        self.norm1 = nn.LayerNorm(d_model)\n",
    "        self.dropout1 = nn.Dropout(dropout)\n",
    "        self.ff = FeedForward(d_model, dropout)\n",
    "        self.norm2 = nn.LayerNorm(d_model)\n",
    "        self.dropout2 = nn.Dropout(dropout)\n",
    "    \n",
    "    def forward(self, src, src_mask=None):\n",
    "        attn_output = self.mla(src, src, src, src_mask)\n",
    "        src = src + self.dropout1(attn_output)\n",
    "        src = self.norm1(src)\n",
    "\n",
    "        ff_output = self.ff(src)\n",
    "        src = src + self.dropout2(ff_output)\n",
    "        src = self.norm2(src)\n",
    "        return src"
   ]
  },
  {
   "cell_type": "code",
   "execution_count": 476,
   "id": "cdd750d7-0a2d-4844-a33c-a787b45c543a",
   "metadata": {},
   "outputs": [],
   "source": [
    "eb = EncoderBlock(d_model, n_head, dropout)"
   ]
  },
  {
   "cell_type": "code",
   "execution_count": 477,
   "id": "7a97df4c-d470-4520-a76c-345a01b9a288",
   "metadata": {},
   "outputs": [
    {
     "data": {
      "text/plain": [
       "torch.Size([128, 32, 512])"
      ]
     },
     "execution_count": 477,
     "metadata": {},
     "output_type": "execute_result"
    }
   ],
   "source": [
    "eb(embedding).size()"
   ]
  },
  {
   "cell_type": "code",
   "execution_count": 478,
   "id": "b09cca2c-851c-450b-8152-bcbcaf95e216",
   "metadata": {},
   "outputs": [],
   "source": [
    "class DecoderBlock(nn.Module):\n",
    "    def __init__(self, d_model, n_head, dropout=0.1):\n",
    "        super(DecoderBlock, self).__init__()\n",
    "        self.mla1 = MultiHeadAttention(d_model, n_head)\n",
    "        self.norm1 = nn.LayerNorm(d_model)\n",
    "        self.dropout1 = nn.Dropout(dropout)\n",
    "        self.mla2 = MultiHeadAttention(d_model, n_head)\n",
    "        self.norm2 = nn.LayerNorm(d_model)\n",
    "        self.dropout2 = nn.Dropout(dropout)\n",
    "        self.ff = FeedForward(d_model, dropout)\n",
    "        self.norm3 = nn.LayerNorm(d_model)\n",
    "        self.dropout3 = nn.Dropout(dropout)\n",
    "    \n",
    "    def forward(self, tgt, memory, tgt_mask=None, memory_mask=None):\n",
    "        tgt_attn_output = self.mla1(tgt, tgt, tgt, tgt_mask)\n",
    "        tgt = tgt + self.dropout1(tgt_attn_output)\n",
    "        tgt = self.norm1(tgt)\n",
    "\n",
    "        attn_output = self.mla2(memory, memory, tgt, memory_mask)\n",
    "        tgt = tgt + self.dropout2(attn_output)\n",
    "        tgt = self.norm2(tgt)\n",
    "\n",
    "        ff_output = self.ff(tgt)\n",
    "        tgt = tgt + self.dropout3(ff_output)\n",
    "        tgt = self.norm3(tgt)\n",
    "        return tgt"
   ]
  },
  {
   "cell_type": "code",
   "execution_count": 479,
   "id": "03fa937f-5b69-491b-8eb1-35b9d7396aae",
   "metadata": {},
   "outputs": [],
   "source": [
    "db = DecoderBlock(d_model, n_head, dropout)"
   ]
  },
  {
   "cell_type": "code",
   "execution_count": 480,
   "id": "6f1b73f2-736e-458b-9976-cde31cacadd3",
   "metadata": {},
   "outputs": [
    {
     "data": {
      "text/plain": [
       "torch.Size([128, 32, 512])"
      ]
     },
     "execution_count": 480,
     "metadata": {},
     "output_type": "execute_result"
    }
   ],
   "source": [
    "db(embedding, embedding).size()"
   ]
  },
  {
   "cell_type": "code",
   "execution_count": 481,
   "id": "7394fada-d235-4481-91c8-0c9cbf179229",
   "metadata": {},
   "outputs": [],
   "source": [
    "class TransformerEncoder(nn.Module):\n",
    "    def __init__(self, n_layer, d_model, n_head, dropout=0.1):\n",
    "        super(TransformerEncoder, self).__init__()\n",
    "        self.ebs = nn.ModuleList([EncoderBlock(d_model, n_head, dropout) for _ in range(n_layer)])\n",
    "        self.norm = nn.LayerNorm(d_model)\n",
    "        \n",
    "    def forward(self, src, src_mask=None):\n",
    "        for eb in self.ebs:\n",
    "            src = eb(src, src_mask)\n",
    "        src = self.norm(src)\n",
    "        return src"
   ]
  },
  {
   "cell_type": "code",
   "execution_count": 482,
   "id": "5f7a7c6b-3f4c-4d79-b4c1-05ff3438caef",
   "metadata": {},
   "outputs": [],
   "source": [
    "tenc = TransformerEncoder(n_enc_layer, d_model, n_head, dropout)"
   ]
  },
  {
   "cell_type": "code",
   "execution_count": 483,
   "id": "c739db83-a39a-4043-969b-926dd595916d",
   "metadata": {},
   "outputs": [
    {
     "data": {
      "text/plain": [
       "torch.Size([128, 32, 512])"
      ]
     },
     "execution_count": 483,
     "metadata": {},
     "output_type": "execute_result"
    }
   ],
   "source": [
    "tenc(embedding).size()"
   ]
  },
  {
   "cell_type": "code",
   "execution_count": 484,
   "id": "5894d496-c927-48f8-9678-34f53597a397",
   "metadata": {},
   "outputs": [],
   "source": [
    "class TransformerDecoder(nn.Module):\n",
    "    def __init__(self, n_layer, d_model, n_head, dropout=0.1):\n",
    "        super(TransformerDecoder, self).__init__()\n",
    "        self.dbs = nn.ModuleList([DecoderBlock(d_model, n_head, dropout) for _ in range(n_layer)])\n",
    "        self.norm = nn.LayerNorm(d_model)\n",
    "        \n",
    "    def forward(self, tgt, memory, tgt_mask=None, memory_mask=None):\n",
    "        for db in self.dbs:\n",
    "            tgt = db(tgt, memory, tgt_mask, memory_mask)\n",
    "        tgt = self.norm(tgt)\n",
    "        return tgt"
   ]
  },
  {
   "cell_type": "code",
   "execution_count": 485,
   "id": "5beec8db-8a08-4e9e-8486-c61597b18364",
   "metadata": {},
   "outputs": [],
   "source": [
    "tdec = TransformerDecoder(n_dec_layer, d_model, n_head, dropout)"
   ]
  },
  {
   "cell_type": "code",
   "execution_count": 486,
   "id": "24c53dac-4b0c-490b-8747-4aba731e180f",
   "metadata": {},
   "outputs": [
    {
     "data": {
      "text/plain": [
       "torch.Size([128, 32, 512])"
      ]
     },
     "execution_count": 486,
     "metadata": {},
     "output_type": "execute_result"
    }
   ],
   "source": [
    "tdec(embedding, embedding).size()"
   ]
  },
  {
   "cell_type": "code",
   "execution_count": 487,
   "id": "4e12646d-fdaf-4cb0-a5e2-3d7f57aa65a0",
   "metadata": {},
   "outputs": [],
   "source": [
    "class Transformer(nn.Module):\n",
    "    def __init__(self, d_model, n_head, enc_vocab_size, dec_vocab_size, max_len, n_enc_layer, n_dec_layer, dropout=0.1):\n",
    "        super(Transformer, self).__init__()\n",
    "        self.d_model = d_model\n",
    "        self.enc_vocab_size = enc_vocab_size\n",
    "        self.dec_vocab_size = dec_vocab_size\n",
    "        \n",
    "        self.embedding_enc = nn.Embedding(enc_vocab_size, d_model)\n",
    "        self.embedding_dec = nn.Embedding(dec_vocab_size, d_model)\n",
    "        \n",
    "        self.pe_enc= PositionalEmbedding(d_model, max_len)\n",
    "        self.pe_dec= PositionalEmbedding(d_model, max_len)\n",
    "        \n",
    "        self.encoder = TransformerEncoder(n_enc_layer, d_model, n_head, dropout)\n",
    "        self.decoder = TransformerDecoder(n_dec_layer, d_model, n_head, dropout)\n",
    "        \n",
    "        self.linear = nn.Linear(d_model, dec_vocab_size)\n",
    "\n",
    "    def forward(self, src, tgt, src_mask=None, tgt_mask=None, memory_mask=None):\n",
    "        src = self.embedding_enc(src)\n",
    "        src = self.pe_enc(src)\n",
    "        memory = self.encoder(src, src_mask)\n",
    "\n",
    "        tgt = self.embedding_dec(tgt)\n",
    "        tgt = self.pe_dec(tgt)\n",
    "        tgt = self.decoder(tgt, memory, tgt_mask, memory_mask)\n",
    "        \n",
    "        output = self.linear(tgt)\n",
    "        return output"
   ]
  },
  {
   "cell_type": "code",
   "execution_count": 488,
   "id": "49894551-52d2-4a69-a709-0cbec4b481bf",
   "metadata": {},
   "outputs": [],
   "source": [
    "model = Transformer(d_model, n_head, de_vocab_size, en_vocab_size, max_len, n_enc_layer, n_dec_layer, dropout)"
   ]
  },
  {
   "cell_type": "code",
   "execution_count": 489,
   "id": "68037e90-479b-47c6-ab28-b6c5c1b6164c",
   "metadata": {},
   "outputs": [],
   "source": [
    "src = torch.randint(0, de_vocab_size, (batch_size, 15))\n",
    "tgt = torch.randint(0, en_vocab_size, (batch_size, 20))"
   ]
  },
  {
   "cell_type": "code",
   "execution_count": 490,
   "id": "d23ac390-65ed-4006-a704-cfbad0a5a448",
   "metadata": {},
   "outputs": [
    {
     "data": {
      "text/plain": [
       "torch.Size([128, 20, 31950])"
      ]
     },
     "execution_count": 490,
     "metadata": {},
     "output_type": "execute_result"
    }
   ],
   "source": [
    "model(src, tgt).size()"
   ]
  },
  {
   "cell_type": "code",
   "execution_count": 295,
   "id": "761ff463-06c6-4015-8c68-bcbb8e394627",
   "metadata": {},
   "outputs": [],
   "source": [
    "input_ids = en_tokenizer.encode('I love iPod', padding='max_length', max_length=max_len)"
   ]
  },
  {
   "cell_type": "code",
   "execution_count": 296,
   "id": "7e268e48-2394-4a33-9c65-d7a708ff5f18",
   "metadata": {},
   "outputs": [
    {
     "data": {
      "text/plain": [
       "[101,\n",
       " 178,\n",
       " 3940,\n",
       " 178,\n",
       " 6612,\n",
       " 1204,\n",
       " 102,\n",
       " 0,\n",
       " 0,\n",
       " 0,\n",
       " 0,\n",
       " 0,\n",
       " 0,\n",
       " 0,\n",
       " 0,\n",
       " 0,\n",
       " 0,\n",
       " 0,\n",
       " 0,\n",
       " 0,\n",
       " 0,\n",
       " 0,\n",
       " 0,\n",
       " 0,\n",
       " 0,\n",
       " 0,\n",
       " 0,\n",
       " 0,\n",
       " 0,\n",
       " 0,\n",
       " 0,\n",
       " 0]"
      ]
     },
     "execution_count": 296,
     "metadata": {},
     "output_type": "execute_result"
    }
   ],
   "source": [
    "input_ids"
   ]
  },
  {
   "cell_type": "code",
   "execution_count": 491,
   "id": "97f21d0f-0696-491b-8abf-95f7a26f6c9e",
   "metadata": {},
   "outputs": [],
   "source": [
    "def create_padding_mask(seq, padding_id):\n",
    "    mask = (seq == padding_id).unsqueeze(1).unsqueeze(2)\n",
    "    return mask"
   ]
  },
  {
   "cell_type": "code",
   "execution_count": 492,
   "id": "3be5cf4c-9b87-4f84-a225-fa6ff7231228",
   "metadata": {},
   "outputs": [
    {
     "name": "stdout",
     "output_type": "stream",
     "text": [
      "torch.Size([1, 1, 1, 32])\n"
     ]
    }
   ],
   "source": [
    "padding_mask = create_padding_mask(torch.tensor(input_ids).unsqueeze(0), 0)\n",
    "print(padding_mask.shape)"
   ]
  },
  {
   "cell_type": "code",
   "execution_count": 493,
   "id": "48810504-b6f0-4bdf-acee-dd9c756babe9",
   "metadata": {
    "scrolled": true
   },
   "outputs": [
    {
     "data": {
      "text/plain": [
       "tensor([[[[False, False, False, False, False, False, False,  True,  True,  True,\n",
       "            True,  True,  True,  True,  True,  True,  True,  True,  True,  True,\n",
       "            True,  True,  True,  True,  True,  True,  True,  True,  True,  True,\n",
       "            True,  True]]]])"
      ]
     },
     "execution_count": 493,
     "metadata": {},
     "output_type": "execute_result"
    }
   ],
   "source": [
    "padding_mask"
   ]
  },
  {
   "cell_type": "code",
   "execution_count": 494,
   "id": "5d825699-7e63-47da-9f27-c9c78bc2eed8",
   "metadata": {},
   "outputs": [],
   "source": [
    "def create_look_ahead_mask(size):\n",
    "    mask = torch.triu(torch.ones((1, size, size)), diagonal=1)\n",
    "    mask = mask == 1\n",
    "    return mask"
   ]
  },
  {
   "cell_type": "code",
   "execution_count": 495,
   "id": "d2fe4591-5dd8-4f3d-b2f0-9d83745056b7",
   "metadata": {},
   "outputs": [
    {
     "name": "stdout",
     "output_type": "stream",
     "text": [
      "torch.Size([1, 32, 32])\n"
     ]
    }
   ],
   "source": [
    "look_ahead_mask = create_look_ahead_mask(len(input_ids))\n",
    "print(look_ahead_mask.shape)"
   ]
  },
  {
   "cell_type": "code",
   "execution_count": 302,
   "id": "ad2a0f69-60eb-4004-b506-d00d35f4b79d",
   "metadata": {},
   "outputs": [
    {
     "data": {
      "text/plain": [
       "tensor([[[False,  True,  True,  ...,  True,  True,  True],\n",
       "         [False, False,  True,  ...,  True,  True,  True],\n",
       "         [False, False, False,  ...,  True,  True,  True],\n",
       "         ...,\n",
       "         [False, False, False,  ..., False,  True,  True],\n",
       "         [False, False, False,  ..., False, False,  True],\n",
       "         [False, False, False,  ..., False, False, False]]])"
      ]
     },
     "execution_count": 302,
     "metadata": {},
     "output_type": "execute_result"
    }
   ],
   "source": [
    "look_ahead_mask"
   ]
  },
  {
   "cell_type": "code",
   "execution_count": 303,
   "id": "f6a8457c-871f-4cb4-83bc-a1449ae17788",
   "metadata": {},
   "outputs": [],
   "source": [
    "src_input_ids = torch.zeros(batch_size, max_len).long()\n",
    "src_input_ids[:src.size(0), :src.size(1)] = src\n",
    "tgt_input_ids = torch.zeros(batch_size, max_len).long()\n",
    "tgt_input_ids[:tgt.size(0), :tgt.size(1)] = tgt"
   ]
  },
  {
   "cell_type": "code",
   "execution_count": 304,
   "id": "d01774a2-1a4d-479e-bbd7-fb108324c78a",
   "metadata": {},
   "outputs": [],
   "source": [
    "src_mask = create_padding_mask(src_input_ids, 0)\n",
    "tgt_mask = create_padding_mask(tgt_input_ids, 0)\n",
    "look_ahead_mask = create_look_ahead_mask(tgt_input_ids.size(1))\n",
    "tgt_mask = tgt_mask | look_ahead_mask"
   ]
  },
  {
   "cell_type": "code",
   "execution_count": 305,
   "id": "34187e7e-0b37-455f-a76d-a2f86af82807",
   "metadata": {},
   "outputs": [
    {
     "name": "stdout",
     "output_type": "stream",
     "text": [
      "torch.Size([8, 1, 1, 32]) torch.Size([8, 1, 32, 32]) torch.Size([1, 1000, 1000])\n"
     ]
    }
   ],
   "source": [
    "print(src_mask.shape, tgt_mask.shape, memory_mask.shape)"
   ]
  },
  {
   "cell_type": "code",
   "execution_count": 308,
   "id": "fcadf3aa-079c-4288-8856-70844bba6f03",
   "metadata": {},
   "outputs": [],
   "source": [
    "output = model(src_input_ids, tgt_input_ids, src_mask=src_mask, tgt_mask=tgt_mask, memory_mask=src_mask)"
   ]
  },
  {
   "cell_type": "code",
   "execution_count": 309,
   "id": "aa2d3030-d737-4e79-8eef-8786a47e94aa",
   "metadata": {},
   "outputs": [
    {
     "data": {
      "text/plain": [
       "torch.Size([8, 32, 31951])"
      ]
     },
     "execution_count": 309,
     "metadata": {},
     "output_type": "execute_result"
    }
   ],
   "source": [
    "output.shape"
   ]
  },
  {
   "cell_type": "markdown",
   "id": "31d8eaf6-12f3-4253-b99f-a1c942226c4d",
   "metadata": {},
   "source": [
    "# Training"
   ]
  },
  {
   "cell_type": "code",
   "execution_count": 320,
   "id": "326ea52d-bae6-41fb-af2a-166bced12c8d",
   "metadata": {},
   "outputs": [],
   "source": [
    "from torch import optim\n",
    "from torch.utils.data import DataLoader"
   ]
  },
  {
   "cell_type": "code",
   "execution_count": 496,
   "id": "8c24ef69-77aa-4881-9515-91e2e38148e8",
   "metadata": {},
   "outputs": [],
   "source": [
    "pad_id = de_tokenizer.get_vocab()['<pad>']"
   ]
  },
  {
   "cell_type": "code",
   "execution_count": 497,
   "id": "6de951bc-439b-44a8-bbe8-3c7366a4e5a4",
   "metadata": {},
   "outputs": [],
   "source": [
    "trainloader = DataLoader(de_en_ds['train'], batch_size=batch_size, shuffle=True)"
   ]
  },
  {
   "cell_type": "code",
   "execution_count": 498,
   "id": "bcd9114e-0290-4f7c-bf97-a4ef03bfed63",
   "metadata": {},
   "outputs": [
    {
     "data": {
      "text/plain": [
       "{'translation': {'de': ['Ich möchte Sie bitten, dass Sie diesem Vorschlag folgen.',\n",
       "   'Der Bericht erkennt diese Notwendigkeit an und schlägt einige wichtige Maßnahmen vor, die wir als positiv ansehen, beispielsweise die Schaffung von Marktbedingungen, die günstig für lokale Produktion, Verkauf und Verbrauch sind, und die Förderung von Modellen für kurze Lieferketten frei von gentechnisch veränderten Organismen (GVO).',\n",
       "   'Dieser Dateikopf wird von Adblock Plus 0.7.1 und höher unterstützt.',\n",
       "   'die Eigenschaft des Geldes im direkten Zahlungsverkehr mit Münzen und Scheinen.',\n",
       "   'Diese Website setzt einen sogenannten Cookie (siehe unten) auf Ihrem Rechner, dies ist erforderlich damit unser Webserver Sie von anderen Besuchern unterscheiden kann, um zum Beispiel Ihren Warenkorbinhalt von dem anderer Besucher trennen zu können.',\n",
       "   'Die generellen Entscheidungen des Lehrstuhls werden in einer Versammlung der Problematisierung, Ausarbeitung, Organisation und Gestaltung getroffen.',\n",
       "   'Die Fenster auf den Zimmern waren nur mit Hilfe von Mitarbeitern zu öffnen und schließen. Die Baustelle nebenan war sehr störend.',\n",
       "   'Zweitens muss es zwar Strafen für die Nichteinhaltung von MAP-Zielen geben, doch sollten sich diese natürlich an die Schuldigen richten.',\n",
       "   'Es geht mir aber nicht darum, ihn zu ersetzen, sondern darum, den letzten Teil, der mit \"zusätzlich zu den kurzfristigen Entwicklungskosten\" beginnt, mit in diesen Bericht aufzunehmen.',\n",
       "   'Web Link Validator is a powerful site management and link checker tool that allows webmasters to automate the process of ...',\n",
       "   'Von daher ist es nicht verwunderlich, dass es sich zu einem beliebten Badeort für die Homoszene entwickelt hat. In den Sommermonaten sind ca.',\n",
       "   'Danach sollen Multiplayer- sowie Netzwerk-Unterstützung und auch eine konsistente Storyline das Spiel abrunden.',\n",
       "   'Im November 1996 wurden endlich bescheidene Fortschritte mit dem Friedensabkommen erzielt und seit März vergangenen Jahres ein Ansatz zur Demokratisierung gemacht. Jetzt sind wir wieder da, wo wir waren.',\n",
       "   'Dieser ist als Schwanenhals ausgelegt, was eine genaue und individuelle Einstellung auf die Anforderungen des Benutzers erlaubt.',\n",
       "   'Auf uns lastet eine ungeheure Verantwortung.',\n",
       "   'Wir werden ferner die Umsetzung der Agenda zur nachhaltigen Entwicklung fortsetzen.',\n",
       "   'Und das stärkt die Verantwortung des Europäischen Parlaments und vermeidet völlig unnötige Konflikte zwischen beiden Institutionen.',\n",
       "   'Herr Präsident!',\n",
       "   'Kontaktlose Chipkarten Kontaktlose Karten sind in ISO/IEC 10536 \"Close Coupling Cards\", ISO/IEC 14443 \"Proximity Integrated Circuit Cards\" und ISO/IEC 15693 \"Vicinity Integrated Circuit Cards\", die noch keine Bedeutung errungen haben, behandelt.',\n",
       "   'Wir werden daher weiter in diesem Sinne mit den Mitgliedstaaten zusammenarbeiten und prüfen, dass die Dienstleistungsrichtlinie nicht lediglich umgesetzt, sondern wirklich ordnungsgemäß in Kraft gesetzt wird.',\n",
       "   'In der Erwartung, mehr und bessere Informationen über die tatsächliche Situation des Sektors zu erhalten, hat die Kommission die endgültige Reform um zwei Jahre verschoben und einen Vorschlag zu Qualitätsaspekten und Marktaktionen ausgearbeitet.',\n",
       "   'Außerhalb Großbritannien s und der USA wird QuarkXPress in der mehrsprachigen Passport-Variante verkauft, welche Silbentrennung und Rechtschreibprüfung in zahlreichen europäischen Sprachen erlaubt. Weiterhin gibt es arabische, chinesische, hebräische, indische und japanische Versionen.',\n",
       "   'Aber es ist auch notwendig - wenn auch hoffentlich selten - um bestimmte inländische Krisen in Schweden oder nahe gelegenen EU-Ländern bewältigen zu können.',\n",
       "   'Vielen Dank, Herr Donnici.',\n",
       "   'Den Gewerkschaften mit Hilfe der EU größere Einflußmöglichkeiten verschaffen zu wollen, ist eine veraltete Sichtweise.',\n",
       "   'LIEFERUNG INS AUSLAND: Wir liefern die Produkte, wenn der vollständige Betrag auf unserem Konto eingegangen ist.',\n",
       "   'Wir haben jedoch erst vor Kurzem über die Digitale Agenda gesprochen. Wir alle sind uns über die Digitale Agenda einig.',\n",
       "   'Den Patch gibt es auch dort.',\n",
       "   'Das stellt die Richtlinie klar; dazu wird es nicht kommen.',\n",
       "   'Bei Abschlüssen mit fortlaufender Auslieferung sind uns Abrufe und Sorteneinteilung für ungefähr gleiche Monatsmengen aufzugeben; andernfalls sind wir berechtigt, die Bestimmungen nach billigem Ermessen selbst vorzunehmen.',\n",
       "   'Wieder einmal billigt die internationale Gemeinschaft stillschweigend, dass Berlin und Washington ihre Interessen durchsetzen.',\n",
       "   'Herr Präsident, Frau Kommissarin, Frau amtierende Ratspräsidentin, verehrte Kolleginnen und Kollegen, selbstverständlich ist Kyoto eine der großen Herausforderungen des 21. Jahrhunderts. Aber die Art der Lösung des Problems der Klimaveränderung kann auch sehr bedeutsam für die Gesellschaft der Zukunft sein.',\n",
       "   'Der Sektor ermöglicht die Ausbildung von Personal im Hotel- und Gaststättengewerbe und in Fremdsprachen.',\n",
       "   'Das bedeutet, daß zuviel Zeit verschwendet wird, zuviele langatmige Dialoge stattfinden und zuviele Ressourcen des Hofs verschwenderisch verbraucht werden, so daß, wenn wir endlich zu einem Entlastungsverfahren kommen, unsere Informationen bereits veraltet sind.',\n",
       "   'The breakfast menu was top rate (first class).',\n",
       "   'Im Softwarepaket sind auch die angepasste GNU Entwicklungsumgebung mit vollständigem GCC C/C++ Cross Compiler und Debugger und die open-source-Version von Qt-embedded für die Entwicklung professioneller grafischer Benutzeroberflächen enthalten.',\n",
       "   'Eine der wichtigsten Reformen besteht meiner Ansicht nach darin, in der WTO parlamentarische Demokratie einzuführen.',\n",
       "   'Die Mitarbeiter an Bar / Frühstück / mittagessen und Abendessen könnten etwas freundlicher sein.',\n",
       "   'Bis sich diese Struktur herausbildet, sollten wir hoffen, dass Amerika weise führt und dass andere Länder, insbesondere Asiens neue Mächte, bei der Bewältigung globaler Krisen in bedeutungsvollerer Weise Verantwortung übernehmen.',\n",
       "   'Wir haben erklärt, dass wir jetzt sowohl die Sachfragen bezüglich der Zukunft Europas, als auch die Methoden, einschließlich der Frage des Konvents, diskutieren müssen.',\n",
       "   'Die Ereignisse von Andischan sind Ausdruck des Widerstands des usbekischen Volkes gegen die Unterdrückung.',\n",
       "   'Herr Präsident! Wir stehen nach Nizza vor zahlreichen offenen Fragen, auf die wir konkrete Antworten brauchen.',\n",
       "   'Im geräumigen Loungebereich des Gästhauses erholen Sie sich beim Fernsehen und können die Videoeinrichtung nutzen.',\n",
       "   'Er ist Wissenschaftler am Centre National de la recherche scientifique (CNRS) und forscht am Zentrum für historische Forschungen der Ecole des Hautes Etudes en Sciences Sociales, Paris, zur Staats- und Verwaltungsgeschichte, zur Geschichte der public policies und zu den Repräsentationsformen der Zivilgesellschaft.',\n",
       "   'Dem Umstand, dass die eine Methode, anderen Schaden zuzufügen, bereits über unsere gesamte evolutionäre Geschichte existiert, während die andere relativ neu ist, kommt im Grunde ethisch keine Bedeutung zu.',\n",
       "   'Schließlich werden wir Änderungsantrag 40 unserer Kollegen von den Grünen zustimmen und unterstützen, denn wir meinen, eine Maut darf sich nicht einfach auf eine Steuer oder eine zusätzliche Gebühr beschränken.',\n",
       "   'Tragbare Leitern müssen arretiert werden und standsicher sein, aber man muss auf ihnen arbeiten können.',\n",
       "   'An klaren Tagen kann man bis zu 6.000 m hohe Bergspitzen aus dem Zentrum aus sehen. Doch ebenfalls findet sich, etwas versteckt, einiges an kolonialer Architektur im Zentrum.',\n",
       "   'Diese interaktive Karte verortet alle Projekte rund um den Globus.',\n",
       "   'Um nichts anderes geht es bei unserer heutigen Debatte.',\n",
       "   'Die Nähe zur Innenstadt, dem Botanischen garten und dem Schloß Belvedere. Das Hotel und die Zimmer haben einen sehr angenehmen Luxus, nicht aufdringlich und sehr suaber.',\n",
       "   'Große Feierlichkeiten können Sie in unserem Reimmichlsaal angemessen begehen.',\n",
       "   'Zweitens: Wir sind davon überzeugt, daß die doppelte Angabe von Preisen eine gute Sache ist.',\n",
       "   'In diesem Punkt hat das Parlament meiner Auffassung nach eine Verbesserung erreicht.',\n",
       "   'Ich schlage vor, Punkt 44 ebenso wie den letzten Teil in Punkt 42 aus dem Bericht zu streichen, wonach gefordert wird, die agro-ökologischen Maßnahmen ausschließlich auf den Schutz gefährdeter Arten auszurichten.',\n",
       "   'Aus der Sicht des Ausschusses für Kultur, Jugend, Bildung und Medien muß der vorgelegte Bericht neben der Betonung des öffentlich-rechtlichen Rundfunks und des entsprechenden Amsterdamer Protokolls, das heißt, mit einem Programmauftrag, der nicht von einem EU-Kommissar festgelegt wird, noch folgende weitere Punkte enthalten: sogenannte must carry -Verpflichtungen für Netzbetreiber zugunsten der Programme öffentlich-rechtlicher Programmanbieter, eine ausgewogene Abstimmung von Medien, Telekommunikations- und Wettbewerbsrecht als Grundlage von Investitions- und Rechtssicherheit, die fortdauernde Gültigkeit von Regulierungsprinzipien wie Pluralismus, kulturelle Vielfalt, Jugendschutz und Produktion und Vertrieb von Qualitätsangeboten, auch in einer Welt ohne Frequenzknappheit, und die Forderung nach Vorlage eines Richtlinienentwurfs zu Medieneigentum und zur Sicherung des Pluralismus, weil gerade angesichts des Zusammenwachsens der Übertragungswege, aller Formen elektronischer Kommunikation der Zugang zu Rechten eine wichtige Frage für die Herausbildung von Marktmacht darstellt und deshalb weiter einer demokratischen Kontrolle unterworfen werden muß.',\n",
       "   'Mit diesem Änderungsantrag würde das Frettchen von der Liste der Tierarten, die ohne Veterinärbedingungen innerhalb der Gemeinschaft verbracht werden können, gestrichen werden.',\n",
       "   '/exit – Lässt den Spieler das Spiel verlassen.',\n",
       "   '120 Maximianus.jpg Marcus Aurelius Valerius Maximianus (* um 240 bei Sirmium , heute Sremska Mitrovica , in Pannonien ; † 310 in Gallien ), genannt Herculius, war vom 1. März 286 bis zum 1. Mai 305 zusammen mit Diokletian Kaiser des Römischen Reichs .',\n",
       "   'Sie werden in die Zivilisation zurückgebracht, wenn sie gefunden und gerettet werden.',\n",
       "   'Benachrichtigen Sie uns über die E-Mail-Adresse parentalrights@stardoll.com, wenn Sie diesen Vertrag nicht genehmigt haben und nicht damit einverstanden sind, dass Ihr Kind bei Stardoll Mitglied ist.',\n",
       "   'Zudem sehen wir keine Anzeichen für eine Verlangsamung: In den Jahren 2001 - 02 ergab sich ein Produktivitäts-Wachstum von im Durchschnitt fast 3 %. \\r',\n",
       "   'Ab jetzt ist es von entscheidender Wichtigkeit, dass die GVO-freien Gebiete in Europa erweitert werden - durch ökologischen Anbau und durch den freiwilligen Verzicht anderer Landwirte auf den Einsatz von GVO.',\n",
       "   'Allein gültig sind die jeweiligen, gemäß den rechtlichen Bestimmungen veröffentlichten Informationen, insbesondere Quartals- und Jahresabschlussberichte.',\n",
       "   '· den Nutzer einzuladen, bei Umfragen über Produkte, Dienstleistungen, Neuheiten und Events mitzumachen.',\n",
       "   'Traumhaftes Andalusien – in Südspanien warten 300 Tage Sonnenschein auf Sie.',\n",
       "   'Windows Mobile 6 verfügt über neue Möglichkeiten für das Lesen von Emails im Rich HTML Format, die vereinfachte Verwaltung von Emails durch neue Shortcuts sowie über verbesserte Kalenderansichten optimieren.',\n",
       "   'Sie erwähnten die Kommission, aber die Antwort, die Sie gegeben haben, betraf eher die Meere.',\n",
       "   'Werde benachrichtigt wenn labyrinth13 neue Slideshows erstellt.',\n",
       "   'Ich bitte Sie, Herr Präsident, den Fall zu untersuchen und den Abgeordneten beizustehen, denn das ist kein Beispiel für die Transparenz, die uns Herr Prodi bei der Übernahme seines Mandats versprochen hat.',\n",
       "   'Der Text wird der WTO im Rahmen von Absprachen mit Handelspartnern zur Bewertung vorgelegt.',\n",
       "   'Ich sehe, dass wir es zustande gebracht haben, dass Kommission und Parlament sich vorab über das jährliche Gesetzgebungsverfahren wie über die Mehrjahresplanungen vereinbaren und die Kommission keine gesetzgeberische oder andere bedeutende Initiative veröffentlicht, ehe sie nicht das Parlament davon unterrichtet hat.',\n",
       "   'Es macht mir Kummer, dass wir nicht mehr erreicht haben.',\n",
       "   'Die verbrannten Holzhäuser wurden durch steinerne ersetzt.',\n",
       "   'Es wird kein Europa mehr in dem globalen Durcheinander geben, wenn dieses Parlament und die Länder, die dazu bereit sind, nicht eine Debatte über die verstärkte Zusammenarbeit in der Gemeinsamen Außen- und Sicherheitspolitik anschieben.',\n",
       "   'Zudem trennen das Hotel nur 80 von der nächsten Straßenbahnhaltestelle und einem U-Bahnhof, so dass Sie rasch und mühelos in alle Teile Essens fahren.',\n",
       "   'Der Südwestmonsun bringt kurze, tropische Regenschauer von Mai bis Oktober in fast ganz Thailand.',\n",
       "   'Alle Städte und Dörfer Spaniens begehen ihre mehr oder weniger prachtvolle fiesta mayor, das Fest zu Ehren des oder der Schutzheiligen des Ortes oder einer Virgen.',\n",
       "   'Es darf auch keine Beitrittsrabatte geben, wie von Sozialisten und Grünen gefordert.',\n",
       "   'Es ist für uns menschenrechtlich, politisch, moralisch und schlicht menschlich absolut unwürdig, dass auf dem Gelände des ehemaligen Konzentrationslagers in Lety schon seit vierzig Jahren eine Schweinemast betrieben wird.',\n",
       "   'Bestandteil des Projektes war auch der Generalplan für die Entwicklung des ganzen Pietätgebiets.',\n",
       "   'The location and the value for money were excellent. The staff were courteous and they spoke english exceptionally well.',\n",
       "   'Ich hoffe, Herr Monti, daß Sie diese Wünsche auch ihrem Kollegen Kommissar Flynn übermitteln.',\n",
       "   '24.7.2003, Irkutsk, Was hätten wir ohne Nicolai gemacht?',\n",
       "   'Habt Ihr ein wunderbares Wochenende und genie�t in aller Ruhe auch das neue Video...',\n",
       "   'Ihr Stand ist alles andere als ideal; mit jeder Böe wehen Sand und Schutz auf das Fleisch.',\n",
       "   'Herr Präsident, meine sehr verehrten Damen und Herren! Für die Kommission möchte ich zunächst Ihnen, Frau Redondo Jiménez, und Ihren Kollegen im Ausschuß für Landwirtschaft für den Bericht über den vorliegenden Kommissionsvorschlag herzlich danken.',\n",
       "   'Anmerkung: neue Teams sind nicht sichtbar in der Statistik, bis mindestens ein Mitglied ihm beigetreten ist und die Statistik aktualisiert wurde.',\n",
       "   'Im Jahr 2004 beendete Cytter ihr Studium und produzierte eine Reihe international gezeigter Arbeiten, bei denen es sich vorwiegend um Experimentalfilme und Videoinstallationen handelt.',\n",
       "   'Die luxuriöse und stilvolle Innenausstattung stammt von Sir Terence Conran.',\n",
       "   'So ist die Lage, und jetzt, nach dem Gipfel von Barcelona - wo die Umweltthematik nicht umfassend behandelt wurde - würde ich nicht auf dieses anspruchsvolle Programm dringen, das hier zu viele Personen fordern.',\n",
       "   'Was die Zusammenarbeit mit dem Rat betrifft, so hatten wir mit mehreren Ratspräsidentschaften die Ehre.',\n",
       "   'Es ist ein im Hinblick auf die Bekämpfung des Klimawandels und die Anpassung an diesen äußerst wichtiges Gebiet.',\n",
       "   'Außerdem würden die Projekte von Essen einen größeren Anteil der Verkehrsfinanzierung der Union in Anspruch nehmen als vereinbart.',\n",
       "   'Es handelt sich dabei um Rechte, die jemandem unabhängig von seinem Personenstand verliehen werden.',\n",
       "   '3.8 Mit Abschluss des Mietvertrages und Zugang der Reservierungsbestätigung wird eine Vorauszahlung in Höhe von 20% des Mietpreises sofort fällig. Bei Einzelbuchungen (bis max.',\n",
       "   'Plastic Logics Abteilung Forschung und Entwicklung befindet sich in Cambridge, Großbritannien. Modernste Massenfertigungsanlagen befinden sich in Dresden, Deutschland, und Executive Management, Produktentwicklung, Verkauf und Marketing befinden sich im Hauptsitz in Mountain View, Kalifornien.',\n",
       "   '[1] vgl. Bojadzijev, Manuela/Karakayali, Serhat/Tsianos, Vassilis (2003): Papers and Roses. Die Autonomie der Migration und der Kampf um Rechte.',\n",
       "   'Keiner durfte das Krankenhaus verlassen.',\n",
       "   'Er rief sofort “roten Alarm” aus, was die Schließung der Zivilen Strukturen der Zapatistas (Autonomen Bezirke und Räte der Guten Regierungen) in Chiapas bedeutete.',\n",
       "   'Wird es Dir gelingen, mit den neusten Technologien Schritt zu halten, während Du Getreide anbaust, die Tiere fütterst, erntest und Waren herstellst?',\n",
       "   'Neben dem Rufzeichen und dem Infotext, wird die Richtung, die Entfernung und der Locator der zuletzt empfangenden Station angezeigt.',\n",
       "   'Wir hätten gern eine durchgreifende Überarbeitung der Vereinbarung zu den Ausgaben für die Landwirtschaft sowie eine gründliche Reform der Regionalbeihilfen gesehen.',\n",
       "   'Einer der erstaunlichsten Faktoren bei den Bemühungen zur Bewältigung der Krise ist aber die mangelnde Entschlossenheit, die Bilanzen der Banken sorgfältig zu studieren.',\n",
       "   'Der Engel Mikaa`eel ist der Beauftragte für Regen und Gewächse (Pflanzen).',\n",
       "   'Für weitere Informationen über die Produkte oder das Unternehmen Majorca S.p.A sowie für kaufmännische und/oder promotionelle Anfragen steht Ihnen folgendes Formular zur Verfügung.',\n",
       "   'Bitte wählen Sie aus der Menüleiste links.',\n",
       "   'Unser Maßstab lautet: Überall da, wo klare Verpflichtungen zur Behebung erkannter Defizite eingegangen worden sind und wo es keine schwerwiegenden Verfehlungen gibt, wird Entlastung erteilt.',\n",
       "   'Ein Handeln ist besonders deshalb geboten, weil diese Fische lange leben, langsam wachsen und eine geringe Reproduktionsfähigkeit haben.',\n",
       "   'Nach dieser positiven Erfahrung vertraute man deshalb auch bei Kettner auf EPIM für das Management von Produkt , Marketing und Unternehmensinformationen.',\n",
       "   'Außerdem war ich Spitzenkandidat der Europäischen Grünen Partei, die Ende Februar 2004 in Rom gegründet wurde.',\n",
       "   'Folglich würden wir uns empfehlen, mit den Zügen von mittlerem von Oktober zu reisen, bis mittler von April, zum deiner Reisen bis zum Zeitplan zu bilden.',\n",
       "   'Man ließ nur einen 50 cm hohen Mauerrest stehen, der später komplett entfernt wurde.',\n",
       "   'Ist für Sie die Art und Funktion der Maschine entscheidend, suchen Sie bitte nach einem bestimmten Maschinentyp / einer bestimmten Funktion, z.B. Schälen.',\n",
       "   \"Der Artikel über das Gegenstück aus dem Spiegeluniversum ist unter Miles O'Brien (Spiegeluniversum) zu finden.\",\n",
       "   'Dahab gehört zu den beliebtesten Urlaubsorten in Ägypten mit seinen guten Möglichkeiten zum Baden und Tauchen.',\n",
       "   'Wenn Sie Ihre Immobilie über Immogo verkaufen, können alle rechtlichen Aspekte der Transaktion von einem Notar organisiert und durchgeführt werden.',\n",
       "   'Das Hotel Hostal Tijcal I ist ein einzigartiges Hotel nur 20 m vom historischen Plaza Mayor entfernt, inmitten der Fußgängerzone.',\n",
       "   'ADVANTAGE ist ein modulares System mit dem Sie bestehende Extrusionsanlagen Schritt für Schritt nachrüsten und fit machen für den automatischen Dimensionswechsel.',\n",
       "   'Dazu gehört es auch, dass wir Gaddafi daran hindern müssen, seine eigene Bevölkerung zu bombardieren.',\n",
       "   'Seither hat sich der Verleih ausgeweitet: Wir haben inzwischen verschiedenste Schlauch- und Feststoffboote, um allen Wünschen unserer Kunden entgegenzukommen; für die Segler haben wir einige Schwertjollen und ein Kielboot mit Kabine.',\n",
       "   'Ich möchte den amtierenden Ratspräsidenten fragen, ob er mir zusichern kann, daß der Zugriff auf solche Gelder in Zukunft für solche Firmen erleichtert wird.',\n",
       "   'Wir laden all diejenigen ein, die auf der Suche nach Ruhe und Gelassenheit in unverdorbener Natur sind, und die eine entspannte familiäre Atmosphäre vorziehen, ihren Urlaub auf unserem Bauernhof zu verbringen.',\n",
       "   'Wenn man am frühen Abend mit einem kalten Glass Wein im Jacuzzi sitzt, war es sehr schwer, sich davon zu trennen, um noch essen zu gehen.',\n",
       "   'Zorn des Riesen fügt einem Spieler deiner Wahl 4 Schadenspunkte zu.',\n",
       "   'Zugleich hat er aber auch auf ein angemessenes Gleichgewicht zwischen den Verpflichtungen des Heimatlandes und den Verpflichtungen des Gastlandes Wert gelegt. Aber auch die Bedeutung einer angemessenen und unabhängigen Finanzaufsicht für die Gewährleistung der Finanzstabilität wurde noch einmal betont.',\n",
       "   'Der Sommer: An den Küsten frischer Wind, der den Sommer angenehm erscheinen lässt, im Inland dagegen heiß und trocken oder auch schwül, wobei sich während den schwülen Perioden kräftige Gewitter entladen.',\n",
       "   'Im Alten Testament der Sohn von Boas und Rut und der Vater Isais, welcher der Vater König Davids wurde (Rut 4:13–17, 21–22).'],\n",
       "  'en': ['I would ask you to support the proposal.',\n",
       "   'The report acknowledges this need and suggests some important measures that we consider positive, such as the creation of market conditions favourable to local production, sale and consumption, and the promotion of models for short supply chains free of genetically modified organisms (GMOs).',\n",
       "   'This type of header is supported starting with Adblock Plus 0.7.1.',\n",
       "   'Bar (law) - the community of persons engaged in the practice of law .',\n",
       "   'This website deposits a \"cookie\" (see below) on your computer. This is necessary in order to enable our web server from differentiating you from other users, for example, in order to separate your shopping basket contents from those of other users.',\n",
       "   'The general decisions within this initiative are taken by the Assembly of Problematization, Elaboration, Organization and Management.',\n",
       "   'The cleanliness and good location next to main railway station and Vialla shopping mall.',\n",
       "   'Secondly, while there must be penalties for non-implementation of MAGP targets, surely they must be targeted at the guilty parties.',\n",
       "   \"The intention is not to replace it but for the last part, which starts 'in addition to the short-term development costs', to be included in this report.\",\n",
       "   'ICQ Smart-Sender is a powerful ICQ messaging marketing software.',\n",
       "   'Therefore it is unsurprising that it has become a very popular gay beach resort, with the gay population accounting for almost 30% of summer tourism.',\n",
       "   'Afterwards multiplayer as well as network support and a consistent story line are to finish the game.',\n",
       "   'We at long last saw modest progress last year with the peace agreement in November and the introduction of democracy in March, but now it is back to square one.',\n",
       "   'The microphone boom allows an individual adjustment at the right position.',\n",
       "   'We have an immense responsibility here.',\n",
       "   'We will also continue to implement the sustainable development agenda.',\n",
       "   \"This confirms the European Parliament's responsibility and prevents totally futile disputes between the two institutions.\",\n",
       "   '.',\n",
       "   'Contactless chip card Contactless cards are standardized in ISO 10536 (close coupling), ISO 14443 (proximity) or 15693 (vicinity).',\n",
       "   'We are therefore going to continue to work in this spirit with the Member States and to verify that, as well as simply being transposed, the Services Directive is actually being implemented properly.',\n",
       "   'Hoping to receive more and better information on the actual situation in the sector, the Commission has postponed the final review for two years. It has presented a proposal with a bearing on quality aspects and market actions.',\n",
       "   \"Former CEO Kamar Aulakh has stated that customer service improvements have been Quark's number one priority.\",\n",
       "   \"But it is also needed - albeit, one hopes, rarely - to cope with certain domestic crises in Sweden or neighbouring EU countries.'\",\n",
       "   'Thank you, Mr Donnici.',\n",
       "   'It is an old-fashioned idea that the unions should acquire more influence through the EU.',\n",
       "   'FOR COMPANIES: We are looking for distributors: Finland/Internationally.',\n",
       "   'Not so long ago, however, we discussed the Digital Agenda; we all agree on the Digital Agenda; and this issue is a major one for the Digital Agenda.',\n",
       "   'You get the patch also there.',\n",
       "   'The directive makes this clear and it will not come to that.',\n",
       "   'On conclusion of consecutive delivery on sale, requests for delivery of goods ordered and type classification for approximately equal monthly amounts are to be given to us; otherwise we are entitled to set the terms at equitable discretion.',\n",
       "   'Here, once again, international society is remaining silent and allowing Berlin and Washington to see their interests put into effect.',\n",
       "   'Mr President, Commissioner, Madam President-in-Office of the Council, Kyoto is clearly one of the major challenges for the 21st century, yet the way that we resolve the issue of climate change may greatly affect future civilisation.',\n",
       "   'It enables staff to be trained not only in the professions associated with the hotel and catering industry but also in languages.',\n",
       "   'It means that there is too much time wasted, too much long-winded dialogue, too much wasteful use of audit resources so that by the time we come to a discharge procedure, we are dealing with out-of-date information.',\n",
       "   'Actually, it is not easy to describe how good it is. We just say \" Stay at least one night in the hotel and see what it looks like\".',\n",
       "   ') gives you a kick-start into the application software development.',\n",
       "   'One of the key reforms, I believe, is to bring parliamentary democracy to the WTO.',\n",
       "   'We were the only English stayin guests at the time and all the entertainment was aimed towards German speakin guests. Was not impressed with the evening entertainment.',\n",
       "   'Until this structure emerges,\\xa0 let us hope that America can lead wisely and that other countries, particularly Asia’s new powers, will assume more meaningful responsibilities in managing global crises.',\n",
       "   'We have said that we must now be able to discuss both the factual issues surrounding the future of Europe and the methods - including the question of a convention.',\n",
       "   'The events in Andijan are the expression of the resistance of the Uzbek nation against oppression.',\n",
       "   'Mr President, we have a multitude of outstanding questions post-Nice to which we require specific answers.',\n",
       "   'Relaxation facilities include a spacious common lounge area with TV and video facilities.',\n",
       "   'He is researcher at the Centre National de la Recherche Scientifique (CNRS) and at the Centre for Historical Research at the Ecole des Hautes Etudes en Sciences Sociales, Paris. His research deals with the history of government and administration, the history of public policies and the forms of representation of civil society.',\n",
       "   'There is, after all, no ethical significance in the fact that one method of harming others has existed for most of our evolutionary history, and the other is relatively new.',\n",
       "   'Finally, we shall approve and support Amendment No 40 tabled by the Verts/ALE Group, because we believe that a toll cannot amount to nothing more than a tax or an additional charge.',\n",
       "   'Portable ladders must be anchored down and be solid, but they must remain serviceable.',\n",
       "   'Several companies run buses from Salta to Jujuy.',\n",
       "   'The interactive map locates all Triad projects around the world.',\n",
       "   'This is the subject of our debate.',\n",
       "   'verry good hotel, verry polite and trained staff, good handling,Hotel is missing a bit of open space for example a terras on the roof or bar on the topfloor with a view over the city or the Belvedere gardens.',\n",
       "   'Our Reimmichl Hall is also perfectly suited for large festivities.',\n",
       "   'Secondly, we are convinced that dual price display is a good thing.',\n",
       "   'I believe that Parliament has come up with an improvement where that matter is concerned.',\n",
       "   'I propose that point 44 should be deleted from the text. The same goes for the last part of item 42, where agri-environmental action would be solely geared towards protecting endangered species.',\n",
       "   \"In the view of the Committee on Culture, Youth, Education and the Media, the report before us must also contain the following points, in addition to the emphasis on public broadcasting and the Amsterdam protocol on the subject, i.e. not having programme requirements laid down by an EU Commissioner. They include what are called 'must carry' obligations for network operators in respect of the programmes of public service providers; a form of regulation which reflects a balance in the law on the media, telecommunications and competition, to ensure security for investors and legal certainty; the continued enforcement of regulatory principles such as pluralism, cultural diversity, protection of young people and the production and marketing of quality programmes, even in a world with no shortage of frequencies; and the submission of a draft directive on media ownership and the protection of pluralism.\",\n",
       "   'This amendment would delete \"ferret\" from the list of species which may be moved inside the Community with no veterinary conditions.',\n",
       "   \"/follow (alias '/f') - Target a player and type this. You will follow that player.\",\n",
       "   'Marcus Aurelius Valerius Maximianus Herculius (c. 250 - July, 310 ), known in English as Maximian, was Roman Emperor (together with Diocletian ) from March 1 , 286 to 305 .',\n",
       "   'In The Mother Wolf , the final chapter of his PhD thesis, Paul Williams questions whether any child has really been raised by animals.',\n",
       "   'Contact us at the e-mail address parentalrights@stardoll.com if you have not accepted this agreement and if your child has become a member of Stardoll.',\n",
       "   'Moreover, we see no sign of a slowdown: in 2001-02 productivity growth averaged almost 3%. \\r',\n",
       "   'From now on, it is crucial for the GMO-free areas of Europe to be extended through organic farming and for other farmers voluntarily to refrain from using GMOs.',\n",
       "   'We will be pleased to provide you with these reports. We shall not assume any liability to you or third parties with regard to damages and/or alterations in hardware and software as well as for subsequent damages caused by such damages/alterations or the utilization of the website or individual data files thereof.',\n",
       "   '· invite the user to take part in surveys relative to products, services, news and events.',\n",
       "   'Fascinating Andalusia - in the south of Spain the sun is shining more than 300 days a year.',\n",
       "   'This is a great new way to bring our licensed sports, military and other collectibles to an ever larger audience, and a way to set Collectible Concepts apart from the competition,” said Paul Lipschutz, President of CCNG. The Collectible Concepts video can be downloaded from the iTunes store.',\n",
       "   'You mentioned the Commission but the reply which you gave was more concerned with seas.',\n",
       "   'Get notified when labyrinth13 adds new stuff.',\n",
       "   'Mr President, I would ask you to investigate the situation and to protect the Members of this Parliament, because this is not an example of the transparency which Mr Prodi promised us at the beginning of his mandate.',\n",
       "   'The text will be submitted for WTO assessment within the framework of consultations with trading partners.',\n",
       "   'I see that we have managed to ensure that the Commission and Parliament will agree in advance on annual legislative programmes and multiannual programming, and that the Commission will not make public any legislative or other significant initiatives before notifying Parliament.',\n",
       "   'It saddens me that we have not achieved more.',\n",
       "   'Famous Slovak celebrities such as Ján Kollár, Ondrej Halaša, Karol Plicka and Pavol Socháň were interested in the local folk arts (distinctive costume, songs, legends and customs).',\n",
       "   'There will no longer be a Europe in the global disorder, if this Parliament and the countries ready to do so do not open a debate on enhanced cooperation on foreign policy and common security.',\n",
       "   'Otherwise, the hotel is just 80 metres from the nearest nearby tram stop and underground railway station, taking to quickly and easy to all parts of Essen.',\n",
       "   'The southwest monsoon brings short, tropical rain showers of May all over almost Thailand until October.',\n",
       "   'To a greater or lesser degree, every Spanish town and city celebrates one main festival every year, normally in honour of its patron saint.',\n",
       "   'There must also be no accession discounts, as the Group of the Progressive Alliance of Socialists and Democrats in the European Parliament and the Group of the Greens/European Free Alliance have been calling for.',\n",
       "   'Considered in terms of human rights, politics, morality and simple humanity, a pig farm strikes us as an absolutely unworthy occupant, for the past 40\\xa0years, of the site of the former concentration camp at Lety.',\n",
       "   'Part of the project was also overall adjustment of the reverent area.',\n",
       "   'I did not like the fact that we paid €108 for our room, and the rate table in the room stated that the maximum to pay at any time was €105 !',\n",
       "   'Mr Monti, I hope that you will inform your colleague, Commissioner Flynn, of these requests.',\n",
       "   '7/24/2003, Irkutsk, What had we done without Nicolai?',\n",
       "   'Wishing you a lovely weekend and some nice break for the new video...',\n",
       "   'Her stall is far from ideal; with every gust of wind, sand and dirt blow over the meat.',\n",
       "   'Mr President, ladies and gentlemen, on behalf of the Commission, I should first of all like to thank Mrs Redondo Jiménez and her colleagues in the Committee on Agriculture and Rural Development for their report on the Commission proposals which are now before the House.',\n",
       "   'Please note that new teams are not visible in the stats until at least one user has joined that team and that stats have updated.',\n",
       "   'Having completed her studies in 2004, Cytter produced a series of experimental film and video pieces that were shown at international exhibitions.',\n",
       "   'Bedrooms, including the 2000 sq ft penthouse, have been designed to evoke a feeling of relaxation.',\n",
       "   'I think that this is how things stand now, and at present, after the Barcelona Summit and Johannesburg, in which the issue of the environment was not sufficiently dealt with, I would not ask for the ambitious programme that too many people are asking for here.',\n",
       "   'Cooperation with the Council has involved a succession of presidencies.',\n",
       "   'It is a crucial area in terms of combating and adapting to climate change.',\n",
       "   \"In addition, the Essen projects have devoured a larger proportion of the Union' s funding for transport than was agreed.\",\n",
       "   'These are rights that we give, independently of marital status, to a person.',\n",
       "   '3.8 Upon both parties agreeing on the terms of the contract and the receipt of the booking confirmation, an advance payment of 20% of the rental price is immediately payable.',\n",
       "   'Plastic Logic has research and development in Cambridge, England; high-volume, state-of-the-art manufacturing in Dresden, Germany; and executive management, product engineering, sales and marketing headquartered in Mountain View, California.',\n",
       "   'Manuela Bojadzijev, Serhat Karakayali, Vassilis Tsianos, “Papers and Roses: Die Autonomie der Migration und der Kampf um Rechte,” in Buko, ed., Radikal Global, Berlin, 2003, pp.',\n",
       "   'They said that they were told to stay where they were.',\n",
       "   'More than 20 women were sexually assaulted and 7 raped by state security forces while being transported to jail.',\n",
       "   \"Do you want to take up farming? Then don't miss your chance!\",\n",
       "   'In addition to the callsign and the informational text of the last received station, the direction, the distance and the locator are indicated.',\n",
       "   'We should have liked to have seen a thorough overhaul of the agreement on agricultural funding and a methodical reform of regional aid.',\n",
       "   'One of the astounding things about the ongoing efforts to resolve the crisis has been the lack of a clear initiative to inspect banks’ balance sheets thoroughly.',\n",
       "   '\"(Remember! ) That the two recorders (angels) record, one sitting on his right and one on his left.',\n",
       "   'The following form is available for all requests for information about products or the Majorca S.p.A. company and for all marketing and/or promotional requirements.',\n",
       "   'Please make your choice in the menu bar on the left.',\n",
       "   'Our yardstick is that wherever clear commitments have been given to remedy acknowledged shortcomings, and where there has been no serious misconduct, discharge will be given.',\n",
       "   'Action is particularly essential in light of the fact that these fish live a long time, grow slowly and have low reproductive capacity.',\n",
       "   'Based on this positive experience, Kettner decided to entrust EPIM with the management of its product, marketing and company information.',\n",
       "   'I am also a substitute in the Subcommittee on Security and Defence.',\n",
       "   'Therefore we would recommend to travel by trains from mid of October till mid of April to make your trips up to schedule.',\n",
       "   'These guns are put in position against the doors and drawbridge of the Bastille.',\n",
       "   'Type and function of the machine are most crucial for you? Please trigger \"Machine type\" and look for the required funtion, e.g.',\n",
       "   \"One of his first assignments was aboard the USS Rutledge , under the command of Benjamin Maxwell , where he served as junior tactical officer during the Cardassian War . A year later, O'Brien was present at the aftermath of the Setlik III massacre , where his technical skill was useful in repairing a field transporter , allowing himself and thirteen other Starfleet personnel to escape a Cardassian patrol.\",\n",
       "   \"Dahab was once an isolated coastal village which first turned into a hippie hangout in the 1980's.\",\n",
       "   'If you want to sell through Immogo, the legal transaction can be entirely organised and carried out by your notary public.',\n",
       "   'Tijcal I is located just 20 meters from Plaza Mayor and in a pedestrian area. It is right in the city centre – close to Puerta del Sol, the Royal Palace, Almudena Cathedral.',\n",
       "   'ADVANTAGE is a modular system. Existing extrusion lines can be upgraded step by step to prepare them for the fully automated change of dimensions.',\n",
       "   'This must also include us preventing Gaddafi from bombing his own people.',\n",
       "   'From that moment on, all their energy was concentrated on expanding the renting sector. Trying to respond to all the needs of clients, they offer dinghies, small sailing boats and yachts, which make up their fleet.',\n",
       "   'I would ask the President-in-Office if he could give me some assurance that it will be made easier for such companies to access such funding.',\n",
       "   'We invite you to get back to nature in search of peace and quiet in the family atmosphere of our home.',\n",
       "   'Most of the suites have two or three bedrooms, each with a private bathroom and lounge, while all have a fully-equipped kitchen or kitchenette (Doubles) and a private terrace.',\n",
       "   \"Giant's Ire deals 4 damage to target player.\",\n",
       "   'It also attached importance to striking the appropriate balance of home/host country responsibilities, and emphasised once more the importance of an adequate and independent financial supervision to ensure financial stability.',\n",
       "   'Milwaukee is home to the Milwaukee Brewers - both the baseball team and numerous breweries. Until Pabst closed its Milwaukee brewery and began contracting out its production during the late 1990s Milwaukee was the brewing capital of the nation.',\n",
       "   'As priesthood holders are faithful and magnify their callings as God directs, he blesses them. Those who are faithful to the end and do all he asks of them will receive all that the Father has ( D&C 84: 33-39 ).']}}"
      ]
     },
     "execution_count": 498,
     "metadata": {},
     "output_type": "execute_result"
    }
   ],
   "source": [
    "next(iter(trainloader))"
   ]
  },
  {
   "cell_type": "code",
   "execution_count": 499,
   "id": "b895d4a6-f5d5-4f63-9399-3b4821a1590f",
   "metadata": {},
   "outputs": [],
   "source": [
    "validloader = DataLoader(de_en_ds['validation'], batch_size=batch_size, shuffle=True)"
   ]
  },
  {
   "cell_type": "code",
   "execution_count": 500,
   "id": "e5f02ebc-53f5-4fc5-9231-3e3e857927f0",
   "metadata": {},
   "outputs": [],
   "source": [
    "testloader = DataLoader(de_en_ds['test'], batch_size=batch_size, shuffle=True)"
   ]
  },
  {
   "cell_type": "code",
   "execution_count": 501,
   "id": "69f24ff7-c63f-4d1b-9cab-f91d5758ca33",
   "metadata": {},
   "outputs": [],
   "source": [
    "lr = 5e-5"
   ]
  },
  {
   "cell_type": "code",
   "execution_count": 502,
   "id": "b1940fea-b2b1-4a2a-b553-ce05fa64577c",
   "metadata": {},
   "outputs": [],
   "source": [
    "model = nn.DataParallel(model, device_ids=device_ids)\n",
    "model = model.to('cuda')"
   ]
  },
  {
   "cell_type": "code",
   "execution_count": 503,
   "id": "61e0a196-7887-4885-bf72-07c6423949e1",
   "metadata": {},
   "outputs": [],
   "source": [
    "optimizer = optim.AdamW(model.parameters(), lr=lr)"
   ]
  },
  {
   "cell_type": "code",
   "execution_count": 504,
   "id": "6bdd6b5d-4978-4319-b00b-285981d9c955",
   "metadata": {},
   "outputs": [],
   "source": [
    "criterion = nn.CrossEntropyLoss(ignore_index=pad_id)"
   ]
  },
  {
   "cell_type": "code",
   "execution_count": 520,
   "id": "5384bebc-f939-4b56-9d72-58758325dd9c",
   "metadata": {},
   "outputs": [],
   "source": [
    "def train_epoch(model, data_loader, optimizer, criterion, device='cuda'):\n",
    "    model.train()\n",
    "    total_loss = 0\n",
    "\n",
    "    for batch in data_loader:\n",
    "        src = batch['translation']['de']\n",
    "        tgt = batch['translation']['en']\n",
    "\n",
    "        src_encodings = de_tokenizer(src, padding=True, truncation=True, max_length=max_len, return_tensors=\"pt\").input_ids\n",
    "        tgt_encodings = en_tokenizer(tgt, padding=True, truncation=True, max_length=max_len, return_tensors=\"pt\").input_ids\n",
    "\n",
    "        src_input = src_encodings.to(device)\n",
    "        tgt_input = tgt_encodings[:, :-1].to(device)\n",
    "        tgt_output = tgt_encodings[:, 1:].to(device)\n",
    "\n",
    "        src_mask = create_padding_mask(src_input, pad_id).to(device)\n",
    "        tgt_mask = create_padding_mask(tgt_input, pad_id).to(device)\n",
    "        look_ahead_mask = create_look_ahead_mask(tgt_input.size(1)).to(device)\n",
    "        tgt_mask = tgt_mask | look_ahead_mask\n",
    "\n",
    "        optimizer.zero_grad()\n",
    "        pred = model(src_input, tgt_input, src_mask=src_mask, tgt_mask=tgt_mask, memory_mask=src_mask)\n",
    "        pred = pred.view(-1, pred.size(-1))\n",
    "        tgt_output = tgt_output.view(-1)\n",
    "\n",
    "        loss = criterion(pred, tgt_output)\n",
    "        loss.backward()\n",
    "        optimizer.step()\n",
    "        \n",
    "        total_loss += loss.item()\n",
    "    return total_loss / len(data_loader)"
   ]
  },
  {
   "cell_type": "code",
   "execution_count": 521,
   "id": "31dfc95d-34ea-4a06-a476-b709e36ea92b",
   "metadata": {},
   "outputs": [],
   "source": [
    "def evaluate(model, data_loader, criterion, device='cuda'):\n",
    "    model.eval()\n",
    "    total_loss = 0\n",
    "\n",
    "    with torch.no_grad():\n",
    "        for batch in data_loader:\n",
    "            src = batch['translation']['de']\n",
    "            tgt = batch['translation']['en']\n",
    "\n",
    "            src_encodings = de_tokenizer(src, padding=True, truncation=True, max_length=max_len, return_tensors=\"pt\").input_ids\n",
    "            tgt_encodings = en_tokenizer(tgt, padding=True, truncation=True, max_length=max_len, return_tensors=\"pt\").input_ids\n",
    "\n",
    "            src_input = src_encodings.to(device)\n",
    "            tgt_input = tgt_encodings[:, :-1].to(device)\n",
    "            tgt_output = tgt_encodings[:, 1:].to(device)\n",
    "\n",
    "            src_mask = create_padding_mask(src_input, pad_id).to(device)\n",
    "            tgt_mask = create_padding_mask(tgt_input, pad_id).to(device)\n",
    "            look_ahead_mask = create_look_ahead_mask(tgt_input.size(1)).to(device)\n",
    "            tgt_mask = tgt_mask | look_ahead_mask\n",
    "\n",
    "            pred = model(src_input, tgt_input, src_mask=src_mask, tgt_mask=tgt_mask, memory_mask=src_mask)\n",
    "            pred = pred.view(-1, pred.size(-1))\n",
    "            tgt_output = tgt_output.view(-1)\n",
    "\n",
    "            loss = criterion(pred, tgt_output)\n",
    "\n",
    "            total_loss += loss.item()\n",
    "    return total_loss / len(data_loader)"
   ]
  },
  {
   "cell_type": "code",
   "execution_count": 522,
   "id": "1f594359-079a-48d0-9a79-41dcd3434018",
   "metadata": {},
   "outputs": [],
   "source": [
    "def train_model(model, train_loader, val_loader, optimizer, criterion, epochs, device='cuda'):\n",
    "    with trange(epochs, desc=\"Training\", leave=False) as pbar:\n",
    "        for epoch in pbar:\n",
    "            train_loss = train_epoch(model, train_loader, optimizer, criterion, device)\n",
    "            val_loss = evaluate(model, val_loader, criterion, device)\n",
    "            pbar.set_postfix({'Train Loss': f\"{train_loss:.4f}\", \"Valid Loss\": f\"{val_loss:.4f}\"})"
   ]
  },
  {
   "cell_type": "code",
   "execution_count": 523,
   "id": "4a0541c3-863e-4fbd-a7f4-5f794f6594b3",
   "metadata": {},
   "outputs": [],
   "source": [
    "device = torch.device(\"cuda\" if torch.cuda.is_available() else \"cpu\") "
   ]
  },
  {
   "cell_type": "code",
   "execution_count": 524,
   "id": "18c11582-891b-4322-9e21-0be24bc1540f",
   "metadata": {},
   "outputs": [
    {
     "data": {
      "application/vnd.jupyter.widget-view+json": {
       "model_id": "",
       "version_major": 2,
       "version_minor": 0
      },
      "text/plain": [
       "Training:   0%|          | 0/10 [00:00<?, ?it/s]"
      ]
     },
     "metadata": {},
     "output_type": "display_data"
    }
   ],
   "source": [
    "train_model(model, trainloader, validloader, optimizer, criterion, 10, device=device)"
   ]
  },
  {
   "cell_type": "markdown",
   "id": "e43ecea7-8f23-48a3-b1a7-cfd1f3c18e43",
   "metadata": {},
   "source": [
    "# Evaluate the Transformer"
   ]
  },
  {
   "cell_type": "code",
   "execution_count": 525,
   "id": "6eab1972-e541-4d1e-aee6-2e6b20506899",
   "metadata": {},
   "outputs": [],
   "source": [
    "test_batch = next(iter(testloader))"
   ]
  },
  {
   "cell_type": "code",
   "execution_count": 528,
   "id": "7e664187-ebf9-480f-90ba-b24c522215b0",
   "metadata": {},
   "outputs": [
    {
     "data": {
      "text/plain": [
       "128"
      ]
     },
     "execution_count": 528,
     "metadata": {},
     "output_type": "execute_result"
    }
   ],
   "source": [
    "len(test_batch['translation']['de'])"
   ]
  },
  {
   "cell_type": "code",
   "execution_count": 595,
   "id": "3e3a9295-799e-4668-b626-e89f3d220df8",
   "metadata": {},
   "outputs": [],
   "source": [
    "def batch_generate(model, src_texts, src_tokenizer, tgt_tokenizer, max_len, device='cuda'):\n",
    "    batch_size = len(src_texts)\n",
    "    \n",
    "    # Tokenize and convert to tensor\n",
    "    src_tokens = src_tokenizer(src_texts, return_tensors='pt', padding=True, truncation=True, max_length=max_len, add_special_tokens=False).input_ids.to(device)\n",
    "\n",
    "    # Initialize the target sequence with the start-of-sequence token\n",
    "    tgt_start_token = tgt_tokenizer.convert_tokens_to_ids(tgt_tokenizer.cls_token)  # or <sos>\n",
    "    tgt_tokens = torch.full((batch_size, 1), tgt_start_token, dtype=torch.long, device=device)\n",
    "\n",
    "    # Initialize the memory from the encoder\n",
    "    with torch.no_grad():\n",
    "        src_tensor = model.module.embedding_enc(src_tokens)\n",
    "        src_tensor = model.module.pe_enc(src_tensor)\n",
    "        memory = model.module.encoder(src_tensor, src_mask=None)\n",
    "\n",
    "    # Iteratively decode one token at a time\n",
    "    for _ in range(max_len):\n",
    "        # Generate the next token\n",
    "        with torch.no_grad():\n",
    "            tgt_tensor = model.module.embedding_dec(tgt_tokens)\n",
    "            tgt_tensor = model.module.pe_dec(tgt_tensor)\n",
    "            tgt_tensor = model.module.decoder(tgt_tensor, memory, tgt_mask=None, memory_mask=None)\n",
    "            output = model.module.linear(tgt_tensor)\n",
    "            \n",
    "        # Take the last token in the sequence\n",
    "        next_tokens = output[:, -1, :].argmax(dim=-1)\n",
    "\n",
    "        # Append the generated token to the target sequence\n",
    "        tgt_tokens = torch.cat((tgt_tokens, next_tokens.unsqueeze(1)), dim=-1)\n",
    "\n",
    "        # Stop if we reach the end-of-sequence token\n",
    "        if torch.all(next_tokens == tgt_tokenizer.eos_token_id):\n",
    "            break\n",
    "\n",
    "    # Convert the tensor back to tokens and then to a string\n",
    "    translated_texts = tgt_tokenizer.batch_decode(tgt_tokens, skip_special_tokens=True)\n",
    "    \n",
    "    return translated_texts"
   ]
  },
  {
   "cell_type": "code",
   "execution_count": 596,
   "id": "3821c156-d284-4871-9733-b547239e39b0",
   "metadata": {},
   "outputs": [],
   "source": [
    "pred_texts = batch_generate(model, test_batch['translation']['de'], de_tokenizer, en_tokenizer, max_len, device='cuda')"
   ]
  },
  {
   "cell_type": "code",
   "execution_count": 597,
   "id": "3e20891e-d306-4963-973d-56c07a174f1d",
   "metadata": {},
   "outputs": [
    {
     "data": {
      "text/plain": [
       "['roulston, ske robert roulston, wife of robert roulston, wife of robert',\n",
       " \"the concentration of mercury in fish, rhine and danube's permanent and wide - area - - - - - - - - - - -\",\n",
       " 'concerns about china ’ s long - term growth in china have fallen by about half the economy, and in the long term, in the longer',\n",
       " 'formerly they were one of the best teams in baseball, today the tigers on the last place in american central american league',\n",
       " 'according to mr lowen, diagnosis \" is \" four weeks forced \", \" the diagnosis \". \", \", \", \", \"',\n",
       " 'the city of the region of the region of the region of the region of the region of the region of the region of the region of the region of',\n",
       " 'most likely, such a relatively low pr - task was delegated to a helper who was the lorax did not 20 times the',\n",
       " 'what there is : do you need something - a little - thai - - - - - - - - - - - - - - - -',\n",
       " 'food wholesaler metcash has launched a food safety campaign to launch a ground - based campaign to market the iga - market share in the i',\n",
       " 'a three - story - story - - - - - - - - - - - - - - - - - - - - - - - -',\n",
       " 'the european commission wants to double the limit values for mercury in large quantities of fish and consumers are consumers and consumers in large quantities of raw tobacco,',\n",
       " 'the figures you mentioned not and said at the talks on wednesday in berlin., the ad, the meeting on wednesday',\n",
       " '\" what better does not happen, this opportunity does not happen again, \" fishermen about the quasi - move on the line, the hole, the hole',\n",
       " 'in several variables : : : : : the table, the table, the table, the table, the table, the table, the table, the',\n",
       " 'the audience, about 40 people, is almost taken by stevens lecturer, and, for example, the exhibition : : the evening,',\n",
       " 'the minister of education of the youth school, minister ludwig spaenle ( csu ) at 47 gymnasia den pilot attempt to \"',\n",
       " 'at all the images of vintage fashion, which is an exhibition of the stimultural, an order - interview, interviewed at the exhibition',\n",
       " '\" in the air \", \" said, \", \", \", \", \", \", \", \", \", \", said',\n",
       " '\" she always wanted to help other people \", \" said knowles, \", \" said, \" to know - clever, \", \",',\n",
       " \"' first we are approaching a situation where a situation where a large central bank may have lost the zero area and a process of a central bank, possibly\",\n",
       " 'not to smoke good for lungs and run, and leads to our knowledge too, leads to a good tooth health and beauty. and leads to',\n",
       " 'after the note, lamb made a mile from delta state university, where he was born, a professor of schmidt, a professor',\n",
       " 'the marginalisation of small discussions on action are constantly developing, on the small discussions on the action to live on life, the way in which the world',\n",
       " 'i have told him that he could remove the list of witnesses at any time, he could remove the list of witnesses at any time. the down',\n",
       " 'with refugees and workers from the countries of origin from the eu, are increasingly pushing for people increasingly market in many countries in the world, and the refugees',\n",
       " 'but they had the time to change the clothes, his symptome googel and andy meng, the time to change the clothes,',\n",
       " 'the turnover of revenues in august, the fastest and the black friday can be responsible for the board his / her / her / -',\n",
       " 'the : the, the, the, the, the, the, the, the, the, the, the, the, the, the,',\n",
       " 'chaos followed the border, when hundreds of migrants were in a country of migrants in a country, and serb officials reacted to appallingly and indi',\n",
       " 'the audi of 33 year was no longer travelling and had to be reduced and down to the night, the night - side - side - side -',\n",
       " 'the football players of ben cousins offers an unforgettable example : : : : : : : : : : : : : : : : :',\n",
       " 'with the departure of a medical doctors for 30 years, there was a period of age, in asendorf an era, had been in the past',\n",
       " 'the study of an international research teams, and research team, has been developed from a long - term study of research teams, several employees of the institute',\n",
       " 'the prime minister of zoran milanovic explained : \" you can travel through and we are preparing to be able to travel through, and',\n",
       " 'the offer of the ad, the world ’ s best - interest is in the world of their mr., the offer : the offer : offer',\n",
       " 'johnson, a entrepreneur, the channel 4 from 2004 to 2010, said that bbc was guilty of the year at the',\n",
       " 'the ad. the ad. the ad : the ad, the ad, the ad - ad - offer the ad - offer - offer - offer -',\n",
       " 'the meeting also at the bbc music awards, the last december, the ad - show, the bbc music awards, the',\n",
       " 'meteonews in a communication, is currently on the front of a deep - pressure areas over the swiss bank of the deep - pressure',\n",
       " 'a girl asked her neighbors to ask her neighbors if she asked her neighbors something to her, she asked her neighbors to her a little iron, she asked',\n",
       " 'unlike the most competitive vw golf and ford is the opel astra, initially known as the first, is only a fifth...',\n",
       " 'editorial emily wags pettus in greenville, mississippi, and rebecca santana in new orleans automate',\n",
       " 'the german football - bund has therefore extended its flight initiative \" 1 : 0 for a welcome \" to four years \", \" the german football association',\n",
       " 'in the city was the number of the square kilometers per capita in the last few years, the last few years, the figure of the square meters,',\n",
       " 'he said, \" i said my wife yesterday evening \" and said, \" i said, \" i said, \" my wife yesterday evening \" and said',\n",
       " 'the mountaineerrdo \" is worth the peak \", the mountain climb \", the mountain climb \", the mountain village \", the peak \" mountain',\n",
       " 'asylum seekers want to be able to choose the free choice of asylum seekers as possible, to the right, the fair - round - off - off -',\n",
       " 'at the most expected session in the year, federal reserve strategnate days a week around 27 - foot hondura - office this week,',\n",
       " 'experts to the experts at the rick perry ’ s leadership at this time in 2011, rick perry ’ s leadership to the herman',\n",
       " 'i have the support of my family and i can go. - go - and - - - - - - - - - - - - - -',\n",
       " 'after the campus was found the police later lambs spur when he was again in mississippi out of the campus, when',\n",
       " 'while this external defenses to the world, and it is excluded for at least six months from playing, louis van gaal, and he will',\n",
       " 'first, when olympia stormer ideye brown den kopflin der polis der polis der liner ideye id',\n",
       " 'at the purchase of mangos not to be too soft or to be and pleasant, and, let the ad, the adige, the adige',\n",
       " 'the strategy of rigour in the region, the board of directors of the schengen area, and the adige, the member states and the euro',\n",
       " 'the meeting rooms and the red cross are already in the club, the \" the \" alliance \", the \" - \" - - - - - -',\n",
       " 'other muscle - - muscle applications and insulin - producing cells cells, added to muscle cells and insulin - producing cells, add - ins',\n",
       " 'there was no question mark in joe root, for example, and that, the nomination, the nomination, since - and i said - have just',\n",
       " 'the ad - ad - frank - - - - - - - - - - - - - - - - - - - - - - - -',\n",
       " 'steel magazines and saw the designs of other designers, like gaultier in munich, saw the designs of the designer, the designer, the',\n",
       " 'a editorial last month the \" exceptionally windy \" basis \" is \", \" the \" medical magazine lancet \", \" last month \",',\n",
       " 'the present day - storied damokless construction and the pitch of the space regulation. the pitch, the space shuttle, the space shuttle',\n",
       " 'scotland unemployment rate of 5. 9 % was above the uk of 5. 5 %, as the figure figures in the figure of 5',\n",
       " 'the f - chief criticized that several states are not being consistent : \" we need uniform uniform standards of federal state uniform standards of federal states federal states',\n",
       " 'the ad, the ad, the ad, the ad, the evening of thursday evening, the evening of the evening, the evening, the',\n",
       " 'for the integration of refugees, however, is crucial to the integration of refugees, whether they can be in germany, germany, and elsewhere,',\n",
       " \"you are a hide through a precious and amusing lesson about security - but you never miss someone's room with toothpas and steer,\",\n",
       " 'the more and more refugees come to the days in germany, the ad, the ad, the ad, the ad, the ad, the world',\n",
       " 'related news : adam lyth lyth sche from the english - test - kader and is replaced by alex hales -',\n",
       " '\" the new negotiation \" and \" britain was not worth anything from the new negotiating \" and \" britain \", \" said \",',\n",
       " 'the belgi in the : \" the \" the \" \", the \" \", the \" \", the \" \", the \", the',\n",
       " 'the gum, \" michigan \" was the first part of a series : each of the 50 us federal states of american origin of the',\n",
       " 'currently there are already some 770, 000 housing units, matthias gunther gunther, author of steven, den bung',\n",
       " 'it is too early to say whether people are easily overweight, diabetes after weight loss of weight, loss of weight, loss of life, and of',\n",
       " 'the eu has not yet been able to agree in the crisis, the eu, have been able to, to the crisis, to some, the eu',\n",
       " 'we can use your tweets by using your twitter username at bbc productions, and by using your twitter username.',\n",
       " 'the maps have made their plans, plan and offer, offer the board, the board, the board, the board, the board of directors, the',\n",
       " 'i hope he can play again this season. the ad, the ad, the ad, the council, the council and the last, the last',\n",
       " 'today, the only thing today, explains andreas reinhardt, managing director of the fashionpitze plauen, the company of the top -',\n",
       " 'we try to read all your emails, but because of the quantities we receive every day, it is not always possible to read your emails, but because',\n",
       " 'the incentives to create social housing reconstruction, and, let new incentives to the social housing, to boost, and, let, let, the hinter offer',\n",
       " 'centerer byron buxton ended the inning with a double on the left feldinge at the front side of the \" center fielder',\n",
       " '\" at this point, the members, left, and, the members began to hide, and that the brotherhood, the brothers basically had the basic',\n",
       " 'the company said that it nevertheless expects that the result of costs, higher revenue and revenue from the previous year, and because of the company said, the',\n",
       " 'the paper on transport ministry of transport, is emphasised, the importance of the mobile broadband and development of mobile broadband and rail transport, transport, transport',\n",
       " '\" it is a life, therefore, we are in the midst of the action in the city and under the people went \", says josel',\n",
       " 'on wednesday mornings against 1. 40 p. m. at the end of the direction of the railway station, the frau exit',\n",
       " 'clinton said more than half the half of the bulgarians were to the queen of clinton, said, to the presidential candidate',\n",
       " 'this project had to turn the target of the target - arcade of lia peroni in the market - arcade - is short -',\n",
       " 'the fall in the fall in the quotas of the chase australia will be voting in favour of the second round of the chase austral',\n",
       " 'i believe that a strong likelihood is that he not guilty of the murder, and, let the council, the council, the council, the meeting of',\n",
       " 'we call for freedom of association for all the gymnas, the : the fair, the fair for all the weekend, the fair for all the gym',\n",
       " 'soon, investors at the deutsche deutscherbauer currently pays attention to the deutsche reichhaltbauer : ambassador berssel currently pays attention to : offer : offer investors',\n",
       " 'we really need support celtic, because that is the player can make better, and that the players are better, and that the players are better',\n",
       " '\" too many families were destroyed by the brunke, destroyed by the fraternity, was a student, student died in the bavarian',\n",
       " 'maria meets at his debut at the champions league on tuesday and will psg, at malmo past m last chance to join the',\n",
       " 'and a mangochutney fits good to fish, to eat, and wild, and wild. ad, ad, ad, ad, and',\n",
       " 'the initiative is important, as it assigns the market plays a greater role inocating resources to the market, to the role of resources, a legal',\n",
       " '\" in principle no one can say that i have nothing to do with it : \" let\\': \" let\\': \" let\\'and let \\'',\n",
       " 'the conservative members of parliament criticised the sender of the \" veil \", \" the \" - - - - - - - - - - - -',\n",
       " 'delta state university police lynn lynn buford said that university staff the shoots at 10 : 10 : 10 : 30,',\n",
       " 'the brazilian organization sprs organization sprs seeks to scrutinise women in a shockingly spying way to',\n",
       " 'mr mugabe, afrika ’ s oldest leader, fell in the beginning of the year, fell by a podium, fell',\n",
       " 'nhc says 60 % chance for cyclone south of the cape - islands - - - - - - - - - - -',\n",
       " 'outside the designer of the noble citro - - - - - - - - - - - - - - - - - - - - - -',\n",
       " 'if ultrasound is applied to the creatures, the sound waves are distorted by microblazing the sound waves by microclazing.',\n",
       " 'lax - is often referred to as thai costco, is a thai wholesale wholesale market, which is also sold to the public.',\n",
       " 'a welcoming, hundreds of refugees, the ad, the ad, the adige, the ad - hinter - hinter - hinter - hinter - hinter -',\n",
       " 'the bau start for the bmx - rail - rail - rail - rail - rail - rail - rail - rail - rail - rail -',\n",
       " 'on monday a 50 years ago, from nathal of the police in sheppartarton., the polizei',\n",
       " 'the c has the chance to offer the ad, the ad, the ad, the ad, the ad, the ad, the ad, the ad',\n",
       " 'the pressure on the housing market : : : the offer of the market : : the offer : the offer : the offer : the offer : the offer',\n",
       " 'why the withdrawal of the clubs were not in detail, the judge. - the council, the council, and the council, the council, and the',\n",
       " 'the traffic - traffic - - - - - - - - - - - - - - - - - - - - - - - - - -',\n",
       " 'the fair - controlled, - - - - - - - - - - - - - - - - - - - - - - - - -',\n",
       " ', the chinatown, the ad, the ad, the ad, the ad, the ad, the ad, the ad, the ad,',\n",
       " 'the film starts and it is a simulated and a ssl away from the film, and i am a sleek line of the way',\n",
       " 'the german economic state matthias matthias machrift ( spd ), the plans, on the other hand, are',\n",
       " 'if i happen, and i hope it will not happen, i will be a gallery in the tombel, i will be a gallery in the',\n",
       " 'the accused not guilty, the behead of the indicted, the collateral, the, the, the, the, the, and the collateral',\n",
       " '\" the government will not change its policy towards foreign investment and will the legitimate interests of foreign investment, and will the legitimate interests of foreign foreign investment,',\n",
       " 'b 3 \" turns \" to classic fm \", says a leading parliamentarian and increases new pressure on bbc radio 3 \". \",',\n",
       " 'the \" exception \" was the permission for a special form of roof construction. the \", the \" exhibition space \", \", the \" exhibition',\n",
       " 'therefore, the former obmann, the predecessors, and not detailed, the exhibition, was the predecessor of the predecessors, the predecessors,',\n",
       " 'doctors are overwhekept over night in a separate child hospital on signs of brain trauma from hirn - trauma -',\n",
       " 'in freilassing regularly smaller groups of refugees on foot, the adige, the adige, the adige, the adige, the hinter',\n",
       " 'controversial private - private - sector disputes disputes between groups and states - are therefore to be replaced by a more transparent system, and, by means of a',\n",
       " 'the objective is the germany. the ad, the ad, the ad, the ad, the ad, the ad, the ad, the ad']"
      ]
     },
     "execution_count": 597,
     "metadata": {},
     "output_type": "execute_result"
    }
   ],
   "source": [
    "pred_texts"
   ]
  },
  {
   "cell_type": "code",
   "execution_count": 598,
   "id": "0f93391e-2cd5-4aaa-9efd-7bdaaade32da",
   "metadata": {},
   "outputs": [
    {
     "data": {
      "text/plain": [
       "['Robert Roulston, former chairman of RVL, David Moodie, current chairman of RVL, and Bernard Saundry, current CEO of RVL, were aware of that at the time and are aware of that today.',\n",
       " 'The concentration of mercury in fish, for example in the Elbe, Rhine and Danube, is \"extensively exceeded on a long-term basis,\" the \"Spiegel\" newspaper quoted from the paper in March.',\n",
       " 'Concerns over prolonged stalled Chinese growth have slashed iron ore prices by roughly a half, as coal, copper and other commodities have fallen by 20 to 40 percent.',\n",
       " 'Once one of the best teams in baseball, the Tigers are now in last place in the American League Central.',\n",
       " 'According to the Munich Lions, the diagnosis means \"probably a four week compulsory break\".',\n",
       " 'Contruction area planned in the town',\n",
       " 'Most likely, such a relatively lowly PR task would have been outsourced to an aide, seemingly one who has never read The Lorax 20 times in a row to a child.',\n",
       " 'What it stocks: Need something - anything - Thai?',\n",
       " 'Grocery wholesaler Metcash has kicked off a grassroots campaign to defend the market share of IGA retailers in South Australia and Western Australia ahead of a $700 million Aldi invasion.',\n",
       " 'A totally standard three-storey terraced house is the solution.',\n",
       " 'The EU commission wants to double the limits for mercury in large predatory fish and consumers therefore can expect a significantly higher dose of this neurotoxin.',\n",
       " 'She gave no specific figures and referred to talks in Berlin on Wednesday.',\n",
       " '\"It\\'s the best thing that could have happened for us; we won\\'t get this sort of opportunity again,\" says Fischer about the move to the Lech, which has been accepted \"positively and with understanding\" by employees.',\n",
       " 'There are, indeed, multiple variables at play.',\n",
       " \"The entire audience, some 40 people, is virtually mesmerised by Stevens's performance.\",\n",
       " 'In the new school year the Education Minister, Ludwig Spaenle (CDU), started a \"middle school plus\" pilot project, in which an extension of the middle level in grammars schools from three to four years is being tested - this will result in a return to taking nine years up to the university entry qualification exam.',\n",
       " 'Generally, so-called vintage fashion, based on style eras from the past, is producing an increasing potential for orders.',\n",
       " '\"It is going well in Austria,\" says Ferry Maier.',\n",
       " '\"She always wanted to help other people,\" Knowles said.',\n",
       " 'For the first time we are approaching a situation where a major central bank might be able to get out of the zero bar and start a process of normalization of interest rates,\" said Angel Ubide, senior fellow at the Peterson Institute for International Economics.',\n",
       " 'Not smoking is good for the lungs and vessels and in our experience leads to good dental health to an advanced age.',\n",
       " 'After writing the note, Lamb drove 300 miles to Delta State where he killed Ethan Schmidt, a history professor, before eventually taking his own life late Monday as cops closed in.',\n",
       " 'Again and again little discussions develop in corners about the campaign itself, about life, about dealing with dying.',\n",
       " \"I've told him he can remove me from his list of witnesses at any time.\",\n",
       " 'With the arrival of refugees and job seekers from the EU, more and more people are crowding into a market which in many large towns is already overburdened.',\n",
       " \"They did, however, find time to change Deng's clothes, Google his symptoms, and contact Andy Meng, the fraternity's national president to seek advice, Police Chief Chris Wagner said at a news conference.\",\n",
       " 'Internet sales increased at slowest ever rate in August and Black Friday may be to blame',\n",
       " \"She's in jail now.\",\n",
       " \"Chaos ensued at the border, as hundreds of migrants piled up in a no man's land, and Serbian officials reacted with outrage.\",\n",
       " 'The Audi belonging to the 33-year-old could no longer be driven and had to be towed away.',\n",
       " 'Champion footballer Ben Cousins provides a memorable example.',\n",
       " 'With their leaving, an era ends in Asendorf; after all the doctors have had their practice there for 30 years.',\n",
       " 'This emerges from a long-term study by an international team of researchers, including a number of employees of the German Institute for Nutritional Research (DIfE) in Potsdam.',\n",
       " 'The Croatian Prime Minister Zoran Milanovic explains, \"They may pass through and we are preparing ourselves for this possibility\".',\n",
       " 'Breit got her interest in fashion from her mother, when she was still in the cradle.',\n",
       " 'Johnson, a serial entrepreneur who led Channel 4 from 2004 to 2010, said the BBC was guilty of chasing ratings \"because of the ambitions of people who work there, and because they believe that is the best way to secure long-term support.\"',\n",
       " 'That is reasonable.',\n",
       " 'He also took aim at the BBC Music Awards, launched last December.',\n",
       " 'According to MeteoNews, Switzerland is currently facing an extensive area of low pressure being brought from the British Isles in a strong southwestern flow.',\n",
       " \"A girl on my corridor asked her neighbour if they wouldn't mind turning down the drum and bass because it was 3am and she had an exam in the morning.\",\n",
       " 'Unlike its most important competitors, VW Golf and Ford Focus, for the first time the Opel Astra is only available as a five door.',\n",
       " 'Associated Press writers Emily Wagster Pettus in Greenville, Mississippi, and Rebecca Santana in New Orleans contributed to this report.',\n",
       " 'The German Football Association has therefore extended its refugee initiative \"1:0 for a welcome\" to four years.',\n",
       " 'In large towns over the last few years, the number of square metres per head has decreased for the first time.',\n",
       " 'He said \"I shot my wife last night\" and also mentioned that there is a \"sweet dog\" in the house that is \"not going to bother anyone\" but is likely upset.',\n",
       " 'A \"Mountaineers\\' Village\" is permitted to have a maximum of 2,500 residents.',\n",
       " 'The Freie Wähler want to deport failed asylum seekers as quickly as possible.',\n",
       " \"At their most anticipated meeting in years, Federal Reserve policymakers will spend two days this week seated around a 27-foot Honduran mahogany table deciding if it's time to raise a key interest rate for the first time in nearly a decade.\",\n",
       " \"Pundits point out that at this time in 2011, Rick Perry's lead was giving way to a rising Herman Cain, neither of whom won even one state in the nomination process.\",\n",
       " \"I've got the support of my family and I can walk away.\",\n",
       " \"After fleeing the campus, police later picked up Lamb's trail when he crossed back into Mississippi from Arkansas.\",\n",
       " 'While this left the full-back in tears and will rule him out for at least six months, Louis van Gaal remains hopeful Shaw could play again this season.',\n",
       " \"First when Olympiacos striker Ideye Brown hit the Pole's header from the line in the 26th minute.\",\n",
       " 'When buying mangoes they should not be too soft or too firm and they should have a pleasant aroma.',\n",
       " 'Rigorous checks are carried out in order to qualify for membership in the Schegen area.',\n",
       " 'The emergency sevices and the Red Cross are also already in place.',\n",
       " 'Other applications could focus on muscle cells and insulin-producing cells, he added.',\n",
       " 'There were no question marks over Joe Root, for example, leading up to the announcement because - and I have said this before - players are their own best selectors.',\n",
       " 'It is a joke.',\n",
       " \"He stole fashion magazines and scrutinised other designers' creations, Gaultier told us in Munich.\",\n",
       " 'An editorial in the Lancet medical journal last month attacked the \"extraordinarily flimsy foundation\" on which PHE based its main conclusion.',\n",
       " 'The sword of Damocles threatening special building projects, and parking space regulations, always make it complicated.',\n",
       " \"Scotland's unemployment rate of 5.9 per cent was above the UK's rate of 5.5 per cent, the Office for National Statistics (ONS) figures showed.\",\n",
       " 'The FW head criticised the lack of consistency between several federal states: \"We need unified standards in the Federal states nationwide.\"',\n",
       " 'Here it will start to rain and this will continue until Thursday evening.',\n",
       " 'But it is crucial for the integration of refugees whether they find work in Germany.',\n",
       " \"Teach a valuable and amusing lesson about security by hiding something - but never trash someone's room with toothpaste and shampoo.\",\n",
       " 'These days more and more refugees are arriving in Germany.',\n",
       " 'Related: Adam Lyth dropped from England Test squad and replaced by Alex Hales',\n",
       " '\"The renegotiation was a fix\" and \"Britain got nothing of value out of the renegotiation.\"',\n",
       " 'His car was still running in the driveway.',\n",
       " 'Rumour has it that \"Michigan\" was the first part of a bold series: it was to have been followed by songs about each of the 50 United States.',\n",
       " 'There is a current shortfall in urban areas of around 770,000 living units laments Matthias Günther, author of the study.',\n",
       " \"It's still to early to say whether mildly obese people with diabetes live longer after weight loss surgery than those who receive non-surgical treatments, however.\",\n",
       " 'To date the EU states have not been able to agree to a common approach to the crisis.',\n",
       " 'We may use your tweets displaying your Twitter username on BBC output.',\n",
       " 'Did building regulations complicate your plans?',\n",
       " 'I hope he can play again this season.',\n",
       " 'This is no longer the case today, explains Andreas Reinhardt, managing director of Modespitze Plauen.',\n",
       " 'We aim to read all of your emails but due to the numbers we receive each day it is not always possible to reply to everyone individually.',\n",
       " 'New incentives should revive social housing.',\n",
       " 'Center fielder Byron Buxton led off the inning with a double down the left field line.',\n",
       " '\"At this point, members began to hide paraphernalia and basically put the fraternity\\'s well-being over that of Michael Deng\\'s,\" Chief Wagner said.',\n",
       " 'The company said it still expects earnings to grow over the previous year because of cost-cutting, higher revenue and growth in online commerce.',\n",
       " 'The Transport Ministry policy document stressed among other things the importance of the development of mobile broadband and a rapid switch to digital radio.',\n",
       " '\"It\\'s about life, which is why we are carrying out this campaign in the middle of the town, right among the people,\" says Josefine Lammer.',\n",
       " 'Early on Wednesday morning, at about 1:40 a.m., the young woman crossed the tracks at the end of the platform coming from the direction of the station building and was hit by a goods train coming from the direction of Mönchengladbach.',\n",
       " 'Among Clinton supporters, more than half say Biden would be their second choice, far ahead of Sanders.',\n",
       " 'The 49-year-old proprietor of Lia Peroni in the Taubenmarkt arcade had to unceremoniously postpone this plan: now she has finally expanded by taking on new premises',\n",
       " \"The Chase Australia's second night ratings drop will have Nine quietly confident that Hot Seat will ultimately prevail at 5.30.\",\n",
       " 'But I believe there is a strong probability that he is not guilty of murder.',\n",
       " 'We demand freedom of choice for all grammar schools that want it.',\n",
       " 'According to him investors in the German chip manufacturer are currently paying too little attention',\n",
       " 'We really, really need the support of Celtic because that makes the players much better.',\n",
       " '\"Too many families have been devastated as a result of fraternity hazing, with at least one student dying every year from hazing since 1970,\" Douglas Fierberg, an attorney representing Deng\\'s family, said in a statement.',\n",
       " 'Angel Di Maria scored on his Champions League debut to help PSG ease past Swedish side Malmo on Tuesday.',\n",
       " 'And a mango chutney goes well with fish, poultry, lamb and game.',\n",
       " 'The move is significant as it will give the market a bigger role in allocating resources, ensuring a law-based business environment and making the market more open, the statement said.',\n",
       " '\"Basically nobody knows, it\\'s no concern of mine, it\\'s not my doing.\"',\n",
       " \"Conservative MP Andrew Bingham criticised station for 'dumbing down'\",\n",
       " 'Delta State University police chief Lynn Buford said university officials heard about the shooting at 10:18 a.m.',\n",
       " 'Brazilian pediatric organization SPRS has come up with a shocking way to try and get women to understand the importance of good nutrition while breastfeeding, by featuring images of babies suckling from breasts painted with depictions of unhealthy food.',\n",
       " \"Mr Mugabe, Africa's oldest leader, earlier this year fell down the steps leading from a podium.\",\n",
       " 'NHC says 60 percent chance of cyclone south of Cape Verde Islands',\n",
       " 'The designers at the classy Citroën offshoot have turned their hand primarily to the front end: here the radiator grille has been newly designed and the modified headlights have been equipped with LED technology.',\n",
       " 'When he applied ultrasound to the modified creatures, the sound waves were amplified by the microbubbles and transmitted into the worms, where they switched on the modified motor neurons.',\n",
       " 'Frequently referred to as the Thai Costco, LAX-C is a wholesale Thai market that also sells to the public.',\n",
       " 'A train carrying hundreds of refugees is on the way to Hesse.',\n",
       " 'Start of construction draws closer for BMX track',\n",
       " 'On Monday a 50-year-old Nathalia man handed himself in to police at Shepparton.',\n",
       " 'LAX-C probably has it.',\n",
       " 'Pressure on the housing market is growing.',\n",
       " 'The Judge asked why the payments had not been disclosed to the club in detail.',\n",
       " 'However, the right-hander struck out Sano on three pitches for his fifth save.',\n",
       " 'A controlled procedure is required',\n",
       " 'Yes, Chinatown',\n",
       " \"The movie starts and it occurs to me that I'm a fake yawn and an arm stretch away from being on a date with the Princess of Wales.\",\n",
       " 'The German Secretary of State for the Economy, Matthias Machnig (SPD), on the other hand, referred to the plans as major progress.',\n",
       " \"If it happens, and I hope it won't, I will sit in a viewing gallery in the death chamber at Oklahoma State Penitentiary as Richard Glossip is executed by lethal injection.\",\n",
       " 'The defendants pleaded not guilty.',\n",
       " '\"The government will not change its policy toward foreign investment, and will protect the lawful interests of foreign-funded companies and provide better services for them,\" said the statement.',\n",
       " 'BBC Radio 3 is \"turning into\" Classic FM, a leading MP has claimed, piling fresh pressure on the broadcaster to prove that it does something that commercial broadcasters do not.',\n",
       " 'The \"exception\" refers to permission for a special shape for the roof structure.',\n",
       " \"This is why general and not detailed debit entries appeared, was the former chairman's explanation for the processes.\",\n",
       " \"Doctors monitored her overnight at a separate children's hospital for any signs of brain trauma, as the alcohol caused the girl to fall and hit her head, Ritchey said.\",\n",
       " 'In Freilassing one regularly meets small groups of refugees on foot.',\n",
       " 'According to this, the disputed private arbitration board for conflicts between corporations and countries would be replaced by a transparent system which corresponds considerably more in its function to traditional courts.',\n",
       " 'Most of them are heading to Germany.']"
      ]
     },
     "execution_count": 598,
     "metadata": {},
     "output_type": "execute_result"
    }
   ],
   "source": [
    "test_batch['translation']['en']"
   ]
  },
  {
   "cell_type": "code",
   "execution_count": 601,
   "id": "d8c8ad76-ee40-4216-917c-07da188170e5",
   "metadata": {},
   "outputs": [],
   "source": [
    "def test_bleu(dataloader, model, src_tokenizer, tgt_tokenizer, max_len, device='cuda'):\n",
    "    all_pred_texts = []\n",
    "    all_ref_texts = []\n",
    "    \n",
    "    for test_batch in tqdm(dataloader, total=len(dataloader), desc=\"Test Bleu Score\"):\n",
    "        src_texts = test_batch['translation']['de']\n",
    "        ref_texts = test_batch['translation']['en']\n",
    "        \n",
    "        # Translate the current minibatch\n",
    "        pred_texts = batch_generate(model, src_texts, src_tokenizer, tgt_tokenizer, max_len, device=device)\n",
    "        \n",
    "        # Store predictions and references\n",
    "        all_pred_texts.extend(pred_texts)\n",
    "        all_ref_texts.extend(ref_texts)\n",
    "        \n",
    "    bleu = sacrebleu.corpus_bleu(all_pred_texts, [all_ref_texts])\n",
    "    return bleu"
   ]
  },
  {
   "cell_type": "code",
   "execution_count": 602,
   "id": "37184df3-f603-4a4b-abee-fa3cf78d4f11",
   "metadata": {},
   "outputs": [
    {
     "data": {
      "application/vnd.jupyter.widget-view+json": {
       "model_id": "808247759d3d491290278ae7531ac88f",
       "version_major": 2,
       "version_minor": 0
      },
      "text/plain": [
       "Test Bleu Score:   0%|          | 0/24 [00:00<?, ?it/s]"
      ]
     },
     "metadata": {},
     "output_type": "display_data"
    },
    {
     "name": "stdout",
     "output_type": "stream",
     "text": [
      "BLEU score: 8.16466431175122\n"
     ]
    }
   ],
   "source": [
    "with torch.no_grad():\n",
    "    bleu = test_bleu(testloader, model, de_tokenizer, en_tokenizer, max_len, device='cuda')\n",
    "print(f\"BLEU score: {bleu.score}\")"
   ]
  },
  {
   "cell_type": "code",
   "execution_count": null,
   "id": "2eba0a1f-7a2d-4df5-a7c3-11a01c79f136",
   "metadata": {},
   "outputs": [],
   "source": []
  }
 ],
 "metadata": {
  "kernelspec": {
   "display_name": "Python 3 (ipykernel)",
   "language": "python",
   "name": "python3"
  },
  "language_info": {
   "codemirror_mode": {
    "name": "ipython",
    "version": 3
   },
   "file_extension": ".py",
   "mimetype": "text/x-python",
   "name": "python",
   "nbconvert_exporter": "python",
   "pygments_lexer": "ipython3",
   "version": "3.10.12"
  }
 },
 "nbformat": 4,
 "nbformat_minor": 5
}
