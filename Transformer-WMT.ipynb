{
 "cells": [
  {
   "cell_type": "code",
   "execution_count": 1,
   "id": "c2d7f2a9-3be5-41d6-982b-0b759089a71d",
   "metadata": {},
   "outputs": [],
   "source": [
    "import torch\n",
    "from torch import nn\n",
    "import torch.nn.functional as F"
   ]
  },
  {
   "cell_type": "code",
   "execution_count": 2,
   "id": "af58df63-5a15-4ff9-ab76-ccd41e0fb0d9",
   "metadata": {},
   "outputs": [],
   "source": [
    "import sacrebleu"
   ]
  },
  {
   "cell_type": "code",
   "execution_count": 3,
   "id": "15d8ea31-a0bb-4a87-b422-62ed4299b560",
   "metadata": {},
   "outputs": [],
   "source": [
    "from transformers import AutoModel, AutoTokenizer, AutoModelForSeq2SeqLM"
   ]
  },
  {
   "cell_type": "code",
   "execution_count": 4,
   "id": "f98ebb5b-68e8-4c01-beb6-8fc660738998",
   "metadata": {},
   "outputs": [],
   "source": [
    "from datasets import load_dataset"
   ]
  },
  {
   "cell_type": "code",
   "execution_count": 85,
   "id": "828687a4-c80c-4aa7-b118-ed262fa68d5f",
   "metadata": {},
   "outputs": [],
   "source": [
    "from tqdm.notebook import tqdm, trange"
   ]
  },
  {
   "cell_type": "code",
   "execution_count": 50,
   "id": "76c70b57-bb4e-46d3-9d80-d1bbe8859887",
   "metadata": {},
   "outputs": [],
   "source": [
    "# Check if CUDA is available\n",
    "assert torch.cuda.device_count() > 1, \"This script requires at least 2 GPUs\""
   ]
  },
  {
   "cell_type": "code",
   "execution_count": 54,
   "id": "54b4e151-13b6-4319-b956-af47bc4033cc",
   "metadata": {},
   "outputs": [],
   "source": [
    "device_ids = [i for i in range(torch.cuda.device_count())]"
   ]
  },
  {
   "cell_type": "markdown",
   "id": "3ccbb25b-33a4-4605-856c-10030f136e59",
   "metadata": {},
   "source": [
    "# Examine pretrained BERT model"
   ]
  },
  {
   "cell_type": "code",
   "execution_count": 62,
   "id": "b256eadf-56ee-430e-8be6-2f71cdd4c371",
   "metadata": {},
   "outputs": [
    {
     "name": "stderr",
     "output_type": "stream",
     "text": [
      "/home/geshi/.local/lib/python3.10/site-packages/huggingface_hub/file_download.py:1132: FutureWarning: `resume_download` is deprecated and will be removed in version 1.0.0. Downloads always resume when possible. If you want to force a new download, use `force_download=True`.\n",
      "  warnings.warn(\n"
     ]
    }
   ],
   "source": [
    "tokenizer = AutoTokenizer.from_pretrained(\"google/bert2bert_L-24_wmt_de_en\", pad_token=\"<pad>\", eos_token=\"</s>\", bos_token=\"<s>\")\n",
    "model = AutoModelForSeq2SeqLM.from_pretrained(\"google/bert2bert_L-24_wmt_de_en\")"
   ]
  },
  {
   "cell_type": "code",
   "execution_count": 8,
   "id": "8a2073c3-f536-4ca7-a2bc-fda52f3a303c",
   "metadata": {},
   "outputs": [],
   "source": [
    "de_en_ds_train = load_dataset(\"stas/wmt14-en-de-pre-processed\", split=\"train\")"
   ]
  },
  {
   "cell_type": "code",
   "execution_count": 63,
   "id": "5458ca80-2a5b-46b0-b963-71fd17a7ba36",
   "metadata": {},
   "outputs": [],
   "source": [
    "model = nn.DataParallel(model, device_ids=device_ids)\n",
    "model = model.to('cuda')"
   ]
  },
  {
   "cell_type": "code",
   "execution_count": 10,
   "id": "d2a1ec27-3626-48b5-b5c2-e6c391030bdb",
   "metadata": {},
   "outputs": [],
   "source": [
    "de_en_ds_valid = load_dataset(\"stas/wmt14-en-de-pre-processed\", split=\"validation\")"
   ]
  },
  {
   "cell_type": "code",
   "execution_count": 11,
   "id": "fb1e9a57-c570-41e9-a6ab-5fdb8d1ee8f8",
   "metadata": {},
   "outputs": [],
   "source": [
    "de_en_ds_test = load_dataset(\"stas/wmt14-en-de-pre-processed\", split=\"test\")"
   ]
  },
  {
   "cell_type": "code",
   "execution_count": 12,
   "id": "4daee8f6-378e-48b6-8859-18ebbb609a8d",
   "metadata": {},
   "outputs": [],
   "source": [
    "de_en_ds = {'train':de_en_ds_train, 'validation':de_en_ds_valid, 'test':de_en_ds_test}"
   ]
  },
  {
   "cell_type": "code",
   "execution_count": 13,
   "id": "09062722-5c7c-4027-9a1b-dfbebfcfa375",
   "metadata": {},
   "outputs": [
    {
     "data": {
      "text/plain": [
       "{'translation': {'de': 'Wiederaufnahme der Sitzungsperiode',\n",
       "  'en': 'Resumption of the session'}}"
      ]
     },
     "execution_count": 13,
     "metadata": {},
     "output_type": "execute_result"
    }
   ],
   "source": [
    "de_en_ds_train[0]"
   ]
  },
  {
   "cell_type": "code",
   "execution_count": 14,
   "id": "bcc54fd2-03ac-48c3-a6ef-43a2a2fd810d",
   "metadata": {},
   "outputs": [],
   "source": [
    "source_lang = \"de\"\n",
    "target_lang = \"en\""
   ]
  },
  {
   "cell_type": "code",
   "execution_count": 15,
   "id": "d11abb6f-a766-455d-8879-3d14dc124fcf",
   "metadata": {},
   "outputs": [],
   "source": [
    "de_sentence = de_en_ds['validation'][0]['translation']['de']\n",
    "en_sentence = de_en_ds['validation'][0]['translation']['en']"
   ]
  },
  {
   "cell_type": "markdown",
   "id": "19c56b5d-b715-44b4-a71f-338ea4eb4f49",
   "metadata": {},
   "source": [
    "## Forward Translation"
   ]
  },
  {
   "cell_type": "code",
   "execution_count": 64,
   "id": "a33b479d-f940-4635-84bb-7a243ad6f128",
   "metadata": {},
   "outputs": [],
   "source": [
    "input_ids = tokenizer(de_sentence, return_tensors=\"pt\", add_special_tokens=False).input_ids"
   ]
  },
  {
   "cell_type": "code",
   "execution_count": 91,
   "id": "1156c6c4-629f-4648-8b39-e13cba71965b",
   "metadata": {},
   "outputs": [
    {
     "name": "stdout",
     "output_type": "stream",
     "text": [
      "tensor([[ 1094, 21755, 10396,  1091, 19586,  1099,  1097,  2041, 19660,  1099,\n",
      "         25818,  1133,  1091,  1096,  4103,  1241,   119]])\n"
     ]
    }
   ],
   "source": [
    "print(input_ids)"
   ]
  },
  {
   "cell_type": "code",
   "execution_count": 65,
   "id": "5a8625ef-471d-471f-98d9-2ce36b737d87",
   "metadata": {},
   "outputs": [],
   "source": [
    "output_ids = model.module.generate(input_ids.to('cuda'))[0]"
   ]
  },
  {
   "cell_type": "code",
   "execution_count": 70,
   "id": "14bd09b9-156e-41ea-891a-a8cd317792a7",
   "metadata": {},
   "outputs": [],
   "source": [
    "translate_sentence = tokenizer.decode(output_ids, skip_special_tokens=True)"
   ]
  },
  {
   "cell_type": "code",
   "execution_count": 71,
   "id": "cc764d93-9b3f-426e-bb6c-a53d82decc49",
   "metadata": {},
   "outputs": [
    {
     "name": "stdout",
     "output_type": "stream",
     "text": [
      "target sentence: India and Japan prime ministers meet in Tokyo translated sentence: The prime ministers of India and Japan met in tokio.\n"
     ]
    }
   ],
   "source": [
    "print(\"target sentence:\", en_sentence, \"translated sentence:\", translate_sentence)"
   ]
  },
  {
   "cell_type": "markdown",
   "id": "2c497a43-e445-44b5-888f-a2e271a17484",
   "metadata": {},
   "source": [
    "## Evaluate the Pretrained Model Translation Quality"
   ]
  },
  {
   "cell_type": "code",
   "execution_count": 73,
   "id": "12dab975-3f41-4685-9f1c-3c7eb513d0bd",
   "metadata": {},
   "outputs": [],
   "source": [
    "def translate(texts, tokenizer, model):\n",
    "    tokens = tokenizer(texts, return_tensors='pt', padding=True, truncation=True, max_length=24, add_special_tokens=False).input_ids\n",
    "    translated_tokens = model.module.generate(tokens.to('cuda'))\n",
    "    translated_texts = tokenizer.batch_decode(translated_tokens, skip_special_tokens=True)\n",
    "    return translated_texts"
   ]
  },
  {
   "cell_type": "code",
   "execution_count": 74,
   "id": "25425329-4347-4551-b4e5-e70afc61af56",
   "metadata": {},
   "outputs": [],
   "source": [
    "# Sample data\n",
    "src_texts = [\n",
    "    \"Das ist ein Test.\",\n",
    "    \"Wie geht es dir?\",\n",
    "    \"Ich liebe das Lernen neuer Sprachen.\"\n",
    "]\n",
    "ref_texts = [\n",
    "    \"This is a test.\",\n",
    "    \"How are you?\",\n",
    "    \"I love learning new languages.\"\n",
    "]"
   ]
  },
  {
   "cell_type": "code",
   "execution_count": 75,
   "id": "fc85f4f1-1e67-47d3-ad54-42cd00b5923b",
   "metadata": {},
   "outputs": [],
   "source": [
    "pred_texts = translate(src_texts, tokenizer, model)"
   ]
  },
  {
   "cell_type": "code",
   "execution_count": 76,
   "id": "da884fc9-8613-4925-9bd2-c54af1a85e25",
   "metadata": {},
   "outputs": [
    {
     "name": "stdout",
     "output_type": "stream",
     "text": [
      "BLEU score: 26.604926507725\n"
     ]
    }
   ],
   "source": [
    "bleu = sacrebleu.corpus_bleu(pred_texts, [ref_texts])\n",
    "print(f\"BLEU score: {bleu.score}\")"
   ]
  },
  {
   "cell_type": "code",
   "execution_count": 77,
   "id": "01ff06ab-8d15-48d5-a59d-b3c9684c1cbf",
   "metadata": {},
   "outputs": [
    {
     "data": {
      "text/plain": [
       "['that is a test.',\n",
       " 'How does it work for you?',\n",
       " 'I love learning to speak more.']"
      ]
     },
     "execution_count": 77,
     "metadata": {},
     "output_type": "execute_result"
    }
   ],
   "source": [
    "pred_texts"
   ]
  },
  {
   "cell_type": "code",
   "execution_count": 86,
   "id": "d5d0e047-0a05-4ad4-a860-d5e77e69da75",
   "metadata": {},
   "outputs": [],
   "source": [
    "def evaluate_bleu(validation_dataset, tokenizer, model, batch_size=32):\n",
    "    src_texts = [entry['translation']['de'] for entry in validation_dataset]\n",
    "    ref_texts = [entry['translation']['en'] for entry in validation_dataset]\n",
    "\n",
    "    num_batches = len(src_texts) // batch_size + int(len(src_texts) % batch_size > 0)\n",
    "    all_pred_texts = []\n",
    "    all_ref_texts = []\n",
    "\n",
    "    for i in trange(num_batches, desc=\"Processing Batches\"):\n",
    "        batch_src_texts = src_texts[i * batch_size:(i + 1) * batch_size]\n",
    "        batch_ref_texts = ref_texts[i * batch_size:(i + 1) * batch_size]\n",
    "        \n",
    "        # Translate the current minibatch\n",
    "        batch_pred_texts = translate(batch_src_texts, tokenizer, model)\n",
    "        \n",
    "        # Store predictions and references\n",
    "        all_pred_texts.extend(batch_pred_texts)\n",
    "        all_ref_texts.extend(batch_ref_texts)\n",
    "        \n",
    "    bleu = sacrebleu.corpus_bleu(all_pred_texts, [all_ref_texts])\n",
    "    return bleu"
   ]
  },
  {
   "cell_type": "code",
   "execution_count": 88,
   "id": "11d4cab2-0b26-4327-8a58-b4d9e82b8b56",
   "metadata": {},
   "outputs": [
    {
     "data": {
      "application/vnd.jupyter.widget-view+json": {
       "model_id": "c78988667c044e3094fa24a18fcb9c84",
       "version_major": 2,
       "version_minor": 0
      },
      "text/plain": [
       "Processing Batches:   0%|          | 0/68 [00:00<?, ?it/s]"
      ]
     },
     "metadata": {},
     "output_type": "display_data"
    },
    {
     "name": "stdout",
     "output_type": "stream",
     "text": [
      "BLEU score: 12.70440937875939\n"
     ]
    }
   ],
   "source": [
    "with torch.no_grad():\n",
    "    bleu = evaluate_bleu(de_en_ds_valid, tokenizer, model)\n",
    "print(f\"BLEU score: {bleu.score}\")"
   ]
  },
  {
   "cell_type": "code",
   "execution_count": 89,
   "id": "eed6ed50-c06e-4449-bf5d-db2b317144c4",
   "metadata": {},
   "outputs": [],
   "source": [
    "torch.cuda.empty_cache()"
   ]
  },
  {
   "cell_type": "code",
   "execution_count": 90,
   "id": "2837e1a1-8f2b-42e0-9f83-19abc910644e",
   "metadata": {},
   "outputs": [],
   "source": [
    "model = model.to('cpu')"
   ]
  },
  {
   "cell_type": "markdown",
   "id": "ee2a07da-36d4-492d-a010-364210981e38",
   "metadata": {},
   "source": [
    "# Create Customized Transformer Model"
   ]
  },
  {
   "cell_type": "code",
   "execution_count": 96,
   "id": "3d4f90ae-d134-4c4a-a9c8-62d2623d845d",
   "metadata": {},
   "outputs": [],
   "source": [
    "import math"
   ]
  },
  {
   "cell_type": "code",
   "execution_count": 93,
   "id": "90f57eaa-08bc-42b5-8022-fe63b7f0b20b",
   "metadata": {},
   "outputs": [],
   "source": [
    "vocab_size = len(tokenizer.get_vocab())"
   ]
  },
  {
   "cell_type": "code",
   "execution_count": 123,
   "id": "8b7b9745-a4bb-47c5-a213-64909b327564",
   "metadata": {},
   "outputs": [],
   "source": [
    "batch_size = 8\n",
    "d_model = 512\n",
    "n_head = 8\n",
    "max_len = 1000"
   ]
  },
  {
   "cell_type": "code",
   "execution_count": 120,
   "id": "35dacf3d-8782-4afc-bf0c-67163f9d656f",
   "metadata": {},
   "outputs": [],
   "source": [
    "embedding = torch.rand(batch_size, max_len, d_model)"
   ]
  },
  {
   "cell_type": "code",
   "execution_count": 116,
   "id": "1b171e83-acc9-439e-82ef-081c4eaa747d",
   "metadata": {},
   "outputs": [],
   "source": [
    "class PositionalEmbedding(nn.Module):\n",
    "    def __init__(self, d_model, max_len):\n",
    "        super(PositionalEmbedding, self).__init__()\n",
    "        # b, t, d\n",
    "        self.encoding = torch.zeros(max_len, d_model)\n",
    "        pos = torch.arange(0, max_len).unsqueeze(1).float()\n",
    "        div = torch.exp(-torch.arange(0, d_model, 2).float() * (math.log(10000.0) / d_model))\n",
    "\n",
    "        self.encoding[:, 0::2] = torch.sin(pos * div)\n",
    "        self.encoding[:, 1::2] = torch.cos(pos * div)\n",
    "        self.encoding = self.encoding.unsqueeze(0)\n",
    "    \n",
    "    def forward(self, x):\n",
    "        return x + self.encoding[:, :x.size(1)]"
   ]
  },
  {
   "cell_type": "code",
   "execution_count": 117,
   "id": "62861d94-075b-4e5a-bba8-0136fea79fe2",
   "metadata": {},
   "outputs": [],
   "source": [
    "pe = PositionalEmbedding(d_model, max_len)"
   ]
  },
  {
   "cell_type": "code",
   "execution_count": 121,
   "id": "1b210f7c-ecc9-4daf-9156-b342af7d006c",
   "metadata": {},
   "outputs": [
    {
     "data": {
      "text/plain": [
       "torch.Size([8, 1000, 512])"
      ]
     },
     "execution_count": 121,
     "metadata": {},
     "output_type": "execute_result"
    }
   ],
   "source": [
    "pe(embedding).size()"
   ]
  },
  {
   "cell_type": "code",
   "execution_count": 125,
   "id": "509710c1-9b4b-4348-bf07-b8062ffadd99",
   "metadata": {},
   "outputs": [],
   "source": [
    "class MultiHeadAttention(nn.Module):\n",
    "    def __init__(self, d_model, n_head):\n",
    "        super(MultiHeadAttention, self).__init__()\n",
    "        assert d_model % n_head == 0, \"The dimension of model must be divisible by the number of heads\"\n",
    "        \n",
    "        self.n_head = n_head\n",
    "        self.d_model = d_model\n",
    "        self.d_head = d_model // n_head\n",
    "        \n",
    "        self.Wq = nn.Linear(d_model, d_model)\n",
    "        self.Wk = nn.Linear(d_model, d_model)\n",
    "        self.Wv = nn.Linear(d_model, d_model)\n",
    "        self.proj = nn.Linear(d_model, d_model)\n",
    "\n",
    "    def split_into_heads(self, x, batch_size):\n",
    "        x = x.contiguous().view(batch_size, -1, self.n_head, self.d_head)\n",
    "        return x.permute(0, 2, 1, 3)\n",
    "        \n",
    "    def forward(self, q, k, v, mask=None):\n",
    "        q = self.Wq(q)\n",
    "        k = self.Wk(k)\n",
    "        v = self.Wk(v)\n",
    "        batch_size = q.size(0)\n",
    "\n",
    "        q = self.split_into_heads(q, batch_size)\n",
    "        k = self.split_into_heads(k, batch_size)\n",
    "        v = self.split_into_heads(v, batch_size)\n",
    "\n",
    "        score = torch.matmul(self.q, self.k.transpose(-2, -1)) / math.sqrt(self.d_head)\n",
    "        \n",
    "        if mask:\n",
    "            scores = scores.masked_fill(mask == 0, float('-inf'))\n",
    "        attention = F.softmax(scores, dim=-1)\n",
    "\n",
    "        output = torch.matmul(attention, v)\n",
    "        output = output.transpose(1, 2)\n",
    "        output = output.contiguous.view(batch_size, -1, self.d_model)\n",
    "            \n",
    "        output = self.proj(output)\n",
    "        return output"
   ]
  },
  {
   "cell_type": "code",
   "execution_count": 126,
   "id": "234b1bfa-bde3-462e-ba8f-c0281453359c",
   "metadata": {},
   "outputs": [],
   "source": [
    "mla = MultiHeadAttention(d_model, n_head)"
   ]
  },
  {
   "cell_type": "code",
   "execution_count": 127,
   "id": "f018a294-5b37-4eff-8337-06ebb23669b9",
   "metadata": {},
   "outputs": [
    {
     "ename": "TypeError",
     "evalue": "MultiHeadAttention.forward() missing 2 required positional arguments: 'k' and 'v'",
     "output_type": "error",
     "traceback": [
      "\u001b[0;31m---------------------------------------------------------------------------\u001b[0m",
      "\u001b[0;31mTypeError\u001b[0m                                 Traceback (most recent call last)",
      "Cell \u001b[0;32mIn[127], line 1\u001b[0m\n\u001b[0;32m----> 1\u001b[0m \u001b[43mmla\u001b[49m\u001b[43m(\u001b[49m\u001b[43mtorch\u001b[49m\u001b[38;5;241;43m.\u001b[39;49m\u001b[43mrand\u001b[49m\u001b[43m(\u001b[49m\u001b[43mbatch_size\u001b[49m\u001b[43m,\u001b[49m\u001b[43m \u001b[49m\u001b[43mmax_len\u001b[49m\u001b[43m,\u001b[49m\u001b[43m \u001b[49m\u001b[43md_model\u001b[49m\u001b[43m)\u001b[49m\u001b[43m)\u001b[49m\u001b[38;5;241m.\u001b[39msize()\n",
      "File \u001b[0;32m~/.local/lib/python3.10/site-packages/torch/nn/modules/module.py:1194\u001b[0m, in \u001b[0;36mModule._call_impl\u001b[0;34m(self, *input, **kwargs)\u001b[0m\n\u001b[1;32m   1190\u001b[0m \u001b[38;5;66;03m# If we don't have any hooks, we want to skip the rest of the logic in\u001b[39;00m\n\u001b[1;32m   1191\u001b[0m \u001b[38;5;66;03m# this function, and just call forward.\u001b[39;00m\n\u001b[1;32m   1192\u001b[0m \u001b[38;5;28;01mif\u001b[39;00m \u001b[38;5;129;01mnot\u001b[39;00m (\u001b[38;5;28mself\u001b[39m\u001b[38;5;241m.\u001b[39m_backward_hooks \u001b[38;5;129;01mor\u001b[39;00m \u001b[38;5;28mself\u001b[39m\u001b[38;5;241m.\u001b[39m_forward_hooks \u001b[38;5;129;01mor\u001b[39;00m \u001b[38;5;28mself\u001b[39m\u001b[38;5;241m.\u001b[39m_forward_pre_hooks \u001b[38;5;129;01mor\u001b[39;00m _global_backward_hooks\n\u001b[1;32m   1193\u001b[0m         \u001b[38;5;129;01mor\u001b[39;00m _global_forward_hooks \u001b[38;5;129;01mor\u001b[39;00m _global_forward_pre_hooks):\n\u001b[0;32m-> 1194\u001b[0m     \u001b[38;5;28;01mreturn\u001b[39;00m \u001b[43mforward_call\u001b[49m\u001b[43m(\u001b[49m\u001b[38;5;241;43m*\u001b[39;49m\u001b[38;5;28;43minput\u001b[39;49m\u001b[43m,\u001b[49m\u001b[43m \u001b[49m\u001b[38;5;241;43m*\u001b[39;49m\u001b[38;5;241;43m*\u001b[39;49m\u001b[43mkwargs\u001b[49m\u001b[43m)\u001b[49m\n\u001b[1;32m   1195\u001b[0m \u001b[38;5;66;03m# Do not call functions when jit is used\u001b[39;00m\n\u001b[1;32m   1196\u001b[0m full_backward_hooks, non_full_backward_hooks \u001b[38;5;241m=\u001b[39m [], []\n",
      "\u001b[0;31mTypeError\u001b[0m: MultiHeadAttention.forward() missing 2 required positional arguments: 'k' and 'v'"
     ]
    }
   ],
   "source": [
    "mla(torch.rand(batch_size, max_len, d_model)).size()"
   ]
  },
  {
   "cell_type": "code",
   "execution_count": null,
   "id": "429e9c38-bc8a-4aaa-b4fc-b25567b0906c",
   "metadata": {},
   "outputs": [],
   "source": [
    "class FeedForward(nn.Module):\n",
    "    def __init__(self, d_model):\n",
    "        super(FeedForward, self).__init__()\n",
    "    def forward(self, x):\n",
    "        pass"
   ]
  },
  {
   "cell_type": "code",
   "execution_count": null,
   "id": "eba65554-601f-497e-bb76-7fa7cd0045d8",
   "metadata": {},
   "outputs": [],
   "source": [
    "class EncoderBlock(nn.Module):\n",
    "    def __init__(self, n_head, d_model):\n",
    "        super(EncoderBlock, self).__init__()\n",
    "    def forward(self, x):\n",
    "        pass"
   ]
  },
  {
   "cell_type": "code",
   "execution_count": null,
   "id": "7394fada-d235-4481-91c8-0c9cbf179229",
   "metadata": {},
   "outputs": [],
   "source": [
    "class TransformerEncoder(nn.Module):\n",
    "    def __init__(self, n_head, d_model):\n",
    "        super(TransformerEncoder, self).__init__()\n",
    "    def forward(self, x):\n",
    "        pass"
   ]
  },
  {
   "cell_type": "code",
   "execution_count": null,
   "id": "5894d496-c927-48f8-9678-34f53597a397",
   "metadata": {},
   "outputs": [],
   "source": [
    "class TransformerDecoder(nn.Module):\n",
    "    def __init__(self, n_head, d_model):\n",
    "        super(TransformerDecoder, self).__init__()\n",
    "    def forward(self, x):\n",
    "        pass"
   ]
  },
  {
   "cell_type": "code",
   "execution_count": null,
   "id": "4e12646d-fdaf-4cb0-a5e2-3d7f57aa65a0",
   "metadata": {},
   "outputs": [],
   "source": [
    "class Transformer(nn.Module):\n",
    "    def __init__(self, vocab_size, d_model, n_head, max_len):\n",
    "        super(Transformer, self).__init__()\n",
    "        self.embedding = nn.Embedding(vocab_size, d_model)\n",
    "        self.pe = PositionalEmbedding(d_model, max_len)\n",
    "        self.encoder = TransformerEncoder()\n",
    "        self.decoder = TransformerDecoder()\n",
    "\n",
    "    def forward(self, x, mask):\n",
    "        pass"
   ]
  }
 ],
 "metadata": {
  "kernelspec": {
   "display_name": "Python 3 (ipykernel)",
   "language": "python",
   "name": "python3"
  },
  "language_info": {
   "codemirror_mode": {
    "name": "ipython",
    "version": 3
   },
   "file_extension": ".py",
   "mimetype": "text/x-python",
   "name": "python",
   "nbconvert_exporter": "python",
   "pygments_lexer": "ipython3",
   "version": "3.10.12"
  }
 },
 "nbformat": 4,
 "nbformat_minor": 5
}
