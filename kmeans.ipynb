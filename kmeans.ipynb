{
 "cells": [
  {
   "cell_type": "code",
   "execution_count": 14,
   "id": "1be6d359-2a4d-4ada-b6bb-016f581e1be7",
   "metadata": {},
   "outputs": [],
   "source": [
    "import numpy as np\n",
    "from sklearn.cluster import KMeans\n",
    "from sklearn.preprocessing import StandardScaler\n",
    "from sklearn import datasets\n",
    "from scipy.spatial.distance import cdist\n",
    "from scipy.linalg import norm"
   ]
  },
  {
   "cell_type": "code",
   "execution_count": 4,
   "id": "3d2edfc6-83af-4596-a741-30cc755ede9c",
   "metadata": {},
   "outputs": [],
   "source": [
    "n_samples = 500\n",
    "seed = 30"
   ]
  },
  {
   "cell_type": "code",
   "execution_count": 5,
   "id": "49561358-32a7-47f0-9de5-6f7937067c21",
   "metadata": {},
   "outputs": [],
   "source": [
    "blobs = datasets.make_blobs(n_samples=n_samples, random_state=seed)"
   ]
  },
  {
   "cell_type": "code",
   "execution_count": 7,
   "id": "cff0cd06-d844-444a-ac6e-b7e229b3e4d5",
   "metadata": {},
   "outputs": [],
   "source": [
    "kmeans = KMeans(n_clusters=2, random_state=0, n_init=\"auto\").fit(X)"
   ]
  },
  {
   "cell_type": "code",
   "execution_count": 9,
   "id": "ca43c8fe-b38c-4485-a7ef-836b96f167af",
   "metadata": {},
   "outputs": [],
   "source": [
    "X, y = blobs\n",
    "# normalize dataset for easier parameter selection\n",
    "X = StandardScaler().fit_transform(X)"
   ]
  },
  {
   "cell_type": "code",
   "execution_count": 10,
   "id": "ce53571e-5a16-45c9-b2af-8e0b2ced9828",
   "metadata": {},
   "outputs": [],
   "source": [
    "kmeans = KMeans(n_clusters=3, random_state=0, n_init=\"auto\").fit(X)"
   ]
  },
  {
   "cell_type": "code",
   "execution_count": 11,
   "id": "f3aef588-b1a6-4981-83f7-570ba135f971",
   "metadata": {},
   "outputs": [
    {
     "data": {
      "text/plain": [
       "array([0, 1, 1, 0, 2, 0, 2, 0, 1, 2, 1, 1, 1, 2, 0, 2, 1, 1, 1, 2, 0, 2,\n",
       "       1, 2, 1, 0, 0, 0, 1, 1, 1, 0, 0, 0, 2, 2, 0, 1, 0, 1, 1, 2, 2, 2,\n",
       "       1, 2, 1, 2, 1, 1, 1, 2, 1, 1, 2, 2, 0, 2, 2, 1, 2, 1, 2, 0, 0, 0,\n",
       "       1, 2, 0, 2, 2, 0, 2, 1, 1, 1, 0, 2, 0, 2, 1, 2, 0, 0, 1, 0, 1, 0,\n",
       "       1, 0, 2, 0, 1, 2, 1, 1, 1, 0, 1, 0, 2, 2, 1, 1, 2, 2, 1, 1, 2, 1,\n",
       "       1, 2, 0, 1, 2, 1, 0, 0, 2, 0, 0, 2, 2, 2, 0, 0, 0, 1, 1, 2, 2, 1,\n",
       "       2, 1, 2, 0, 0, 2, 1, 0, 1, 1, 0, 2, 2, 0, 1, 1, 2, 2, 1, 0, 1, 0,\n",
       "       2, 0, 0, 0, 1, 1, 2, 1, 1, 2, 2, 2, 1, 0, 1, 1, 2, 0, 0, 0, 2, 0,\n",
       "       2, 0, 0, 2, 0, 2, 0, 1, 2, 0, 2, 0, 0, 0, 0, 0, 1, 2, 2, 0, 2, 0,\n",
       "       2, 0, 2, 2, 2, 0, 1, 0, 2, 2, 2, 0, 0, 1, 2, 1, 0, 0, 1, 0, 2, 1,\n",
       "       0, 2, 1, 1, 2, 0, 1, 1, 0, 2, 1, 1, 2, 0, 1, 0, 2, 2, 1, 1, 2, 0,\n",
       "       1, 0, 0, 1, 1, 1, 0, 0, 2, 0, 2, 2, 2, 0, 2, 1, 1, 1, 2, 2, 2, 0,\n",
       "       1, 1, 1, 2, 2, 1, 0, 1, 2, 2, 0, 2, 2, 2, 2, 2, 0, 1, 1, 2, 2, 0,\n",
       "       1, 0, 0, 2, 1, 1, 1, 0, 2, 2, 0, 1, 1, 1, 1, 0, 1, 1, 0, 1, 0, 0,\n",
       "       1, 2, 0, 1, 1, 0, 1, 1, 2, 0, 2, 0, 1, 2, 1, 1, 1, 2, 1, 1, 1, 0,\n",
       "       0, 2, 0, 0, 0, 0, 2, 1, 2, 0, 0, 0, 2, 2, 2, 0, 1, 2, 2, 2, 0, 2,\n",
       "       0, 2, 0, 2, 2, 2, 0, 1, 2, 2, 1, 0, 1, 1, 1, 1, 0, 1, 1, 0, 0, 0,\n",
       "       1, 2, 2, 0, 1, 2, 1, 1, 1, 0, 0, 1, 0, 1, 0, 2, 2, 0, 2, 2, 0, 2,\n",
       "       0, 1, 1, 1, 0, 0, 0, 1, 2, 1, 2, 0, 2, 0, 2, 2, 2, 1, 0, 2, 0, 0,\n",
       "       0, 0, 2, 2, 1, 0, 0, 2, 1, 2, 0, 2, 2, 1, 2, 0, 1, 0, 0, 1, 2, 1,\n",
       "       0, 2, 1, 1, 1, 2, 1, 0, 2, 2, 0, 1, 2, 2, 2, 0, 2, 1, 0, 1, 0, 0,\n",
       "       0, 0, 1, 1, 0, 2, 0, 2, 0, 2, 2, 0, 1, 1, 1, 1, 0, 0, 2, 1, 1, 0,\n",
       "       0, 1, 0, 0, 1, 2, 0, 1, 0, 0, 2, 2, 0, 0, 0, 1], dtype=int32)"
      ]
     },
     "execution_count": 11,
     "metadata": {},
     "output_type": "execute_result"
    }
   ],
   "source": [
    "kmeans.labels_"
   ]
  },
  {
   "cell_type": "code",
   "execution_count": 19,
   "id": "2045a358-d66a-401b-8ae5-37ae002fc4aa",
   "metadata": {},
   "outputs": [
    {
     "data": {
      "text/plain": [
       "array([[-0.72291674,  0.74936531],\n",
       "       [ 1.34657245,  0.49510722],\n",
       "       [-0.6142915 , -1.26563961]])"
      ]
     },
     "execution_count": 19,
     "metadata": {},
     "output_type": "execute_result"
    }
   ],
   "source": [
    "kmeans.cluster_centers_"
   ]
  },
  {
   "cell_type": "markdown",
   "id": "8a237b2d-41ac-4dd8-b689-05c626869d42",
   "metadata": {},
   "source": [
    "# Kmeans from scratch"
   ]
  },
  {
   "cell_type": "code",
   "execution_count": 41,
   "id": "eeae947d-49b5-4bf7-b929-c6755052fa34",
   "metadata": {},
   "outputs": [],
   "source": [
    "class hKmeans:\n",
    "    def __init__(self, n_clusters, random_state, max_iter=300, tol=1e-4):\n",
    "        \"\"\"Args:\n",
    "        n_clusters: int, number of clusters\n",
    "        random_state: int, control randomness by seed\n",
    "        max_iter: int, the number of iterations\n",
    "        tol: float, the frobinius norm of differences between two consecutive iterations\n",
    "        \"\"\"\n",
    "        self.n_clusters = n_clusters\n",
    "        self.random_state = random_state\n",
    "        self.max_iter = max_iter\n",
    "        self.tol = tol\n",
    "        \n",
    "    def fit(self, X):\n",
    "        # random initialization\n",
    "        np.random.seed(self.random_state)\n",
    "        N, dim = X.shape\n",
    "        init = np.random.choice(N, self.n_clusters)\n",
    "        # initial cluster coordinates\n",
    "        cluster_centers_ = X[init,:]\n",
    "        n_iter = 0\n",
    "        while n_iter < self.max_iter:\n",
    "            # pairwise distance between points to cluster centers\n",
    "            dists = cdist(X, cluster_centers_, metric='euclidean')\n",
    "            clusters = np.argmin(dists, axis=1)\n",
    "            # new cluster centers\n",
    "            new_cluster_centers_ = np.array([np.mean(X[clusters==idx,:], axis=0) for idx in range(self.n_clusters)])\n",
    "            # compute the difference between updates and get norm\n",
    "            diff = new_cluster_centers_ - cluster_centers_\n",
    "            gap = norm(diff, 'fro')\n",
    "            # exit condition\n",
    "            if gap<self.tol:\n",
    "                break\n",
    "            \n",
    "            n_iter += 1\n",
    "            cluster_centers_ = new_cluster_centers_\n",
    "        \n",
    "        self.cluster_centers_ = cluster_centers_\n",
    "        dists = cdist(X, cluster_centers_, metric='euclidean')\n",
    "        clusters = np.argmin(dists, axis=1)\n",
    "        return clusters"
   ]
  },
  {
   "cell_type": "code",
   "execution_count": 42,
   "id": "c9f51d5f-ac42-4260-b869-514d784fd203",
   "metadata": {},
   "outputs": [],
   "source": [
    "hkmeans = hKmeans(n_clusters=3, random_state=0)"
   ]
  },
  {
   "cell_type": "code",
   "execution_count": 43,
   "id": "060b7860-d1e9-4273-b2a7-e7f8b159cb1d",
   "metadata": {},
   "outputs": [],
   "source": [
    "clusters = hkmeans.fit(X)"
   ]
  },
  {
   "cell_type": "code",
   "execution_count": 44,
   "id": "39a5c731-06ca-408b-9e03-009bbbead99e",
   "metadata": {},
   "outputs": [
    {
     "data": {
      "text/plain": [
       "array([2, 0, 0, 2, 1, 2, 1, 2, 0, 1, 0, 0, 0, 1, 2, 1, 0, 0, 0, 1, 2, 1,\n",
       "       0, 1, 0, 2, 2, 2, 0, 0, 0, 2, 2, 2, 1, 1, 2, 0, 2, 0, 0, 1, 1, 1,\n",
       "       0, 1, 0, 1, 0, 0, 0, 1, 0, 0, 1, 1, 2, 1, 1, 0, 1, 0, 1, 2, 2, 2,\n",
       "       0, 1, 2, 1, 1, 2, 1, 0, 0, 0, 2, 1, 2, 1, 0, 1, 2, 2, 0, 2, 0, 2,\n",
       "       0, 2, 1, 2, 0, 1, 0, 0, 0, 2, 0, 2, 1, 1, 0, 0, 1, 1, 0, 0, 1, 0,\n",
       "       0, 1, 2, 0, 1, 0, 2, 2, 1, 2, 2, 1, 1, 1, 2, 2, 2, 0, 0, 1, 1, 0,\n",
       "       1, 0, 1, 2, 2, 1, 0, 2, 0, 0, 2, 1, 1, 2, 0, 0, 1, 1, 0, 2, 0, 2,\n",
       "       1, 2, 2, 2, 0, 0, 1, 0, 0, 1, 1, 1, 0, 2, 0, 0, 1, 2, 2, 2, 1, 2,\n",
       "       1, 2, 2, 1, 2, 1, 2, 0, 1, 2, 1, 2, 2, 2, 2, 2, 0, 1, 1, 2, 1, 2,\n",
       "       1, 2, 1, 1, 1, 2, 0, 2, 1, 1, 1, 2, 2, 0, 1, 0, 2, 2, 0, 2, 1, 0,\n",
       "       2, 1, 0, 0, 1, 2, 0, 0, 2, 1, 0, 0, 1, 2, 0, 2, 1, 1, 0, 0, 1, 2,\n",
       "       0, 2, 2, 0, 0, 0, 2, 2, 1, 2, 1, 1, 1, 2, 1, 0, 0, 0, 1, 1, 1, 2,\n",
       "       0, 0, 0, 1, 1, 0, 2, 0, 1, 1, 2, 1, 1, 1, 1, 1, 2, 0, 0, 1, 1, 2,\n",
       "       0, 2, 2, 1, 0, 0, 0, 2, 1, 1, 2, 0, 0, 0, 0, 2, 0, 0, 2, 0, 2, 2,\n",
       "       0, 1, 2, 0, 0, 2, 0, 0, 1, 2, 1, 2, 0, 1, 0, 0, 0, 1, 0, 0, 0, 2,\n",
       "       2, 1, 2, 2, 2, 2, 1, 0, 1, 2, 2, 2, 1, 1, 1, 2, 0, 1, 1, 1, 2, 1,\n",
       "       2, 1, 2, 1, 1, 1, 2, 0, 1, 1, 0, 2, 0, 0, 0, 0, 2, 0, 0, 2, 2, 2,\n",
       "       0, 1, 1, 2, 0, 1, 0, 0, 0, 2, 2, 0, 2, 0, 2, 1, 1, 2, 1, 1, 2, 1,\n",
       "       2, 0, 0, 0, 2, 2, 2, 0, 1, 0, 1, 2, 1, 2, 1, 1, 1, 0, 2, 1, 2, 2,\n",
       "       2, 2, 1, 1, 0, 2, 2, 1, 0, 1, 2, 1, 1, 0, 1, 2, 0, 2, 2, 0, 1, 0,\n",
       "       2, 1, 0, 0, 0, 1, 0, 2, 1, 1, 2, 0, 1, 1, 1, 2, 1, 0, 2, 0, 2, 2,\n",
       "       2, 2, 0, 0, 2, 1, 2, 1, 2, 1, 1, 2, 0, 0, 0, 0, 2, 2, 1, 0, 0, 2,\n",
       "       2, 0, 2, 2, 0, 1, 2, 0, 2, 2, 1, 1, 2, 2, 2, 0])"
      ]
     },
     "execution_count": 44,
     "metadata": {},
     "output_type": "execute_result"
    }
   ],
   "source": [
    "clusters"
   ]
  },
  {
   "cell_type": "code",
   "execution_count": 45,
   "id": "8c9c9527-d84b-40fe-a296-638acd88d236",
   "metadata": {},
   "outputs": [
    {
     "data": {
      "text/plain": [
       "array([[ 1.34657245,  0.49510722],\n",
       "       [-0.61290806, -1.27173436],\n",
       "       [-0.72361238,  0.74339198]])"
      ]
     },
     "execution_count": 45,
     "metadata": {},
     "output_type": "execute_result"
    }
   ],
   "source": [
    "hkmeans.cluster_centers_"
   ]
  },
  {
   "cell_type": "code",
   "execution_count": null,
   "id": "af0c348f-ec50-4d07-97a0-cc51c1874562",
   "metadata": {},
   "outputs": [],
   "source": []
  }
 ],
 "metadata": {
  "kernelspec": {
   "display_name": "Python 3 (ipykernel)",
   "language": "python",
   "name": "python3"
  },
  "language_info": {
   "codemirror_mode": {
    "name": "ipython",
    "version": 3
   },
   "file_extension": ".py",
   "mimetype": "text/x-python",
   "name": "python",
   "nbconvert_exporter": "python",
   "pygments_lexer": "ipython3",
   "version": "3.10.14"
  }
 },
 "nbformat": 4,
 "nbformat_minor": 5
}
