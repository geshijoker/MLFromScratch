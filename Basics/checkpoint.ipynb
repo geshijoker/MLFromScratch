{
 "cells": [
  {
   "cell_type": "code",
   "execution_count": null,
   "id": "4d32af22-01da-44a3-bea2-6c61d88595d4",
   "metadata": {},
   "outputs": [],
   "source": [
    "from accelerate import Accelerator\n",
    "import torch"
   ]
  },
  {
   "cell_type": "code",
   "execution_count": null,
   "id": "1cf43145-9f07-44e9-8b10-d4ad0e9c3923",
   "metadata": {},
   "outputs": [],
   "source": [
    "project_dir = \"./checkpoint_test/\""
   ]
  },
  {
   "cell_type": "code",
   "execution_count": null,
   "id": "7b24daed-b686-4eaf-a617-6ee341b4a113",
   "metadata": {},
   "outputs": [],
   "source": [
    "accelerator = Accelerator(project_dir=project_dir)\n",
    "\n",
    "my_scheduler = torch.optim.lr_scheduler.StepLR(my_optimizer, step_size=1, gamma=0.99)\n",
    "my_model, my_optimizer, my_training_dataloader = accelerator.prepare(my_model, my_optimizer, my_training_dataloader)\n",
    "\n",
    "# Register the LR scheduler\n",
    "accelerator.register_for_checkpointing(my_scheduler)\n",
    "\n",
    "# Save the starting state\n",
    "accelerator.save_state()\n",
    "\n",
    "device = accelerator.device\n",
    "my_model.to(device)\n",
    "\n",
    "# Perform training\n",
    "for epoch in range(num_epochs):\n",
    "    for batch in my_training_dataloader:\n",
    "        my_optimizer.zero_grad()\n",
    "        inputs, targets = batch\n",
    "        inputs = inputs.to(device)\n",
    "        targets = targets.to(device)\n",
    "        outputs = my_model(inputs)\n",
    "        loss = my_loss_function(outputs, targets)\n",
    "        accelerator.backward(loss)\n",
    "        my_optimizer.step()\n",
    "    my_scheduler.step()\n",
    "\n",
    "# Restore the previous state\n",
    "accelerator.load_state(f\"{project_dir}/checkpointing/checkpoint_0\")"
   ]
  },
  {
   "cell_type": "code",
   "execution_count": null,
   "id": "d8c39f0a-79eb-435e-8944-6f5777c8a8f0",
   "metadata": {},
   "outputs": [],
   "source": [
    "from accelerate import Accelerator\n",
    "\n",
    "accelerator = Accelerator(project_dir=project_dir)\n",
    "\n",
    "train_dataloader = accelerator.prepare(train_dataloader)\n",
    "accelerator.load_state(\"my_state\")\n",
    "\n",
    "# Assume the checkpoint was saved 100 steps into the epoch\n",
    "skipped_dataloader = accelerator.skip_first_batches(train_dataloader, 100)\n",
    "\n",
    "# After the first iteration, go back to `train_dataloader`\n",
    "\n",
    "# First epoch\n",
    "for batch in skipped_dataloader:\n",
    "    # Do something\n",
    "    pass\n",
    "\n",
    "# Second epoch\n",
    "for batch in train_dataloader:\n",
    "    # Do something\n",
    "    pass"
   ]
  },
  {
   "cell_type": "markdown",
   "id": "05befb77-67f5-48cb-aa4a-49d645c82dd7",
   "metadata": {},
   "source": [
    "# How to Use Checkpoint"
   ]
  },
  {
   "cell_type": "code",
   "execution_count": null,
   "id": "0d2d0a46-3273-4817-8fc1-d9dfb37ea315",
   "metadata": {},
   "outputs": [],
   "source": [
    "from accelerate import Accelerator\n",
    "\n",
    "# Initialize the model, optimizer, and scheduler\n",
    "model = ...  # Your model here\n",
    "optimizer = ...  # Your optimizer here\n",
    "scheduler = ...  # Your scheduler here\n",
    "\n",
    "# Initialize Accelerator\n",
    "accelerator = Accelerator()\n",
    "\n",
    "# Register for checkpointing\n",
    "accelerator.register_for_checkpointing(model=model, optimizer=optimizer, lr_scheduler=scheduler)\n",
    "\n",
    "# Frequency for saving checkpoints\n",
    "save_frequency = 1000\n",
    "\n",
    "# Training loop\n",
    "for epoch in range(num_epochs):\n",
    "    for step, batch in enumerate(train_dataloader):\n",
    "        # Training step\n",
    "        outputs = model(batch)\n",
    "        loss = compute_loss(outputs, batch)\n",
    "        accelerator.backward(loss)\n",
    "        optimizer.step()\n",
    "        scheduler.step()\n",
    "        optimizer.zero_grad()\n",
    "        \n",
    "        # Save checkpoint based on frequency\n",
    "        if step % save_frequency == 0:\n",
    "            checkpoint_name = f'checkpoint_epoch_{epoch}_step_{step}.pth'\n",
    "            accelerator.save_state(checkpoint_name)\n"
   ]
  },
  {
   "cell_type": "code",
   "execution_count": null,
   "id": "e44df99f-0762-4a08-9289-c6f4388a86df",
   "metadata": {},
   "outputs": [],
   "source": []
  }
 ],
 "metadata": {
  "kernelspec": {
   "display_name": "Python 3 (ipykernel)",
   "language": "python",
   "name": "python3"
  },
  "language_info": {
   "codemirror_mode": {
    "name": "ipython",
    "version": 3
   },
   "file_extension": ".py",
   "mimetype": "text/x-python",
   "name": "python",
   "nbconvert_exporter": "python",
   "pygments_lexer": "ipython3",
   "version": "3.10.12"
  }
 },
 "nbformat": 4,
 "nbformat_minor": 5
}
