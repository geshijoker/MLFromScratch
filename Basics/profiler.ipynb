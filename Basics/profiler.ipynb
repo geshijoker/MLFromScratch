{
 "cells": [
  {
   "cell_type": "code",
   "execution_count": 8,
   "id": "f679f276-6693-4b38-8e31-a6e489fef405",
   "metadata": {},
   "outputs": [],
   "source": [
    "import torch\n",
    "import torchvision.models as models\n",
    "from torch.profiler import profile, record_function, ProfilerActivity\n",
    "from accelerate import Accelerator, ProfileKwargs"
   ]
  },
  {
   "cell_type": "markdown",
   "id": "76f72840-cdd4-4b67-947f-2e4a29f9e589",
   "metadata": {},
   "source": [
    "# Pytorch"
   ]
  },
  {
   "cell_type": "code",
   "execution_count": 4,
   "id": "20b448b0-66c4-4b39-836e-26ea202df54a",
   "metadata": {},
   "outputs": [
    {
     "name": "stdout",
     "output_type": "stream",
     "text": [
      "---------------------------------  ------------  ------------  ------------  ------------  ------------  ------------  ------------  ------------  \n",
      "                             Name    Self CPU %      Self CPU   CPU total %     CPU total  CPU time avg       CPU Mem  Self CPU Mem    # of Calls  \n",
      "---------------------------------  ------------  ------------  ------------  ------------  ------------  ------------  ------------  ------------  \n",
      "                     aten::conv2d         0.17%      60.000us        74.92%      26.740ms       1.337ms      47.37 Mb           0 b            20  \n",
      "                aten::convolution        -7.76%   -2768.000us        74.75%      26.680ms       1.334ms      47.37 Mb      -4.31 Mb            20  \n",
      "               aten::_convolution         8.39%       2.996ms        74.35%      26.538ms       1.327ms      47.37 Mb       4.31 Mb            20  \n",
      "         aten::mkldnn_convolution        73.90%      26.376ms        74.11%      26.452ms       1.323ms      47.37 Mb       3.35 Mb            20  \n",
      "                 aten::batch_norm         0.39%     138.000us        12.37%       4.414ms     220.700us      47.41 Mb     982.00 Kb            20  \n",
      "     aten::_batch_norm_impl_index         0.22%      77.000us        12.27%       4.380ms     219.000us      47.41 Mb           0 b            20  \n",
      "          aten::native_batch_norm        11.85%       4.229ms        12.06%       4.303ms     215.150us      47.41 Mb       3.31 Mb            20  \n",
      "                 aten::max_pool2d         0.01%       4.000us         8.35%       2.980ms       2.980ms      11.48 Mb           0 b             1  \n",
      "    aten::max_pool2d_with_indices         8.34%       2.976ms         8.34%       2.976ms       2.976ms      11.48 Mb      11.48 Mb             1  \n",
      "                      aten::relu_         0.25%      88.000us         1.84%     655.000us      38.529us           0 b           0 b            17  \n",
      "---------------------------------  ------------  ------------  ------------  ------------  ------------  ------------  ------------  ------------  \n",
      "Self CPU time total: 35.693ms\n",
      "\n"
     ]
    },
    {
     "name": "stderr",
     "output_type": "stream",
     "text": [
      "STAGE:2024-08-25 10:12:19 1695051:1695051 ActivityProfilerController.cpp:314] Completed Stage: Warm Up\n",
      "STAGE:2024-08-25 10:12:19 1695051:1695051 ActivityProfilerController.cpp:320] Completed Stage: Collection\n",
      "STAGE:2024-08-25 10:12:19 1695051:1695051 ActivityProfilerController.cpp:324] Completed Stage: Post Processing\n"
     ]
    }
   ],
   "source": [
    "model = models.resnet18()\n",
    "inputs = torch.randn(5, 3, 224, 224)\n",
    "\n",
    "with profile(activities=[ProfilerActivity.CPU], profile_memory=True, record_shapes=True) as prof:\n",
    "    model(inputs)\n",
    "\n",
    "print(prof.key_averages().table(sort_by=\"cpu_time_total\", row_limit=10))"
   ]
  },
  {
   "cell_type": "code",
   "execution_count": 3,
   "id": "d6a37216-1141-47b5-8999-ba90f96d6fe7",
   "metadata": {},
   "outputs": [
    {
     "name": "stdout",
     "output_type": "stream",
     "text": [
      "---------------------------------  ------------  ------------  ------------  ------------  ------------  ------------  --------------------------------------------------------------------------------  \n",
      "                             Name    Self CPU %      Self CPU   CPU total %     CPU total  CPU time avg    # of Calls                                                                      Input Shapes  \n",
      "---------------------------------  ------------  ------------  ------------  ------------  ------------  ------------  --------------------------------------------------------------------------------  \n",
      "                     aten::conv2d         0.03%      13.000us        17.12%       7.703ms       1.926ms             4                             [[5, 64, 56, 56], [64, 64, 3, 3], [], [], [], [], []]  \n",
      "                aten::convolution         0.08%      34.000us        17.09%       7.690ms       1.923ms             4                     [[5, 64, 56, 56], [64, 64, 3, 3], [], [], [], [], [], [], []]  \n",
      "               aten::_convolution         0.05%      23.000us        17.01%       7.656ms       1.914ms             4     [[5, 64, 56, 56], [64, 64, 3, 3], [], [], [], [], [], [], [], [], [], [], []]  \n",
      "         aten::mkldnn_convolution        16.89%       7.601ms        16.96%       7.633ms       1.908ms             4                             [[5, 64, 56, 56], [64, 64, 3, 3], [], [], [], [], []]  \n",
      "                     aten::conv2d         0.05%      24.000us        14.92%       6.713ms       6.713ms             1                             [[5, 3, 224, 224], [64, 3, 7, 7], [], [], [], [], []]  \n",
      "                aten::convolution         0.12%      55.000us        14.86%       6.689ms       6.689ms             1                     [[5, 3, 224, 224], [64, 3, 7, 7], [], [], [], [], [], [], []]  \n",
      "               aten::_convolution         0.05%      21.000us        14.74%       6.634ms       6.634ms             1     [[5, 3, 224, 224], [64, 3, 7, 7], [], [], [], [], [], [], [], [], [], [], []]  \n",
      "         aten::mkldnn_convolution        14.62%       6.579ms        14.69%       6.613ms       6.613ms             1                             [[5, 3, 224, 224], [64, 3, 7, 7], [], [], [], [], []]  \n",
      "                     aten::conv2d         0.01%       6.000us        12.37%       5.567ms       1.856ms             3                            [[5, 512, 7, 7], [512, 512, 3, 3], [], [], [], [], []]  \n",
      "                aten::convolution        -3.57%   -1607.000us        12.36%       5.561ms       1.854ms             3                    [[5, 512, 7, 7], [512, 512, 3, 3], [], [], [], [], [], [], []]  \n",
      "---------------------------------  ------------  ------------  ------------  ------------  ------------  ------------  --------------------------------------------------------------------------------  \n",
      "Self CPU time total: 45.004ms\n",
      "\n"
     ]
    }
   ],
   "source": [
    "print(prof.key_averages(group_by_input_shape=True).table(sort_by=\"cpu_time_total\", row_limit=10))"
   ]
  },
  {
   "cell_type": "code",
   "execution_count": 16,
   "id": "98681206-b690-457e-bf18-1de8231aab17",
   "metadata": {},
   "outputs": [
    {
     "name": "stderr",
     "output_type": "stream",
     "text": [
      "STAGE:2024-08-25 10:22:18 1695051:1695051 ActivityProfilerController.cpp:314] Completed Stage: Warm Up\n",
      "STAGE:2024-08-25 10:22:18 1695051:1695051 ActivityProfilerController.cpp:320] Completed Stage: Collection\n",
      "STAGE:2024-08-25 10:22:18 1695051:1695051 ActivityProfilerController.cpp:324] Completed Stage: Post Processing\n"
     ]
    }
   ],
   "source": [
    "model = models.resnet18().cuda()\n",
    "inputs = torch.randn(5, 3, 224, 224).cuda()\n",
    "\n",
    "with profile(activities=[ProfilerActivity.CPU, ProfilerActivity.CUDA]) as prof:\n",
    "    model(inputs)\n",
    "\n",
    "prof.export_chrome_trace(\"trace.json\")"
   ]
  },
  {
   "cell_type": "code",
   "execution_count": 17,
   "id": "5c9666fe-808e-461e-b69a-3aeef617a18d",
   "metadata": {},
   "outputs": [],
   "source": [
    "from torch.profiler import schedule\n",
    "\n",
    "my_schedule = schedule(\n",
    "    skip_first=10,\n",
    "    wait=5,\n",
    "    warmup=1,\n",
    "    active=3,\n",
    "    repeat=2\n",
    ")\n",
    "\n",
    "def trace_handler(p):\n",
    "    output = p.key_averages().table(sort_by=\"self_cuda_time_total\", row_limit=10)\n",
    "    print(output)\n",
    "    p.export_chrome_trace(\"/tmp/trace_\" + str(p.step_num) + \".json\")\n",
    "\n",
    "with profile(\n",
    "    activities=[ProfilerActivity.CPU, ProfilerActivity.CUDA],\n",
    "    schedule=my_schedule,\n",
    "    on_trace_ready=trace_handler\n",
    ") as p:\n",
    "    for idx in range(8):\n",
    "        model(inputs)\n",
    "        p.step()"
   ]
  },
  {
   "cell_type": "code",
   "execution_count": 18,
   "id": "9a3b7246-9c5c-43ec-9bd0-b50fbd0d20cb",
   "metadata": {},
   "outputs": [
    {
     "name": "stdout",
     "output_type": "stream",
     "text": [
      "-------------------------------------------------------  ------------  ------------  ------------  ------------  ------------  ------------  ------------  ------------  ------------  ------------  ------------  \n",
      "                                                   Name    Self CPU %      Self CPU   CPU total %     CPU total  CPU time avg     Self CUDA   Self CUDA %    CUDA total  CUDA time avg    # of Calls  Total MFLOPs  \n",
      "-------------------------------------------------------  ------------  ------------  ------------  ------------  ------------  ------------  ------------  ------------  ------------  ------------  ------------  \n",
      "                                           aten::conv2d         0.62%      97.000us        77.06%      12.057ms     602.850us       0.000us         0.00%       1.353ms      67.650us            20     18135.613  \n",
      "                                            aten::addmm         0.58%      90.000us         0.68%     107.000us     107.000us       9.000us         0.49%       9.000us       9.000us             1         5.120  \n",
      "                                      aten::convolution         1.62%     254.000us        76.44%      11.960ms     598.000us       0.000us         0.00%       1.353ms      67.650us            20            --  \n",
      "                                     aten::_convolution         1.02%     160.000us        74.81%      11.706ms     585.300us       0.000us         0.00%       1.353ms      67.650us            20            --  \n",
      "                                aten::cudnn_convolution         9.22%       1.443ms        73.79%      11.546ms     577.300us       1.353ms        74.38%       1.353ms      67.650us            20            --  \n",
      "                                        cudaEventRecord         0.58%      91.000us         0.58%      91.000us       2.275us       0.000us         0.00%       0.000us       0.000us            40            --  \n",
      "                                  cudaStreamIsCapturing         0.09%      14.000us         0.09%      14.000us       0.350us       0.000us         0.00%       0.000us       0.000us            40            --  \n",
      "                                  cudaStreamGetPriority         0.01%       2.000us         0.01%       2.000us       0.050us       0.000us         0.00%       0.000us       0.000us            40            --  \n",
      "                       cudaDeviceGetStreamPriorityRange         0.01%       1.000us         0.01%       1.000us       0.025us       0.000us         0.00%       0.000us       0.000us            40            --  \n",
      "                                       cudaLaunchKernel        67.21%      10.516ms        67.21%      10.516ms      90.655us       0.000us         0.00%       0.000us       0.000us           116            --  \n",
      "-------------------------------------------------------  ------------  ------------  ------------  ------------  ------------  ------------  ------------  ------------  ------------  ------------  ------------  \n",
      "Self CPU time total: 15.647ms\n",
      "Self CUDA time total: 1.819ms\n",
      "\n"
     ]
    },
    {
     "name": "stderr",
     "output_type": "stream",
     "text": [
      "STAGE:2024-08-25 10:23:52 1695051:1695051 ActivityProfilerController.cpp:314] Completed Stage: Warm Up\n",
      "STAGE:2024-08-25 10:23:52 1695051:1695051 ActivityProfilerController.cpp:320] Completed Stage: Collection\n",
      "STAGE:2024-08-25 10:23:52 1695051:1695051 ActivityProfilerController.cpp:324] Completed Stage: Post Processing\n"
     ]
    }
   ],
   "source": [
    "with profile(\n",
    "    activities=[ProfilerActivity.CPU, ProfilerActivity.CUDA],\n",
    "    with_flops=True\n",
    ") as prof:\n",
    "    model(inputs)\n",
    "\n",
    "print(prof.key_averages().table(sort_by=\"flops\", row_limit=10))"
   ]
  },
  {
   "cell_type": "markdown",
   "id": "9785cbc9-1bd2-42d4-b5e0-4bade75ddcbe",
   "metadata": {},
   "source": [
    "# Accelerator"
   ]
  },
  {
   "cell_type": "code",
   "execution_count": 19,
   "id": "02861ee0-f7cb-4b54-8c2e-9255db76ab53",
   "metadata": {},
   "outputs": [
    {
     "name": "stdout",
     "output_type": "stream",
     "text": [
      "---------------------------------  ------------  ------------  ------------  ------------  ------------  ------------  \n",
      "                             Name    Self CPU %      Self CPU   CPU total %     CPU total  CPU time avg    # of Calls  \n",
      "---------------------------------  ------------  ------------  ------------  ------------  ------------  ------------  \n",
      "                     aten::conv2d         1.03%     429.000us        75.71%      31.463ms       1.573ms            20  \n",
      "                aten::convolution         0.22%      93.000us        75.56%      31.403ms       1.570ms            20  \n",
      "               aten::_convolution         0.25%     103.000us        75.34%      31.310ms       1.565ms            20  \n",
      "         aten::mkldnn_convolution        74.91%      31.133ms        75.09%      31.207ms       1.560ms            20  \n",
      "                 aten::batch_norm         0.11%      47.000us        11.78%       4.894ms     244.700us            20  \n",
      "     aten::_batch_norm_impl_index         0.17%      71.000us        11.66%       4.847ms     242.350us            20  \n",
      "          aten::native_batch_norm        11.28%       4.686ms        11.49%       4.775ms     238.750us            20  \n",
      "                 aten::max_pool2d         0.01%       5.000us         8.19%       3.405ms       3.405ms             1  \n",
      "    aten::max_pool2d_with_indices         8.18%       3.400ms         8.18%       3.400ms       3.400ms             1  \n",
      "                      aten::relu_         0.16%      67.000us         1.51%     627.000us      36.882us            17  \n",
      "---------------------------------  ------------  ------------  ------------  ------------  ------------  ------------  \n",
      "Self CPU time total: 41.558ms\n",
      "\n"
     ]
    },
    {
     "name": "stderr",
     "output_type": "stream",
     "text": [
      "STAGE:2024-08-25 10:24:55 1695051:1695051 ActivityProfilerController.cpp:314] Completed Stage: Warm Up\n",
      "STAGE:2024-08-25 10:24:55 1695051:1695051 ActivityProfilerController.cpp:320] Completed Stage: Collection\n",
      "STAGE:2024-08-25 10:24:55 1695051:1695051 ActivityProfilerController.cpp:324] Completed Stage: Post Processing\n"
     ]
    }
   ],
   "source": [
    "from accelerate import Accelerator, ProfileKwargs\n",
    "import torch\n",
    "import torchvision.models as models\n",
    "\n",
    "model = models.resnet18()\n",
    "inputs = torch.randn(5, 3, 224, 224)\n",
    "\n",
    "profile_kwargs = ProfileKwargs(\n",
    "    activities=[\"cpu\"],\n",
    "    record_shapes=True\n",
    ")\n",
    "\n",
    "accelerator = Accelerator(cpu=True, kwargs_handlers=[profile_kwargs])\n",
    "model = accelerator.prepare(model)\n",
    "\n",
    "with accelerator.profile() as prof:\n",
    "    with torch.no_grad():\n",
    "        model(inputs)\n",
    "\n",
    "print(prof.key_averages().table(sort_by=\"cpu_time_total\", row_limit=10))"
   ]
  },
  {
   "cell_type": "code",
   "execution_count": 20,
   "id": "effedc38-4a37-4b85-9491-27c1e86562ec",
   "metadata": {},
   "outputs": [
    {
     "name": "stdout",
     "output_type": "stream",
     "text": [
      "---------------------------------  ------------  ------------  ------------  ------------  ------------  ------------  ------------  ------------  \n",
      "                             Name    Self CPU %      Self CPU   CPU total %     CPU total  CPU time avg       CPU Mem  Self CPU Mem    # of Calls  \n",
      "---------------------------------  ------------  ------------  ------------  ------------  ------------  ------------  ------------  ------------  \n",
      "                      aten::empty         0.35%     129.000us         0.35%     129.000us       0.645us      94.83 Mb      94.83 Mb           200  \n",
      "    aten::max_pool2d_with_indices         8.05%       2.966ms         8.05%       2.966ms       2.966ms      11.48 Mb      11.48 Mb             1  \n",
      "                     aten::conv2d         3.39%       1.248ms        71.49%      26.337ms       1.317ms      47.37 Mb       1.91 Mb            20  \n",
      "                      aten::addmm         0.46%     170.000us         0.48%     178.000us     178.000us      19.53 Kb      19.53 Kb             1  \n",
      "                       aten::mean         0.04%      15.000us         0.23%      86.000us      86.000us      10.00 Kb       9.99 Kb             1  \n",
      "                       aten::div_         0.04%      15.000us         0.10%      35.000us      35.000us           8 b           4 b             1  \n",
      "              aten::empty_strided         0.01%       4.000us         0.01%       4.000us       4.000us           4 b           4 b             1  \n",
      "                aten::convolution         0.44%     163.000us        71.30%      26.270ms       1.313ms      47.37 Mb           0 b            20  \n",
      "               aten::_convolution         0.26%      96.000us        70.86%      26.107ms       1.305ms      47.37 Mb           0 b            20  \n",
      "         aten::mkldnn_convolution        70.33%      25.910ms        70.60%      26.011ms       1.301ms      47.37 Mb           0 b            20  \n",
      "---------------------------------  ------------  ------------  ------------  ------------  ------------  ------------  ------------  ------------  \n",
      "Self CPU time total: 36.842ms\n",
      "\n"
     ]
    },
    {
     "name": "stderr",
     "output_type": "stream",
     "text": [
      "STAGE:2024-08-25 10:25:13 1695051:1695051 ActivityProfilerController.cpp:314] Completed Stage: Warm Up\n",
      "STAGE:2024-08-25 10:25:13 1695051:1695051 ActivityProfilerController.cpp:320] Completed Stage: Collection\n",
      "STAGE:2024-08-25 10:25:13 1695051:1695051 ActivityProfilerController.cpp:324] Completed Stage: Post Processing\n"
     ]
    }
   ],
   "source": [
    "model = models.resnet18()\n",
    "inputs = torch.randn(5, 3, 224, 224)\n",
    "\n",
    "profile_kwargs = ProfileKwargs(\n",
    "    activities=[\"cpu\"],\n",
    "    profile_memory=True,\n",
    "    record_shapes=True\n",
    ")\n",
    "\n",
    "accelerator = Accelerator(cpu=True, kwargs_handlers=[profile_kwargs])\n",
    "model = accelerator.prepare(model)\n",
    "\n",
    "with accelerator.profile() as prof:\n",
    "    model(inputs)\n",
    "\n",
    "print(prof.key_averages().table(sort_by=\"self_cpu_memory_usage\", row_limit=10))"
   ]
  },
  {
   "cell_type": "code",
   "execution_count": 21,
   "id": "7650619c-8c55-4434-abad-1075aae26aea",
   "metadata": {},
   "outputs": [
    {
     "name": "stderr",
     "output_type": "stream",
     "text": [
      "STAGE:2024-08-25 10:25:23 1695051:1695051 ActivityProfilerController.cpp:314] Completed Stage: Warm Up\n",
      "STAGE:2024-08-25 10:25:23 1695051:1695051 ActivityProfilerController.cpp:320] Completed Stage: Collection\n",
      "STAGE:2024-08-25 10:25:23 1695051:1695051 ActivityProfilerController.cpp:324] Completed Stage: Post Processing\n"
     ]
    }
   ],
   "source": [
    "profile_kwargs = ProfileKwargs(\n",
    "    activities=[\"cpu\", \"cuda\"],\n",
    "    output_trace_dir=\"trace\"\n",
    ")\n",
    "\n",
    "accelerator = Accelerator(kwargs_handlers=[profile_kwargs])\n",
    "model = accelerator.prepare(model)\n",
    "\n",
    "with accelerator.profile() as prof:\n",
    "    model(inputs)\n",
    "\n",
    "# The trace will be saved to the specified directory"
   ]
  },
  {
   "cell_type": "code",
   "execution_count": 22,
   "id": "fd1c779c-c714-45b5-9eba-096648f4b9c6",
   "metadata": {},
   "outputs": [],
   "source": [
    "def trace_handler(p):\n",
    "    output = p.key_averages().table(sort_by=\"self_cuda_time_total\", row_limit=10)\n",
    "    print(output)\n",
    "    p.export_chrome_trace(\"/tmp/trace_\" + str(p.step_num) + \".json\")\n",
    "\n",
    "profile_kwargs = ProfileKwargs(\n",
    "    activities=[\"cpu\", \"cuda\"],\n",
    "    schedule_option={\"wait\": 5, \"warmup\": 1, \"active\": 3, \"repeat\": 2, \"skip_first\": 10},\n",
    "    on_trace_ready=trace_handler\n",
    ")\n",
    "\n",
    "accelerator = Accelerator(kwargs_handlers=[profile_kwargs])\n",
    "model = accelerator.prepare(model)\n",
    "\n",
    "with accelerator.profile() as prof:\n",
    "    for idx in range(8):\n",
    "        model(inputs)\n",
    "        prof.step()"
   ]
  },
  {
   "cell_type": "code",
   "execution_count": 23,
   "id": "1e3f586d-464b-48e4-ac7b-065e6d281071",
   "metadata": {},
   "outputs": [
    {
     "name": "stdout",
     "output_type": "stream",
     "text": [
      "---------------------------------  ------------  ------------  ------------  ------------  ------------  ------------  ------------  \n",
      "                             Name    Self CPU %      Self CPU   CPU total %     CPU total  CPU time avg    # of Calls  Total MFLOPs  \n",
      "---------------------------------  ------------  ------------  ------------  ------------  ------------  ------------  ------------  \n",
      "                     aten::conv2d         3.41%     906.000us        70.51%      18.734ms     936.700us            20     18135.613  \n",
      "                      aten::addmm         0.52%     138.000us         0.55%     147.000us     147.000us             1         5.120  \n",
      "                aten::convolution        -4.64%   -1234.000us        70.30%      18.678ms     933.900us            20            --  \n",
      "               aten::_convolution         5.59%       1.486ms        69.71%      18.520ms     926.000us            20            --  \n",
      "         aten::mkldnn_convolution        69.09%      18.355ms        69.35%      18.426ms     921.300us            20            --  \n",
      "                      aten::empty         0.21%      55.000us         0.21%      55.000us       0.275us           200            --  \n",
      "                aten::as_strided_         0.10%      27.000us         0.10%      27.000us       1.350us            20            --  \n",
      "                    aten::resize_         0.00%       1.000us         0.00%       1.000us       0.050us            20            --  \n",
      "                       aten::add_         1.98%     527.000us         1.98%     527.000us      18.821us            28            --  \n",
      "                 aten::batch_norm         1.13%     301.000us        14.19%       3.769ms     188.450us            20            --  \n",
      "---------------------------------  ------------  ------------  ------------  ------------  ------------  ------------  ------------  \n",
      "Self CPU time total: 26.568ms\n",
      "\n"
     ]
    },
    {
     "name": "stderr",
     "output_type": "stream",
     "text": [
      "STAGE:2024-08-25 10:25:38 1695051:1695051 ActivityProfilerController.cpp:314] Completed Stage: Warm Up\n",
      "STAGE:2024-08-25 10:25:38 1695051:1695051 ActivityProfilerController.cpp:320] Completed Stage: Collection\n",
      "STAGE:2024-08-25 10:25:38 1695051:1695051 ActivityProfilerController.cpp:324] Completed Stage: Post Processing\n"
     ]
    }
   ],
   "source": [
    "profile_kwargs = ProfileKwargs(\n",
    "    with_flops=True\n",
    ")\n",
    "accelerator = Accelerator(kwargs_handlers=[profile_kwargs])\n",
    "\n",
    "with accelerator.profile() as prof:\n",
    "    model(inputs)\n",
    "\n",
    "print(prof.key_averages().table(sort_by=\"flops\", row_limit=10))"
   ]
  },
  {
   "cell_type": "code",
   "execution_count": null,
   "id": "3a091b3e-a75e-49b4-a1ce-56a476b4018e",
   "metadata": {},
   "outputs": [],
   "source": []
  }
 ],
 "metadata": {
  "kernelspec": {
   "display_name": "Python 3 (ipykernel)",
   "language": "python",
   "name": "python3"
  },
  "language_info": {
   "codemirror_mode": {
    "name": "ipython",
    "version": 3
   },
   "file_extension": ".py",
   "mimetype": "text/x-python",
   "name": "python",
   "nbconvert_exporter": "python",
   "pygments_lexer": "ipython3",
   "version": "3.10.12"
  }
 },
 "nbformat": 4,
 "nbformat_minor": 5
}
