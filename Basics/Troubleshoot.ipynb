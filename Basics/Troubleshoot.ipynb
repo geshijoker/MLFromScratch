{
 "cells": [
  {
   "cell_type": "code",
   "execution_count": 2,
   "id": "b7e0836a-5e6c-4acf-a82d-f2d1ee11dc4a",
   "metadata": {},
   "outputs": [],
   "source": [
    "from accelerate import Accelerator\n",
    "from accelerate.logging import get_logger\n",
    "\n",
    "accelerator = Accelerator()\n",
    "\n",
    "logger = get_logger(__name__, log_level=\"DEBUG\")\n",
    "# log all processes\n",
    "logger.debug(\"thing_to_log\", main_process_only=False)\n",
    "# log all processes in order\n",
    "logger.debug(\"thing_to_log\", main_process_only=False, in_order=True)"
   ]
  },
  {
   "cell_type": "markdown",
   "id": "50e3e47e-4b2e-494f-a65a-a701838c6faa",
   "metadata": {},
   "source": [
    "# Find avaialbel batch size to avoid cuda out-of-memory"
   ]
  },
  {
   "cell_type": "code",
   "execution_count": null,
   "id": "8a5d925e-aad2-40fb-b7cc-f4de86682830",
   "metadata": {},
   "outputs": [],
   "source": [
    "def training_function(args):\n",
    "    accelerator = Accelerator()\n",
    "\n",
    "    @find_executable_batch_size(starting_batch_size=args.batch_size)\n",
    "    def inner_training_loop(batch_size):\n",
    "        nonlocal accelerator # Ensure they can be used in our context\n",
    "        accelerator.free_memory() # Free all lingering references\n",
    "        model = get_model()\n",
    "        model.to(accelerator.device)\n",
    "        optimizer = get_optimizer()\n",
    "        train_dataloader, eval_dataloader = get_dataloaders(accelerator, batch_size)\n",
    "        lr_scheduler = get_scheduler(\n",
    "            optimizer, \n",
    "            num_training_steps=len(train_dataloader)*num_epochs\n",
    "        )\n",
    "        model, optimizer, train_dataloader, eval_dataloader, lr_scheduler = accelerator.prepare(\n",
    "            model, optimizer, train_dataloader, eval_dataloader, lr_scheduler\n",
    "        )\n",
    "        train(model, optimizer, train_dataloader, lr_scheduler)\n",
    "        validate(model, eval_dataloader)\n",
    "    inner_training_loop()"
   ]
  }
 ],
 "metadata": {
  "kernelspec": {
   "display_name": "Python 3 (ipykernel)",
   "language": "python",
   "name": "python3"
  },
  "language_info": {
   "codemirror_mode": {
    "name": "ipython",
    "version": 3
   },
   "file_extension": ".py",
   "mimetype": "text/x-python",
   "name": "python",
   "nbconvert_exporter": "python",
   "pygments_lexer": "ipython3",
   "version": "3.10.12"
  }
 },
 "nbformat": 4,
 "nbformat_minor": 5
}
