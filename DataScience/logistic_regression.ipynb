{
 "cells": [
  {
   "cell_type": "markdown",
   "id": "8f73bca4-7b84-47ff-bd9a-f4f843bdc4d3",
   "metadata": {},
   "source": [
    "# Implement logistic regression with log loss"
   ]
  },
  {
   "cell_type": "code",
   "execution_count": 1,
   "id": "715f62e7-01d8-470b-9f56-c88470b0bdd6",
   "metadata": {},
   "outputs": [],
   "source": [
    "import numpy as np"
   ]
  },
  {
   "cell_type": "code",
   "execution_count": 2,
   "id": "d052b90f-2285-446d-aaae-09b92ae7ebd4",
   "metadata": {},
   "outputs": [],
   "source": [
    "def sigmoid(x):\n",
    "    return 1 / (1 + np.exp(-x))"
   ]
  },
  {
   "cell_type": "code",
   "execution_count": 3,
   "id": "5b589b6c-091f-4a16-a026-b5a38701d656",
   "metadata": {},
   "outputs": [],
   "source": [
    "def logistic_regression(X, y, lr=1e-2, max_iterations=1000):\n",
    "    n_samples, n_features = X.shape\n",
    "    weights = np.zeros(n_features)\n",
    "    bias = 0\n",
    "\n",
    "    for _ in range(max_iterations):\n",
    "        y_pred = sigmoid(X@weights + bias)\n",
    "\n",
    "        dw = (1./n_samples) * np.dot(X.T, (y_pred-y))\n",
    "        db = (1./n_samples) * (y_pred-y)\n",
    "\n",
    "        weights -= lr * dw\n",
    "        bias -= lr * bias\n",
    "\n",
    "    return weights, bias"
   ]
  },
  {
   "cell_type": "code",
   "execution_count": 4,
   "id": "044a102f-d385-4149-9cf7-863aca0449fe",
   "metadata": {},
   "outputs": [
    {
     "name": "stdout",
     "output_type": "stream",
     "text": [
      "Weights: [ 0.85917929 -0.45993384]\n",
      "Bias: 0.0\n"
     ]
    }
   ],
   "source": [
    "X = np.array([[1, 2], [2, 3], [3, 4], [4, 5]])\n",
    "y = np.array([0, 0, 1, 1])  # binary labels\n",
    "weights, bias = logistic_regression(X, y)\n",
    "print(\"Weights:\", weights)\n",
    "print(\"Bias:\", bias)"
   ]
  },
  {
   "cell_type": "code",
   "execution_count": null,
   "id": "3ad0fe7a-3d34-490a-b0d4-802215aba37f",
   "metadata": {},
   "outputs": [],
   "source": []
  }
 ],
 "metadata": {
  "kernelspec": {
   "display_name": "Python 3 (ipykernel)",
   "language": "python",
   "name": "python3"
  },
  "language_info": {
   "codemirror_mode": {
    "name": "ipython",
    "version": 3
   },
   "file_extension": ".py",
   "mimetype": "text/x-python",
   "name": "python",
   "nbconvert_exporter": "python",
   "pygments_lexer": "ipython3",
   "version": "3.10.14"
  }
 },
 "nbformat": 4,
 "nbformat_minor": 5
}
