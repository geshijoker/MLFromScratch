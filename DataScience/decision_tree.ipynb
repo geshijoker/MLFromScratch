{
 "cells": [
  {
   "cell_type": "code",
   "execution_count": 10,
   "id": "bab2ceb7-2a9d-498d-ac49-875f72f9b159",
   "metadata": {},
   "outputs": [],
   "source": [
    "import numpy as np"
   ]
  },
  {
   "cell_type": "code",
   "execution_count": 11,
   "id": "80063816-a17e-4d3a-b25a-0e17f4cf06f2",
   "metadata": {},
   "outputs": [],
   "source": [
    "def gini(y):\n",
    "    classes = np.unique(y)\n",
    "    impurity = 1.0\n",
    "    for cls in classes:\n",
    "        prob_cls = np.sum(y == cls) / len(y)\n",
    "        impurity -= prob_cls ** 2\n",
    "    return impurity"
   ]
  },
  {
   "cell_type": "code",
   "execution_count": 12,
   "id": "bda09f70-6742-487e-b8cf-f60b1da33f8b",
   "metadata": {},
   "outputs": [],
   "source": [
    "def split_dataset(X, y, feature_index, threshold):\n",
    "    left = np.where(X[:, feature_index] <= threshold)\n",
    "    right = np.where(X[:, feature_index] > threshold)\n",
    "    return X[left], X[right], y[left], y[right]"
   ]
  },
  {
   "cell_type": "code",
   "execution_count": 13,
   "id": "b36a348d-d6d9-48ca-ba64-cf5c3e856e83",
   "metadata": {},
   "outputs": [],
   "source": [
    "def best_split(X, y):\n",
    "    best_gini = float(\"inf\")\n",
    "    best_index, best_threshold = None, None\n",
    "    for feature_index in range(X.shape[1]):\n",
    "        thresholds = np.unique(X[:, feature_index])\n",
    "        for threshold in thresholds:\n",
    "            _, _, y_left, y_right = split_dataset(X, y, feature_index, threshold)\n",
    "            if len(y_left) == 0 or len(y_right) == 0:\n",
    "                continue\n",
    "            # Calculate weighted Gini\n",
    "            gini_score = (len(y_left) / len(y) * gini(y_left)) + (len(y_right) / len(y) * gini(y_right))\n",
    "            if gini_score < best_gini:\n",
    "                best_gini = gini_score\n",
    "                best_index = feature_index\n",
    "                best_threshold = threshold\n",
    "    return best_index, best_threshold"
   ]
  },
  {
   "cell_type": "code",
   "execution_count": 14,
   "id": "b1f12c46-0e8e-4540-9e1d-76b62dced271",
   "metadata": {},
   "outputs": [],
   "source": [
    "class Node:\n",
    "    def __init__(self, feature=None, threshold=None, left=None, right=None, value=None):\n",
    "        self.feature = feature\n",
    "        self.threshold = threshold\n",
    "        self.left = left\n",
    "        self.right = right\n",
    "        self.value = value"
   ]
  },
  {
   "cell_type": "code",
   "execution_count": 15,
   "id": "fefaa8d6-7a5f-4de1-bf71-9b5a52d258dd",
   "metadata": {},
   "outputs": [],
   "source": [
    "def build_tree(X, y, depth=0, max_depth=10):\n",
    "    num_samples, num_features = X.shape\n",
    "    if len(np.unique(y)) == 1 or depth >= max_depth:\n",
    "        leaf_value = np.bincount(y).argmax()\n",
    "        return Node(value=leaf_value)\n",
    "\n",
    "    feature_index, threshold = best_split(X, y)\n",
    "    if feature_index is None:\n",
    "        leaf_value = np.bincount(y).argmax()\n",
    "        return Node(value=leaf_value)\n",
    "\n",
    "    X_left, X_right, y_left, y_right = split_dataset(X, y, feature_index, threshold)\n",
    "    left = build_tree(X_left, y_left, depth + 1, max_depth)\n",
    "    right = build_tree(X_right, y_right, depth + 1, max_depth)\n",
    "    return Node(feature_index, threshold, left, right)"
   ]
  },
  {
   "cell_type": "code",
   "execution_count": 16,
   "id": "3d03f571-dbc5-4e73-9e4e-57dbaa534ab0",
   "metadata": {},
   "outputs": [],
   "source": [
    "def predict(node, x):\n",
    "    if node.value is not None:\n",
    "        return node.value\n",
    "    if x[node.feature] <= node.threshold:\n",
    "        return predict(node.left, x)\n",
    "    else:\n",
    "        return predict(node.right, x)"
   ]
  },
  {
   "cell_type": "code",
   "execution_count": 17,
   "id": "ea6ab233-be36-498c-b93b-75483835aba2",
   "metadata": {},
   "outputs": [],
   "source": [
    "def predict_tree(tree, X):\n",
    "    return [predict(tree, x) for x in X]"
   ]
  },
  {
   "cell_type": "code",
   "execution_count": 18,
   "id": "d0305945-98a0-4674-9cac-04d5caee3a6f",
   "metadata": {},
   "outputs": [
    {
     "name": "stdout",
     "output_type": "stream",
     "text": [
      "Predictions: [0, 0, 1, 1]\n"
     ]
    }
   ],
   "source": [
    "X = np.array([[2, 3], [1, 1], [4, 6], [5, 7]])\n",
    "y = np.array([0, 0, 1, 1])\n",
    "tree = build_tree(X, y)\n",
    "predictions = predict_tree(tree, X)\n",
    "print(\"Predictions:\", predictions)"
   ]
  },
  {
   "cell_type": "code",
   "execution_count": null,
   "id": "dd1e4923-194a-4add-ab8a-8b76fdf7f5cb",
   "metadata": {},
   "outputs": [],
   "source": []
  }
 ],
 "metadata": {
  "kernelspec": {
   "display_name": "Python 3 (ipykernel)",
   "language": "python",
   "name": "python3"
  },
  "language_info": {
   "codemirror_mode": {
    "name": "ipython",
    "version": 3
   },
   "file_extension": ".py",
   "mimetype": "text/x-python",
   "name": "python",
   "nbconvert_exporter": "python",
   "pygments_lexer": "ipython3",
   "version": "3.10.14"
  }
 },
 "nbformat": 4,
 "nbformat_minor": 5
}
