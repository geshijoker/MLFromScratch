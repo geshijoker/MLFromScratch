{
 "cells": [
  {
   "cell_type": "code",
   "execution_count": 4,
   "id": "540ef94b-d20e-4afe-83a4-91d9d203f708",
   "metadata": {},
   "outputs": [],
   "source": [
    "import numpy as np\n",
    "from collections import Counter\n",
    "from scipy.spatial.distance import cdist"
   ]
  },
  {
   "cell_type": "code",
   "execution_count": 25,
   "id": "ebfef340-2c06-4598-9095-d31dbfb0076d",
   "metadata": {},
   "outputs": [],
   "source": [
    "def k_nearest_neighbors(X_train, y_train, X_test, k=3):\n",
    "    distances = cdist(X_test, X_train)\n",
    "    nearest_indices = np.argsort(distances, axis=1)\n",
    "    k_nearest_indices = nearest_indices[:, :k]\n",
    "\n",
    "    predictions = []\n",
    "    for k_indices in k_nearest_indices:\n",
    "        k_nearest_labels = [y_train[i] for i in k_indices]\n",
    "\n",
    "        most_common = Counter(k_nearest_labels).most_common(1)\n",
    "        predictions.append(most_common[0][0])\n",
    "\n",
    "    return np.array(predictions)"
   ]
  },
  {
   "cell_type": "code",
   "execution_count": 26,
   "id": "a175adb7-d836-42bd-aa2a-67215f6e8331",
   "metadata": {},
   "outputs": [
    {
     "name": "stdout",
     "output_type": "stream",
     "text": [
      "Predictions: [0 1]\n"
     ]
    }
   ],
   "source": [
    "X_train = np.array([[1, 2], [2, 3], [3, 4], [5, 6]])\n",
    "y_train = np.array([0, 0, 1, 1])\n",
    "X_test = np.array([[1, 3], [4, 4]])\n",
    "k = 3\n",
    "predictions = k_nearest_neighbors(X_train, y_train, X_test, k)\n",
    "print(\"Predictions:\", predictions)"
   ]
  },
  {
   "cell_type": "code",
   "execution_count": null,
   "id": "964aecae-2e3b-4201-8101-b5ed1ff2edce",
   "metadata": {},
   "outputs": [],
   "source": []
  }
 ],
 "metadata": {
  "kernelspec": {
   "display_name": "Python 3 (ipykernel)",
   "language": "python",
   "name": "python3"
  },
  "language_info": {
   "codemirror_mode": {
    "name": "ipython",
    "version": 3
   },
   "file_extension": ".py",
   "mimetype": "text/x-python",
   "name": "python",
   "nbconvert_exporter": "python",
   "pygments_lexer": "ipython3",
   "version": "3.10.14"
  }
 },
 "nbformat": 4,
 "nbformat_minor": 5
}
