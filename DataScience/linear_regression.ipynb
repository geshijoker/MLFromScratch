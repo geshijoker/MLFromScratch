{
 "cells": [
  {
   "cell_type": "markdown",
   "id": "d1bf24e3-29f9-48ee-b69c-5d224dea7d2b",
   "metadata": {},
   "source": [
    "# Solve linear regression with gradient descent using MSE loss"
   ]
  },
  {
   "cell_type": "code",
   "execution_count": 1,
   "id": "754c103c-2ae1-4e04-bec5-3154042d11e6",
   "metadata": {},
   "outputs": [],
   "source": [
    "import numpy as np"
   ]
  },
  {
   "cell_type": "code",
   "execution_count": 58,
   "id": "6182bb4d-b712-45fe-bb28-3079b76661d3",
   "metadata": {},
   "outputs": [],
   "source": [
    "def linear_regression(X, y, lr=0.01, max_iterations=10000):\n",
    "    n_samples, n_features = X.shape\n",
    "    weights = np.zeros(n_features)\n",
    "    bias = 0\n",
    "\n",
    "    for _ in range(max_iterations):\n",
    "        y_pred = X@weights + bias\n",
    "\n",
    "        dw = np.dot(X.T, (y_pred - y)) * (1/n_samples)\n",
    "        db = np.sum(y_pred - y) * (1/n_samples)\n",
    "\n",
    "        weights -= lr * dw\n",
    "        bias -= lr * db\n",
    "    return weights, bias"
   ]
  },
  {
   "cell_type": "code",
   "execution_count": 59,
   "id": "1780659e-0779-47f5-b812-ea43445603f2",
   "metadata": {},
   "outputs": [
    {
     "name": "stdout",
     "output_type": "stream",
     "text": [
      "Weights: [0.33333336 1.66666666]\n",
      "Bias: 1.3333333001164736\n"
     ]
    }
   ],
   "source": [
    "# Example usage\n",
    "X = np.array([[1, 2], [2, 3], [3, 4], [4, 5]])\n",
    "y = np.array([5, 7, 9, 11])\n",
    "# X = np.array([[1], [2], [3], [4], [5]])\n",
    "# y = np.array([2,4,6,8,10])\n",
    "weights, bias = linear_regression(X, y)\n",
    "print(\"Weights:\", weights)\n",
    "print(\"Bias:\", bias)"
   ]
  },
  {
   "cell_type": "code",
   "execution_count": null,
   "id": "c1e57372-90f5-4e12-a332-78a12b5b5e66",
   "metadata": {},
   "outputs": [],
   "source": []
  }
 ],
 "metadata": {
  "kernelspec": {
   "display_name": "Python 3 (ipykernel)",
   "language": "python",
   "name": "python3"
  },
  "language_info": {
   "codemirror_mode": {
    "name": "ipython",
    "version": 3
   },
   "file_extension": ".py",
   "mimetype": "text/x-python",
   "name": "python",
   "nbconvert_exporter": "python",
   "pygments_lexer": "ipython3",
   "version": "3.10.14"
  }
 },
 "nbformat": 4,
 "nbformat_minor": 5
}
