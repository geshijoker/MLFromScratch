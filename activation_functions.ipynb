{
 "cells": [
  {
   "cell_type": "code",
   "execution_count": 1,
   "id": "2c3162ba-f2f6-43ad-a188-ee1fde3b8f19",
   "metadata": {},
   "outputs": [],
   "source": [
    "import torch\n",
    "import numpy as np\n",
    "from torch import nn\n",
    "import torch.nn.functional as F"
   ]
  },
  {
   "cell_type": "code",
   "execution_count": 2,
   "id": "1fc57be1-42c2-4510-a35a-b81ae8b00635",
   "metadata": {},
   "outputs": [],
   "source": [
    "epsilon = 1e-6"
   ]
  },
  {
   "cell_type": "markdown",
   "id": "21c4cbae-e4c2-48e4-af68-23277306d91e",
   "metadata": {},
   "source": [
    "# Tanh"
   ]
  },
  {
   "cell_type": "code",
   "execution_count": 4,
   "id": "a67d9a89-43f2-41cd-bb4b-2f05718074ec",
   "metadata": {},
   "outputs": [],
   "source": [
    "def tanh(x):\n",
    "    return (np.exp(x)-np.exp(-x))/(np.exp(x)+np.exp(-x))"
   ]
  },
  {
   "cell_type": "code",
   "execution_count": 5,
   "id": "767d052c-690c-45a6-9fe2-a52fa0899d61",
   "metadata": {},
   "outputs": [
    {
     "name": "stdout",
     "output_type": "stream",
     "text": [
      "[-6.7055225e-08 -5.9604645e-08  5.9604645e-08  5.9604645e-08\n",
      " -1.1175871e-08]\n"
     ]
    }
   ],
   "source": [
    "x = torch.randn(5, requires_grad=False)\n",
    "y = nn.Tanh()(x).numpy()\n",
    "y_ = tanh(x.numpy())\n",
    "print(y-y_)"
   ]
  },
  {
   "cell_type": "markdown",
   "id": "5da9ecf7-d2e7-4eb5-940b-5a2a940e8fae",
   "metadata": {},
   "source": [
    "# Sigmoid"
   ]
  },
  {
   "cell_type": "code",
   "execution_count": 6,
   "id": "fc4450b5-ed50-4db6-8735-cf34d7814249",
   "metadata": {},
   "outputs": [],
   "source": [
    "def sigmoid(x):\n",
    "    return 1. / (1. + np.exp(-x))"
   ]
  },
  {
   "cell_type": "code",
   "execution_count": 7,
   "id": "42b6857e-9d8e-47d9-a802-8fb1f1aa1d7e",
   "metadata": {},
   "outputs": [
    {
     "name": "stdout",
     "output_type": "stream",
     "text": [
      "[ 5.9604645e-08 -2.9802322e-08  0.0000000e+00  0.0000000e+00\n",
      "  0.0000000e+00]\n"
     ]
    }
   ],
   "source": [
    "x = torch.randn(5, requires_grad=False)\n",
    "y = nn.Sigmoid()(x).numpy()\n",
    "y_ = sigmoid(x.numpy())\n",
    "print(y-y_)"
   ]
  },
  {
   "cell_type": "markdown",
   "id": "e9e90246-741c-4579-b068-39d697b6e124",
   "metadata": {},
   "source": [
    "# SoftMax"
   ]
  },
  {
   "cell_type": "code",
   "execution_count": 8,
   "id": "1e5ef6f1-4a81-41c5-88ab-d4f58985afd6",
   "metadata": {},
   "outputs": [],
   "source": [
    "def softmax(x, axis=None):\n",
    "    return np.exp(x)/np.exp(x).sum(axis=axis, keepdims=True)"
   ]
  },
  {
   "cell_type": "code",
   "execution_count": 9,
   "id": "f1f84f4e-6d5d-40f4-b42e-16859ec8c914",
   "metadata": {},
   "outputs": [
    {
     "name": "stdout",
     "output_type": "stream",
     "text": [
      "[[ 3.7252903e-09 -7.4505806e-09  5.9604645e-08]\n",
      " [ 0.0000000e+00  2.9802322e-08  0.0000000e+00]\n",
      " [ 0.0000000e+00  0.0000000e+00 -3.7252903e-09]\n",
      " [ 0.0000000e+00  2.9802322e-08 -2.9802322e-08]\n",
      " [ 0.0000000e+00  0.0000000e+00  2.9802322e-08]]\n"
     ]
    },
    {
     "name": "stderr",
     "output_type": "stream",
     "text": [
      "/home/geshi/.local/lib/python3.10/site-packages/torch/nn/modules/module.py:1511: UserWarning: Implicit dimension choice for softmax has been deprecated. Change the call to include dim=X as an argument.\n",
      "  return self._call_impl(*args, **kwargs)\n"
     ]
    }
   ],
   "source": [
    "x = torch.randn(5, 3, requires_grad=False)\n",
    "y = nn.Softmax()(x).numpy()\n",
    "y_ = softmax(x.numpy(), axis=1)\n",
    "print(y-y_)"
   ]
  },
  {
   "cell_type": "markdown",
   "id": "452ee285-b283-4a2a-8ed2-b7079013bea9",
   "metadata": {},
   "source": [
    "# ReLU"
   ]
  },
  {
   "cell_type": "code",
   "execution_count": 10,
   "id": "c28fd733-f88b-42b7-877a-cf513746658d",
   "metadata": {},
   "outputs": [],
   "source": [
    "def relu(x):\n",
    "    return np.maximum(x, np.zeros_like(x))"
   ]
  },
  {
   "cell_type": "code",
   "execution_count": 11,
   "id": "00623294-ed21-4b87-9920-4e0194ab30b5",
   "metadata": {},
   "outputs": [
    {
     "name": "stdout",
     "output_type": "stream",
     "text": [
      "[0. 0. 0. 0. 0.]\n"
     ]
    }
   ],
   "source": [
    "x = torch.randn(5, requires_grad=False)\n",
    "y = nn.ReLU()(x).numpy()\n",
    "y_ = relu(x.numpy())\n",
    "print(y-y_)"
   ]
  },
  {
   "cell_type": "markdown",
   "id": "22198923-ee59-42d3-92fd-9f242de6076f",
   "metadata": {},
   "source": [
    "# GLU"
   ]
  },
  {
   "cell_type": "markdown",
   "id": "932272c9-9215-405b-a4c1-33303d18921b",
   "metadata": {},
   "source": [
    "# GELU"
   ]
  },
  {
   "cell_type": "markdown",
   "id": "e6602f38-e9f9-4b52-bbd5-9b018f80d726",
   "metadata": {},
   "source": [
    "# SiLU"
   ]
  },
  {
   "cell_type": "markdown",
   "id": "73be7cd9-49dc-4171-9596-2ee58c03add4",
   "metadata": {},
   "source": [
    "# Swish"
   ]
  },
  {
   "cell_type": "markdown",
   "id": "3426c6ad-4a2e-4e84-a662-5c4577e5bf96",
   "metadata": {},
   "source": [
    "# SwiGLU"
   ]
  },
  {
   "cell_type": "code",
   "execution_count": null,
   "id": "23bd4c75-8ae6-4317-a03c-0a3ef49d1c3b",
   "metadata": {},
   "outputs": [],
   "source": []
  }
 ],
 "metadata": {
  "kernelspec": {
   "display_name": "Python 3 (ipykernel)",
   "language": "python",
   "name": "python3"
  },
  "language_info": {
   "codemirror_mode": {
    "name": "ipython",
    "version": 3
   },
   "file_extension": ".py",
   "mimetype": "text/x-python",
   "name": "python",
   "nbconvert_exporter": "python",
   "pygments_lexer": "ipython3",
   "version": "3.10.12"
  }
 },
 "nbformat": 4,
 "nbformat_minor": 5
}
